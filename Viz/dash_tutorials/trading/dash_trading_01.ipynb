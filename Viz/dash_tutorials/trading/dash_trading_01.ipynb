{
 "cells": [
  {
   "cell_type": "markdown",
   "metadata": {},
   "source": [
    "# IEXfinance viz"
   ]
  },
  {
   "cell_type": "markdown",
   "metadata": {},
   "source": [
    "create an iexfinance account and generate the api token"
   ]
  },
  {
   "cell_type": "code",
   "execution_count": 1,
   "metadata": {},
   "outputs": [],
   "source": [
    "import dash\n",
    "import dash_core_components as dcc\n",
    "import dash_html_components as html\n",
    "import datetime\n",
    "from dateutil.relativedelta import relativedelta\n",
    "import plotly.graph_objs as go\n",
    "import yfinance as yf"
   ]
  },
  {
   "cell_type": "code",
   "execution_count": 3,
   "metadata": {},
   "outputs": [
    {
     "name": "stdout",
     "output_type": "stream",
     "text": [
      "[*********************100%***********************]  1 of 1 completed\n"
     ]
    },
    {
     "data": {
      "text/html": [
       "<div>\n",
       "<style scoped>\n",
       "    .dataframe tbody tr th:only-of-type {\n",
       "        vertical-align: middle;\n",
       "    }\n",
       "\n",
       "    .dataframe tbody tr th {\n",
       "        vertical-align: top;\n",
       "    }\n",
       "\n",
       "    .dataframe thead th {\n",
       "        text-align: right;\n",
       "    }\n",
       "</style>\n",
       "<table border=\"1\" class=\"dataframe\">\n",
       "  <thead>\n",
       "    <tr style=\"text-align: right;\">\n",
       "      <th></th>\n",
       "      <th>Open</th>\n",
       "      <th>High</th>\n",
       "      <th>Low</th>\n",
       "      <th>Close</th>\n",
       "      <th>Adj Close</th>\n",
       "      <th>Volume</th>\n",
       "    </tr>\n",
       "    <tr>\n",
       "      <th>Date</th>\n",
       "      <th></th>\n",
       "      <th></th>\n",
       "      <th></th>\n",
       "      <th></th>\n",
       "      <th></th>\n",
       "      <th></th>\n",
       "    </tr>\n",
       "  </thead>\n",
       "  <tbody>\n",
       "    <tr>\n",
       "      <th>2015-02-17</th>\n",
       "      <td>127.489998</td>\n",
       "      <td>128.880005</td>\n",
       "      <td>126.919998</td>\n",
       "      <td>127.830002</td>\n",
       "      <td>117.636772</td>\n",
       "      <td>63152400</td>\n",
       "    </tr>\n",
       "    <tr>\n",
       "      <th>2015-02-18</th>\n",
       "      <td>127.629997</td>\n",
       "      <td>128.779999</td>\n",
       "      <td>127.449997</td>\n",
       "      <td>128.720001</td>\n",
       "      <td>118.455811</td>\n",
       "      <td>44891700</td>\n",
       "    </tr>\n",
       "    <tr>\n",
       "      <th>2015-02-19</th>\n",
       "      <td>128.479996</td>\n",
       "      <td>129.029999</td>\n",
       "      <td>128.330002</td>\n",
       "      <td>128.449997</td>\n",
       "      <td>118.207336</td>\n",
       "      <td>37362400</td>\n",
       "    </tr>\n",
       "    <tr>\n",
       "      <th>2015-02-20</th>\n",
       "      <td>128.619995</td>\n",
       "      <td>129.500000</td>\n",
       "      <td>128.050003</td>\n",
       "      <td>129.500000</td>\n",
       "      <td>119.173599</td>\n",
       "      <td>48948400</td>\n",
       "    </tr>\n",
       "    <tr>\n",
       "      <th>2015-02-23</th>\n",
       "      <td>130.020004</td>\n",
       "      <td>133.000000</td>\n",
       "      <td>129.660004</td>\n",
       "      <td>133.000000</td>\n",
       "      <td>122.394508</td>\n",
       "      <td>70974100</td>\n",
       "    </tr>\n",
       "  </tbody>\n",
       "</table>\n",
       "</div>"
      ],
      "text/plain": [
       "                  Open        High         Low       Close   Adj Close  \\\n",
       "Date                                                                     \n",
       "2015-02-17  127.489998  128.880005  126.919998  127.830002  117.636772   \n",
       "2015-02-18  127.629997  128.779999  127.449997  128.720001  118.455811   \n",
       "2015-02-19  128.479996  129.029999  128.330002  128.449997  118.207336   \n",
       "2015-02-20  128.619995  129.500000  128.050003  129.500000  119.173599   \n",
       "2015-02-23  130.020004  133.000000  129.660004  133.000000  122.394508   \n",
       "\n",
       "              Volume  \n",
       "Date                  \n",
       "2015-02-17  63152400  \n",
       "2015-02-18  44891700  \n",
       "2015-02-19  37362400  \n",
       "2015-02-20  48948400  \n",
       "2015-02-23  70974100  "
      ]
     },
     "execution_count": 3,
     "metadata": {},
     "output_type": "execute_result"
    }
   ],
   "source": [
    "start = datetime.datetime.today() - relativedelta(years=5)\n",
    "end = datetime.datetime.today()\n",
    "\n",
    "df = yf.download(\"AAPL\", start, end)\n",
    "df.head()"
   ]
  },
  {
   "cell_type": "code",
   "execution_count": 4,
   "metadata": {},
   "outputs": [],
   "source": [
    "app = dash.Dash()"
   ]
  },
  {
   "cell_type": "code",
   "execution_count": 5,
   "metadata": {},
   "outputs": [],
   "source": [
    "trace_close = go.Scatter(\n",
    "    x = df.index,\n",
    "    y = df.Close,\n",
    "    name = \"Close\",\n",
    "    line={\n",
    "        \"color\": \"#f44242\"\n",
    "    }\n",
    ")\n",
    "\n",
    "data = [trace_close]\n",
    "\n",
    "layout = {\n",
    "    \"title\": \"Stock Chart\",\n",
    "    \"showlegend\": False\n",
    "}\n",
    "\n",
    "fig = {\n",
    "    \"data\": data,\n",
    "    \"layout\": layout\n",
    "}"
   ]
  },
  {
   "cell_type": "code",
   "execution_count": 6,
   "metadata": {},
   "outputs": [],
   "source": [
    "app.layout = html.Div([\n",
    "    html.Div(html.H1(children=\"Stocks\")),\n",
    "    html.Label(\"DASH GRAPH\"),\n",
    "    html.Div(\n",
    "        dcc.Input(\n",
    "            id = \"stock_input\",\n",
    "            placeholder = \"Enter a stock to be charted\",\n",
    "            type = \"text\",\n",
    "            value = \"\"\n",
    "        )\n",
    "    ),\n",
    "    html.Div(\n",
    "        dcc.Dropdown(\n",
    "            options = [\n",
    "                {\"label\": \"Candlestick\", \"value\": \"candlestick\"},\n",
    "                {\"label\": \"Line\", \"value\": \"line\"}\n",
    "            ]\n",
    "        )\n",
    "    ),\n",
    "    html.Div(\n",
    "        dcc.Graph(\n",
    "            id = \"Stock_Chart\",\n",
    "            figure = fig\n",
    "        )\n",
    "    )\n",
    "])"
   ]
  },
  {
   "cell_type": "code",
   "execution_count": null,
   "metadata": {},
   "outputs": [
    {
     "name": "stdout",
     "output_type": "stream",
     "text": [
      " * Serving Flask app \"__main__\" (lazy loading)\n",
      " * Environment: production\n",
      "   WARNING: This is a development server. Do not use it in a production deployment.\n",
      "   Use a production WSGI server instead.\n",
      " * Debug mode: off\n"
     ]
    },
    {
     "name": "stderr",
     "output_type": "stream",
     "text": [
      " * Running on http://127.0.0.1:4050/ (Press CTRL+C to quit)\n",
      "127.0.0.1 - - [15/Feb/2020 15:36:09] \"\u001b[37mGET / HTTP/1.1\u001b[0m\" 200 -\n",
      "127.0.0.1 - - [15/Feb/2020 15:36:09] \"\u001b[37mGET /_favicon.ico?v=1.8.0 HTTP/1.1\u001b[0m\" 200 -\n",
      "127.0.0.1 - - [15/Feb/2020 15:36:09] \"\u001b[37mGET /_dash-dependencies HTTP/1.1\u001b[0m\" 200 -\n",
      "127.0.0.1 - - [15/Feb/2020 15:36:09] \"\u001b[37mGET /_dash-layout HTTP/1.1\u001b[0m\" 200 -\n",
      "127.0.0.1 - - [15/Feb/2020 15:36:09] \"\u001b[37mGET /_favicon.ico?v=1.8.0 HTTP/1.1\u001b[0m\" 200 -\n",
      "127.0.0.1 - - [15/Feb/2020 15:36:10] \"\u001b[37mGET /_dash-component-suites/dash_core_components/async~plotlyjs.v1_7_0m1579024535.js HTTP/1.1\u001b[0m\" 200 -\n"
     ]
    }
   ],
   "source": [
    "if __name__ == \"__main__\":\n",
    "    app.run_server(port=4050)"
   ]
  },
  {
   "cell_type": "code",
   "execution_count": null,
   "metadata": {},
   "outputs": [],
   "source": []
  }
 ],
 "metadata": {
  "kernelspec": {
   "display_name": "Python 3",
   "language": "python",
   "name": "python3"
  },
  "language_info": {
   "codemirror_mode": {
    "name": "ipython",
    "version": 3
   },
   "file_extension": ".py",
   "mimetype": "text/x-python",
   "name": "python",
   "nbconvert_exporter": "python",
   "pygments_lexer": "ipython3",
   "version": "3.7.5"
  }
 },
 "nbformat": 4,
 "nbformat_minor": 4
}
