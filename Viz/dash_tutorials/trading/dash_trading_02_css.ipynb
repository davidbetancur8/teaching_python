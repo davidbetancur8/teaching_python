{
 "cells": [
  {
   "cell_type": "markdown",
   "metadata": {},
   "source": [
    "# IEXfinance viz"
   ]
  },
  {
   "cell_type": "markdown",
   "metadata": {},
   "source": [
    "create an iexfinance account and generate the api token"
   ]
  },
  {
   "cell_type": "code",
   "execution_count": 1,
   "metadata": {},
   "outputs": [],
   "source": [
    "import dash\n",
    "import dash_core_components as dcc\n",
    "import dash_html_components as html\n",
    "from iexfinance.stocks import get_historical_data\n",
    "import datetime\n",
    "from dateutil.relativedelta import relativedelta\n",
    "import plotly.graph_objs as go"
   ]
  },
  {
   "cell_type": "code",
   "execution_count": 5,
   "metadata": {},
   "outputs": [],
   "source": [
    "start = datetime.datetime.today() - relativedelta(years=5)\n",
    "end = datetime.datetime.today()\n",
    "\n",
    "df = get_historical_data(\"GE\", \n",
    "                         start=start, \n",
    "                         end=end, \n",
    "                         output_format=\"pandas\",\n",
    "                        token=\"pk_fbe19111dee948d984f09873bba13077\")\n",
    "df.head()"
   ]
  },
  {
   "cell_type": "code",
   "execution_count": 17,
   "metadata": {},
   "outputs": [],
   "source": [
    "app = dash.Dash()"
   ]
  },
  {
   "cell_type": "code",
   "execution_count": 18,
   "metadata": {},
   "outputs": [],
   "source": [
    "trace_close = go.Scatter(\n",
    "    x = df.index,\n",
    "    y = df.close,\n",
    "    name = \"Close\",\n",
    "    line={\n",
    "        \"color\": \"#f44242\"\n",
    "    }\n",
    ")\n",
    "\n",
    "trace_high = go.Scatter(\n",
    "    x = df.index,\n",
    "    y = df.high,\n",
    "    name = \"High\",\n",
    "    line={\n",
    "        \"color\": \"#f44242\"\n",
    "    }\n",
    ")\n",
    "\n",
    "\n",
    "layout = {\n",
    "    \"title\": \"Stock Chart\",\n",
    "    \"showlegend\": False\n",
    "}\n",
    "\n",
    "fig = {\n",
    "    \"data\": data,\n",
    "    \"layout\": layout\n",
    "}"
   ]
  },
  {
   "cell_type": "code",
   "execution_count": 23,
   "metadata": {},
   "outputs": [],
   "source": [
    "app.layout = html.Div([\n",
    "    html.Div(html.H1(children=\"Stocks\")),\n",
    "    html.Label(\"DASH GRAPH\"),\n",
    "    html.Div(\n",
    "        dcc.Input(\n",
    "            id = \"stock_input\",\n",
    "            placeholder = \"Enter a stock to be charted\",\n",
    "            type = \"text\",\n",
    "            value = \"\"\n",
    "        )\n",
    "    ),\n",
    "    html.Div(\n",
    "        dcc.Dropdown(\n",
    "            options = [\n",
    "                {\"label\": \"Candlestick\", \"value\": \"candlestick\"},\n",
    "                {\"label\": \"Line\", \"value\": \"line\"}\n",
    "            ]\n",
    "        )\n",
    "    ),\n",
    "    html.Div(\n",
    "        dcc.Graph(\n",
    "            id = \"Stock_Chart\",\n",
    "            figure = fig\n",
    "        )\n",
    "    )\n",
    "])"
   ]
  },
  {
   "cell_type": "code",
   "execution_count": 25,
   "metadata": {},
   "outputs": [],
   "source": [
    "app.css.append_css({\n",
    "    \"external_url\": \"https://codepen.io/chriddyp/pen/bWLwgP.css\"\n",
    "})"
   ]
  },
  {
   "cell_type": "code",
   "execution_count": null,
   "metadata": {},
   "outputs": [
    {
     "name": "stdout",
     "output_type": "stream",
     "text": [
      " * Serving Flask app \"__main__\" (lazy loading)\n",
      " * Environment: production\n",
      "   WARNING: This is a development server. Do not use it in a production deployment.\n",
      "   Use a production WSGI server instead.\n",
      " * Debug mode: off\n"
     ]
    },
    {
     "name": "stderr",
     "output_type": "stream",
     "text": [
      " * Running on http://127.0.0.1:4050/ (Press CTRL+C to quit)\n",
      "/home/davinchi/Documents/Projects/dash_tutorials/venv/lib/python3.7/site-packages/dash/resources.py:75: UserWarning:\n",
      "\n",
      "You have set your config to `serve_locally=True` but A local version of https://codepen.io/chriddyp/pen/bWLwgP.css is not available.\n",
      "If you added this file with `app.scripts.append_script` or `app.css.append_css`, use `external_scripts` or `external_stylesheets` instead.\n",
      "See https://dash.plot.ly/external-resources\n",
      "\n",
      "127.0.0.1 - - [14/Feb/2020 16:11:44] \"\u001b[37mGET / HTTP/1.1\u001b[0m\" 200 -\n",
      "127.0.0.1 - - [14/Feb/2020 16:11:44] \"\u001b[37mGET /_dash-dependencies HTTP/1.1\u001b[0m\" 200 -\n",
      "127.0.0.1 - - [14/Feb/2020 16:11:44] \"\u001b[37mGET /_favicon.ico?v=1.8.0 HTTP/1.1\u001b[0m\" 200 -\n",
      "127.0.0.1 - - [14/Feb/2020 16:11:44] \"\u001b[37mGET /_dash-layout HTTP/1.1\u001b[0m\" 200 -\n"
     ]
    }
   ],
   "source": [
    "if __name__ == \"__main__\":\n",
    "    app.run_server(port=4050)"
   ]
  },
  {
   "cell_type": "code",
   "execution_count": null,
   "metadata": {},
   "outputs": [],
   "source": []
  }
 ],
 "metadata": {
  "kernelspec": {
   "display_name": "Python 3",
   "language": "python",
   "name": "python3"
  },
  "language_info": {
   "codemirror_mode": {
    "name": "ipython",
    "version": 3
   },
   "file_extension": ".py",
   "mimetype": "text/x-python",
   "name": "python",
   "nbconvert_exporter": "python",
   "pygments_lexer": "ipython3",
   "version": "3.7.5"
  }
 },
 "nbformat": 4,
 "nbformat_minor": 4
}
