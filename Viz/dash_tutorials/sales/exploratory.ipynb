{
 "cells": [
  {
   "cell_type": "code",
   "execution_count": 2,
   "metadata": {},
   "outputs": [],
   "source": [
    "import pandas as pd\n",
    "import plotly.express as px"
   ]
  },
  {
   "cell_type": "code",
   "execution_count": 3,
   "metadata": {},
   "outputs": [],
   "source": [
    "df = pd.read_csv(\"data/1000 Sales Records.csv\")"
   ]
  },
  {
   "cell_type": "code",
   "execution_count": 4,
   "metadata": {},
   "outputs": [
    {
     "data": {
      "text/html": [
       "<div>\n",
       "<style scoped>\n",
       "    .dataframe tbody tr th:only-of-type {\n",
       "        vertical-align: middle;\n",
       "    }\n",
       "\n",
       "    .dataframe tbody tr th {\n",
       "        vertical-align: top;\n",
       "    }\n",
       "\n",
       "    .dataframe thead th {\n",
       "        text-align: right;\n",
       "    }\n",
       "</style>\n",
       "<table border=\"1\" class=\"dataframe\">\n",
       "  <thead>\n",
       "    <tr style=\"text-align: right;\">\n",
       "      <th></th>\n",
       "      <th>Region</th>\n",
       "      <th>Country</th>\n",
       "      <th>Item Type</th>\n",
       "      <th>Sales Channel</th>\n",
       "      <th>Order Priority</th>\n",
       "      <th>Order Date</th>\n",
       "      <th>Order ID</th>\n",
       "      <th>Ship Date</th>\n",
       "      <th>Units Sold</th>\n",
       "      <th>Unit Price</th>\n",
       "      <th>Unit Cost</th>\n",
       "      <th>Total Revenue</th>\n",
       "      <th>Total Cost</th>\n",
       "      <th>Total Profit</th>\n",
       "    </tr>\n",
       "  </thead>\n",
       "  <tbody>\n",
       "    <tr>\n",
       "      <th>0</th>\n",
       "      <td>Middle East and North Africa</td>\n",
       "      <td>Libya</td>\n",
       "      <td>Cosmetics</td>\n",
       "      <td>Offline</td>\n",
       "      <td>M</td>\n",
       "      <td>10/18/2014</td>\n",
       "      <td>686800706</td>\n",
       "      <td>10/31/2014</td>\n",
       "      <td>8446</td>\n",
       "      <td>437.20</td>\n",
       "      <td>263.33</td>\n",
       "      <td>3692591.20</td>\n",
       "      <td>2224085.18</td>\n",
       "      <td>1468506.02</td>\n",
       "    </tr>\n",
       "    <tr>\n",
       "      <th>1</th>\n",
       "      <td>North America</td>\n",
       "      <td>Canada</td>\n",
       "      <td>Vegetables</td>\n",
       "      <td>Online</td>\n",
       "      <td>M</td>\n",
       "      <td>11/7/2011</td>\n",
       "      <td>185941302</td>\n",
       "      <td>12/8/2011</td>\n",
       "      <td>3018</td>\n",
       "      <td>154.06</td>\n",
       "      <td>90.93</td>\n",
       "      <td>464953.08</td>\n",
       "      <td>274426.74</td>\n",
       "      <td>190526.34</td>\n",
       "    </tr>\n",
       "    <tr>\n",
       "      <th>2</th>\n",
       "      <td>Middle East and North Africa</td>\n",
       "      <td>Libya</td>\n",
       "      <td>Baby Food</td>\n",
       "      <td>Offline</td>\n",
       "      <td>C</td>\n",
       "      <td>10/31/2016</td>\n",
       "      <td>246222341</td>\n",
       "      <td>12/9/2016</td>\n",
       "      <td>1517</td>\n",
       "      <td>255.28</td>\n",
       "      <td>159.42</td>\n",
       "      <td>387259.76</td>\n",
       "      <td>241840.14</td>\n",
       "      <td>145419.62</td>\n",
       "    </tr>\n",
       "    <tr>\n",
       "      <th>3</th>\n",
       "      <td>Asia</td>\n",
       "      <td>Japan</td>\n",
       "      <td>Cereal</td>\n",
       "      <td>Offline</td>\n",
       "      <td>C</td>\n",
       "      <td>4/10/2010</td>\n",
       "      <td>161442649</td>\n",
       "      <td>5/12/2010</td>\n",
       "      <td>3322</td>\n",
       "      <td>205.70</td>\n",
       "      <td>117.11</td>\n",
       "      <td>683335.40</td>\n",
       "      <td>389039.42</td>\n",
       "      <td>294295.98</td>\n",
       "    </tr>\n",
       "    <tr>\n",
       "      <th>4</th>\n",
       "      <td>Sub-Saharan Africa</td>\n",
       "      <td>Chad</td>\n",
       "      <td>Fruits</td>\n",
       "      <td>Offline</td>\n",
       "      <td>H</td>\n",
       "      <td>8/16/2011</td>\n",
       "      <td>645713555</td>\n",
       "      <td>8/31/2011</td>\n",
       "      <td>9845</td>\n",
       "      <td>9.33</td>\n",
       "      <td>6.92</td>\n",
       "      <td>91853.85</td>\n",
       "      <td>68127.40</td>\n",
       "      <td>23726.45</td>\n",
       "    </tr>\n",
       "  </tbody>\n",
       "</table>\n",
       "</div>"
      ],
      "text/plain": [
       "                         Region Country   Item Type Sales Channel  \\\n",
       "0  Middle East and North Africa   Libya   Cosmetics       Offline   \n",
       "1                 North America  Canada  Vegetables        Online   \n",
       "2  Middle East and North Africa   Libya   Baby Food       Offline   \n",
       "3                          Asia   Japan      Cereal       Offline   \n",
       "4            Sub-Saharan Africa    Chad      Fruits       Offline   \n",
       "\n",
       "  Order Priority  Order Date   Order ID   Ship Date  Units Sold  Unit Price  \\\n",
       "0              M  10/18/2014  686800706  10/31/2014        8446      437.20   \n",
       "1              M   11/7/2011  185941302   12/8/2011        3018      154.06   \n",
       "2              C  10/31/2016  246222341   12/9/2016        1517      255.28   \n",
       "3              C   4/10/2010  161442649   5/12/2010        3322      205.70   \n",
       "4              H   8/16/2011  645713555   8/31/2011        9845        9.33   \n",
       "\n",
       "   Unit Cost  Total Revenue  Total Cost  Total Profit  \n",
       "0     263.33     3692591.20  2224085.18    1468506.02  \n",
       "1      90.93      464953.08   274426.74     190526.34  \n",
       "2     159.42      387259.76   241840.14     145419.62  \n",
       "3     117.11      683335.40   389039.42     294295.98  \n",
       "4       6.92       91853.85    68127.40      23726.45  "
      ]
     },
     "execution_count": 4,
     "metadata": {},
     "output_type": "execute_result"
    }
   ],
   "source": [
    "df.head()"
   ]
  },
  {
   "cell_type": "code",
   "execution_count": 39,
   "metadata": {},
   "outputs": [
    {
     "data": {
      "text/html": [
       "<div>\n",
       "<style scoped>\n",
       "    .dataframe tbody tr th:only-of-type {\n",
       "        vertical-align: middle;\n",
       "    }\n",
       "\n",
       "    .dataframe tbody tr th {\n",
       "        vertical-align: top;\n",
       "    }\n",
       "\n",
       "    .dataframe thead th {\n",
       "        text-align: right;\n",
       "    }\n",
       "</style>\n",
       "<table border=\"1\" class=\"dataframe\">\n",
       "  <thead>\n",
       "    <tr style=\"text-align: right;\">\n",
       "      <th></th>\n",
       "      <th>YearMonth</th>\n",
       "      <th>Item Type</th>\n",
       "      <th>Total Profit</th>\n",
       "    </tr>\n",
       "  </thead>\n",
       "  <tbody>\n",
       "    <tr>\n",
       "      <th>640</th>\n",
       "      <td>2017-7</td>\n",
       "      <td>Cosmetics</td>\n",
       "      <td>1438774.25</td>\n",
       "    </tr>\n",
       "    <tr>\n",
       "      <th>642</th>\n",
       "      <td>2017-7</td>\n",
       "      <td>Household</td>\n",
       "      <td>898753.79</td>\n",
       "    </tr>\n",
       "    <tr>\n",
       "      <th>644</th>\n",
       "      <td>2017-7</td>\n",
       "      <td>Office Supplies</td>\n",
       "      <td>884002.50</td>\n",
       "    </tr>\n",
       "    <tr>\n",
       "      <th>643</th>\n",
       "      <td>2017-7</td>\n",
       "      <td>Meat</td>\n",
       "      <td>534305.20</td>\n",
       "    </tr>\n",
       "    <tr>\n",
       "      <th>645</th>\n",
       "      <td>2017-7</td>\n",
       "      <td>Personal Care</td>\n",
       "      <td>424892.30</td>\n",
       "    </tr>\n",
       "    <tr>\n",
       "      <th>...</th>\n",
       "      <td>...</td>\n",
       "      <td>...</td>\n",
       "      <td>...</td>\n",
       "    </tr>\n",
       "    <tr>\n",
       "      <th>1</th>\n",
       "      <td>2010-1</td>\n",
       "      <td>Cosmetics</td>\n",
       "      <td>444585.59</td>\n",
       "    </tr>\n",
       "    <tr>\n",
       "      <th>3</th>\n",
       "      <td>2010-1</td>\n",
       "      <td>Meat</td>\n",
       "      <td>406692.00</td>\n",
       "    </tr>\n",
       "    <tr>\n",
       "      <th>5</th>\n",
       "      <td>2010-1</td>\n",
       "      <td>Snacks</td>\n",
       "      <td>235944.06</td>\n",
       "    </tr>\n",
       "    <tr>\n",
       "      <th>0</th>\n",
       "      <td>2010-1</td>\n",
       "      <td>Beverages</td>\n",
       "      <td>164257.74</td>\n",
       "    </tr>\n",
       "    <tr>\n",
       "      <th>4</th>\n",
       "      <td>2010-1</td>\n",
       "      <td>Personal Care</td>\n",
       "      <td>74277.84</td>\n",
       "    </tr>\n",
       "  </tbody>\n",
       "</table>\n",
       "<p>646 rows × 3 columns</p>\n",
       "</div>"
      ],
      "text/plain": [
       "    YearMonth        Item Type  Total Profit\n",
       "640    2017-7        Cosmetics    1438774.25\n",
       "642    2017-7        Household     898753.79\n",
       "644    2017-7  Office Supplies     884002.50\n",
       "643    2017-7             Meat     534305.20\n",
       "645    2017-7    Personal Care     424892.30\n",
       "..        ...              ...           ...\n",
       "1      2010-1        Cosmetics     444585.59\n",
       "3      2010-1             Meat     406692.00\n",
       "5      2010-1           Snacks     235944.06\n",
       "0      2010-1        Beverages     164257.74\n",
       "4      2010-1    Personal Care      74277.84\n",
       "\n",
       "[646 rows x 3 columns]"
      ]
     },
     "execution_count": 39,
     "metadata": {},
     "output_type": "execute_result"
    }
   ],
   "source": [
    "df_profit = df.loc[:,[\"Order Date\", \"Item Type\", \"Total Profit\"]]\n",
    "df_profit['Order Date'] = pd.to_datetime(df_profit['Order Date'])\n",
    "# df_profit['Order Date'] = df_profit['Order Date'].dt.strftime('%m/%d/%Y')\n",
    "df_profit['YearMonth'] = df_profit['Order Date'].apply(lambda x: '{year}-{month}'.format(year=x.year, month=x.month))\n",
    "df_profit = df_profit.sort_values(\"YearMonth\")\n",
    "df_profit_month = df_profit.groupby([\"YearMonth\", \"Item Type\"]).sum().reset_index()\n",
    "df_profit_month = df_profit_month.sort_values([\"YearMonth\", \"Total Profit\"], ascending = False)\n",
    "df_profit_month"
   ]
  },
  {
   "cell_type": "code",
   "execution_count": 40,
   "metadata": {},
   "outputs": [
    {
     "data": {
      "application/vnd.plotly.v1+json": {
       "config": {
        "plotlyServerURL": "https://plot.ly"
       },
       "data": [
        {
         "alignmentgroup": "True",
         "hoverlabel": {
          "namelength": 0
         },
         "hovertemplate": "YearMonth=2017-7<br>Item Type=%{x}<br>Total Profit=%{y}",
         "legendgroup": "",
         "marker": {
          "color": "#636efa"
         },
         "name": "",
         "offsetgroup": "",
         "orientation": "v",
         "showlegend": false,
         "textposition": "auto",
         "type": "bar",
         "x": [
          "Cosmetics",
          "Household",
          "Office Supplies",
          "Meat",
          "Personal Care",
          "Fruits"
         ],
         "xaxis": "x",
         "y": [
          1438774.25,
          898753.79,
          884002.5,
          534305.2,
          424892.30000000005,
          17930.4
         ],
         "yaxis": "y"
        }
       ],
       "frames": [
        {
         "data": [
          {
           "alignmentgroup": "True",
           "hoverlabel": {
            "namelength": 0
           },
           "hovertemplate": "YearMonth=2017-7<br>Item Type=%{x}<br>Total Profit=%{y}",
           "legendgroup": "",
           "marker": {
            "color": "#636efa"
           },
           "name": "",
           "offsetgroup": "",
           "orientation": "v",
           "showlegend": false,
           "textposition": "auto",
           "type": "bar",
           "x": [
            "Cosmetics",
            "Household",
            "Office Supplies",
            "Meat",
            "Personal Care",
            "Fruits"
           ],
           "xaxis": "x",
           "y": [
            1438774.25,
            898753.79,
            884002.5,
            534305.2,
            424892.30000000005,
            17930.4
           ],
           "yaxis": "y"
          }
         ],
         "name": "2017-7"
        },
        {
         "data": [
          {
           "alignmentgroup": "True",
           "hoverlabel": {
            "namelength": 0
           },
           "hovertemplate": "YearMonth=2017-6<br>Item Type=%{x}<br>Total Profit=%{y}",
           "legendgroup": "",
           "marker": {
            "color": "#636efa"
           },
           "name": "",
           "offsetgroup": "",
           "orientation": "v",
           "showlegend": false,
           "textposition": "auto",
           "type": "bar",
           "x": [
            "Office Supplies",
            "Cosmetics",
            "Cereal",
            "Clothes",
            "Household",
            "Beverages",
            "Personal Care"
           ],
           "xaxis": "x",
           "y": [
            1415893.75,
            889866.66,
            851438.49,
            726174.72,
            289861.77,
            37443.06,
            8044.26
           ],
           "yaxis": "y"
          }
         ],
         "name": "2017-6"
        },
        {
         "data": [
          {
           "alignmentgroup": "True",
           "hoverlabel": {
            "namelength": 0
           },
           "hovertemplate": "YearMonth=2017-5<br>Item Type=%{x}<br>Total Profit=%{y}",
           "legendgroup": "",
           "marker": {
            "color": "#636efa"
           },
           "name": "",
           "offsetgroup": "",
           "orientation": "v",
           "showlegend": false,
           "textposition": "auto",
           "type": "bar",
           "x": [
            "Cosmetics",
            "Clothes",
            "Cereal",
            "Snacks",
            "Personal Care",
            "Fruits"
           ],
           "xaxis": "x",
           "y": [
            1935868.58,
            720446.4,
            489814.11,
            300678.42,
            249347,
            17653.25
           ],
           "yaxis": "y"
          }
         ],
         "name": "2017-5"
        },
        {
         "data": [
          {
           "alignmentgroup": "True",
           "hoverlabel": {
            "namelength": 0
           },
           "hovertemplate": "YearMonth=2017-4<br>Item Type=%{x}<br>Total Profit=%{y}",
           "legendgroup": "",
           "marker": {
            "color": "#636efa"
           },
           "name": "",
           "offsetgroup": "",
           "orientation": "v",
           "showlegend": false,
           "textposition": "auto",
           "type": "bar",
           "x": [
            "Cosmetics",
            "Vegetables",
            "Meat",
            "Beverages",
            "Fruits"
           ],
           "xaxis": "x",
           "y": [
            1225261.89,
            388375.76,
            275761.2,
            155331.54,
            16383.18
           ],
           "yaxis": "y"
          }
         ],
         "name": "2017-4"
        },
        {
         "data": [
          {
           "alignmentgroup": "True",
           "hoverlabel": {
            "namelength": 0
           },
           "hovertemplate": "YearMonth=2017-3<br>Item Type=%{x}<br>Total Profit=%{y}",
           "legendgroup": "",
           "marker": {
            "color": "#636efa"
           },
           "name": "",
           "offsetgroup": "",
           "orientation": "v",
           "showlegend": false,
           "textposition": "auto",
           "type": "bar",
           "x": [
            "Cosmetics",
            "Household",
            "Cereal",
            "Snacks",
            "Baby Food",
            "Meat",
            "Office Supplies",
            "Personal Care",
            "Fruits"
           ],
           "xaxis": "x",
           "y": [
            1516841.88,
            1194084.65,
            1192952.94,
            925469.76,
            690192,
            449534.8,
            383295,
            201031.32,
            12654.91
           ],
           "yaxis": "y"
          }
         ],
         "name": "2017-3"
        },
        {
         "data": [
          {
           "alignmentgroup": "True",
           "hoverlabel": {
            "namelength": 0
           },
           "hovertemplate": "YearMonth=2017-2<br>Item Type=%{x}<br>Total Profit=%{y}",
           "legendgroup": "",
           "marker": {
            "color": "#636efa"
           },
           "name": "",
           "offsetgroup": "",
           "orientation": "v",
           "showlegend": false,
           "textposition": "auto",
           "type": "bar",
           "x": [
            "Vegetables",
            "Cereal",
            "Clothes",
            "Meat",
            "Snacks",
            "Beverages",
            "Personal Care",
            "Cosmetics",
            "Office Supplies"
           ],
           "xaxis": "x",
           "y": [
            1372383.07,
            822912.51,
            610066.08,
            574288,
            366846.42,
            229747.86,
            225489.88,
            182041.89,
            169806.25
           ],
           "yaxis": "y"
          }
         ],
         "name": "2017-2"
        },
        {
         "data": [
          {
           "alignmentgroup": "True",
           "hoverlabel": {
            "namelength": 0
           },
           "hovertemplate": "YearMonth=2017-1<br>Item Type=%{x}<br>Total Profit=%{y}",
           "legendgroup": "",
           "marker": {
            "color": "#636efa"
           },
           "name": "",
           "offsetgroup": "",
           "orientation": "v",
           "showlegend": false,
           "textposition": "auto",
           "type": "bar",
           "x": [
            "Cosmetics",
            "Office Supplies",
            "Meat",
            "Snacks",
            "Vegetables",
            "Beverages",
            "Household",
            "Clothes",
            "Personal Care"
           ],
           "xaxis": "x",
           "y": [
            1413215.36,
            554995,
            441927.2,
            333321.3,
            290650.52,
            254772.54,
            186777.71,
            171188.64,
            152941.18
           ],
           "yaxis": "y"
          }
         ],
         "name": "2017-1"
        },
        {
         "data": [
          {
           "alignmentgroup": "True",
           "hoverlabel": {
            "namelength": 0
           },
           "hovertemplate": "YearMonth=2016-9<br>Item Type=%{x}<br>Total Profit=%{y}",
           "legendgroup": "",
           "marker": {
            "color": "#636efa"
           },
           "name": "",
           "offsetgroup": "",
           "orientation": "v",
           "showlegend": false,
           "textposition": "auto",
           "type": "bar",
           "x": [
            "Office Supplies",
            "Beverages",
            "Clothes",
            "Household"
           ],
           "xaxis": "x",
           "y": [
            446420,
            204237.72,
            193367.52,
            66126.27
           ],
           "yaxis": "y"
          }
         ],
         "name": "2016-9"
        },
        {
         "data": [
          {
           "alignmentgroup": "True",
           "hoverlabel": {
            "namelength": 0
           },
           "hovertemplate": "YearMonth=2016-8<br>Item Type=%{x}<br>Total Profit=%{y}",
           "legendgroup": "",
           "marker": {
            "color": "#636efa"
           },
           "name": "",
           "offsetgroup": "",
           "orientation": "v",
           "showlegend": false,
           "textposition": "auto",
           "type": "bar",
           "x": [
            "Cereal",
            "Vegetables",
            "Baby Food",
            "Office Supplies",
            "Meat",
            "Personal Care"
           ],
           "xaxis": "x",
           "y": [
            1807856.13,
            970623.75,
            923419.38,
            618246.25,
            610152.4,
            332320.66
           ],
           "yaxis": "y"
          }
         ],
         "name": "2016-8"
        },
        {
         "data": [
          {
           "alignmentgroup": "True",
           "hoverlabel": {
            "namelength": 0
           },
           "hovertemplate": "YearMonth=2016-7<br>Item Type=%{x}<br>Total Profit=%{y}",
           "legendgroup": "",
           "marker": {
            "color": "#636efa"
           },
           "name": "",
           "offsetgroup": "",
           "orientation": "v",
           "showlegend": false,
           "textposition": "auto",
           "type": "bar",
           "x": [
            "Cosmetics",
            "Household",
            "Vegetables",
            "Clothes",
            "Cereal",
            "Office Supplies",
            "Meat",
            "Beverages",
            "Fruits",
            "Personal Care"
           ],
           "xaxis": "x",
           "y": [
            1483806.58,
            1123152.21,
            614444.29,
            586418.4,
            541727.85,
            443011.25,
            246703.6,
            85769.82,
            5651.45,
            626.5
           ],
           "yaxis": "y"
          }
         ],
         "name": "2016-7"
        },
        {
         "data": [
          {
           "alignmentgroup": "True",
           "hoverlabel": {
            "namelength": 0
           },
           "hovertemplate": "YearMonth=2016-6<br>Item Type=%{x}<br>Total Profit=%{y}",
           "legendgroup": "",
           "marker": {
            "color": "#636efa"
           },
           "name": "",
           "offsetgroup": "",
           "orientation": "v",
           "showlegend": false,
           "textposition": "auto",
           "type": "bar",
           "x": [
            "Clothes",
            "Snacks",
            "Beverages"
           ],
           "xaxis": "x",
           "y": [
            1025002.08,
            127759.38,
            124763.22
           ],
           "yaxis": "y"
          }
         ],
         "name": "2016-6"
        },
        {
         "data": [
          {
           "alignmentgroup": "True",
           "hoverlabel": {
            "namelength": 0
           },
           "hovertemplate": "YearMonth=2016-5<br>Item Type=%{x}<br>Total Profit=%{y}",
           "legendgroup": "",
           "marker": {
            "color": "#636efa"
           },
           "name": "",
           "offsetgroup": "",
           "orientation": "v",
           "showlegend": false,
           "textposition": "auto",
           "type": "bar",
           "x": [
            "Baby Food",
            "Cosmetics",
            "Vegetables",
            "Snacks",
            "Personal Care",
            "Household",
            "Office Supplies",
            "Fruits"
           ],
           "xaxis": "x",
           "y": [
            575831.02,
            553428.21,
            455609.21,
            264672,
            229950.56,
            212134.4,
            119937.5,
            18532.9
           ],
           "yaxis": "y"
          }
         ],
         "name": "2016-5"
        },
        {
         "data": [
          {
           "alignmentgroup": "True",
           "hoverlabel": {
            "namelength": 0
           },
           "hovertemplate": "YearMonth=2016-4<br>Item Type=%{x}<br>Total Profit=%{y}",
           "legendgroup": "",
           "marker": {
            "color": "#636efa"
           },
           "name": "",
           "offsetgroup": "",
           "orientation": "v",
           "showlegend": false,
           "textposition": "auto",
           "type": "bar",
           "x": [
            "Household",
            "Cosmetics",
            "Snacks",
            "Vegetables",
            "Office Supplies",
            "Beverages",
            "Meat"
           ],
           "xaxis": "x",
           "y": [
            1418483.07,
            845008.2,
            431415.36,
            408135.45,
            302621.25,
            223311.6,
            115315.2
           ],
           "yaxis": "y"
          }
         ],
         "name": "2016-4"
        },
        {
         "data": [
          {
           "alignmentgroup": "True",
           "hoverlabel": {
            "namelength": 0
           },
           "hovertemplate": "YearMonth=2016-3<br>Item Type=%{x}<br>Total Profit=%{y}",
           "legendgroup": "",
           "marker": {
            "color": "#636efa"
           },
           "name": "",
           "offsetgroup": "",
           "orientation": "v",
           "showlegend": false,
           "textposition": "auto",
           "type": "bar",
           "x": [
            "Baby Food",
            "Household",
            "Cosmetics",
            "Office Supplies",
            "Snacks"
           ],
           "xaxis": "x",
           "y": [
            1879431.16,
            1527864.87,
            1444685.83,
            1424857.5,
            544342.08
           ],
           "yaxis": "y"
          }
         ],
         "name": "2016-3"
        },
        {
         "data": [
          {
           "alignmentgroup": "True",
           "hoverlabel": {
            "namelength": 0
           },
           "hovertemplate": "YearMonth=2016-2<br>Item Type=%{x}<br>Total Profit=%{y}",
           "legendgroup": "",
           "marker": {
            "color": "#636efa"
           },
           "name": "",
           "offsetgroup": "",
           "orientation": "v",
           "showlegend": false,
           "textposition": "auto",
           "type": "bar",
           "x": [
            "Cosmetics",
            "Baby Food",
            "Vegetables",
            "Cereal",
            "Beverages"
           ],
           "xaxis": "x",
           "y": [
            1671760.05,
            1104403.06,
            423854.82,
            52445.28,
            31335.66
           ],
           "yaxis": "y"
          }
         ],
         "name": "2016-2"
        },
        {
         "data": [
          {
           "alignmentgroup": "True",
           "hoverlabel": {
            "namelength": 0
           },
           "hovertemplate": "YearMonth=2016-12<br>Item Type=%{x}<br>Total Profit=%{y}",
           "legendgroup": "",
           "marker": {
            "color": "#636efa"
           },
           "name": "",
           "offsetgroup": "",
           "orientation": "v",
           "showlegend": false,
           "textposition": "auto",
           "type": "bar",
           "x": [
            "Cosmetics",
            "Baby Food",
            "Clothes",
            "Household",
            "Meat",
            "Cereal",
            "Vegetables",
            "Office Supplies",
            "Personal Care"
           ],
           "xaxis": "x",
           "y": [
            4055517.75,
            1761044.0599999998,
            681816.96,
            655793.61,
            468410.8,
            436571.52,
            382062.76,
            376477.5,
            303952.74
           ],
           "yaxis": "y"
          }
         ],
         "name": "2016-12"
        },
        {
         "data": [
          {
           "alignmentgroup": "True",
           "hoverlabel": {
            "namelength": 0
           },
           "hovertemplate": "YearMonth=2016-11<br>Item Type=%{x}<br>Total Profit=%{y}",
           "legendgroup": "",
           "marker": {
            "color": "#636efa"
           },
           "name": "",
           "offsetgroup": "",
           "orientation": "v",
           "showlegend": false,
           "textposition": "auto",
           "type": "bar",
           "x": [
            "Household",
            "Baby Food",
            "Cosmetics",
            "Snacks",
            "Personal Care",
            "Office Supplies",
            "Fruits"
           ],
           "xaxis": "x",
           "y": [
            1794192.98,
            1272253.92,
            613761.1,
            243663.66,
            198299.78,
            44440,
            20497.05
           ],
           "yaxis": "y"
          }
         ],
         "name": "2016-11"
        },
        {
         "data": [
          {
           "alignmentgroup": "True",
           "hoverlabel": {
            "namelength": 0
           },
           "hovertemplate": "YearMonth=2016-10<br>Item Type=%{x}<br>Total Profit=%{y}",
           "legendgroup": "",
           "marker": {
            "color": "#636efa"
           },
           "name": "",
           "offsetgroup": "",
           "orientation": "v",
           "showlegend": false,
           "textposition": "auto",
           "type": "bar",
           "x": [
            "Cereal",
            "Vegetables",
            "Meat",
            "Personal Care",
            "Baby Food",
            "Fruits"
           ],
           "xaxis": "x",
           "y": [
            1021708.47,
            543738.69,
            233376,
            190380.82,
            145419.62,
            33882.189999999995
           ],
           "yaxis": "y"
          }
         ],
         "name": "2016-10"
        },
        {
         "data": [
          {
           "alignmentgroup": "True",
           "hoverlabel": {
            "namelength": 0
           },
           "hovertemplate": "YearMonth=2016-1<br>Item Type=%{x}<br>Total Profit=%{y}",
           "legendgroup": "",
           "marker": {
            "color": "#636efa"
           },
           "name": "",
           "offsetgroup": "",
           "orientation": "v",
           "showlegend": false,
           "textposition": "auto",
           "type": "bar",
           "x": [
            "Household",
            "Meat",
            "Baby Food",
            "Cosmetics",
            "Personal Care",
            "Snacks",
            "Office Supplies",
            "Fruits"
           ],
           "xaxis": "x",
           "y": [
            2504014.57,
            1052594.4,
            715499.04,
            711476.04,
            394068.5,
            352675.44,
            180663.75,
            23562.57
           ],
           "yaxis": "y"
          }
         ],
         "name": "2016-1"
        },
        {
         "data": [
          {
           "alignmentgroup": "True",
           "hoverlabel": {
            "namelength": 0
           },
           "hovertemplate": "YearMonth=2015-9<br>Item Type=%{x}<br>Total Profit=%{y}",
           "legendgroup": "",
           "marker": {
            "color": "#636efa"
           },
           "name": "",
           "offsetgroup": "",
           "orientation": "v",
           "showlegend": false,
           "textposition": "auto",
           "type": "bar",
           "x": [
            "Office Supplies",
            "Baby Food",
            "Cosmetics",
            "Clothes",
            "Household"
           ],
           "xaxis": "x",
           "y": [
            1540123.75,
            1211191.1,
            924988.4,
            625415.04,
            275277.53
           ],
           "yaxis": "y"
          }
         ],
         "name": "2015-9"
        },
        {
         "data": [
          {
           "alignmentgroup": "True",
           "hoverlabel": {
            "namelength": 0
           },
           "hovertemplate": "YearMonth=2015-8<br>Item Type=%{x}<br>Total Profit=%{y}",
           "legendgroup": "",
           "marker": {
            "color": "#636efa"
           },
           "name": "",
           "offsetgroup": "",
           "orientation": "v",
           "showlegend": false,
           "textposition": "auto",
           "type": "bar",
           "x": [
            "Office Supplies",
            "Clothes",
            "Baby Food",
            "Snacks",
            "Meat",
            "Personal Care",
            "Beverages"
           ],
           "xaxis": "x",
           "y": [
            2249396.25,
            846763.2,
            843855.58,
            436322.82,
            350922,
            286561.1,
            58396.14
           ],
           "yaxis": "y"
          }
         ],
         "name": "2015-8"
        },
        {
         "data": [
          {
           "alignmentgroup": "True",
           "hoverlabel": {
            "namelength": 0
           },
           "hovertemplate": "YearMonth=2015-7<br>Item Type=%{x}<br>Total Profit=%{y}",
           "legendgroup": "",
           "marker": {
            "color": "#636efa"
           },
           "name": "",
           "offsetgroup": "",
           "orientation": "v",
           "showlegend": false,
           "textposition": "auto",
           "type": "bar",
           "x": [
            "Household",
            "Cosmetics",
            "Baby Food",
            "Office Supplies",
            "Clothes"
           ],
           "xaxis": "x",
           "y": [
            1170550.99,
            1094685.52,
            717032.8,
            128775,
            51334.56
           ],
           "yaxis": "y"
          }
         ],
         "name": "2015-7"
        },
        {
         "data": [
          {
           "alignmentgroup": "True",
           "hoverlabel": {
            "namelength": 0
           },
           "hovertemplate": "YearMonth=2015-6<br>Item Type=%{x}<br>Total Profit=%{y}",
           "legendgroup": "",
           "marker": {
            "color": "#636efa"
           },
           "name": "",
           "offsetgroup": "",
           "orientation": "v",
           "showlegend": false,
           "textposition": "auto",
           "type": "bar",
           "x": [
            "Household",
            "Office Supplies",
            "Cereal",
            "Clothes",
            "Baby Food",
            "Snacks",
            "Meat",
            "Vegetables",
            "Beverages",
            "Fruits"
           ],
           "xaxis": "x",
           "y": [
            1351196.69,
            869105,
            863663.9099999999,
            734253.12,
            570271.14,
            456724.62,
            322150.4,
            266029.82,
            212146.02,
            14122.6
           ],
           "yaxis": "y"
          }
         ],
         "name": "2015-6"
        },
        {
         "data": [
          {
           "alignmentgroup": "True",
           "hoverlabel": {
            "namelength": 0
           },
           "hovertemplate": "YearMonth=2015-5<br>Item Type=%{x}<br>Total Profit=%{y}",
           "legendgroup": "",
           "marker": {
            "color": "#636efa"
           },
           "name": "",
           "offsetgroup": "",
           "orientation": "v",
           "showlegend": false,
           "textposition": "auto",
           "type": "bar",
           "x": [
            "Snacks",
            "Personal Care",
            "Beverages",
            "Fruits"
           ],
           "xaxis": "x",
           "y": [
            414432.24,
            328010.33999999997,
            13279.68,
            8492.84
           ],
           "yaxis": "y"
          }
         ],
         "name": "2015-5"
        },
        {
         "data": [
          {
           "alignmentgroup": "True",
           "hoverlabel": {
            "namelength": 0
           },
           "hovertemplate": "YearMonth=2015-4<br>Item Type=%{x}<br>Total Profit=%{y}",
           "legendgroup": "",
           "marker": {
            "color": "#636efa"
           },
           "name": "",
           "offsetgroup": "",
           "orientation": "v",
           "showlegend": false,
           "textposition": "auto",
           "type": "bar",
           "x": [
            "Household",
            "Office Supplies",
            "Cereal",
            "Cosmetics",
            "Beverages"
           ],
           "xaxis": "x",
           "y": [
            2147860.8,
            1769898.75,
            860651.85,
            637581.29,
            41405.04
           ],
           "yaxis": "y"
          }
         ],
         "name": "2015-4"
        },
        {
         "data": [
          {
           "alignmentgroup": "True",
           "hoverlabel": {
            "namelength": 0
           },
           "hovertemplate": "YearMonth=2015-3<br>Item Type=%{x}<br>Total Profit=%{y}",
           "legendgroup": "",
           "marker": {
            "color": "#636efa"
           },
           "name": "",
           "offsetgroup": "",
           "orientation": "v",
           "showlegend": false,
           "textposition": "auto",
           "type": "bar",
           "x": [
            "Cosmetics",
            "Office Supplies",
            "Cereal",
            "Baby Food",
            "Vegetables",
            "Clothes",
            "Meat",
            "Personal Care",
            "Snacks"
           ],
           "xaxis": "x",
           "y": [
            1370269.47,
            1114282.5,
            858525.69,
            766688.28,
            730477.23,
            668083.68,
            361561.2,
            247743.16,
            98921.16
           ],
           "yaxis": "y"
          }
         ],
         "name": "2015-3"
        },
        {
         "data": [
          {
           "alignmentgroup": "True",
           "hoverlabel": {
            "namelength": 0
           },
           "hovertemplate": "YearMonth=2015-2<br>Item Type=%{x}<br>Total Profit=%{y}",
           "legendgroup": "",
           "marker": {
            "color": "#636efa"
           },
           "name": "",
           "offsetgroup": "",
           "orientation": "v",
           "showlegend": false,
           "textposition": "auto",
           "type": "bar",
           "x": [
            "Office Supplies",
            "Baby Food",
            "Cereal",
            "Household",
            "Personal Care",
            "Vegetables",
            "Fruits"
           ],
           "xaxis": "x",
           "y": [
            1861430,
            1406170.34,
            1157162.58,
            806939.37,
            466416.72,
            239199.57,
            11770.44
           ],
           "yaxis": "y"
          }
         ],
         "name": "2015-2"
        },
        {
         "data": [
          {
           "alignmentgroup": "True",
           "hoverlabel": {
            "namelength": 0
           },
           "hovertemplate": "YearMonth=2015-12<br>Item Type=%{x}<br>Total Profit=%{y}",
           "legendgroup": "",
           "marker": {
            "color": "#636efa"
           },
           "name": "",
           "offsetgroup": "",
           "orientation": "v",
           "showlegend": false,
           "textposition": "auto",
           "type": "bar",
           "x": [
            "Cereal",
            "Office Supplies",
            "Cosmetics",
            "Clothes",
            "Vegetables",
            "Personal Care",
            "Beverages"
           ],
           "xaxis": "x",
           "y": [
            1124650.05,
            796637.5,
            720865.02,
            717949.44,
            544054.34,
            188927.34,
            13326.66
           ],
           "yaxis": "y"
          }
         ],
         "name": "2015-12"
        },
        {
         "data": [
          {
           "alignmentgroup": "True",
           "hoverlabel": {
            "namelength": 0
           },
           "hovertemplate": "YearMonth=2015-11<br>Item Type=%{x}<br>Total Profit=%{y}",
           "legendgroup": "",
           "marker": {
            "color": "#636efa"
           },
           "name": "",
           "offsetgroup": "",
           "orientation": "v",
           "showlegend": false,
           "textposition": "auto",
           "type": "bar",
           "x": [
            "Cosmetics",
            "Baby Food",
            "Vegetables",
            "Personal Care",
            "Beverages",
            "Fruits"
           ],
           "xaxis": "x",
           "y": [
            1568307.4,
            889484.94,
            505418.78,
            178276.84,
            108946.62000000001,
            23526.42
           ],
           "yaxis": "y"
          }
         ],
         "name": "2015-11"
        },
        {
         "data": [
          {
           "alignmentgroup": "True",
           "hoverlabel": {
            "namelength": 0
           },
           "hovertemplate": "YearMonth=2015-10<br>Item Type=%{x}<br>Total Profit=%{y}",
           "legendgroup": "",
           "marker": {
            "color": "#636efa"
           },
           "name": "",
           "offsetgroup": "",
           "orientation": "v",
           "showlegend": false,
           "textposition": "auto",
           "type": "bar",
           "x": [
            "Office Supplies",
            "Clothes",
            "Vegetables",
            "Cereal",
            "Household",
            "Meat",
            "Cosmetics"
           ],
           "xaxis": "x",
           "y": [
            2177560,
            931145.76,
            527956.19,
            386961.12,
            384659.33,
            346460.4,
            302707.67
           ],
           "yaxis": "y"
          }
         ],
         "name": "2015-10"
        },
        {
         "data": [
          {
           "alignmentgroup": "True",
           "hoverlabel": {
            "namelength": 0
           },
           "hovertemplate": "YearMonth=2015-1<br>Item Type=%{x}<br>Total Profit=%{y}",
           "legendgroup": "",
           "marker": {
            "color": "#636efa"
           },
           "name": "",
           "offsetgroup": "",
           "orientation": "v",
           "showlegend": false,
           "textposition": "auto",
           "type": "bar",
           "x": [
            "Clothes",
            "Cereal",
            "Meat",
            "Cosmetics",
            "Vegetables",
            "Household"
           ],
           "xaxis": "x",
           "y": [
            1365323.04,
            477145.74,
            474016.4,
            472057.05,
            462427.25,
            377532.94
           ],
           "yaxis": "y"
          }
         ],
         "name": "2015-1"
        },
        {
         "data": [
          {
           "alignmentgroup": "True",
           "hoverlabel": {
            "namelength": 0
           },
           "hovertemplate": "YearMonth=2014-9<br>Item Type=%{x}<br>Total Profit=%{y}",
           "legendgroup": "",
           "marker": {
            "color": "#636efa"
           },
           "name": "",
           "offsetgroup": "",
           "orientation": "v",
           "showlegend": false,
           "textposition": "auto",
           "type": "bar",
           "x": [
            "Household",
            "Baby Food",
            "Office Supplies",
            "Beverages",
            "Clothes",
            "Cereal"
           ],
           "xaxis": "x",
           "y": [
            1482952.04,
            815576.88,
            323200,
            270651.78,
            169866.72,
            101878.5
           ],
           "yaxis": "y"
          }
         ],
         "name": "2014-9"
        },
        {
         "data": [
          {
           "alignmentgroup": "True",
           "hoverlabel": {
            "namelength": 0
           },
           "hovertemplate": "YearMonth=2014-8<br>Item Type=%{x}<br>Total Profit=%{y}",
           "legendgroup": "",
           "marker": {
            "color": "#636efa"
           },
           "name": "",
           "offsetgroup": "",
           "orientation": "v",
           "showlegend": false,
           "textposition": "auto",
           "type": "bar",
           "x": [
            "Household",
            "Baby Food",
            "Vegetables",
            "Cereal",
            "Meat",
            "Beverages",
            "Snacks",
            "Clothes",
            "Personal Care",
            "Fruits"
           ],
           "xaxis": "x",
           "y": [
            1726243.68,
            1149840.7,
            876875.7,
            752837.82,
            540940.4,
            423947.52,
            406878.06,
            210993.12,
            90742.26,
            19214.93
           ],
           "yaxis": "y"
          }
         ],
         "name": "2014-8"
        },
        {
         "data": [
          {
           "alignmentgroup": "True",
           "hoverlabel": {
            "namelength": 0
           },
           "hovertemplate": "YearMonth=2014-7<br>Item Type=%{x}<br>Total Profit=%{y}",
           "legendgroup": "",
           "marker": {
            "color": "#636efa"
           },
           "name": "",
           "offsetgroup": "",
           "orientation": "v",
           "showlegend": false,
           "textposition": "auto",
           "type": "bar",
           "x": [
            "Cosmetics",
            "Vegetables",
            "Cereal",
            "Office Supplies",
            "Meat",
            "Baby Food",
            "Snacks",
            "Personal Care",
            "Beverages",
            "Fruits"
           ],
           "xaxis": "x",
           "y": [
            1790861,
            1019738.89,
            690736.23,
            680108.75,
            471328,
            434245.80000000005,
            248791.68,
            152289.62,
            150555.24,
            5714.11
           ],
           "yaxis": "y"
          }
         ],
         "name": "2014-7"
        },
        {
         "data": [
          {
           "alignmentgroup": "True",
           "hoverlabel": {
            "namelength": 0
           },
           "hovertemplate": "YearMonth=2014-6<br>Item Type=%{x}<br>Total Profit=%{y}",
           "legendgroup": "",
           "marker": {
            "color": "#636efa"
           },
           "name": "",
           "offsetgroup": "",
           "orientation": "v",
           "showlegend": false,
           "textposition": "auto",
           "type": "bar",
           "x": [
            "Office Supplies",
            "Vegetables",
            "Personal Care",
            "Snacks"
           ],
           "xaxis": "x",
           "y": [
            1166676.25,
            1113108.16,
            215541.06,
            13564.44
           ],
           "yaxis": "y"
          }
         ],
         "name": "2014-6"
        },
        {
         "data": [
          {
           "alignmentgroup": "True",
           "hoverlabel": {
            "namelength": 0
           },
           "hovertemplate": "YearMonth=2014-5<br>Item Type=%{x}<br>Total Profit=%{y}",
           "legendgroup": "",
           "marker": {
            "color": "#636efa"
           },
           "name": "",
           "offsetgroup": "",
           "orientation": "v",
           "showlegend": false,
           "textposition": "auto",
           "type": "bar",
           "x": [
            "Cosmetics",
            "Baby Food",
            "Office Supplies",
            "Meat",
            "Vegetables",
            "Beverages",
            "Personal Care"
           ],
           "xaxis": "x",
           "y": [
            1114332.83,
            892264.88,
            766463.75,
            528756.8,
            483765.19,
            132969.06,
            33129.32
           ],
           "yaxis": "y"
          }
         ],
         "name": "2014-5"
        },
        {
         "data": [
          {
           "alignmentgroup": "True",
           "hoverlabel": {
            "namelength": 0
           },
           "hovertemplate": "YearMonth=2014-4<br>Item Type=%{x}<br>Total Profit=%{y}",
           "legendgroup": "",
           "marker": {
            "color": "#636efa"
           },
           "name": "",
           "offsetgroup": "",
           "orientation": "v",
           "showlegend": false,
           "textposition": "auto",
           "type": "bar",
           "x": [
            "Household",
            "Cosmetics",
            "Clothes",
            "Baby Food",
            "Cereal",
            "Office Supplies",
            "Vegetables",
            "Beverages"
           ],
           "xaxis": "x",
           "y": [
            3335979.17,
            1728267.8,
            837803.52,
            796117.2999999999,
            312545.52,
            273078.75,
            137181.49,
            136273.32
           ],
           "yaxis": "y"
          }
         ],
         "name": "2014-4"
        },
        {
         "data": [
          {
           "alignmentgroup": "True",
           "hoverlabel": {
            "namelength": 0
           },
           "hovertemplate": "YearMonth=2014-3<br>Item Type=%{x}<br>Total Profit=%{y}",
           "legendgroup": "",
           "marker": {
            "color": "#636efa"
           },
           "name": "",
           "offsetgroup": "",
           "orientation": "v",
           "showlegend": false,
           "textposition": "auto",
           "type": "bar",
           "x": [
            "Cosmetics",
            "Office Supplies",
            "Cereal",
            "Clothes",
            "Snacks",
            "Meat",
            "Fruits"
           ],
           "xaxis": "x",
           "y": [
            1714010.46,
            1123372.5,
            649453.29,
            545806.08,
            461466.66,
            187330,
            27240.23
           ],
           "yaxis": "y"
          }
         ],
         "name": "2014-3"
        },
        {
         "data": [
          {
           "alignmentgroup": "True",
           "hoverlabel": {
            "namelength": 0
           },
           "hovertemplate": "YearMonth=2014-2<br>Item Type=%{x}<br>Total Profit=%{y}",
           "legendgroup": "",
           "marker": {
            "color": "#636efa"
           },
           "name": "",
           "offsetgroup": "",
           "orientation": "v",
           "showlegend": false,
           "textposition": "auto",
           "type": "bar",
           "x": [
            "Office Supplies",
            "Cereal",
            "Household",
            "Cosmetics",
            "Vegetables",
            "Snacks",
            "Baby Food",
            "Beverages"
           ],
           "xaxis": "x",
           "y": [
            1656526.25,
            1346656.59,
            1287722.1,
            1047566.75,
            594179.56,
            436267.68,
            391012.94,
            1785.24
           ],
           "yaxis": "y"
          }
         ],
         "name": "2014-2"
        },
        {
         "data": [
          {
           "alignmentgroup": "True",
           "hoverlabel": {
            "namelength": 0
           },
           "hovertemplate": "YearMonth=2014-12<br>Item Type=%{x}<br>Total Profit=%{y}",
           "legendgroup": "",
           "marker": {
            "color": "#636efa"
           },
           "name": "",
           "offsetgroup": "",
           "orientation": "v",
           "showlegend": false,
           "textposition": "auto",
           "type": "bar",
           "x": [
            "Office Supplies",
            "Baby Food",
            "Cosmetics",
            "Meat",
            "Beverages",
            "Household",
            "Personal Care",
            "Snacks"
           ],
           "xaxis": "x",
           "y": [
            1060626.25,
            776370.14,
            614456.58,
            337937.6,
            295331.94,
            174016.5,
            155021.16,
            100851.06
           ],
           "yaxis": "y"
          }
         ],
         "name": "2014-12"
        },
        {
         "data": [
          {
           "alignmentgroup": "True",
           "hoverlabel": {
            "namelength": 0
           },
           "hovertemplate": "YearMonth=2014-11<br>Item Type=%{x}<br>Total Profit=%{y}",
           "legendgroup": "",
           "marker": {
            "color": "#636efa"
           },
           "name": "",
           "offsetgroup": "",
           "orientation": "v",
           "showlegend": false,
           "textposition": "auto",
           "type": "bar",
           "x": [
            "Cosmetics",
            "Cereal",
            "Baby Food",
            "Meat",
            "Vegetables"
           ],
           "xaxis": "x",
           "y": [
            1454944.16,
            844085.52,
            705337.88,
            473101.19999999995,
            259148.65
           ],
           "yaxis": "y"
          }
         ],
         "name": "2014-11"
        },
        {
         "data": [
          {
           "alignmentgroup": "True",
           "hoverlabel": {
            "namelength": 0
           },
           "hovertemplate": "YearMonth=2014-10<br>Item Type=%{x}<br>Total Profit=%{y}",
           "legendgroup": "",
           "marker": {
            "color": "#636efa"
           },
           "name": "",
           "offsetgroup": "",
           "orientation": "v",
           "showlegend": false,
           "textposition": "auto",
           "type": "bar",
           "x": [
            "Cosmetics",
            "Household",
            "Baby Food",
            "Beverages",
            "Vegetables",
            "Snacks",
            "Cereal",
            "Fruits"
           ],
           "xaxis": "x",
           "y": [
            3770197.08,
            927093.62,
            543334.48,
            251640.54,
            187432.97,
            109066.92,
            98600.67,
            27319.760000000002
           ],
           "yaxis": "y"
          }
         ],
         "name": "2014-10"
        },
        {
         "data": [
          {
           "alignmentgroup": "True",
           "hoverlabel": {
            "namelength": 0
           },
           "hovertemplate": "YearMonth=2014-1<br>Item Type=%{x}<br>Total Profit=%{y}",
           "legendgroup": "",
           "marker": {
            "color": "#636efa"
           },
           "name": "",
           "offsetgroup": "",
           "orientation": "v",
           "showlegend": false,
           "textposition": "auto",
           "type": "bar",
           "x": [
            "Household",
            "Vegetables",
            "Baby Food",
            "Meat",
            "Snacks",
            "Fruits"
           ],
           "xaxis": "x",
           "y": [
            1732044.23,
            1292839.27,
            607560.68,
            425282,
            333927.84,
            706.13
           ],
           "yaxis": "y"
          }
         ],
         "name": "2014-1"
        },
        {
         "data": [
          {
           "alignmentgroup": "True",
           "hoverlabel": {
            "namelength": 0
           },
           "hovertemplate": "YearMonth=2013-9<br>Item Type=%{x}<br>Total Profit=%{y}",
           "legendgroup": "",
           "marker": {
            "color": "#636efa"
           },
           "name": "",
           "offsetgroup": "",
           "orientation": "v",
           "showlegend": false,
           "textposition": "auto",
           "type": "bar",
           "x": [
            "Baby Food",
            "Vegetables",
            "Snacks",
            "Clothes",
            "Meat",
            "Fruits",
            "Household"
           ],
           "xaxis": "x",
           "y": [
            630854.6599999999,
            622524.93,
            581616.72,
            366832.8,
            304246.8,
            19651.14,
            2154.49
           ],
           "yaxis": "y"
          }
         ],
         "name": "2013-9"
        },
        {
         "data": [
          {
           "alignmentgroup": "True",
           "hoverlabel": {
            "namelength": 0
           },
           "hovertemplate": "YearMonth=2013-8<br>Item Type=%{x}<br>Total Profit=%{y}",
           "legendgroup": "",
           "marker": {
            "color": "#636efa"
           },
           "name": "",
           "offsetgroup": "",
           "orientation": "v",
           "showlegend": false,
           "textposition": "auto",
           "type": "bar",
           "x": [
            "Cosmetics",
            "Baby Food",
            "Household",
            "Office Supplies",
            "Cereal",
            "Meat",
            "Beverages",
            "Snacks",
            "Clothes",
            "Personal Care"
           ],
           "xaxis": "x",
           "y": [
            2608919.35,
            1678604.46,
            774953.48,
            744622.5,
            629254.77,
            484941.60000000003,
            456285.42000000004,
            309776.52,
            238753.44,
            159807.62
           ],
           "yaxis": "y"
          }
         ],
         "name": "2013-8"
        },
        {
         "data": [
          {
           "alignmentgroup": "True",
           "hoverlabel": {
            "namelength": 0
           },
           "hovertemplate": "YearMonth=2013-7<br>Item Type=%{x}<br>Total Profit=%{y}",
           "legendgroup": "",
           "marker": {
            "color": "#636efa"
           },
           "name": "",
           "offsetgroup": "",
           "orientation": "v",
           "showlegend": false,
           "textposition": "auto",
           "type": "bar",
           "x": [
            "Household",
            "Snacks",
            "Meat",
            "Beverages",
            "Fruits"
           ],
           "xaxis": "x",
           "y": [
            1575926.57,
            1082398.2,
            185614,
            28422.9,
            10093.08
           ],
           "yaxis": "y"
          }
         ],
         "name": "2013-7"
        },
        {
         "data": [
          {
           "alignmentgroup": "True",
           "hoverlabel": {
            "namelength": 0
           },
           "hovertemplate": "YearMonth=2013-6<br>Item Type=%{x}<br>Total Profit=%{y}",
           "legendgroup": "",
           "marker": {
            "color": "#636efa"
           },
           "name": "",
           "offsetgroup": "",
           "orientation": "v",
           "showlegend": false,
           "textposition": "auto",
           "type": "bar",
           "x": [
            "Household",
            "Baby Food",
            "Cosmetics",
            "Meat",
            "Snacks",
            "Vegetables",
            "Personal Care",
            "Beverages"
           ],
           "xaxis": "x",
           "y": [
            1207840.24,
            816727.2,
            769027.01,
            570856,
            371037.06,
            347909.43,
            198500.26,
            115586.46
           ],
           "yaxis": "y"
          }
         ],
         "name": "2013-6"
        },
        {
         "data": [
          {
           "alignmentgroup": "True",
           "hoverlabel": {
            "namelength": 0
           },
           "hovertemplate": "YearMonth=2013-5<br>Item Type=%{x}<br>Total Profit=%{y}",
           "legendgroup": "",
           "marker": {
            "color": "#636efa"
           },
           "name": "",
           "offsetgroup": "",
           "orientation": "v",
           "showlegend": false,
           "textposition": "auto",
           "type": "bar",
           "x": [
            "Cereal",
            "Snacks",
            "Vegetables",
            "Personal Care",
            "Fruits"
           ],
           "xaxis": "x",
           "y": [
            1052449.2,
            86790.36,
            85288.63,
            76934.2,
            4550.08
           ],
           "yaxis": "y"
          }
         ],
         "name": "2013-5"
        },
        {
         "data": [
          {
           "alignmentgroup": "True",
           "hoverlabel": {
            "namelength": 0
           },
           "hovertemplate": "YearMonth=2013-4<br>Item Type=%{x}<br>Total Profit=%{y}",
           "legendgroup": "",
           "marker": {
            "color": "#636efa"
           },
           "name": "",
           "offsetgroup": "",
           "orientation": "v",
           "showlegend": false,
           "textposition": "auto",
           "type": "bar",
           "x": [
            "Snacks",
            "Vegetables",
            "Baby Food",
            "Clothes",
            "Beverages",
            "Personal Care",
            "Fruits"
           ],
           "xaxis": "x",
           "y": [
            664547.28,
            524610.3,
            304355.5,
            282229.92,
            250653.95999999996,
            152139.26,
            35400.49
           ],
           "yaxis": "y"
          }
         ],
         "name": "2013-4"
        },
        {
         "data": [
          {
           "alignmentgroup": "True",
           "hoverlabel": {
            "namelength": 0
           },
           "hovertemplate": "YearMonth=2013-3<br>Item Type=%{x}<br>Total Profit=%{y}",
           "legendgroup": "",
           "marker": {
            "color": "#636efa"
           },
           "name": "",
           "offsetgroup": "",
           "orientation": "v",
           "showlegend": false,
           "textposition": "auto",
           "type": "bar",
           "x": [
            "Office Supplies",
            "Cereal",
            "Household",
            "Clothes",
            "Personal Care",
            "Beverages",
            "Fruits"
           ],
           "xaxis": "x",
           "y": [
            1032725,
            595236.21,
            513928.73,
            218263.68,
            210278.46,
            48655.62,
            23618
           ],
           "yaxis": "y"
          }
         ],
         "name": "2013-3"
        },
        {
         "data": [
          {
           "alignmentgroup": "True",
           "hoverlabel": {
            "namelength": 0
           },
           "hovertemplate": "YearMonth=2013-2<br>Item Type=%{x}<br>Total Profit=%{y}",
           "legendgroup": "",
           "marker": {
            "color": "#636efa"
           },
           "name": "",
           "offsetgroup": "",
           "orientation": "v",
           "showlegend": false,
           "textposition": "auto",
           "type": "bar",
           "x": [
            "Household",
            "Cosmetics",
            "Baby Food",
            "Meat",
            "Office Supplies",
            "Personal Care",
            "Snacks",
            "Beverages",
            "Cereal",
            "Fruits"
           ],
           "xaxis": "x",
           "y": [
            4253791.91,
            2270220.59,
            771577.14,
            621592.3999999999,
            597415,
            467519.36,
            423971.46,
            116134.56,
            108256.98,
            9707.48
           ],
           "yaxis": "y"
          }
         ],
         "name": "2013-2"
        },
        {
         "data": [
          {
           "alignmentgroup": "True",
           "hoverlabel": {
            "namelength": 0
           },
           "hovertemplate": "YearMonth=2013-12<br>Item Type=%{x}<br>Total Profit=%{y}",
           "legendgroup": "",
           "marker": {
            "color": "#636efa"
           },
           "name": "",
           "offsetgroup": "",
           "orientation": "v",
           "showlegend": false,
           "textposition": "auto",
           "type": "bar",
           "x": [
            "Office Supplies",
            "Cereal",
            "Baby Food",
            "Vegetables",
            "Beverages",
            "Meat",
            "Clothes",
            "Fruits"
           ],
           "xaxis": "x",
           "y": [
            1625216.25,
            1089125.46,
            539116.64,
            303024,
            20592.9,
            14185.6,
            12852,
            7107.09
           ],
           "yaxis": "y"
          }
         ],
         "name": "2013-12"
        },
        {
         "data": [
          {
           "alignmentgroup": "True",
           "hoverlabel": {
            "namelength": 0
           },
           "hovertemplate": "YearMonth=2013-11<br>Item Type=%{x}<br>Total Profit=%{y}",
           "legendgroup": "",
           "marker": {
            "color": "#636efa"
           },
           "name": "",
           "offsetgroup": "",
           "orientation": "v",
           "showlegend": false,
           "textposition": "auto",
           "type": "bar",
           "x": [
            "Office Supplies",
            "Baby Food",
            "Household",
            "Cosmetics",
            "Personal Care",
            "Snacks"
           ],
           "xaxis": "x",
           "y": [
            1439376.25,
            988124.88,
            960902.54,
            314704.7,
            311420.62,
            242064.6
           ],
           "yaxis": "y"
          }
         ],
         "name": "2013-11"
        },
        {
         "data": [
          {
           "alignmentgroup": "True",
           "hoverlabel": {
            "namelength": 0
           },
           "hovertemplate": "YearMonth=2013-10<br>Item Type=%{x}<br>Total Profit=%{y}",
           "legendgroup": "",
           "marker": {
            "color": "#636efa"
           },
           "name": "",
           "offsetgroup": "",
           "orientation": "v",
           "showlegend": false,
           "textposition": "auto",
           "type": "bar",
           "x": [
            "Office Supplies",
            "Cosmetics",
            "Household",
            "Clothes",
            "Beverages",
            "Vegetables",
            "Snacks",
            "Personal Care",
            "Cereal",
            "Fruits"
           ],
           "xaxis": "x",
           "y": [
            3004750,
            1984378.31,
            715787.87,
            434838.24,
            324882.36,
            294627.71,
            257393.52,
            230050.8,
            120305.22,
            20412.7
           ],
           "yaxis": "y"
          }
         ],
         "name": "2013-10"
        },
        {
         "data": [
          {
           "alignmentgroup": "True",
           "hoverlabel": {
            "namelength": 0
           },
           "hovertemplate": "YearMonth=2013-1<br>Item Type=%{x}<br>Total Profit=%{y}",
           "legendgroup": "",
           "marker": {
            "color": "#636efa"
           },
           "name": "",
           "offsetgroup": "",
           "orientation": "v",
           "showlegend": false,
           "textposition": "auto",
           "type": "bar",
           "x": [
            "Household",
            "Office Supplies",
            "Baby Food",
            "Clothes",
            "Vegetables",
            "Personal Care"
           ],
           "xaxis": "x",
           "y": [
            2280941.99,
            709398.75,
            688562.38,
            632391.84,
            432061.72,
            80618.02
           ],
           "yaxis": "y"
          }
         ],
         "name": "2013-1"
        },
        {
         "data": [
          {
           "alignmentgroup": "True",
           "hoverlabel": {
            "namelength": 0
           },
           "hovertemplate": "YearMonth=2012-9<br>Item Type=%{x}<br>Total Profit=%{y}",
           "legendgroup": "",
           "marker": {
            "color": "#636efa"
           },
           "name": "",
           "offsetgroup": "",
           "orientation": "v",
           "showlegend": false,
           "textposition": "auto",
           "type": "bar",
           "x": [
            "Vegetables",
            "Cereal",
            "Meat",
            "Snacks",
            "Household",
            "Personal Care",
            "Clothes",
            "Fruits"
           ],
           "xaxis": "x",
           "y": [
            660339.8,
            633507.09,
            536593.2,
            460143.3,
            412004.78,
            170884.14,
            141372,
            20750.1
           ],
           "yaxis": "y"
          }
         ],
         "name": "2012-9"
        },
        {
         "data": [
          {
           "alignmentgroup": "True",
           "hoverlabel": {
            "namelength": 0
           },
           "hovertemplate": "YearMonth=2012-8<br>Item Type=%{x}<br>Total Profit=%{y}",
           "legendgroup": "",
           "marker": {
            "color": "#636efa"
           },
           "name": "",
           "offsetgroup": "",
           "orientation": "v",
           "showlegend": false,
           "textposition": "auto",
           "type": "bar",
           "x": [
            "Household",
            "Cosmetics",
            "Office Supplies",
            "Vegetables",
            "Meat",
            "Snacks",
            "Beverages"
           ],
           "xaxis": "x",
           "y": [
            1489746.97,
            1322802.96,
            778962.5,
            687801.35,
            551007.6,
            513463.68,
            199445.76
           ],
           "yaxis": "y"
          }
         ],
         "name": "2012-8"
        },
        {
         "data": [
          {
           "alignmentgroup": "True",
           "hoverlabel": {
            "namelength": 0
           },
           "hovertemplate": "YearMonth=2012-7<br>Item Type=%{x}<br>Total Profit=%{y}",
           "legendgroup": "",
           "marker": {
            "color": "#636efa"
           },
           "name": "",
           "offsetgroup": "",
           "orientation": "v",
           "showlegend": false,
           "textposition": "auto",
           "type": "bar",
           "x": [
            "Household",
            "Clothes",
            "Office Supplies",
            "Cereal",
            "Meat",
            "Snacks",
            "Personal Care",
            "Vegetables",
            "Beverages",
            "Baby Food"
           ],
           "xaxis": "x",
           "y": [
            1452623.45,
            1198100.16,
            526967.5,
            411146.19,
            403717.6,
            262135.56,
            207972.94,
            201700.35,
            184537.44,
            7668.8
           ],
           "yaxis": "y"
          }
         ],
         "name": "2012-7"
        },
        {
         "data": [
          {
           "alignmentgroup": "True",
           "hoverlabel": {
            "namelength": 0
           },
           "hovertemplate": "YearMonth=2012-6<br>Item Type=%{x}<br>Total Profit=%{y}",
           "legendgroup": "",
           "marker": {
            "color": "#636efa"
           },
           "name": "",
           "offsetgroup": "",
           "orientation": "v",
           "showlegend": false,
           "textposition": "auto",
           "type": "bar",
           "x": [
            "Cereal",
            "Household",
            "Vegetables",
            "Office Supplies",
            "Meat",
            "Clothes",
            "Beverages"
           ],
           "xaxis": "x",
           "y": [
            1722455.3699999999,
            1293688.38,
            930346.81,
            743865,
            359730.8,
            279953.28,
            34342.38
           ],
           "yaxis": "y"
          }
         ],
         "name": "2012-6"
        },
        {
         "data": [
          {
           "alignmentgroup": "True",
           "hoverlabel": {
            "namelength": 0
           },
           "hovertemplate": "YearMonth=2012-5<br>Item Type=%{x}<br>Total Profit=%{y}",
           "legendgroup": "",
           "marker": {
            "color": "#636efa"
           },
           "name": "",
           "offsetgroup": "",
           "orientation": "v",
           "showlegend": false,
           "textposition": "auto",
           "type": "bar",
           "x": [
            "Office Supplies",
            "Meat",
            "Vegetables",
            "Clothes",
            "Cereal",
            "Personal Care",
            "Baby Food",
            "Beverages"
           ],
           "xaxis": "x",
           "y": [
            693617.5,
            691490.8,
            609457.02,
            536038.56,
            449948.61,
            421659.56,
            234281.84,
            228526.37999999998
           ],
           "yaxis": "y"
          }
         ],
         "name": "2012-5"
        },
        {
         "data": [
          {
           "alignmentgroup": "True",
           "hoverlabel": {
            "namelength": 0
           },
           "hovertemplate": "YearMonth=2012-4<br>Item Type=%{x}<br>Total Profit=%{y}",
           "legendgroup": "",
           "marker": {
            "color": "#636efa"
           },
           "name": "",
           "offsetgroup": "",
           "orientation": "v",
           "showlegend": false,
           "textposition": "auto",
           "type": "bar",
           "x": [
            "Household",
            "Cereal",
            "Snacks",
            "Personal Care",
            "Vegetables",
            "Fruits"
           ],
           "xaxis": "x",
           "y": [
            950958.74,
            795981.15,
            212454.42,
            155998.5,
            59784.11,
            40741.05
           ],
           "yaxis": "y"
          }
         ],
         "name": "2012-4"
        },
        {
         "data": [
          {
           "alignmentgroup": "True",
           "hoverlabel": {
            "namelength": 0
           },
           "hovertemplate": "YearMonth=2012-3<br>Item Type=%{x}<br>Total Profit=%{y}",
           "legendgroup": "",
           "marker": {
            "color": "#636efa"
           },
           "name": "",
           "offsetgroup": "",
           "orientation": "v",
           "showlegend": false,
           "textposition": "auto",
           "type": "bar",
           "x": [
            "Office Supplies",
            "Household",
            "Cereal",
            "Meat",
            "Snacks",
            "Clothes",
            "Beverages",
            "Vegetables"
           ],
           "xaxis": "x",
           "y": [
            2150795,
            1631943.31,
            760988.1,
            466180,
            392872.5,
            262988.64,
            159638.04,
            100061.04999999999
           ],
           "yaxis": "y"
          }
         ],
         "name": "2012-3"
        },
        {
         "data": [
          {
           "alignmentgroup": "True",
           "hoverlabel": {
            "namelength": 0
           },
           "hovertemplate": "YearMonth=2012-2<br>Item Type=%{x}<br>Total Profit=%{y}",
           "legendgroup": "",
           "marker": {
            "color": "#636efa"
           },
           "name": "",
           "offsetgroup": "",
           "orientation": "v",
           "showlegend": false,
           "textposition": "auto",
           "type": "bar",
           "x": [
            "Baby Food",
            "Office Supplies",
            "Snacks",
            "Clothes"
           ],
           "xaxis": "x",
           "y": [
            1240907.7,
            901930,
            304152.24,
            133367.04
           ],
           "yaxis": "y"
          }
         ],
         "name": "2012-2"
        },
        {
         "data": [
          {
           "alignmentgroup": "True",
           "hoverlabel": {
            "namelength": 0
           },
           "hovertemplate": "YearMonth=2012-12<br>Item Type=%{x}<br>Total Profit=%{y}",
           "legendgroup": "",
           "marker": {
            "color": "#636efa"
           },
           "name": "",
           "offsetgroup": "",
           "orientation": "v",
           "showlegend": false,
           "textposition": "auto",
           "type": "bar",
           "x": [
            "Meat",
            "Cosmetics",
            "Vegetables",
            "Snacks",
            "Beverages",
            "Personal Care",
            "Fruits"
           ],
           "xaxis": "x",
           "y": [
            1083539.6,
            1032787.8,
            552955.67,
            456779.76,
            81745.2,
            62048.56,
            5145.35
           ],
           "yaxis": "y"
          }
         ],
         "name": "2012-12"
        },
        {
         "data": [
          {
           "alignmentgroup": "True",
           "hoverlabel": {
            "namelength": 0
           },
           "hovertemplate": "YearMonth=2012-11<br>Item Type=%{x}<br>Total Profit=%{y}",
           "legendgroup": "",
           "marker": {
            "color": "#636efa"
           },
           "name": "",
           "offsetgroup": "",
           "orientation": "v",
           "showlegend": false,
           "textposition": "auto",
           "type": "bar",
           "x": [
            "Cosmetics",
            "Cereal",
            "Clothes",
            "Household",
            "Baby Food",
            "Snacks",
            "Personal Care",
            "Vegetables"
           ],
           "xaxis": "x",
           "y": [
            1386439.38,
            1369158.45,
            1173350.88,
            619830.2,
            598166.4,
            363427.74,
            169631.14,
            106752.83
           ],
           "yaxis": "y"
          }
         ],
         "name": "2012-11"
        },
        {
         "data": [
          {
           "alignmentgroup": "True",
           "hoverlabel": {
            "namelength": 0
           },
           "hovertemplate": "YearMonth=2012-10<br>Item Type=%{x}<br>Total Profit=%{y}",
           "legendgroup": "",
           "marker": {
            "color": "#636efa"
           },
           "name": "",
           "offsetgroup": "",
           "orientation": "v",
           "showlegend": false,
           "textposition": "auto",
           "type": "bar",
           "x": [
            "Cosmetics",
            "Vegetables",
            "Snacks",
            "Cereal",
            "Clothes",
            "Beverages",
            "Personal Care"
           ],
           "xaxis": "x",
           "y": [
            907775.27,
            905599.85,
            277519.62,
            100638.23999999999,
            91873.44,
            65818.98,
            62725.18
           ],
           "yaxis": "y"
          }
         ],
         "name": "2012-10"
        },
        {
         "data": [
          {
           "alignmentgroup": "True",
           "hoverlabel": {
            "namelength": 0
           },
           "hovertemplate": "YearMonth=2012-1<br>Item Type=%{x}<br>Total Profit=%{y}",
           "legendgroup": "",
           "marker": {
            "color": "#636efa"
           },
           "name": "",
           "offsetgroup": "",
           "orientation": "v",
           "showlegend": false,
           "textposition": "auto",
           "type": "bar",
           "x": [
            "Cosmetics",
            "Snacks",
            "Meat",
            "Baby Food",
            "Clothes",
            "Household",
            "Vegetables",
            "Beverages",
            "Fruits"
           ],
           "xaxis": "x",
           "y": [
            1631422.21,
            1369732.74,
            946602.7999999999,
            750967.24,
            391435.2,
            272294.39,
            197407.51,
            65552.76,
            14450.36
           ],
           "yaxis": "y"
          }
         ],
         "name": "2012-1"
        },
        {
         "data": [
          {
           "alignmentgroup": "True",
           "hoverlabel": {
            "namelength": 0
           },
           "hovertemplate": "YearMonth=2011-9<br>Item Type=%{x}<br>Total Profit=%{y}",
           "legendgroup": "",
           "marker": {
            "color": "#636efa"
           },
           "name": "",
           "offsetgroup": "",
           "orientation": "v",
           "showlegend": false,
           "textposition": "auto",
           "type": "bar",
           "x": [
            "Office Supplies",
            "Meat",
            "Snacks",
            "Personal Care",
            "Beverages",
            "Cosmetics",
            "Fruits"
           ],
           "xaxis": "x",
           "y": [
            1644911.25,
            525725.2,
            301174.68,
            232030.54,
            89387.28,
            37034.31,
            20901.93
           ],
           "yaxis": "y"
          }
         ],
         "name": "2011-9"
        },
        {
         "data": [
          {
           "alignmentgroup": "True",
           "hoverlabel": {
            "namelength": 0
           },
           "hovertemplate": "YearMonth=2011-8<br>Item Type=%{x}<br>Total Profit=%{y}",
           "legendgroup": "",
           "marker": {
            "color": "#636efa"
           },
           "name": "",
           "offsetgroup": "",
           "orientation": "v",
           "showlegend": false,
           "textposition": "auto",
           "type": "bar",
           "x": [
            "Cosmetics",
            "Office Supplies",
            "Clothes",
            "Baby Food",
            "Vegetables",
            "Personal Care",
            "Snacks",
            "Meat",
            "Fruits"
           ],
           "xaxis": "x",
           "y": [
            1458769.3,
            1404910,
            875551.6799999999,
            759211.2000000001,
            473601.26,
            374722.18000000005,
            298913.94,
            62519.6,
            45896.04
           ],
           "yaxis": "y"
          }
         ],
         "name": "2011-8"
        },
        {
         "data": [
          {
           "alignmentgroup": "True",
           "hoverlabel": {
            "namelength": 0
           },
           "hovertemplate": "YearMonth=2011-7<br>Item Type=%{x}<br>Total Profit=%{y}",
           "legendgroup": "",
           "marker": {
            "color": "#636efa"
           },
           "name": "",
           "offsetgroup": "",
           "orientation": "v",
           "showlegend": false,
           "textposition": "auto",
           "type": "bar",
           "x": [
            "Cosmetics",
            "Household",
            "Cereal",
            "Baby Food",
            "Vegetables"
           ],
           "xaxis": "x",
           "y": [
            1842500.39,
            1068792.77,
            1029681.5700000001,
            359187.42,
            296395.35
           ],
           "yaxis": "y"
          }
         ],
         "name": "2011-7"
        },
        {
         "data": [
          {
           "alignmentgroup": "True",
           "hoverlabel": {
            "namelength": 0
           },
           "hovertemplate": "YearMonth=2011-6<br>Item Type=%{x}<br>Total Profit=%{y}",
           "legendgroup": "",
           "marker": {
            "color": "#636efa"
           },
           "name": "",
           "offsetgroup": "",
           "orientation": "v",
           "showlegend": false,
           "textposition": "auto",
           "type": "bar",
           "x": [
            "Baby Food",
            "Meat",
            "Personal Care"
           ],
           "xaxis": "x",
           "y": [
            1394954.72,
            428256.4,
            177725.52
           ],
           "yaxis": "y"
          }
         ],
         "name": "2011-6"
        },
        {
         "data": [
          {
           "alignmentgroup": "True",
           "hoverlabel": {
            "namelength": 0
           },
           "hovertemplate": "YearMonth=2011-5<br>Item Type=%{x}<br>Total Profit=%{y}",
           "legendgroup": "",
           "marker": {
            "color": "#636efa"
           },
           "name": "",
           "offsetgroup": "",
           "orientation": "v",
           "showlegend": false,
           "textposition": "auto",
           "type": "bar",
           "x": [
            "Office Supplies",
            "Cosmetics",
            "Baby Food",
            "Vegetables",
            "Beverages",
            "Personal Care",
            "Fruits"
           ],
           "xaxis": "x",
           "y": [
            2193341.25,
            1571089.32,
            721442.36,
            603270.28,
            57832.38,
            20799.8,
            17168.84
           ],
           "yaxis": "y"
          }
         ],
         "name": "2011-5"
        },
        {
         "data": [
          {
           "alignmentgroup": "True",
           "hoverlabel": {
            "namelength": 0
           },
           "hovertemplate": "YearMonth=2011-4<br>Item Type=%{x}<br>Total Profit=%{y}",
           "legendgroup": "",
           "marker": {
            "color": "#636efa"
           },
           "name": "",
           "offsetgroup": "",
           "orientation": "v",
           "showlegend": false,
           "textposition": "auto",
           "type": "bar",
           "x": [
            "Cosmetics",
            "Meat",
            "Clothes",
            "Snacks",
            "Beverages",
            "Fruits"
           ],
           "xaxis": "x",
           "y": [
            1534402.75,
            547518.4,
            406637.28,
            234069.3,
            159089.94,
            9331.52
           ],
           "yaxis": "y"
          }
         ],
         "name": "2011-4"
        },
        {
         "data": [
          {
           "alignmentgroup": "True",
           "hoverlabel": {
            "namelength": 0
           },
           "hovertemplate": "YearMonth=2011-3<br>Item Type=%{x}<br>Total Profit=%{y}",
           "legendgroup": "",
           "marker": {
            "color": "#636efa"
           },
           "name": "",
           "offsetgroup": "",
           "orientation": "v",
           "showlegend": false,
           "textposition": "auto",
           "type": "bar",
           "x": [
            "Vegetables",
            "Meat",
            "Clothes",
            "Baby Food",
            "Snacks",
            "Household",
            "Personal Care",
            "Beverages",
            "Fruits"
           ],
           "xaxis": "x",
           "y": [
            696134.51,
            629714.8,
            586271.52,
            545347.54,
            383829.54,
            242960.18,
            137679.64,
            64660.14,
            12004.21
           ],
           "yaxis": "y"
          }
         ],
         "name": "2011-3"
        },
        {
         "data": [
          {
           "alignmentgroup": "True",
           "hoverlabel": {
            "namelength": 0
           },
           "hovertemplate": "YearMonth=2011-2<br>Item Type=%{x}<br>Total Profit=%{y}",
           "legendgroup": "",
           "marker": {
            "color": "#636efa"
           },
           "name": "",
           "offsetgroup": "",
           "orientation": "v",
           "showlegend": false,
           "textposition": "auto",
           "type": "bar",
           "x": [
            "Office Supplies",
            "Cosmetics",
            "Clothes",
            "Personal Care",
            "Household",
            "Beverages",
            "Snacks",
            "Baby Food",
            "Fruits"
           ],
           "xaxis": "x",
           "y": [
            888800,
            700522.23,
            430872.48,
            299141.22,
            253732.63,
            78378.3,
            68649.3,
            38727.44,
            3602.95
           ],
           "yaxis": "y"
          }
         ],
         "name": "2011-2"
        },
        {
         "data": [
          {
           "alignmentgroup": "True",
           "hoverlabel": {
            "namelength": 0
           },
           "hovertemplate": "YearMonth=2011-12<br>Item Type=%{x}<br>Total Profit=%{y}",
           "legendgroup": "",
           "marker": {
            "color": "#636efa"
           },
           "name": "",
           "offsetgroup": "",
           "orientation": "v",
           "showlegend": false,
           "textposition": "auto",
           "type": "bar",
           "x": [
            "Baby Food",
            "Clothes",
            "Meat",
            "Beverages"
           ],
           "xaxis": "x",
           "y": [
            1154729.56,
            314690.4,
            95924.4,
            65270.880000000005
           ],
           "yaxis": "y"
          }
         ],
         "name": "2011-12"
        },
        {
         "data": [
          {
           "alignmentgroup": "True",
           "hoverlabel": {
            "namelength": 0
           },
           "hovertemplate": "YearMonth=2011-11<br>Item Type=%{x}<br>Total Profit=%{y}",
           "legendgroup": "",
           "marker": {
            "color": "#636efa"
           },
           "name": "",
           "offsetgroup": "",
           "orientation": "v",
           "showlegend": false,
           "textposition": "auto",
           "type": "bar",
           "x": [
            "Clothes",
            "Vegetables",
            "Cereal",
            "Beverages",
            "Personal Care",
            "Fruits"
           ],
           "xaxis": "x",
           "y": [
            730360.8,
            190526.34,
            187279.26,
            156678.3,
            40396.72,
            18381.07
           ],
           "yaxis": "y"
          }
         ],
         "name": "2011-11"
        },
        {
         "data": [
          {
           "alignmentgroup": "True",
           "hoverlabel": {
            "namelength": 0
           },
           "hovertemplate": "YearMonth=2011-10<br>Item Type=%{x}<br>Total Profit=%{y}",
           "legendgroup": "",
           "marker": {
            "color": "#636efa"
           },
           "name": "",
           "offsetgroup": "",
           "orientation": "v",
           "showlegend": false,
           "textposition": "auto",
           "type": "bar",
           "x": [
            "Cosmetics",
            "Cereal",
            "Office Supplies",
            "Household",
            "Snacks",
            "Meat",
            "Personal Care",
            "Beverages",
            "Fruits"
           ],
           "xaxis": "x",
           "y": [
            2258571.3,
            1590279.0899999999,
            1245456.25,
            902565.58,
            377709,
            363906.39999999997,
            204915.62,
            33653.34,
            18889.58
           ],
           "yaxis": "y"
          }
         ],
         "name": "2011-10"
        },
        {
         "data": [
          {
           "alignmentgroup": "True",
           "hoverlabel": {
            "namelength": 0
           },
           "hovertemplate": "YearMonth=2011-1<br>Item Type=%{x}<br>Total Profit=%{y}",
           "legendgroup": "",
           "marker": {
            "color": "#636efa"
           },
           "name": "",
           "offsetgroup": "",
           "orientation": "v",
           "showlegend": false,
           "textposition": "auto",
           "type": "bar",
           "x": [
            "Office Supplies",
            "Clothes",
            "Baby Food",
            "Household",
            "Meat",
            "Beverages",
            "Personal Care",
            "Fruits"
           ],
           "xaxis": "x",
           "y": [
            1475736.25,
            1095577.92,
            695272.5800000001,
            363114.43,
            348691.2,
            231846.3,
            94275.72,
            39803.56
           ],
           "yaxis": "y"
          }
         ],
         "name": "2011-1"
        },
        {
         "data": [
          {
           "alignmentgroup": "True",
           "hoverlabel": {
            "namelength": 0
           },
           "hovertemplate": "YearMonth=2010-9<br>Item Type=%{x}<br>Total Profit=%{y}",
           "legendgroup": "",
           "marker": {
            "color": "#636efa"
           },
           "name": "",
           "offsetgroup": "",
           "orientation": "v",
           "showlegend": false,
           "textposition": "auto",
           "type": "bar",
           "x": [
            "Vegetables",
            "Baby Food",
            "Snacks",
            "Office Supplies",
            "Personal Care",
            "Beverages",
            "Fruits"
           ],
           "xaxis": "x",
           "y": [
            707308.52,
            496842.38,
            484460.04,
            369028.75,
            313275.06,
            244421.28000000003,
            4070.49
           ],
           "yaxis": "y"
          }
         ],
         "name": "2010-9"
        },
        {
         "data": [
          {
           "alignmentgroup": "True",
           "hoverlabel": {
            "namelength": 0
           },
           "hovertemplate": "YearMonth=2010-8<br>Item Type=%{x}<br>Total Profit=%{y}",
           "legendgroup": "",
           "marker": {
            "color": "#636efa"
           },
           "name": "",
           "offsetgroup": "",
           "orientation": "v",
           "showlegend": false,
           "textposition": "auto",
           "type": "bar",
           "x": [
            "Cosmetics",
            "Household",
            "Clothes",
            "Baby Food",
            "Meat",
            "Snacks",
            "Vegetables",
            "Office Supplies",
            "Personal Care",
            "Beverages"
           ],
           "xaxis": "x",
           "y": [
            1425734,
            1312913.06,
            1177536.96,
            1163548.6800000002,
            508851.2,
            222986.16,
            219376.75,
            170690,
            151487.7,
            131183.82
           ],
           "yaxis": "y"
          }
         ],
         "name": "2010-8"
        },
        {
         "data": [
          {
           "alignmentgroup": "True",
           "hoverlabel": {
            "namelength": 0
           },
           "hovertemplate": "YearMonth=2010-7<br>Item Type=%{x}<br>Total Profit=%{y}",
           "legendgroup": "",
           "marker": {
            "color": "#636efa"
           },
           "name": "",
           "offsetgroup": "",
           "orientation": "v",
           "showlegend": false,
           "textposition": "auto",
           "type": "bar",
           "x": [
            "Vegetables",
            "Cosmetics",
            "Meat",
            "Personal Care",
            "Household",
            "Beverages",
            "Baby Food",
            "Fruits",
            "Snacks"
           ],
           "xaxis": "x",
           "y": [
            945687.4,
            819449.31,
            742570.3999999999,
            720274.52,
            367091.95,
            137416.5,
            129698.58,
            45233.28999999999,
            27018.6
           ],
           "yaxis": "y"
          }
         ],
         "name": "2010-7"
        },
        {
         "data": [
          {
           "alignmentgroup": "True",
           "hoverlabel": {
            "namelength": 0
           },
           "hovertemplate": "YearMonth=2010-6<br>Item Type=%{x}<br>Total Profit=%{y}",
           "legendgroup": "",
           "marker": {
            "color": "#636efa"
           },
           "name": "",
           "offsetgroup": "",
           "orientation": "v",
           "showlegend": false,
           "textposition": "auto",
           "type": "bar",
           "x": [
            "Office Supplies",
            "Clothes",
            "Snacks",
            "Vegetables",
            "Personal Care"
           ],
           "xaxis": "x",
           "y": [
            2158622.5,
            1353939.8399999999,
            614039.0399999999,
            126701.91,
            119536.2
           ],
           "yaxis": "y"
          }
         ],
         "name": "2010-6"
        },
        {
         "data": [
          {
           "alignmentgroup": "True",
           "hoverlabel": {
            "namelength": 0
           },
           "hovertemplate": "YearMonth=2010-5<br>Item Type=%{x}<br>Total Profit=%{y}",
           "legendgroup": "",
           "marker": {
            "color": "#636efa"
           },
           "name": "",
           "offsetgroup": "",
           "orientation": "v",
           "showlegend": false,
           "textposition": "auto",
           "type": "bar",
           "x": [
            "Cosmetics",
            "Cereal",
            "Snacks",
            "Vegetables",
            "Office Supplies",
            "Beverages",
            "Fruits"
           ],
           "xaxis": "x",
           "y": [
            3298140.03,
            1111715.9100000001,
            369272.58,
            355295.64,
            296940,
            152074.26,
            4822.41
           ],
           "yaxis": "y"
          }
         ],
         "name": "2010-5"
        },
        {
         "data": [
          {
           "alignmentgroup": "True",
           "hoverlabel": {
            "namelength": 0
           },
           "hovertemplate": "YearMonth=2010-4<br>Item Type=%{x}<br>Total Profit=%{y}",
           "legendgroup": "",
           "marker": {
            "color": "#636efa"
           },
           "name": "",
           "offsetgroup": "",
           "orientation": "v",
           "showlegend": false,
           "textposition": "auto",
           "type": "bar",
           "x": [
            "Office Supplies",
            "Household",
            "Cereal",
            "Baby Food",
            "Snacks",
            "Clothes",
            "Cosmetics",
            "Beverages",
            "Personal Care"
           ],
           "xaxis": "x",
           "y": [
            1232831.25,
            1139890.94,
            847186.1699999999,
            614558.46,
            359733.36,
            334298.88,
            288450.33,
            101194.92,
            95152.82
           ],
           "yaxis": "y"
          }
         ],
         "name": "2010-4"
        },
        {
         "data": [
          {
           "alignmentgroup": "True",
           "hoverlabel": {
            "namelength": 0
           },
           "hovertemplate": "YearMonth=2010-3<br>Item Type=%{x}<br>Total Profit=%{y}",
           "legendgroup": "",
           "marker": {
            "color": "#636efa"
           },
           "name": "",
           "offsetgroup": "",
           "orientation": "v",
           "showlegend": false,
           "textposition": "auto",
           "type": "bar",
           "x": [
            "Snacks",
            "Cereal",
            "Office Supplies",
            "Vegetables",
            "Beverages",
            "Fruits"
           ],
           "xaxis": "x",
           "y": [
            845516.76,
            454643.88,
            395288.75,
            216788.42,
            129696.12,
            21183.9
           ],
           "yaxis": "y"
          }
         ],
         "name": "2010-3"
        },
        {
         "data": [
          {
           "alignmentgroup": "True",
           "hoverlabel": {
            "namelength": 0
           },
           "hovertemplate": "YearMonth=2010-2<br>Item Type=%{x}<br>Total Profit=%{y}",
           "legendgroup": "",
           "marker": {
            "color": "#636efa"
           },
           "name": "",
           "offsetgroup": "",
           "orientation": "v",
           "showlegend": false,
           "textposition": "auto",
           "type": "bar",
           "x": [
            "Household",
            "Cosmetics",
            "Office Supplies",
            "Meat",
            "Personal Care",
            "Snacks",
            "Beverages",
            "Fruits"
           ],
           "xaxis": "x",
           "y": [
            4154353.91,
            1726181.36,
            715585,
            462519.2,
            171610.88,
            148547.16,
            71581.86,
            19120.94
           ],
           "yaxis": "y"
          }
         ],
         "name": "2010-2"
        },
        {
         "data": [
          {
           "alignmentgroup": "True",
           "hoverlabel": {
            "namelength": 0
           },
           "hovertemplate": "YearMonth=2010-12<br>Item Type=%{x}<br>Total Profit=%{y}",
           "legendgroup": "",
           "marker": {
            "color": "#636efa"
           },
           "name": "",
           "offsetgroup": "",
           "orientation": "v",
           "showlegend": false,
           "textposition": "auto",
           "type": "bar",
           "x": [
            "Cosmetics",
            "Household",
            "Clothes",
            "Vegetables",
            "Snacks",
            "Meat",
            "Personal Care"
           ],
           "xaxis": "x",
           "y": [
            1283682.21,
            665240.22,
            539563.6799999999,
            459649.53,
            301009.26,
            291319.6,
            164092.88
           ],
           "yaxis": "y"
          }
         ],
         "name": "2010-12"
        },
        {
         "data": [
          {
           "alignmentgroup": "True",
           "hoverlabel": {
            "namelength": 0
           },
           "hovertemplate": "YearMonth=2010-11<br>Item Type=%{x}<br>Total Profit=%{y}",
           "legendgroup": "",
           "marker": {
            "color": "#636efa"
           },
           "name": "",
           "offsetgroup": "",
           "orientation": "v",
           "showlegend": false,
           "textposition": "auto",
           "type": "bar",
           "x": [
            "Baby Food",
            "Cereal",
            "Meat",
            "Vegetables",
            "Clothes",
            "Office Supplies",
            "Fruits",
            "Personal Care"
           ],
           "xaxis": "x",
           "y": [
            702845.52,
            422928.66,
            415500.8,
            403905.74,
            126169.92,
            52141.25,
            35655.95,
            34206.9
           ],
           "yaxis": "y"
          }
         ],
         "name": "2010-11"
        },
        {
         "data": [
          {
           "alignmentgroup": "True",
           "hoverlabel": {
            "namelength": 0
           },
           "hovertemplate": "YearMonth=2010-10<br>Item Type=%{x}<br>Total Profit=%{y}",
           "legendgroup": "",
           "marker": {
            "color": "#636efa"
           },
           "name": "",
           "offsetgroup": "",
           "orientation": "v",
           "showlegend": false,
           "textposition": "auto",
           "type": "bar",
           "x": [
            "Baby Food",
            "Cereal",
            "Clothes",
            "Cosmetics",
            "Vegetables",
            "Snacks",
            "Meat",
            "Personal Care",
            "Fruits"
           ],
           "xaxis": "x",
           "y": [
            1244071.08,
            1125535.95,
            973961.28,
            856135.88,
            597336.06,
            475031.1,
            460574.4,
            103848.64,
            23302.29
           ],
           "yaxis": "y"
          }
         ],
         "name": "2010-10"
        },
        {
         "data": [
          {
           "alignmentgroup": "True",
           "hoverlabel": {
            "namelength": 0
           },
           "hovertemplate": "YearMonth=2010-1<br>Item Type=%{x}<br>Total Profit=%{y}",
           "legendgroup": "",
           "marker": {
            "color": "#636efa"
           },
           "name": "",
           "offsetgroup": "",
           "orientation": "v",
           "showlegend": false,
           "textposition": "auto",
           "type": "bar",
           "x": [
            "Household",
            "Vegetables",
            "Cosmetics",
            "Meat",
            "Snacks",
            "Beverages",
            "Personal Care"
           ],
           "xaxis": "x",
           "y": [
            1553221.56,
            747711.72,
            444585.59,
            406692,
            235944.06,
            164257.74,
            74277.84
           ],
           "yaxis": "y"
          }
         ],
         "name": "2010-1"
        }
       ],
       "layout": {
        "barmode": "relative",
        "height": 800,
        "legend": {
         "tracegroupgap": 0
        },
        "sliders": [
         {
          "active": 0,
          "currentvalue": {
           "prefix": "YearMonth="
          },
          "len": 0.9,
          "pad": {
           "b": 10,
           "t": 60
          },
          "steps": [
           {
            "args": [
             [
              "2017-7"
             ],
             {
              "frame": {
               "duration": 0,
               "redraw": true
              },
              "fromcurrent": true,
              "mode": "immediate",
              "transition": {
               "duration": 0,
               "easing": "linear"
              }
             }
            ],
            "label": "2017-7",
            "method": "animate"
           },
           {
            "args": [
             [
              "2017-6"
             ],
             {
              "frame": {
               "duration": 0,
               "redraw": true
              },
              "fromcurrent": true,
              "mode": "immediate",
              "transition": {
               "duration": 0,
               "easing": "linear"
              }
             }
            ],
            "label": "2017-6",
            "method": "animate"
           },
           {
            "args": [
             [
              "2017-5"
             ],
             {
              "frame": {
               "duration": 0,
               "redraw": true
              },
              "fromcurrent": true,
              "mode": "immediate",
              "transition": {
               "duration": 0,
               "easing": "linear"
              }
             }
            ],
            "label": "2017-5",
            "method": "animate"
           },
           {
            "args": [
             [
              "2017-4"
             ],
             {
              "frame": {
               "duration": 0,
               "redraw": true
              },
              "fromcurrent": true,
              "mode": "immediate",
              "transition": {
               "duration": 0,
               "easing": "linear"
              }
             }
            ],
            "label": "2017-4",
            "method": "animate"
           },
           {
            "args": [
             [
              "2017-3"
             ],
             {
              "frame": {
               "duration": 0,
               "redraw": true
              },
              "fromcurrent": true,
              "mode": "immediate",
              "transition": {
               "duration": 0,
               "easing": "linear"
              }
             }
            ],
            "label": "2017-3",
            "method": "animate"
           },
           {
            "args": [
             [
              "2017-2"
             ],
             {
              "frame": {
               "duration": 0,
               "redraw": true
              },
              "fromcurrent": true,
              "mode": "immediate",
              "transition": {
               "duration": 0,
               "easing": "linear"
              }
             }
            ],
            "label": "2017-2",
            "method": "animate"
           },
           {
            "args": [
             [
              "2017-1"
             ],
             {
              "frame": {
               "duration": 0,
               "redraw": true
              },
              "fromcurrent": true,
              "mode": "immediate",
              "transition": {
               "duration": 0,
               "easing": "linear"
              }
             }
            ],
            "label": "2017-1",
            "method": "animate"
           },
           {
            "args": [
             [
              "2016-9"
             ],
             {
              "frame": {
               "duration": 0,
               "redraw": true
              },
              "fromcurrent": true,
              "mode": "immediate",
              "transition": {
               "duration": 0,
               "easing": "linear"
              }
             }
            ],
            "label": "2016-9",
            "method": "animate"
           },
           {
            "args": [
             [
              "2016-8"
             ],
             {
              "frame": {
               "duration": 0,
               "redraw": true
              },
              "fromcurrent": true,
              "mode": "immediate",
              "transition": {
               "duration": 0,
               "easing": "linear"
              }
             }
            ],
            "label": "2016-8",
            "method": "animate"
           },
           {
            "args": [
             [
              "2016-7"
             ],
             {
              "frame": {
               "duration": 0,
               "redraw": true
              },
              "fromcurrent": true,
              "mode": "immediate",
              "transition": {
               "duration": 0,
               "easing": "linear"
              }
             }
            ],
            "label": "2016-7",
            "method": "animate"
           },
           {
            "args": [
             [
              "2016-6"
             ],
             {
              "frame": {
               "duration": 0,
               "redraw": true
              },
              "fromcurrent": true,
              "mode": "immediate",
              "transition": {
               "duration": 0,
               "easing": "linear"
              }
             }
            ],
            "label": "2016-6",
            "method": "animate"
           },
           {
            "args": [
             [
              "2016-5"
             ],
             {
              "frame": {
               "duration": 0,
               "redraw": true
              },
              "fromcurrent": true,
              "mode": "immediate",
              "transition": {
               "duration": 0,
               "easing": "linear"
              }
             }
            ],
            "label": "2016-5",
            "method": "animate"
           },
           {
            "args": [
             [
              "2016-4"
             ],
             {
              "frame": {
               "duration": 0,
               "redraw": true
              },
              "fromcurrent": true,
              "mode": "immediate",
              "transition": {
               "duration": 0,
               "easing": "linear"
              }
             }
            ],
            "label": "2016-4",
            "method": "animate"
           },
           {
            "args": [
             [
              "2016-3"
             ],
             {
              "frame": {
               "duration": 0,
               "redraw": true
              },
              "fromcurrent": true,
              "mode": "immediate",
              "transition": {
               "duration": 0,
               "easing": "linear"
              }
             }
            ],
            "label": "2016-3",
            "method": "animate"
           },
           {
            "args": [
             [
              "2016-2"
             ],
             {
              "frame": {
               "duration": 0,
               "redraw": true
              },
              "fromcurrent": true,
              "mode": "immediate",
              "transition": {
               "duration": 0,
               "easing": "linear"
              }
             }
            ],
            "label": "2016-2",
            "method": "animate"
           },
           {
            "args": [
             [
              "2016-12"
             ],
             {
              "frame": {
               "duration": 0,
               "redraw": true
              },
              "fromcurrent": true,
              "mode": "immediate",
              "transition": {
               "duration": 0,
               "easing": "linear"
              }
             }
            ],
            "label": "2016-12",
            "method": "animate"
           },
           {
            "args": [
             [
              "2016-11"
             ],
             {
              "frame": {
               "duration": 0,
               "redraw": true
              },
              "fromcurrent": true,
              "mode": "immediate",
              "transition": {
               "duration": 0,
               "easing": "linear"
              }
             }
            ],
            "label": "2016-11",
            "method": "animate"
           },
           {
            "args": [
             [
              "2016-10"
             ],
             {
              "frame": {
               "duration": 0,
               "redraw": true
              },
              "fromcurrent": true,
              "mode": "immediate",
              "transition": {
               "duration": 0,
               "easing": "linear"
              }
             }
            ],
            "label": "2016-10",
            "method": "animate"
           },
           {
            "args": [
             [
              "2016-1"
             ],
             {
              "frame": {
               "duration": 0,
               "redraw": true
              },
              "fromcurrent": true,
              "mode": "immediate",
              "transition": {
               "duration": 0,
               "easing": "linear"
              }
             }
            ],
            "label": "2016-1",
            "method": "animate"
           },
           {
            "args": [
             [
              "2015-9"
             ],
             {
              "frame": {
               "duration": 0,
               "redraw": true
              },
              "fromcurrent": true,
              "mode": "immediate",
              "transition": {
               "duration": 0,
               "easing": "linear"
              }
             }
            ],
            "label": "2015-9",
            "method": "animate"
           },
           {
            "args": [
             [
              "2015-8"
             ],
             {
              "frame": {
               "duration": 0,
               "redraw": true
              },
              "fromcurrent": true,
              "mode": "immediate",
              "transition": {
               "duration": 0,
               "easing": "linear"
              }
             }
            ],
            "label": "2015-8",
            "method": "animate"
           },
           {
            "args": [
             [
              "2015-7"
             ],
             {
              "frame": {
               "duration": 0,
               "redraw": true
              },
              "fromcurrent": true,
              "mode": "immediate",
              "transition": {
               "duration": 0,
               "easing": "linear"
              }
             }
            ],
            "label": "2015-7",
            "method": "animate"
           },
           {
            "args": [
             [
              "2015-6"
             ],
             {
              "frame": {
               "duration": 0,
               "redraw": true
              },
              "fromcurrent": true,
              "mode": "immediate",
              "transition": {
               "duration": 0,
               "easing": "linear"
              }
             }
            ],
            "label": "2015-6",
            "method": "animate"
           },
           {
            "args": [
             [
              "2015-5"
             ],
             {
              "frame": {
               "duration": 0,
               "redraw": true
              },
              "fromcurrent": true,
              "mode": "immediate",
              "transition": {
               "duration": 0,
               "easing": "linear"
              }
             }
            ],
            "label": "2015-5",
            "method": "animate"
           },
           {
            "args": [
             [
              "2015-4"
             ],
             {
              "frame": {
               "duration": 0,
               "redraw": true
              },
              "fromcurrent": true,
              "mode": "immediate",
              "transition": {
               "duration": 0,
               "easing": "linear"
              }
             }
            ],
            "label": "2015-4",
            "method": "animate"
           },
           {
            "args": [
             [
              "2015-3"
             ],
             {
              "frame": {
               "duration": 0,
               "redraw": true
              },
              "fromcurrent": true,
              "mode": "immediate",
              "transition": {
               "duration": 0,
               "easing": "linear"
              }
             }
            ],
            "label": "2015-3",
            "method": "animate"
           },
           {
            "args": [
             [
              "2015-2"
             ],
             {
              "frame": {
               "duration": 0,
               "redraw": true
              },
              "fromcurrent": true,
              "mode": "immediate",
              "transition": {
               "duration": 0,
               "easing": "linear"
              }
             }
            ],
            "label": "2015-2",
            "method": "animate"
           },
           {
            "args": [
             [
              "2015-12"
             ],
             {
              "frame": {
               "duration": 0,
               "redraw": true
              },
              "fromcurrent": true,
              "mode": "immediate",
              "transition": {
               "duration": 0,
               "easing": "linear"
              }
             }
            ],
            "label": "2015-12",
            "method": "animate"
           },
           {
            "args": [
             [
              "2015-11"
             ],
             {
              "frame": {
               "duration": 0,
               "redraw": true
              },
              "fromcurrent": true,
              "mode": "immediate",
              "transition": {
               "duration": 0,
               "easing": "linear"
              }
             }
            ],
            "label": "2015-11",
            "method": "animate"
           },
           {
            "args": [
             [
              "2015-10"
             ],
             {
              "frame": {
               "duration": 0,
               "redraw": true
              },
              "fromcurrent": true,
              "mode": "immediate",
              "transition": {
               "duration": 0,
               "easing": "linear"
              }
             }
            ],
            "label": "2015-10",
            "method": "animate"
           },
           {
            "args": [
             [
              "2015-1"
             ],
             {
              "frame": {
               "duration": 0,
               "redraw": true
              },
              "fromcurrent": true,
              "mode": "immediate",
              "transition": {
               "duration": 0,
               "easing": "linear"
              }
             }
            ],
            "label": "2015-1",
            "method": "animate"
           },
           {
            "args": [
             [
              "2014-9"
             ],
             {
              "frame": {
               "duration": 0,
               "redraw": true
              },
              "fromcurrent": true,
              "mode": "immediate",
              "transition": {
               "duration": 0,
               "easing": "linear"
              }
             }
            ],
            "label": "2014-9",
            "method": "animate"
           },
           {
            "args": [
             [
              "2014-8"
             ],
             {
              "frame": {
               "duration": 0,
               "redraw": true
              },
              "fromcurrent": true,
              "mode": "immediate",
              "transition": {
               "duration": 0,
               "easing": "linear"
              }
             }
            ],
            "label": "2014-8",
            "method": "animate"
           },
           {
            "args": [
             [
              "2014-7"
             ],
             {
              "frame": {
               "duration": 0,
               "redraw": true
              },
              "fromcurrent": true,
              "mode": "immediate",
              "transition": {
               "duration": 0,
               "easing": "linear"
              }
             }
            ],
            "label": "2014-7",
            "method": "animate"
           },
           {
            "args": [
             [
              "2014-6"
             ],
             {
              "frame": {
               "duration": 0,
               "redraw": true
              },
              "fromcurrent": true,
              "mode": "immediate",
              "transition": {
               "duration": 0,
               "easing": "linear"
              }
             }
            ],
            "label": "2014-6",
            "method": "animate"
           },
           {
            "args": [
             [
              "2014-5"
             ],
             {
              "frame": {
               "duration": 0,
               "redraw": true
              },
              "fromcurrent": true,
              "mode": "immediate",
              "transition": {
               "duration": 0,
               "easing": "linear"
              }
             }
            ],
            "label": "2014-5",
            "method": "animate"
           },
           {
            "args": [
             [
              "2014-4"
             ],
             {
              "frame": {
               "duration": 0,
               "redraw": true
              },
              "fromcurrent": true,
              "mode": "immediate",
              "transition": {
               "duration": 0,
               "easing": "linear"
              }
             }
            ],
            "label": "2014-4",
            "method": "animate"
           },
           {
            "args": [
             [
              "2014-3"
             ],
             {
              "frame": {
               "duration": 0,
               "redraw": true
              },
              "fromcurrent": true,
              "mode": "immediate",
              "transition": {
               "duration": 0,
               "easing": "linear"
              }
             }
            ],
            "label": "2014-3",
            "method": "animate"
           },
           {
            "args": [
             [
              "2014-2"
             ],
             {
              "frame": {
               "duration": 0,
               "redraw": true
              },
              "fromcurrent": true,
              "mode": "immediate",
              "transition": {
               "duration": 0,
               "easing": "linear"
              }
             }
            ],
            "label": "2014-2",
            "method": "animate"
           },
           {
            "args": [
             [
              "2014-12"
             ],
             {
              "frame": {
               "duration": 0,
               "redraw": true
              },
              "fromcurrent": true,
              "mode": "immediate",
              "transition": {
               "duration": 0,
               "easing": "linear"
              }
             }
            ],
            "label": "2014-12",
            "method": "animate"
           },
           {
            "args": [
             [
              "2014-11"
             ],
             {
              "frame": {
               "duration": 0,
               "redraw": true
              },
              "fromcurrent": true,
              "mode": "immediate",
              "transition": {
               "duration": 0,
               "easing": "linear"
              }
             }
            ],
            "label": "2014-11",
            "method": "animate"
           },
           {
            "args": [
             [
              "2014-10"
             ],
             {
              "frame": {
               "duration": 0,
               "redraw": true
              },
              "fromcurrent": true,
              "mode": "immediate",
              "transition": {
               "duration": 0,
               "easing": "linear"
              }
             }
            ],
            "label": "2014-10",
            "method": "animate"
           },
           {
            "args": [
             [
              "2014-1"
             ],
             {
              "frame": {
               "duration": 0,
               "redraw": true
              },
              "fromcurrent": true,
              "mode": "immediate",
              "transition": {
               "duration": 0,
               "easing": "linear"
              }
             }
            ],
            "label": "2014-1",
            "method": "animate"
           },
           {
            "args": [
             [
              "2013-9"
             ],
             {
              "frame": {
               "duration": 0,
               "redraw": true
              },
              "fromcurrent": true,
              "mode": "immediate",
              "transition": {
               "duration": 0,
               "easing": "linear"
              }
             }
            ],
            "label": "2013-9",
            "method": "animate"
           },
           {
            "args": [
             [
              "2013-8"
             ],
             {
              "frame": {
               "duration": 0,
               "redraw": true
              },
              "fromcurrent": true,
              "mode": "immediate",
              "transition": {
               "duration": 0,
               "easing": "linear"
              }
             }
            ],
            "label": "2013-8",
            "method": "animate"
           },
           {
            "args": [
             [
              "2013-7"
             ],
             {
              "frame": {
               "duration": 0,
               "redraw": true
              },
              "fromcurrent": true,
              "mode": "immediate",
              "transition": {
               "duration": 0,
               "easing": "linear"
              }
             }
            ],
            "label": "2013-7",
            "method": "animate"
           },
           {
            "args": [
             [
              "2013-6"
             ],
             {
              "frame": {
               "duration": 0,
               "redraw": true
              },
              "fromcurrent": true,
              "mode": "immediate",
              "transition": {
               "duration": 0,
               "easing": "linear"
              }
             }
            ],
            "label": "2013-6",
            "method": "animate"
           },
           {
            "args": [
             [
              "2013-5"
             ],
             {
              "frame": {
               "duration": 0,
               "redraw": true
              },
              "fromcurrent": true,
              "mode": "immediate",
              "transition": {
               "duration": 0,
               "easing": "linear"
              }
             }
            ],
            "label": "2013-5",
            "method": "animate"
           },
           {
            "args": [
             [
              "2013-4"
             ],
             {
              "frame": {
               "duration": 0,
               "redraw": true
              },
              "fromcurrent": true,
              "mode": "immediate",
              "transition": {
               "duration": 0,
               "easing": "linear"
              }
             }
            ],
            "label": "2013-4",
            "method": "animate"
           },
           {
            "args": [
             [
              "2013-3"
             ],
             {
              "frame": {
               "duration": 0,
               "redraw": true
              },
              "fromcurrent": true,
              "mode": "immediate",
              "transition": {
               "duration": 0,
               "easing": "linear"
              }
             }
            ],
            "label": "2013-3",
            "method": "animate"
           },
           {
            "args": [
             [
              "2013-2"
             ],
             {
              "frame": {
               "duration": 0,
               "redraw": true
              },
              "fromcurrent": true,
              "mode": "immediate",
              "transition": {
               "duration": 0,
               "easing": "linear"
              }
             }
            ],
            "label": "2013-2",
            "method": "animate"
           },
           {
            "args": [
             [
              "2013-12"
             ],
             {
              "frame": {
               "duration": 0,
               "redraw": true
              },
              "fromcurrent": true,
              "mode": "immediate",
              "transition": {
               "duration": 0,
               "easing": "linear"
              }
             }
            ],
            "label": "2013-12",
            "method": "animate"
           },
           {
            "args": [
             [
              "2013-11"
             ],
             {
              "frame": {
               "duration": 0,
               "redraw": true
              },
              "fromcurrent": true,
              "mode": "immediate",
              "transition": {
               "duration": 0,
               "easing": "linear"
              }
             }
            ],
            "label": "2013-11",
            "method": "animate"
           },
           {
            "args": [
             [
              "2013-10"
             ],
             {
              "frame": {
               "duration": 0,
               "redraw": true
              },
              "fromcurrent": true,
              "mode": "immediate",
              "transition": {
               "duration": 0,
               "easing": "linear"
              }
             }
            ],
            "label": "2013-10",
            "method": "animate"
           },
           {
            "args": [
             [
              "2013-1"
             ],
             {
              "frame": {
               "duration": 0,
               "redraw": true
              },
              "fromcurrent": true,
              "mode": "immediate",
              "transition": {
               "duration": 0,
               "easing": "linear"
              }
             }
            ],
            "label": "2013-1",
            "method": "animate"
           },
           {
            "args": [
             [
              "2012-9"
             ],
             {
              "frame": {
               "duration": 0,
               "redraw": true
              },
              "fromcurrent": true,
              "mode": "immediate",
              "transition": {
               "duration": 0,
               "easing": "linear"
              }
             }
            ],
            "label": "2012-9",
            "method": "animate"
           },
           {
            "args": [
             [
              "2012-8"
             ],
             {
              "frame": {
               "duration": 0,
               "redraw": true
              },
              "fromcurrent": true,
              "mode": "immediate",
              "transition": {
               "duration": 0,
               "easing": "linear"
              }
             }
            ],
            "label": "2012-8",
            "method": "animate"
           },
           {
            "args": [
             [
              "2012-7"
             ],
             {
              "frame": {
               "duration": 0,
               "redraw": true
              },
              "fromcurrent": true,
              "mode": "immediate",
              "transition": {
               "duration": 0,
               "easing": "linear"
              }
             }
            ],
            "label": "2012-7",
            "method": "animate"
           },
           {
            "args": [
             [
              "2012-6"
             ],
             {
              "frame": {
               "duration": 0,
               "redraw": true
              },
              "fromcurrent": true,
              "mode": "immediate",
              "transition": {
               "duration": 0,
               "easing": "linear"
              }
             }
            ],
            "label": "2012-6",
            "method": "animate"
           },
           {
            "args": [
             [
              "2012-5"
             ],
             {
              "frame": {
               "duration": 0,
               "redraw": true
              },
              "fromcurrent": true,
              "mode": "immediate",
              "transition": {
               "duration": 0,
               "easing": "linear"
              }
             }
            ],
            "label": "2012-5",
            "method": "animate"
           },
           {
            "args": [
             [
              "2012-4"
             ],
             {
              "frame": {
               "duration": 0,
               "redraw": true
              },
              "fromcurrent": true,
              "mode": "immediate",
              "transition": {
               "duration": 0,
               "easing": "linear"
              }
             }
            ],
            "label": "2012-4",
            "method": "animate"
           },
           {
            "args": [
             [
              "2012-3"
             ],
             {
              "frame": {
               "duration": 0,
               "redraw": true
              },
              "fromcurrent": true,
              "mode": "immediate",
              "transition": {
               "duration": 0,
               "easing": "linear"
              }
             }
            ],
            "label": "2012-3",
            "method": "animate"
           },
           {
            "args": [
             [
              "2012-2"
             ],
             {
              "frame": {
               "duration": 0,
               "redraw": true
              },
              "fromcurrent": true,
              "mode": "immediate",
              "transition": {
               "duration": 0,
               "easing": "linear"
              }
             }
            ],
            "label": "2012-2",
            "method": "animate"
           },
           {
            "args": [
             [
              "2012-12"
             ],
             {
              "frame": {
               "duration": 0,
               "redraw": true
              },
              "fromcurrent": true,
              "mode": "immediate",
              "transition": {
               "duration": 0,
               "easing": "linear"
              }
             }
            ],
            "label": "2012-12",
            "method": "animate"
           },
           {
            "args": [
             [
              "2012-11"
             ],
             {
              "frame": {
               "duration": 0,
               "redraw": true
              },
              "fromcurrent": true,
              "mode": "immediate",
              "transition": {
               "duration": 0,
               "easing": "linear"
              }
             }
            ],
            "label": "2012-11",
            "method": "animate"
           },
           {
            "args": [
             [
              "2012-10"
             ],
             {
              "frame": {
               "duration": 0,
               "redraw": true
              },
              "fromcurrent": true,
              "mode": "immediate",
              "transition": {
               "duration": 0,
               "easing": "linear"
              }
             }
            ],
            "label": "2012-10",
            "method": "animate"
           },
           {
            "args": [
             [
              "2012-1"
             ],
             {
              "frame": {
               "duration": 0,
               "redraw": true
              },
              "fromcurrent": true,
              "mode": "immediate",
              "transition": {
               "duration": 0,
               "easing": "linear"
              }
             }
            ],
            "label": "2012-1",
            "method": "animate"
           },
           {
            "args": [
             [
              "2011-9"
             ],
             {
              "frame": {
               "duration": 0,
               "redraw": true
              },
              "fromcurrent": true,
              "mode": "immediate",
              "transition": {
               "duration": 0,
               "easing": "linear"
              }
             }
            ],
            "label": "2011-9",
            "method": "animate"
           },
           {
            "args": [
             [
              "2011-8"
             ],
             {
              "frame": {
               "duration": 0,
               "redraw": true
              },
              "fromcurrent": true,
              "mode": "immediate",
              "transition": {
               "duration": 0,
               "easing": "linear"
              }
             }
            ],
            "label": "2011-8",
            "method": "animate"
           },
           {
            "args": [
             [
              "2011-7"
             ],
             {
              "frame": {
               "duration": 0,
               "redraw": true
              },
              "fromcurrent": true,
              "mode": "immediate",
              "transition": {
               "duration": 0,
               "easing": "linear"
              }
             }
            ],
            "label": "2011-7",
            "method": "animate"
           },
           {
            "args": [
             [
              "2011-6"
             ],
             {
              "frame": {
               "duration": 0,
               "redraw": true
              },
              "fromcurrent": true,
              "mode": "immediate",
              "transition": {
               "duration": 0,
               "easing": "linear"
              }
             }
            ],
            "label": "2011-6",
            "method": "animate"
           },
           {
            "args": [
             [
              "2011-5"
             ],
             {
              "frame": {
               "duration": 0,
               "redraw": true
              },
              "fromcurrent": true,
              "mode": "immediate",
              "transition": {
               "duration": 0,
               "easing": "linear"
              }
             }
            ],
            "label": "2011-5",
            "method": "animate"
           },
           {
            "args": [
             [
              "2011-4"
             ],
             {
              "frame": {
               "duration": 0,
               "redraw": true
              },
              "fromcurrent": true,
              "mode": "immediate",
              "transition": {
               "duration": 0,
               "easing": "linear"
              }
             }
            ],
            "label": "2011-4",
            "method": "animate"
           },
           {
            "args": [
             [
              "2011-3"
             ],
             {
              "frame": {
               "duration": 0,
               "redraw": true
              },
              "fromcurrent": true,
              "mode": "immediate",
              "transition": {
               "duration": 0,
               "easing": "linear"
              }
             }
            ],
            "label": "2011-3",
            "method": "animate"
           },
           {
            "args": [
             [
              "2011-2"
             ],
             {
              "frame": {
               "duration": 0,
               "redraw": true
              },
              "fromcurrent": true,
              "mode": "immediate",
              "transition": {
               "duration": 0,
               "easing": "linear"
              }
             }
            ],
            "label": "2011-2",
            "method": "animate"
           },
           {
            "args": [
             [
              "2011-12"
             ],
             {
              "frame": {
               "duration": 0,
               "redraw": true
              },
              "fromcurrent": true,
              "mode": "immediate",
              "transition": {
               "duration": 0,
               "easing": "linear"
              }
             }
            ],
            "label": "2011-12",
            "method": "animate"
           },
           {
            "args": [
             [
              "2011-11"
             ],
             {
              "frame": {
               "duration": 0,
               "redraw": true
              },
              "fromcurrent": true,
              "mode": "immediate",
              "transition": {
               "duration": 0,
               "easing": "linear"
              }
             }
            ],
            "label": "2011-11",
            "method": "animate"
           },
           {
            "args": [
             [
              "2011-10"
             ],
             {
              "frame": {
               "duration": 0,
               "redraw": true
              },
              "fromcurrent": true,
              "mode": "immediate",
              "transition": {
               "duration": 0,
               "easing": "linear"
              }
             }
            ],
            "label": "2011-10",
            "method": "animate"
           },
           {
            "args": [
             [
              "2011-1"
             ],
             {
              "frame": {
               "duration": 0,
               "redraw": true
              },
              "fromcurrent": true,
              "mode": "immediate",
              "transition": {
               "duration": 0,
               "easing": "linear"
              }
             }
            ],
            "label": "2011-1",
            "method": "animate"
           },
           {
            "args": [
             [
              "2010-9"
             ],
             {
              "frame": {
               "duration": 0,
               "redraw": true
              },
              "fromcurrent": true,
              "mode": "immediate",
              "transition": {
               "duration": 0,
               "easing": "linear"
              }
             }
            ],
            "label": "2010-9",
            "method": "animate"
           },
           {
            "args": [
             [
              "2010-8"
             ],
             {
              "frame": {
               "duration": 0,
               "redraw": true
              },
              "fromcurrent": true,
              "mode": "immediate",
              "transition": {
               "duration": 0,
               "easing": "linear"
              }
             }
            ],
            "label": "2010-8",
            "method": "animate"
           },
           {
            "args": [
             [
              "2010-7"
             ],
             {
              "frame": {
               "duration": 0,
               "redraw": true
              },
              "fromcurrent": true,
              "mode": "immediate",
              "transition": {
               "duration": 0,
               "easing": "linear"
              }
             }
            ],
            "label": "2010-7",
            "method": "animate"
           },
           {
            "args": [
             [
              "2010-6"
             ],
             {
              "frame": {
               "duration": 0,
               "redraw": true
              },
              "fromcurrent": true,
              "mode": "immediate",
              "transition": {
               "duration": 0,
               "easing": "linear"
              }
             }
            ],
            "label": "2010-6",
            "method": "animate"
           },
           {
            "args": [
             [
              "2010-5"
             ],
             {
              "frame": {
               "duration": 0,
               "redraw": true
              },
              "fromcurrent": true,
              "mode": "immediate",
              "transition": {
               "duration": 0,
               "easing": "linear"
              }
             }
            ],
            "label": "2010-5",
            "method": "animate"
           },
           {
            "args": [
             [
              "2010-4"
             ],
             {
              "frame": {
               "duration": 0,
               "redraw": true
              },
              "fromcurrent": true,
              "mode": "immediate",
              "transition": {
               "duration": 0,
               "easing": "linear"
              }
             }
            ],
            "label": "2010-4",
            "method": "animate"
           },
           {
            "args": [
             [
              "2010-3"
             ],
             {
              "frame": {
               "duration": 0,
               "redraw": true
              },
              "fromcurrent": true,
              "mode": "immediate",
              "transition": {
               "duration": 0,
               "easing": "linear"
              }
             }
            ],
            "label": "2010-3",
            "method": "animate"
           },
           {
            "args": [
             [
              "2010-2"
             ],
             {
              "frame": {
               "duration": 0,
               "redraw": true
              },
              "fromcurrent": true,
              "mode": "immediate",
              "transition": {
               "duration": 0,
               "easing": "linear"
              }
             }
            ],
            "label": "2010-2",
            "method": "animate"
           },
           {
            "args": [
             [
              "2010-12"
             ],
             {
              "frame": {
               "duration": 0,
               "redraw": true
              },
              "fromcurrent": true,
              "mode": "immediate",
              "transition": {
               "duration": 0,
               "easing": "linear"
              }
             }
            ],
            "label": "2010-12",
            "method": "animate"
           },
           {
            "args": [
             [
              "2010-11"
             ],
             {
              "frame": {
               "duration": 0,
               "redraw": true
              },
              "fromcurrent": true,
              "mode": "immediate",
              "transition": {
               "duration": 0,
               "easing": "linear"
              }
             }
            ],
            "label": "2010-11",
            "method": "animate"
           },
           {
            "args": [
             [
              "2010-10"
             ],
             {
              "frame": {
               "duration": 0,
               "redraw": true
              },
              "fromcurrent": true,
              "mode": "immediate",
              "transition": {
               "duration": 0,
               "easing": "linear"
              }
             }
            ],
            "label": "2010-10",
            "method": "animate"
           },
           {
            "args": [
             [
              "2010-1"
             ],
             {
              "frame": {
               "duration": 0,
               "redraw": true
              },
              "fromcurrent": true,
              "mode": "immediate",
              "transition": {
               "duration": 0,
               "easing": "linear"
              }
             }
            ],
            "label": "2010-1",
            "method": "animate"
           }
          ],
          "x": 0.1,
          "xanchor": "left",
          "y": 0,
          "yanchor": "top"
         }
        ],
        "template": {
         "data": {
          "bar": [
           {
            "error_x": {
             "color": "#2a3f5f"
            },
            "error_y": {
             "color": "#2a3f5f"
            },
            "marker": {
             "line": {
              "color": "#E5ECF6",
              "width": 0.5
             }
            },
            "type": "bar"
           }
          ],
          "barpolar": [
           {
            "marker": {
             "line": {
              "color": "#E5ECF6",
              "width": 0.5
             }
            },
            "type": "barpolar"
           }
          ],
          "carpet": [
           {
            "aaxis": {
             "endlinecolor": "#2a3f5f",
             "gridcolor": "white",
             "linecolor": "white",
             "minorgridcolor": "white",
             "startlinecolor": "#2a3f5f"
            },
            "baxis": {
             "endlinecolor": "#2a3f5f",
             "gridcolor": "white",
             "linecolor": "white",
             "minorgridcolor": "white",
             "startlinecolor": "#2a3f5f"
            },
            "type": "carpet"
           }
          ],
          "choropleth": [
           {
            "colorbar": {
             "outlinewidth": 0,
             "ticks": ""
            },
            "type": "choropleth"
           }
          ],
          "contour": [
           {
            "colorbar": {
             "outlinewidth": 0,
             "ticks": ""
            },
            "colorscale": [
             [
              0,
              "#0d0887"
             ],
             [
              0.1111111111111111,
              "#46039f"
             ],
             [
              0.2222222222222222,
              "#7201a8"
             ],
             [
              0.3333333333333333,
              "#9c179e"
             ],
             [
              0.4444444444444444,
              "#bd3786"
             ],
             [
              0.5555555555555556,
              "#d8576b"
             ],
             [
              0.6666666666666666,
              "#ed7953"
             ],
             [
              0.7777777777777778,
              "#fb9f3a"
             ],
             [
              0.8888888888888888,
              "#fdca26"
             ],
             [
              1,
              "#f0f921"
             ]
            ],
            "type": "contour"
           }
          ],
          "contourcarpet": [
           {
            "colorbar": {
             "outlinewidth": 0,
             "ticks": ""
            },
            "type": "contourcarpet"
           }
          ],
          "heatmap": [
           {
            "colorbar": {
             "outlinewidth": 0,
             "ticks": ""
            },
            "colorscale": [
             [
              0,
              "#0d0887"
             ],
             [
              0.1111111111111111,
              "#46039f"
             ],
             [
              0.2222222222222222,
              "#7201a8"
             ],
             [
              0.3333333333333333,
              "#9c179e"
             ],
             [
              0.4444444444444444,
              "#bd3786"
             ],
             [
              0.5555555555555556,
              "#d8576b"
             ],
             [
              0.6666666666666666,
              "#ed7953"
             ],
             [
              0.7777777777777778,
              "#fb9f3a"
             ],
             [
              0.8888888888888888,
              "#fdca26"
             ],
             [
              1,
              "#f0f921"
             ]
            ],
            "type": "heatmap"
           }
          ],
          "heatmapgl": [
           {
            "colorbar": {
             "outlinewidth": 0,
             "ticks": ""
            },
            "colorscale": [
             [
              0,
              "#0d0887"
             ],
             [
              0.1111111111111111,
              "#46039f"
             ],
             [
              0.2222222222222222,
              "#7201a8"
             ],
             [
              0.3333333333333333,
              "#9c179e"
             ],
             [
              0.4444444444444444,
              "#bd3786"
             ],
             [
              0.5555555555555556,
              "#d8576b"
             ],
             [
              0.6666666666666666,
              "#ed7953"
             ],
             [
              0.7777777777777778,
              "#fb9f3a"
             ],
             [
              0.8888888888888888,
              "#fdca26"
             ],
             [
              1,
              "#f0f921"
             ]
            ],
            "type": "heatmapgl"
           }
          ],
          "histogram": [
           {
            "marker": {
             "colorbar": {
              "outlinewidth": 0,
              "ticks": ""
             }
            },
            "type": "histogram"
           }
          ],
          "histogram2d": [
           {
            "colorbar": {
             "outlinewidth": 0,
             "ticks": ""
            },
            "colorscale": [
             [
              0,
              "#0d0887"
             ],
             [
              0.1111111111111111,
              "#46039f"
             ],
             [
              0.2222222222222222,
              "#7201a8"
             ],
             [
              0.3333333333333333,
              "#9c179e"
             ],
             [
              0.4444444444444444,
              "#bd3786"
             ],
             [
              0.5555555555555556,
              "#d8576b"
             ],
             [
              0.6666666666666666,
              "#ed7953"
             ],
             [
              0.7777777777777778,
              "#fb9f3a"
             ],
             [
              0.8888888888888888,
              "#fdca26"
             ],
             [
              1,
              "#f0f921"
             ]
            ],
            "type": "histogram2d"
           }
          ],
          "histogram2dcontour": [
           {
            "colorbar": {
             "outlinewidth": 0,
             "ticks": ""
            },
            "colorscale": [
             [
              0,
              "#0d0887"
             ],
             [
              0.1111111111111111,
              "#46039f"
             ],
             [
              0.2222222222222222,
              "#7201a8"
             ],
             [
              0.3333333333333333,
              "#9c179e"
             ],
             [
              0.4444444444444444,
              "#bd3786"
             ],
             [
              0.5555555555555556,
              "#d8576b"
             ],
             [
              0.6666666666666666,
              "#ed7953"
             ],
             [
              0.7777777777777778,
              "#fb9f3a"
             ],
             [
              0.8888888888888888,
              "#fdca26"
             ],
             [
              1,
              "#f0f921"
             ]
            ],
            "type": "histogram2dcontour"
           }
          ],
          "mesh3d": [
           {
            "colorbar": {
             "outlinewidth": 0,
             "ticks": ""
            },
            "type": "mesh3d"
           }
          ],
          "parcoords": [
           {
            "line": {
             "colorbar": {
              "outlinewidth": 0,
              "ticks": ""
             }
            },
            "type": "parcoords"
           }
          ],
          "pie": [
           {
            "automargin": true,
            "type": "pie"
           }
          ],
          "scatter": [
           {
            "marker": {
             "colorbar": {
              "outlinewidth": 0,
              "ticks": ""
             }
            },
            "type": "scatter"
           }
          ],
          "scatter3d": [
           {
            "line": {
             "colorbar": {
              "outlinewidth": 0,
              "ticks": ""
             }
            },
            "marker": {
             "colorbar": {
              "outlinewidth": 0,
              "ticks": ""
             }
            },
            "type": "scatter3d"
           }
          ],
          "scattercarpet": [
           {
            "marker": {
             "colorbar": {
              "outlinewidth": 0,
              "ticks": ""
             }
            },
            "type": "scattercarpet"
           }
          ],
          "scattergeo": [
           {
            "marker": {
             "colorbar": {
              "outlinewidth": 0,
              "ticks": ""
             }
            },
            "type": "scattergeo"
           }
          ],
          "scattergl": [
           {
            "marker": {
             "colorbar": {
              "outlinewidth": 0,
              "ticks": ""
             }
            },
            "type": "scattergl"
           }
          ],
          "scattermapbox": [
           {
            "marker": {
             "colorbar": {
              "outlinewidth": 0,
              "ticks": ""
             }
            },
            "type": "scattermapbox"
           }
          ],
          "scatterpolar": [
           {
            "marker": {
             "colorbar": {
              "outlinewidth": 0,
              "ticks": ""
             }
            },
            "type": "scatterpolar"
           }
          ],
          "scatterpolargl": [
           {
            "marker": {
             "colorbar": {
              "outlinewidth": 0,
              "ticks": ""
             }
            },
            "type": "scatterpolargl"
           }
          ],
          "scatterternary": [
           {
            "marker": {
             "colorbar": {
              "outlinewidth": 0,
              "ticks": ""
             }
            },
            "type": "scatterternary"
           }
          ],
          "surface": [
           {
            "colorbar": {
             "outlinewidth": 0,
             "ticks": ""
            },
            "colorscale": [
             [
              0,
              "#0d0887"
             ],
             [
              0.1111111111111111,
              "#46039f"
             ],
             [
              0.2222222222222222,
              "#7201a8"
             ],
             [
              0.3333333333333333,
              "#9c179e"
             ],
             [
              0.4444444444444444,
              "#bd3786"
             ],
             [
              0.5555555555555556,
              "#d8576b"
             ],
             [
              0.6666666666666666,
              "#ed7953"
             ],
             [
              0.7777777777777778,
              "#fb9f3a"
             ],
             [
              0.8888888888888888,
              "#fdca26"
             ],
             [
              1,
              "#f0f921"
             ]
            ],
            "type": "surface"
           }
          ],
          "table": [
           {
            "cells": {
             "fill": {
              "color": "#EBF0F8"
             },
             "line": {
              "color": "white"
             }
            },
            "header": {
             "fill": {
              "color": "#C8D4E3"
             },
             "line": {
              "color": "white"
             }
            },
            "type": "table"
           }
          ]
         },
         "layout": {
          "annotationdefaults": {
           "arrowcolor": "#2a3f5f",
           "arrowhead": 0,
           "arrowwidth": 1
          },
          "coloraxis": {
           "colorbar": {
            "outlinewidth": 0,
            "ticks": ""
           }
          },
          "colorscale": {
           "diverging": [
            [
             0,
             "#8e0152"
            ],
            [
             0.1,
             "#c51b7d"
            ],
            [
             0.2,
             "#de77ae"
            ],
            [
             0.3,
             "#f1b6da"
            ],
            [
             0.4,
             "#fde0ef"
            ],
            [
             0.5,
             "#f7f7f7"
            ],
            [
             0.6,
             "#e6f5d0"
            ],
            [
             0.7,
             "#b8e186"
            ],
            [
             0.8,
             "#7fbc41"
            ],
            [
             0.9,
             "#4d9221"
            ],
            [
             1,
             "#276419"
            ]
           ],
           "sequential": [
            [
             0,
             "#0d0887"
            ],
            [
             0.1111111111111111,
             "#46039f"
            ],
            [
             0.2222222222222222,
             "#7201a8"
            ],
            [
             0.3333333333333333,
             "#9c179e"
            ],
            [
             0.4444444444444444,
             "#bd3786"
            ],
            [
             0.5555555555555556,
             "#d8576b"
            ],
            [
             0.6666666666666666,
             "#ed7953"
            ],
            [
             0.7777777777777778,
             "#fb9f3a"
            ],
            [
             0.8888888888888888,
             "#fdca26"
            ],
            [
             1,
             "#f0f921"
            ]
           ],
           "sequentialminus": [
            [
             0,
             "#0d0887"
            ],
            [
             0.1111111111111111,
             "#46039f"
            ],
            [
             0.2222222222222222,
             "#7201a8"
            ],
            [
             0.3333333333333333,
             "#9c179e"
            ],
            [
             0.4444444444444444,
             "#bd3786"
            ],
            [
             0.5555555555555556,
             "#d8576b"
            ],
            [
             0.6666666666666666,
             "#ed7953"
            ],
            [
             0.7777777777777778,
             "#fb9f3a"
            ],
            [
             0.8888888888888888,
             "#fdca26"
            ],
            [
             1,
             "#f0f921"
            ]
           ]
          },
          "colorway": [
           "#636efa",
           "#EF553B",
           "#00cc96",
           "#ab63fa",
           "#FFA15A",
           "#19d3f3",
           "#FF6692",
           "#B6E880",
           "#FF97FF",
           "#FECB52"
          ],
          "font": {
           "color": "#2a3f5f"
          },
          "geo": {
           "bgcolor": "white",
           "lakecolor": "white",
           "landcolor": "#E5ECF6",
           "showlakes": true,
           "showland": true,
           "subunitcolor": "white"
          },
          "hoverlabel": {
           "align": "left"
          },
          "hovermode": "closest",
          "mapbox": {
           "style": "light"
          },
          "paper_bgcolor": "white",
          "plot_bgcolor": "#E5ECF6",
          "polar": {
           "angularaxis": {
            "gridcolor": "white",
            "linecolor": "white",
            "ticks": ""
           },
           "bgcolor": "#E5ECF6",
           "radialaxis": {
            "gridcolor": "white",
            "linecolor": "white",
            "ticks": ""
           }
          },
          "scene": {
           "xaxis": {
            "backgroundcolor": "#E5ECF6",
            "gridcolor": "white",
            "gridwidth": 2,
            "linecolor": "white",
            "showbackground": true,
            "ticks": "",
            "zerolinecolor": "white"
           },
           "yaxis": {
            "backgroundcolor": "#E5ECF6",
            "gridcolor": "white",
            "gridwidth": 2,
            "linecolor": "white",
            "showbackground": true,
            "ticks": "",
            "zerolinecolor": "white"
           },
           "zaxis": {
            "backgroundcolor": "#E5ECF6",
            "gridcolor": "white",
            "gridwidth": 2,
            "linecolor": "white",
            "showbackground": true,
            "ticks": "",
            "zerolinecolor": "white"
           }
          },
          "shapedefaults": {
           "line": {
            "color": "#2a3f5f"
           }
          },
          "ternary": {
           "aaxis": {
            "gridcolor": "white",
            "linecolor": "white",
            "ticks": ""
           },
           "baxis": {
            "gridcolor": "white",
            "linecolor": "white",
            "ticks": ""
           },
           "bgcolor": "#E5ECF6",
           "caxis": {
            "gridcolor": "white",
            "linecolor": "white",
            "ticks": ""
           }
          },
          "title": {
           "x": 0.05
          },
          "xaxis": {
           "automargin": true,
           "gridcolor": "white",
           "linecolor": "white",
           "ticks": "",
           "title": {
            "standoff": 15
           },
           "zerolinecolor": "white",
           "zerolinewidth": 2
          },
          "yaxis": {
           "automargin": true,
           "gridcolor": "white",
           "linecolor": "white",
           "ticks": "",
           "title": {
            "standoff": 15
           },
           "zerolinecolor": "white",
           "zerolinewidth": 2
          }
         }
        },
        "title": {
         "text": "Number of Cases outside China"
        },
        "uniformtext": {
         "minsize": 8,
         "mode": "hide"
        },
        "updatemenus": [
         {
          "buttons": [
           {
            "args": [
             null,
             {
              "frame": {
               "duration": 500,
               "redraw": true
              },
              "fromcurrent": true,
              "mode": "immediate",
              "transition": {
               "duration": 500,
               "easing": "linear"
              }
             }
            ],
            "label": "&#9654;",
            "method": "animate"
           },
           {
            "args": [
             [
              null
             ],
             {
              "frame": {
               "duration": 0,
               "redraw": true
              },
              "fromcurrent": true,
              "mode": "immediate",
              "transition": {
               "duration": 0,
               "easing": "linear"
              }
             }
            ],
            "label": "&#9724;",
            "method": "animate"
           }
          ],
          "direction": "left",
          "pad": {
           "r": 10,
           "t": 70
          },
          "showactive": false,
          "type": "buttons",
          "x": 0.1,
          "xanchor": "right",
          "y": 0,
          "yanchor": "top"
         }
        ],
        "xaxis": {
         "anchor": "y",
         "domain": [
          0,
          1
         ],
         "title": {
          "text": "Item Type"
         }
        },
        "yaxis": {
         "anchor": "x",
         "domain": [
          0,
          1
         ],
         "title": {
          "text": "Total Profit"
         }
        }
       }
      },
      "text/html": [
       "<div>\n",
       "        \n",
       "        \n",
       "            <div id=\"92274c5e-a7b1-49d1-831e-41b2c3f64e07\" class=\"plotly-graph-div\" style=\"height:800px; width:100%;\"></div>\n",
       "            <script type=\"text/javascript\">\n",
       "                require([\"plotly\"], function(Plotly) {\n",
       "                    window.PLOTLYENV=window.PLOTLYENV || {};\n",
       "                    \n",
       "                if (document.getElementById(\"92274c5e-a7b1-49d1-831e-41b2c3f64e07\")) {\n",
       "                    Plotly.newPlot(\n",
       "                        '92274c5e-a7b1-49d1-831e-41b2c3f64e07',\n",
       "                        [{\"alignmentgroup\": \"True\", \"hoverlabel\": {\"namelength\": 0}, \"hovertemplate\": \"YearMonth=2017-7<br>Item Type=%{x}<br>Total Profit=%{y}\", \"legendgroup\": \"\", \"marker\": {\"color\": \"#636efa\"}, \"name\": \"\", \"offsetgroup\": \"\", \"orientation\": \"v\", \"showlegend\": false, \"textposition\": \"auto\", \"type\": \"bar\", \"x\": [\"Cosmetics\", \"Household\", \"Office Supplies\", \"Meat\", \"Personal Care\", \"Fruits\"], \"xaxis\": \"x\", \"y\": [1438774.25, 898753.79, 884002.5, 534305.2, 424892.30000000005, 17930.4], \"yaxis\": \"y\"}],\n",
       "                        {\"barmode\": \"relative\", \"height\": 800, \"legend\": {\"tracegroupgap\": 0}, \"sliders\": [{\"active\": 0, \"currentvalue\": {\"prefix\": \"YearMonth=\"}, \"len\": 0.9, \"pad\": {\"b\": 10, \"t\": 60}, \"steps\": [{\"args\": [[\"2017-7\"], {\"frame\": {\"duration\": 0, \"redraw\": true}, \"fromcurrent\": true, \"mode\": \"immediate\", \"transition\": {\"duration\": 0, \"easing\": \"linear\"}}], \"label\": \"2017-7\", \"method\": \"animate\"}, {\"args\": [[\"2017-6\"], {\"frame\": {\"duration\": 0, \"redraw\": true}, \"fromcurrent\": true, \"mode\": \"immediate\", \"transition\": {\"duration\": 0, \"easing\": \"linear\"}}], \"label\": \"2017-6\", \"method\": \"animate\"}, {\"args\": [[\"2017-5\"], {\"frame\": {\"duration\": 0, \"redraw\": true}, \"fromcurrent\": true, \"mode\": \"immediate\", \"transition\": {\"duration\": 0, \"easing\": \"linear\"}}], \"label\": \"2017-5\", \"method\": \"animate\"}, {\"args\": [[\"2017-4\"], {\"frame\": {\"duration\": 0, \"redraw\": true}, \"fromcurrent\": true, \"mode\": \"immediate\", \"transition\": {\"duration\": 0, \"easing\": \"linear\"}}], \"label\": \"2017-4\", \"method\": \"animate\"}, {\"args\": [[\"2017-3\"], {\"frame\": {\"duration\": 0, \"redraw\": true}, \"fromcurrent\": true, \"mode\": \"immediate\", \"transition\": {\"duration\": 0, \"easing\": \"linear\"}}], \"label\": \"2017-3\", \"method\": \"animate\"}, {\"args\": [[\"2017-2\"], {\"frame\": {\"duration\": 0, \"redraw\": true}, \"fromcurrent\": true, \"mode\": \"immediate\", \"transition\": {\"duration\": 0, \"easing\": \"linear\"}}], \"label\": \"2017-2\", \"method\": \"animate\"}, {\"args\": [[\"2017-1\"], {\"frame\": {\"duration\": 0, \"redraw\": true}, \"fromcurrent\": true, \"mode\": \"immediate\", \"transition\": {\"duration\": 0, \"easing\": \"linear\"}}], \"label\": \"2017-1\", \"method\": \"animate\"}, {\"args\": [[\"2016-9\"], {\"frame\": {\"duration\": 0, \"redraw\": true}, \"fromcurrent\": true, \"mode\": \"immediate\", \"transition\": {\"duration\": 0, \"easing\": \"linear\"}}], \"label\": \"2016-9\", \"method\": \"animate\"}, {\"args\": [[\"2016-8\"], {\"frame\": {\"duration\": 0, \"redraw\": true}, \"fromcurrent\": true, \"mode\": \"immediate\", \"transition\": {\"duration\": 0, \"easing\": \"linear\"}}], \"label\": \"2016-8\", \"method\": \"animate\"}, {\"args\": [[\"2016-7\"], {\"frame\": {\"duration\": 0, \"redraw\": true}, \"fromcurrent\": true, \"mode\": \"immediate\", \"transition\": {\"duration\": 0, \"easing\": \"linear\"}}], \"label\": \"2016-7\", \"method\": \"animate\"}, {\"args\": [[\"2016-6\"], {\"frame\": {\"duration\": 0, \"redraw\": true}, \"fromcurrent\": true, \"mode\": \"immediate\", \"transition\": {\"duration\": 0, \"easing\": \"linear\"}}], \"label\": \"2016-6\", \"method\": \"animate\"}, {\"args\": [[\"2016-5\"], {\"frame\": {\"duration\": 0, \"redraw\": true}, \"fromcurrent\": true, \"mode\": \"immediate\", \"transition\": {\"duration\": 0, \"easing\": \"linear\"}}], \"label\": \"2016-5\", \"method\": \"animate\"}, {\"args\": [[\"2016-4\"], {\"frame\": {\"duration\": 0, \"redraw\": true}, \"fromcurrent\": true, \"mode\": \"immediate\", \"transition\": {\"duration\": 0, \"easing\": \"linear\"}}], \"label\": \"2016-4\", \"method\": \"animate\"}, {\"args\": [[\"2016-3\"], {\"frame\": {\"duration\": 0, \"redraw\": true}, \"fromcurrent\": true, \"mode\": \"immediate\", \"transition\": {\"duration\": 0, \"easing\": \"linear\"}}], \"label\": \"2016-3\", \"method\": \"animate\"}, {\"args\": [[\"2016-2\"], {\"frame\": {\"duration\": 0, \"redraw\": true}, \"fromcurrent\": true, \"mode\": \"immediate\", \"transition\": {\"duration\": 0, \"easing\": \"linear\"}}], \"label\": \"2016-2\", \"method\": \"animate\"}, {\"args\": [[\"2016-12\"], {\"frame\": {\"duration\": 0, \"redraw\": true}, \"fromcurrent\": true, \"mode\": \"immediate\", \"transition\": {\"duration\": 0, \"easing\": \"linear\"}}], \"label\": \"2016-12\", \"method\": \"animate\"}, {\"args\": [[\"2016-11\"], {\"frame\": {\"duration\": 0, \"redraw\": true}, \"fromcurrent\": true, \"mode\": \"immediate\", \"transition\": {\"duration\": 0, \"easing\": \"linear\"}}], \"label\": \"2016-11\", \"method\": \"animate\"}, {\"args\": [[\"2016-10\"], {\"frame\": {\"duration\": 0, \"redraw\": true}, \"fromcurrent\": true, \"mode\": \"immediate\", \"transition\": {\"duration\": 0, \"easing\": \"linear\"}}], \"label\": \"2016-10\", \"method\": \"animate\"}, {\"args\": [[\"2016-1\"], {\"frame\": {\"duration\": 0, \"redraw\": true}, \"fromcurrent\": true, \"mode\": \"immediate\", \"transition\": {\"duration\": 0, \"easing\": \"linear\"}}], \"label\": \"2016-1\", \"method\": \"animate\"}, {\"args\": [[\"2015-9\"], {\"frame\": {\"duration\": 0, \"redraw\": true}, \"fromcurrent\": true, \"mode\": \"immediate\", \"transition\": {\"duration\": 0, \"easing\": \"linear\"}}], \"label\": \"2015-9\", \"method\": \"animate\"}, {\"args\": [[\"2015-8\"], {\"frame\": {\"duration\": 0, \"redraw\": true}, \"fromcurrent\": true, \"mode\": \"immediate\", \"transition\": {\"duration\": 0, \"easing\": \"linear\"}}], \"label\": \"2015-8\", \"method\": \"animate\"}, {\"args\": [[\"2015-7\"], {\"frame\": {\"duration\": 0, \"redraw\": true}, \"fromcurrent\": true, \"mode\": \"immediate\", \"transition\": {\"duration\": 0, \"easing\": \"linear\"}}], \"label\": \"2015-7\", \"method\": \"animate\"}, {\"args\": [[\"2015-6\"], {\"frame\": {\"duration\": 0, \"redraw\": true}, \"fromcurrent\": true, \"mode\": \"immediate\", \"transition\": {\"duration\": 0, \"easing\": \"linear\"}}], \"label\": \"2015-6\", \"method\": \"animate\"}, {\"args\": [[\"2015-5\"], {\"frame\": {\"duration\": 0, \"redraw\": true}, \"fromcurrent\": true, \"mode\": \"immediate\", \"transition\": {\"duration\": 0, \"easing\": \"linear\"}}], \"label\": \"2015-5\", \"method\": \"animate\"}, {\"args\": [[\"2015-4\"], {\"frame\": {\"duration\": 0, \"redraw\": true}, \"fromcurrent\": true, \"mode\": \"immediate\", \"transition\": {\"duration\": 0, \"easing\": \"linear\"}}], \"label\": \"2015-4\", \"method\": \"animate\"}, {\"args\": [[\"2015-3\"], {\"frame\": {\"duration\": 0, \"redraw\": true}, \"fromcurrent\": true, \"mode\": \"immediate\", \"transition\": {\"duration\": 0, \"easing\": \"linear\"}}], \"label\": \"2015-3\", \"method\": \"animate\"}, {\"args\": [[\"2015-2\"], {\"frame\": {\"duration\": 0, \"redraw\": true}, \"fromcurrent\": true, \"mode\": \"immediate\", \"transition\": {\"duration\": 0, \"easing\": \"linear\"}}], \"label\": \"2015-2\", \"method\": \"animate\"}, {\"args\": [[\"2015-12\"], {\"frame\": {\"duration\": 0, \"redraw\": true}, \"fromcurrent\": true, \"mode\": \"immediate\", \"transition\": {\"duration\": 0, \"easing\": \"linear\"}}], \"label\": \"2015-12\", \"method\": \"animate\"}, {\"args\": [[\"2015-11\"], {\"frame\": {\"duration\": 0, \"redraw\": true}, \"fromcurrent\": true, \"mode\": \"immediate\", \"transition\": {\"duration\": 0, \"easing\": \"linear\"}}], \"label\": \"2015-11\", \"method\": \"animate\"}, {\"args\": [[\"2015-10\"], {\"frame\": {\"duration\": 0, \"redraw\": true}, \"fromcurrent\": true, \"mode\": \"immediate\", \"transition\": {\"duration\": 0, \"easing\": \"linear\"}}], \"label\": \"2015-10\", \"method\": \"animate\"}, {\"args\": [[\"2015-1\"], {\"frame\": {\"duration\": 0, \"redraw\": true}, \"fromcurrent\": true, \"mode\": \"immediate\", \"transition\": {\"duration\": 0, \"easing\": \"linear\"}}], \"label\": \"2015-1\", \"method\": \"animate\"}, {\"args\": [[\"2014-9\"], {\"frame\": {\"duration\": 0, \"redraw\": true}, \"fromcurrent\": true, \"mode\": \"immediate\", \"transition\": {\"duration\": 0, \"easing\": \"linear\"}}], \"label\": \"2014-9\", \"method\": \"animate\"}, {\"args\": [[\"2014-8\"], {\"frame\": {\"duration\": 0, \"redraw\": true}, \"fromcurrent\": true, \"mode\": \"immediate\", \"transition\": {\"duration\": 0, \"easing\": \"linear\"}}], \"label\": \"2014-8\", \"method\": \"animate\"}, {\"args\": [[\"2014-7\"], {\"frame\": {\"duration\": 0, \"redraw\": true}, \"fromcurrent\": true, \"mode\": \"immediate\", \"transition\": {\"duration\": 0, \"easing\": \"linear\"}}], \"label\": \"2014-7\", \"method\": \"animate\"}, {\"args\": [[\"2014-6\"], {\"frame\": {\"duration\": 0, \"redraw\": true}, \"fromcurrent\": true, \"mode\": \"immediate\", \"transition\": {\"duration\": 0, \"easing\": \"linear\"}}], \"label\": \"2014-6\", \"method\": \"animate\"}, {\"args\": [[\"2014-5\"], {\"frame\": {\"duration\": 0, \"redraw\": true}, \"fromcurrent\": true, \"mode\": \"immediate\", \"transition\": {\"duration\": 0, \"easing\": \"linear\"}}], \"label\": \"2014-5\", \"method\": \"animate\"}, {\"args\": [[\"2014-4\"], {\"frame\": {\"duration\": 0, \"redraw\": true}, \"fromcurrent\": true, \"mode\": \"immediate\", \"transition\": {\"duration\": 0, \"easing\": \"linear\"}}], \"label\": \"2014-4\", \"method\": \"animate\"}, {\"args\": [[\"2014-3\"], {\"frame\": {\"duration\": 0, \"redraw\": true}, \"fromcurrent\": true, \"mode\": \"immediate\", \"transition\": {\"duration\": 0, \"easing\": \"linear\"}}], \"label\": \"2014-3\", \"method\": \"animate\"}, {\"args\": [[\"2014-2\"], {\"frame\": {\"duration\": 0, \"redraw\": true}, \"fromcurrent\": true, \"mode\": \"immediate\", \"transition\": {\"duration\": 0, \"easing\": \"linear\"}}], \"label\": \"2014-2\", \"method\": \"animate\"}, {\"args\": [[\"2014-12\"], {\"frame\": {\"duration\": 0, \"redraw\": true}, \"fromcurrent\": true, \"mode\": \"immediate\", \"transition\": {\"duration\": 0, \"easing\": \"linear\"}}], \"label\": \"2014-12\", \"method\": \"animate\"}, {\"args\": [[\"2014-11\"], {\"frame\": {\"duration\": 0, \"redraw\": true}, \"fromcurrent\": true, \"mode\": \"immediate\", \"transition\": {\"duration\": 0, \"easing\": \"linear\"}}], \"label\": \"2014-11\", \"method\": \"animate\"}, {\"args\": [[\"2014-10\"], {\"frame\": {\"duration\": 0, \"redraw\": true}, \"fromcurrent\": true, \"mode\": \"immediate\", \"transition\": {\"duration\": 0, \"easing\": \"linear\"}}], \"label\": \"2014-10\", \"method\": \"animate\"}, {\"args\": [[\"2014-1\"], {\"frame\": {\"duration\": 0, \"redraw\": true}, \"fromcurrent\": true, \"mode\": \"immediate\", \"transition\": {\"duration\": 0, \"easing\": \"linear\"}}], \"label\": \"2014-1\", \"method\": \"animate\"}, {\"args\": [[\"2013-9\"], {\"frame\": {\"duration\": 0, \"redraw\": true}, \"fromcurrent\": true, \"mode\": \"immediate\", \"transition\": {\"duration\": 0, \"easing\": \"linear\"}}], \"label\": \"2013-9\", \"method\": \"animate\"}, {\"args\": [[\"2013-8\"], {\"frame\": {\"duration\": 0, \"redraw\": true}, \"fromcurrent\": true, \"mode\": \"immediate\", \"transition\": {\"duration\": 0, \"easing\": \"linear\"}}], \"label\": \"2013-8\", \"method\": \"animate\"}, {\"args\": [[\"2013-7\"], {\"frame\": {\"duration\": 0, \"redraw\": true}, \"fromcurrent\": true, \"mode\": \"immediate\", \"transition\": {\"duration\": 0, \"easing\": \"linear\"}}], \"label\": \"2013-7\", \"method\": \"animate\"}, {\"args\": [[\"2013-6\"], {\"frame\": {\"duration\": 0, \"redraw\": true}, \"fromcurrent\": true, \"mode\": \"immediate\", \"transition\": {\"duration\": 0, \"easing\": \"linear\"}}], \"label\": \"2013-6\", \"method\": \"animate\"}, {\"args\": [[\"2013-5\"], {\"frame\": {\"duration\": 0, \"redraw\": true}, \"fromcurrent\": true, \"mode\": \"immediate\", \"transition\": {\"duration\": 0, \"easing\": \"linear\"}}], \"label\": \"2013-5\", \"method\": \"animate\"}, {\"args\": [[\"2013-4\"], {\"frame\": {\"duration\": 0, \"redraw\": true}, \"fromcurrent\": true, \"mode\": \"immediate\", \"transition\": {\"duration\": 0, \"easing\": \"linear\"}}], \"label\": \"2013-4\", \"method\": \"animate\"}, {\"args\": [[\"2013-3\"], {\"frame\": {\"duration\": 0, \"redraw\": true}, \"fromcurrent\": true, \"mode\": \"immediate\", \"transition\": {\"duration\": 0, \"easing\": \"linear\"}}], \"label\": \"2013-3\", \"method\": \"animate\"}, {\"args\": [[\"2013-2\"], {\"frame\": {\"duration\": 0, \"redraw\": true}, \"fromcurrent\": true, \"mode\": \"immediate\", \"transition\": {\"duration\": 0, \"easing\": \"linear\"}}], \"label\": \"2013-2\", \"method\": \"animate\"}, {\"args\": [[\"2013-12\"], {\"frame\": {\"duration\": 0, \"redraw\": true}, \"fromcurrent\": true, \"mode\": \"immediate\", \"transition\": {\"duration\": 0, \"easing\": \"linear\"}}], \"label\": \"2013-12\", \"method\": \"animate\"}, {\"args\": [[\"2013-11\"], {\"frame\": {\"duration\": 0, \"redraw\": true}, \"fromcurrent\": true, \"mode\": \"immediate\", \"transition\": {\"duration\": 0, \"easing\": \"linear\"}}], \"label\": \"2013-11\", \"method\": \"animate\"}, {\"args\": [[\"2013-10\"], {\"frame\": {\"duration\": 0, \"redraw\": true}, \"fromcurrent\": true, \"mode\": \"immediate\", \"transition\": {\"duration\": 0, \"easing\": \"linear\"}}], \"label\": \"2013-10\", \"method\": \"animate\"}, {\"args\": [[\"2013-1\"], {\"frame\": {\"duration\": 0, \"redraw\": true}, \"fromcurrent\": true, \"mode\": \"immediate\", \"transition\": {\"duration\": 0, \"easing\": \"linear\"}}], \"label\": \"2013-1\", \"method\": \"animate\"}, {\"args\": [[\"2012-9\"], {\"frame\": {\"duration\": 0, \"redraw\": true}, \"fromcurrent\": true, \"mode\": \"immediate\", \"transition\": {\"duration\": 0, \"easing\": \"linear\"}}], \"label\": \"2012-9\", \"method\": \"animate\"}, {\"args\": [[\"2012-8\"], {\"frame\": {\"duration\": 0, \"redraw\": true}, \"fromcurrent\": true, \"mode\": \"immediate\", \"transition\": {\"duration\": 0, \"easing\": \"linear\"}}], \"label\": \"2012-8\", \"method\": \"animate\"}, {\"args\": [[\"2012-7\"], {\"frame\": {\"duration\": 0, \"redraw\": true}, \"fromcurrent\": true, \"mode\": \"immediate\", \"transition\": {\"duration\": 0, \"easing\": \"linear\"}}], \"label\": \"2012-7\", \"method\": \"animate\"}, {\"args\": [[\"2012-6\"], {\"frame\": {\"duration\": 0, \"redraw\": true}, \"fromcurrent\": true, \"mode\": \"immediate\", \"transition\": {\"duration\": 0, \"easing\": \"linear\"}}], \"label\": \"2012-6\", \"method\": \"animate\"}, {\"args\": [[\"2012-5\"], {\"frame\": {\"duration\": 0, \"redraw\": true}, \"fromcurrent\": true, \"mode\": \"immediate\", \"transition\": {\"duration\": 0, \"easing\": \"linear\"}}], \"label\": \"2012-5\", \"method\": \"animate\"}, {\"args\": [[\"2012-4\"], {\"frame\": {\"duration\": 0, \"redraw\": true}, \"fromcurrent\": true, \"mode\": \"immediate\", \"transition\": {\"duration\": 0, \"easing\": \"linear\"}}], \"label\": \"2012-4\", \"method\": \"animate\"}, {\"args\": [[\"2012-3\"], {\"frame\": {\"duration\": 0, \"redraw\": true}, \"fromcurrent\": true, \"mode\": \"immediate\", \"transition\": {\"duration\": 0, \"easing\": \"linear\"}}], \"label\": \"2012-3\", \"method\": \"animate\"}, {\"args\": [[\"2012-2\"], {\"frame\": {\"duration\": 0, \"redraw\": true}, \"fromcurrent\": true, \"mode\": \"immediate\", \"transition\": {\"duration\": 0, \"easing\": \"linear\"}}], \"label\": \"2012-2\", \"method\": \"animate\"}, {\"args\": [[\"2012-12\"], {\"frame\": {\"duration\": 0, \"redraw\": true}, \"fromcurrent\": true, \"mode\": \"immediate\", \"transition\": {\"duration\": 0, \"easing\": \"linear\"}}], \"label\": \"2012-12\", \"method\": \"animate\"}, {\"args\": [[\"2012-11\"], {\"frame\": {\"duration\": 0, \"redraw\": true}, \"fromcurrent\": true, \"mode\": \"immediate\", \"transition\": {\"duration\": 0, \"easing\": \"linear\"}}], \"label\": \"2012-11\", \"method\": \"animate\"}, {\"args\": [[\"2012-10\"], {\"frame\": {\"duration\": 0, \"redraw\": true}, \"fromcurrent\": true, \"mode\": \"immediate\", \"transition\": {\"duration\": 0, \"easing\": \"linear\"}}], \"label\": \"2012-10\", \"method\": \"animate\"}, {\"args\": [[\"2012-1\"], {\"frame\": {\"duration\": 0, \"redraw\": true}, \"fromcurrent\": true, \"mode\": \"immediate\", \"transition\": {\"duration\": 0, \"easing\": \"linear\"}}], \"label\": \"2012-1\", \"method\": \"animate\"}, {\"args\": [[\"2011-9\"], {\"frame\": {\"duration\": 0, \"redraw\": true}, \"fromcurrent\": true, \"mode\": \"immediate\", \"transition\": {\"duration\": 0, \"easing\": \"linear\"}}], \"label\": \"2011-9\", \"method\": \"animate\"}, {\"args\": [[\"2011-8\"], {\"frame\": {\"duration\": 0, \"redraw\": true}, \"fromcurrent\": true, \"mode\": \"immediate\", \"transition\": {\"duration\": 0, \"easing\": \"linear\"}}], \"label\": \"2011-8\", \"method\": \"animate\"}, {\"args\": [[\"2011-7\"], {\"frame\": {\"duration\": 0, \"redraw\": true}, \"fromcurrent\": true, \"mode\": \"immediate\", \"transition\": {\"duration\": 0, \"easing\": \"linear\"}}], \"label\": \"2011-7\", \"method\": \"animate\"}, {\"args\": [[\"2011-6\"], {\"frame\": {\"duration\": 0, \"redraw\": true}, \"fromcurrent\": true, \"mode\": \"immediate\", \"transition\": {\"duration\": 0, \"easing\": \"linear\"}}], \"label\": \"2011-6\", \"method\": \"animate\"}, {\"args\": [[\"2011-5\"], {\"frame\": {\"duration\": 0, \"redraw\": true}, \"fromcurrent\": true, \"mode\": \"immediate\", \"transition\": {\"duration\": 0, \"easing\": \"linear\"}}], \"label\": \"2011-5\", \"method\": \"animate\"}, {\"args\": [[\"2011-4\"], {\"frame\": {\"duration\": 0, \"redraw\": true}, \"fromcurrent\": true, \"mode\": \"immediate\", \"transition\": {\"duration\": 0, \"easing\": \"linear\"}}], \"label\": \"2011-4\", \"method\": \"animate\"}, {\"args\": [[\"2011-3\"], {\"frame\": {\"duration\": 0, \"redraw\": true}, \"fromcurrent\": true, \"mode\": \"immediate\", \"transition\": {\"duration\": 0, \"easing\": \"linear\"}}], \"label\": \"2011-3\", \"method\": \"animate\"}, {\"args\": [[\"2011-2\"], {\"frame\": {\"duration\": 0, \"redraw\": true}, \"fromcurrent\": true, \"mode\": \"immediate\", \"transition\": {\"duration\": 0, \"easing\": \"linear\"}}], \"label\": \"2011-2\", \"method\": \"animate\"}, {\"args\": [[\"2011-12\"], {\"frame\": {\"duration\": 0, \"redraw\": true}, \"fromcurrent\": true, \"mode\": \"immediate\", \"transition\": {\"duration\": 0, \"easing\": \"linear\"}}], \"label\": \"2011-12\", \"method\": \"animate\"}, {\"args\": [[\"2011-11\"], {\"frame\": {\"duration\": 0, \"redraw\": true}, \"fromcurrent\": true, \"mode\": \"immediate\", \"transition\": {\"duration\": 0, \"easing\": \"linear\"}}], \"label\": \"2011-11\", \"method\": \"animate\"}, {\"args\": [[\"2011-10\"], {\"frame\": {\"duration\": 0, \"redraw\": true}, \"fromcurrent\": true, \"mode\": \"immediate\", \"transition\": {\"duration\": 0, \"easing\": \"linear\"}}], \"label\": \"2011-10\", \"method\": \"animate\"}, {\"args\": [[\"2011-1\"], {\"frame\": {\"duration\": 0, \"redraw\": true}, \"fromcurrent\": true, \"mode\": \"immediate\", \"transition\": {\"duration\": 0, \"easing\": \"linear\"}}], \"label\": \"2011-1\", \"method\": \"animate\"}, {\"args\": [[\"2010-9\"], {\"frame\": {\"duration\": 0, \"redraw\": true}, \"fromcurrent\": true, \"mode\": \"immediate\", \"transition\": {\"duration\": 0, \"easing\": \"linear\"}}], \"label\": \"2010-9\", \"method\": \"animate\"}, {\"args\": [[\"2010-8\"], {\"frame\": {\"duration\": 0, \"redraw\": true}, \"fromcurrent\": true, \"mode\": \"immediate\", \"transition\": {\"duration\": 0, \"easing\": \"linear\"}}], \"label\": \"2010-8\", \"method\": \"animate\"}, {\"args\": [[\"2010-7\"], {\"frame\": {\"duration\": 0, \"redraw\": true}, \"fromcurrent\": true, \"mode\": \"immediate\", \"transition\": {\"duration\": 0, \"easing\": \"linear\"}}], \"label\": \"2010-7\", \"method\": \"animate\"}, {\"args\": [[\"2010-6\"], {\"frame\": {\"duration\": 0, \"redraw\": true}, \"fromcurrent\": true, \"mode\": \"immediate\", \"transition\": {\"duration\": 0, \"easing\": \"linear\"}}], \"label\": \"2010-6\", \"method\": \"animate\"}, {\"args\": [[\"2010-5\"], {\"frame\": {\"duration\": 0, \"redraw\": true}, \"fromcurrent\": true, \"mode\": \"immediate\", \"transition\": {\"duration\": 0, \"easing\": \"linear\"}}], \"label\": \"2010-5\", \"method\": \"animate\"}, {\"args\": [[\"2010-4\"], {\"frame\": {\"duration\": 0, \"redraw\": true}, \"fromcurrent\": true, \"mode\": \"immediate\", \"transition\": {\"duration\": 0, \"easing\": \"linear\"}}], \"label\": \"2010-4\", \"method\": \"animate\"}, {\"args\": [[\"2010-3\"], {\"frame\": {\"duration\": 0, \"redraw\": true}, \"fromcurrent\": true, \"mode\": \"immediate\", \"transition\": {\"duration\": 0, \"easing\": \"linear\"}}], \"label\": \"2010-3\", \"method\": \"animate\"}, {\"args\": [[\"2010-2\"], {\"frame\": {\"duration\": 0, \"redraw\": true}, \"fromcurrent\": true, \"mode\": \"immediate\", \"transition\": {\"duration\": 0, \"easing\": \"linear\"}}], \"label\": \"2010-2\", \"method\": \"animate\"}, {\"args\": [[\"2010-12\"], {\"frame\": {\"duration\": 0, \"redraw\": true}, \"fromcurrent\": true, \"mode\": \"immediate\", \"transition\": {\"duration\": 0, \"easing\": \"linear\"}}], \"label\": \"2010-12\", \"method\": \"animate\"}, {\"args\": [[\"2010-11\"], {\"frame\": {\"duration\": 0, \"redraw\": true}, \"fromcurrent\": true, \"mode\": \"immediate\", \"transition\": {\"duration\": 0, \"easing\": \"linear\"}}], \"label\": \"2010-11\", \"method\": \"animate\"}, {\"args\": [[\"2010-10\"], {\"frame\": {\"duration\": 0, \"redraw\": true}, \"fromcurrent\": true, \"mode\": \"immediate\", \"transition\": {\"duration\": 0, \"easing\": \"linear\"}}], \"label\": \"2010-10\", \"method\": \"animate\"}, {\"args\": [[\"2010-1\"], {\"frame\": {\"duration\": 0, \"redraw\": true}, \"fromcurrent\": true, \"mode\": \"immediate\", \"transition\": {\"duration\": 0, \"easing\": \"linear\"}}], \"label\": \"2010-1\", \"method\": \"animate\"}], \"x\": 0.1, \"xanchor\": \"left\", \"y\": 0, \"yanchor\": \"top\"}], \"template\": {\"data\": {\"bar\": [{\"error_x\": {\"color\": \"#2a3f5f\"}, \"error_y\": {\"color\": \"#2a3f5f\"}, \"marker\": {\"line\": {\"color\": \"#E5ECF6\", \"width\": 0.5}}, \"type\": \"bar\"}], \"barpolar\": [{\"marker\": {\"line\": {\"color\": \"#E5ECF6\", \"width\": 0.5}}, \"type\": \"barpolar\"}], \"carpet\": [{\"aaxis\": {\"endlinecolor\": \"#2a3f5f\", \"gridcolor\": \"white\", \"linecolor\": \"white\", \"minorgridcolor\": \"white\", \"startlinecolor\": \"#2a3f5f\"}, \"baxis\": {\"endlinecolor\": \"#2a3f5f\", \"gridcolor\": \"white\", \"linecolor\": \"white\", \"minorgridcolor\": \"white\", \"startlinecolor\": \"#2a3f5f\"}, \"type\": \"carpet\"}], \"choropleth\": [{\"colorbar\": {\"outlinewidth\": 0, \"ticks\": \"\"}, \"type\": \"choropleth\"}], \"contour\": [{\"colorbar\": {\"outlinewidth\": 0, \"ticks\": \"\"}, \"colorscale\": [[0.0, \"#0d0887\"], [0.1111111111111111, \"#46039f\"], [0.2222222222222222, \"#7201a8\"], [0.3333333333333333, \"#9c179e\"], [0.4444444444444444, \"#bd3786\"], [0.5555555555555556, \"#d8576b\"], [0.6666666666666666, \"#ed7953\"], [0.7777777777777778, \"#fb9f3a\"], [0.8888888888888888, \"#fdca26\"], [1.0, \"#f0f921\"]], \"type\": \"contour\"}], \"contourcarpet\": [{\"colorbar\": {\"outlinewidth\": 0, \"ticks\": \"\"}, \"type\": \"contourcarpet\"}], \"heatmap\": [{\"colorbar\": {\"outlinewidth\": 0, \"ticks\": \"\"}, \"colorscale\": [[0.0, \"#0d0887\"], [0.1111111111111111, \"#46039f\"], [0.2222222222222222, \"#7201a8\"], [0.3333333333333333, \"#9c179e\"], [0.4444444444444444, \"#bd3786\"], [0.5555555555555556, \"#d8576b\"], [0.6666666666666666, \"#ed7953\"], [0.7777777777777778, \"#fb9f3a\"], [0.8888888888888888, \"#fdca26\"], [1.0, \"#f0f921\"]], \"type\": \"heatmap\"}], \"heatmapgl\": [{\"colorbar\": {\"outlinewidth\": 0, \"ticks\": \"\"}, \"colorscale\": [[0.0, \"#0d0887\"], [0.1111111111111111, \"#46039f\"], [0.2222222222222222, \"#7201a8\"], [0.3333333333333333, \"#9c179e\"], [0.4444444444444444, \"#bd3786\"], [0.5555555555555556, \"#d8576b\"], [0.6666666666666666, \"#ed7953\"], [0.7777777777777778, \"#fb9f3a\"], [0.8888888888888888, \"#fdca26\"], [1.0, \"#f0f921\"]], \"type\": \"heatmapgl\"}], \"histogram\": [{\"marker\": {\"colorbar\": {\"outlinewidth\": 0, \"ticks\": \"\"}}, \"type\": \"histogram\"}], \"histogram2d\": [{\"colorbar\": {\"outlinewidth\": 0, \"ticks\": \"\"}, \"colorscale\": [[0.0, \"#0d0887\"], [0.1111111111111111, \"#46039f\"], [0.2222222222222222, \"#7201a8\"], [0.3333333333333333, \"#9c179e\"], [0.4444444444444444, \"#bd3786\"], [0.5555555555555556, \"#d8576b\"], [0.6666666666666666, \"#ed7953\"], [0.7777777777777778, \"#fb9f3a\"], [0.8888888888888888, \"#fdca26\"], [1.0, \"#f0f921\"]], \"type\": \"histogram2d\"}], \"histogram2dcontour\": [{\"colorbar\": {\"outlinewidth\": 0, \"ticks\": \"\"}, \"colorscale\": [[0.0, \"#0d0887\"], [0.1111111111111111, \"#46039f\"], [0.2222222222222222, \"#7201a8\"], [0.3333333333333333, \"#9c179e\"], [0.4444444444444444, \"#bd3786\"], [0.5555555555555556, \"#d8576b\"], [0.6666666666666666, \"#ed7953\"], [0.7777777777777778, \"#fb9f3a\"], [0.8888888888888888, \"#fdca26\"], [1.0, \"#f0f921\"]], \"type\": \"histogram2dcontour\"}], \"mesh3d\": [{\"colorbar\": {\"outlinewidth\": 0, \"ticks\": \"\"}, \"type\": \"mesh3d\"}], \"parcoords\": [{\"line\": {\"colorbar\": {\"outlinewidth\": 0, \"ticks\": \"\"}}, \"type\": \"parcoords\"}], \"pie\": [{\"automargin\": true, \"type\": \"pie\"}], \"scatter\": [{\"marker\": {\"colorbar\": {\"outlinewidth\": 0, \"ticks\": \"\"}}, \"type\": \"scatter\"}], \"scatter3d\": [{\"line\": {\"colorbar\": {\"outlinewidth\": 0, \"ticks\": \"\"}}, \"marker\": {\"colorbar\": {\"outlinewidth\": 0, \"ticks\": \"\"}}, \"type\": \"scatter3d\"}], \"scattercarpet\": [{\"marker\": {\"colorbar\": {\"outlinewidth\": 0, \"ticks\": \"\"}}, \"type\": \"scattercarpet\"}], \"scattergeo\": [{\"marker\": {\"colorbar\": {\"outlinewidth\": 0, \"ticks\": \"\"}}, \"type\": \"scattergeo\"}], \"scattergl\": [{\"marker\": {\"colorbar\": {\"outlinewidth\": 0, \"ticks\": \"\"}}, \"type\": \"scattergl\"}], \"scattermapbox\": [{\"marker\": {\"colorbar\": {\"outlinewidth\": 0, \"ticks\": \"\"}}, \"type\": \"scattermapbox\"}], \"scatterpolar\": [{\"marker\": {\"colorbar\": {\"outlinewidth\": 0, \"ticks\": \"\"}}, \"type\": \"scatterpolar\"}], \"scatterpolargl\": [{\"marker\": {\"colorbar\": {\"outlinewidth\": 0, \"ticks\": \"\"}}, \"type\": \"scatterpolargl\"}], \"scatterternary\": [{\"marker\": {\"colorbar\": {\"outlinewidth\": 0, \"ticks\": \"\"}}, \"type\": \"scatterternary\"}], \"surface\": [{\"colorbar\": {\"outlinewidth\": 0, \"ticks\": \"\"}, \"colorscale\": [[0.0, \"#0d0887\"], [0.1111111111111111, \"#46039f\"], [0.2222222222222222, \"#7201a8\"], [0.3333333333333333, \"#9c179e\"], [0.4444444444444444, \"#bd3786\"], [0.5555555555555556, \"#d8576b\"], [0.6666666666666666, \"#ed7953\"], [0.7777777777777778, \"#fb9f3a\"], [0.8888888888888888, \"#fdca26\"], [1.0, \"#f0f921\"]], \"type\": \"surface\"}], \"table\": [{\"cells\": {\"fill\": {\"color\": \"#EBF0F8\"}, \"line\": {\"color\": \"white\"}}, \"header\": {\"fill\": {\"color\": \"#C8D4E3\"}, \"line\": {\"color\": \"white\"}}, \"type\": \"table\"}]}, \"layout\": {\"annotationdefaults\": {\"arrowcolor\": \"#2a3f5f\", \"arrowhead\": 0, \"arrowwidth\": 1}, \"coloraxis\": {\"colorbar\": {\"outlinewidth\": 0, \"ticks\": \"\"}}, \"colorscale\": {\"diverging\": [[0, \"#8e0152\"], [0.1, \"#c51b7d\"], [0.2, \"#de77ae\"], [0.3, \"#f1b6da\"], [0.4, \"#fde0ef\"], [0.5, \"#f7f7f7\"], [0.6, \"#e6f5d0\"], [0.7, \"#b8e186\"], [0.8, \"#7fbc41\"], [0.9, \"#4d9221\"], [1, \"#276419\"]], \"sequential\": [[0.0, \"#0d0887\"], [0.1111111111111111, \"#46039f\"], [0.2222222222222222, \"#7201a8\"], [0.3333333333333333, \"#9c179e\"], [0.4444444444444444, \"#bd3786\"], [0.5555555555555556, \"#d8576b\"], [0.6666666666666666, \"#ed7953\"], [0.7777777777777778, \"#fb9f3a\"], [0.8888888888888888, \"#fdca26\"], [1.0, \"#f0f921\"]], \"sequentialminus\": [[0.0, \"#0d0887\"], [0.1111111111111111, \"#46039f\"], [0.2222222222222222, \"#7201a8\"], [0.3333333333333333, \"#9c179e\"], [0.4444444444444444, \"#bd3786\"], [0.5555555555555556, \"#d8576b\"], [0.6666666666666666, \"#ed7953\"], [0.7777777777777778, \"#fb9f3a\"], [0.8888888888888888, \"#fdca26\"], [1.0, \"#f0f921\"]]}, \"colorway\": [\"#636efa\", \"#EF553B\", \"#00cc96\", \"#ab63fa\", \"#FFA15A\", \"#19d3f3\", \"#FF6692\", \"#B6E880\", \"#FF97FF\", \"#FECB52\"], \"font\": {\"color\": \"#2a3f5f\"}, \"geo\": {\"bgcolor\": \"white\", \"lakecolor\": \"white\", \"landcolor\": \"#E5ECF6\", \"showlakes\": true, \"showland\": true, \"subunitcolor\": \"white\"}, \"hoverlabel\": {\"align\": \"left\"}, \"hovermode\": \"closest\", \"mapbox\": {\"style\": \"light\"}, \"paper_bgcolor\": \"white\", \"plot_bgcolor\": \"#E5ECF6\", \"polar\": {\"angularaxis\": {\"gridcolor\": \"white\", \"linecolor\": \"white\", \"ticks\": \"\"}, \"bgcolor\": \"#E5ECF6\", \"radialaxis\": {\"gridcolor\": \"white\", \"linecolor\": \"white\", \"ticks\": \"\"}}, \"scene\": {\"xaxis\": {\"backgroundcolor\": \"#E5ECF6\", \"gridcolor\": \"white\", \"gridwidth\": 2, \"linecolor\": \"white\", \"showbackground\": true, \"ticks\": \"\", \"zerolinecolor\": \"white\"}, \"yaxis\": {\"backgroundcolor\": \"#E5ECF6\", \"gridcolor\": \"white\", \"gridwidth\": 2, \"linecolor\": \"white\", \"showbackground\": true, \"ticks\": \"\", \"zerolinecolor\": \"white\"}, \"zaxis\": {\"backgroundcolor\": \"#E5ECF6\", \"gridcolor\": \"white\", \"gridwidth\": 2, \"linecolor\": \"white\", \"showbackground\": true, \"ticks\": \"\", \"zerolinecolor\": \"white\"}}, \"shapedefaults\": {\"line\": {\"color\": \"#2a3f5f\"}}, \"ternary\": {\"aaxis\": {\"gridcolor\": \"white\", \"linecolor\": \"white\", \"ticks\": \"\"}, \"baxis\": {\"gridcolor\": \"white\", \"linecolor\": \"white\", \"ticks\": \"\"}, \"bgcolor\": \"#E5ECF6\", \"caxis\": {\"gridcolor\": \"white\", \"linecolor\": \"white\", \"ticks\": \"\"}}, \"title\": {\"x\": 0.05}, \"xaxis\": {\"automargin\": true, \"gridcolor\": \"white\", \"linecolor\": \"white\", \"ticks\": \"\", \"title\": {\"standoff\": 15}, \"zerolinecolor\": \"white\", \"zerolinewidth\": 2}, \"yaxis\": {\"automargin\": true, \"gridcolor\": \"white\", \"linecolor\": \"white\", \"ticks\": \"\", \"title\": {\"standoff\": 15}, \"zerolinecolor\": \"white\", \"zerolinewidth\": 2}}}, \"title\": {\"text\": \"Number of Cases outside China\"}, \"uniformtext\": {\"minsize\": 8, \"mode\": \"hide\"}, \"updatemenus\": [{\"buttons\": [{\"args\": [null, {\"frame\": {\"duration\": 500, \"redraw\": true}, \"fromcurrent\": true, \"mode\": \"immediate\", \"transition\": {\"duration\": 500, \"easing\": \"linear\"}}], \"label\": \"&#9654;\", \"method\": \"animate\"}, {\"args\": [[null], {\"frame\": {\"duration\": 0, \"redraw\": true}, \"fromcurrent\": true, \"mode\": \"immediate\", \"transition\": {\"duration\": 0, \"easing\": \"linear\"}}], \"label\": \"&#9724;\", \"method\": \"animate\"}], \"direction\": \"left\", \"pad\": {\"r\": 10, \"t\": 70}, \"showactive\": false, \"type\": \"buttons\", \"x\": 0.1, \"xanchor\": \"right\", \"y\": 0, \"yanchor\": \"top\"}], \"xaxis\": {\"anchor\": \"y\", \"domain\": [0.0, 1.0], \"title\": {\"text\": \"Item Type\"}}, \"yaxis\": {\"anchor\": \"x\", \"domain\": [0.0, 1.0], \"title\": {\"text\": \"Total Profit\"}}},\n",
       "                        {\"responsive\": true}\n",
       "                    ).then(function(){\n",
       "                            Plotly.addFrames('92274c5e-a7b1-49d1-831e-41b2c3f64e07', [{\"data\": [{\"alignmentgroup\": \"True\", \"hoverlabel\": {\"namelength\": 0}, \"hovertemplate\": \"YearMonth=2017-7<br>Item Type=%{x}<br>Total Profit=%{y}\", \"legendgroup\": \"\", \"marker\": {\"color\": \"#636efa\"}, \"name\": \"\", \"offsetgroup\": \"\", \"orientation\": \"v\", \"showlegend\": false, \"textposition\": \"auto\", \"x\": [\"Cosmetics\", \"Household\", \"Office Supplies\", \"Meat\", \"Personal Care\", \"Fruits\"], \"xaxis\": \"x\", \"y\": [1438774.25, 898753.79, 884002.5, 534305.2, 424892.30000000005, 17930.4], \"yaxis\": \"y\", \"type\": \"bar\"}], \"name\": \"2017-7\"}, {\"data\": [{\"alignmentgroup\": \"True\", \"hoverlabel\": {\"namelength\": 0}, \"hovertemplate\": \"YearMonth=2017-6<br>Item Type=%{x}<br>Total Profit=%{y}\", \"legendgroup\": \"\", \"marker\": {\"color\": \"#636efa\"}, \"name\": \"\", \"offsetgroup\": \"\", \"orientation\": \"v\", \"showlegend\": false, \"textposition\": \"auto\", \"x\": [\"Office Supplies\", \"Cosmetics\", \"Cereal\", \"Clothes\", \"Household\", \"Beverages\", \"Personal Care\"], \"xaxis\": \"x\", \"y\": [1415893.75, 889866.66, 851438.49, 726174.72, 289861.77, 37443.06, 8044.26], \"yaxis\": \"y\", \"type\": \"bar\"}], \"name\": \"2017-6\"}, {\"data\": [{\"alignmentgroup\": \"True\", \"hoverlabel\": {\"namelength\": 0}, \"hovertemplate\": \"YearMonth=2017-5<br>Item Type=%{x}<br>Total Profit=%{y}\", \"legendgroup\": \"\", \"marker\": {\"color\": \"#636efa\"}, \"name\": \"\", \"offsetgroup\": \"\", \"orientation\": \"v\", \"showlegend\": false, \"textposition\": \"auto\", \"x\": [\"Cosmetics\", \"Clothes\", \"Cereal\", \"Snacks\", \"Personal Care\", \"Fruits\"], \"xaxis\": \"x\", \"y\": [1935868.58, 720446.4, 489814.11, 300678.42, 249347.0, 17653.25], \"yaxis\": \"y\", \"type\": \"bar\"}], \"name\": \"2017-5\"}, {\"data\": [{\"alignmentgroup\": \"True\", \"hoverlabel\": {\"namelength\": 0}, \"hovertemplate\": \"YearMonth=2017-4<br>Item Type=%{x}<br>Total Profit=%{y}\", \"legendgroup\": \"\", \"marker\": {\"color\": \"#636efa\"}, \"name\": \"\", \"offsetgroup\": \"\", \"orientation\": \"v\", \"showlegend\": false, \"textposition\": \"auto\", \"x\": [\"Cosmetics\", \"Vegetables\", \"Meat\", \"Beverages\", \"Fruits\"], \"xaxis\": \"x\", \"y\": [1225261.89, 388375.76, 275761.2, 155331.54, 16383.18], \"yaxis\": \"y\", \"type\": \"bar\"}], \"name\": \"2017-4\"}, {\"data\": [{\"alignmentgroup\": \"True\", \"hoverlabel\": {\"namelength\": 0}, \"hovertemplate\": \"YearMonth=2017-3<br>Item Type=%{x}<br>Total Profit=%{y}\", \"legendgroup\": \"\", \"marker\": {\"color\": \"#636efa\"}, \"name\": \"\", \"offsetgroup\": \"\", \"orientation\": \"v\", \"showlegend\": false, \"textposition\": \"auto\", \"x\": [\"Cosmetics\", \"Household\", \"Cereal\", \"Snacks\", \"Baby Food\", \"Meat\", \"Office Supplies\", \"Personal Care\", \"Fruits\"], \"xaxis\": \"x\", \"y\": [1516841.88, 1194084.65, 1192952.94, 925469.76, 690192.0, 449534.8, 383295.0, 201031.32, 12654.91], \"yaxis\": \"y\", \"type\": \"bar\"}], \"name\": \"2017-3\"}, {\"data\": [{\"alignmentgroup\": \"True\", \"hoverlabel\": {\"namelength\": 0}, \"hovertemplate\": \"YearMonth=2017-2<br>Item Type=%{x}<br>Total Profit=%{y}\", \"legendgroup\": \"\", \"marker\": {\"color\": \"#636efa\"}, \"name\": \"\", \"offsetgroup\": \"\", \"orientation\": \"v\", \"showlegend\": false, \"textposition\": \"auto\", \"x\": [\"Vegetables\", \"Cereal\", \"Clothes\", \"Meat\", \"Snacks\", \"Beverages\", \"Personal Care\", \"Cosmetics\", \"Office Supplies\"], \"xaxis\": \"x\", \"y\": [1372383.07, 822912.51, 610066.08, 574288.0, 366846.42, 229747.86, 225489.88, 182041.89, 169806.25], \"yaxis\": \"y\", \"type\": \"bar\"}], \"name\": \"2017-2\"}, {\"data\": [{\"alignmentgroup\": \"True\", \"hoverlabel\": {\"namelength\": 0}, \"hovertemplate\": \"YearMonth=2017-1<br>Item Type=%{x}<br>Total Profit=%{y}\", \"legendgroup\": \"\", \"marker\": {\"color\": \"#636efa\"}, \"name\": \"\", \"offsetgroup\": \"\", \"orientation\": \"v\", \"showlegend\": false, \"textposition\": \"auto\", \"x\": [\"Cosmetics\", \"Office Supplies\", \"Meat\", \"Snacks\", \"Vegetables\", \"Beverages\", \"Household\", \"Clothes\", \"Personal Care\"], \"xaxis\": \"x\", \"y\": [1413215.36, 554995.0, 441927.2, 333321.3, 290650.52, 254772.54, 186777.71, 171188.64, 152941.18], \"yaxis\": \"y\", \"type\": \"bar\"}], \"name\": \"2017-1\"}, {\"data\": [{\"alignmentgroup\": \"True\", \"hoverlabel\": {\"namelength\": 0}, \"hovertemplate\": \"YearMonth=2016-9<br>Item Type=%{x}<br>Total Profit=%{y}\", \"legendgroup\": \"\", \"marker\": {\"color\": \"#636efa\"}, \"name\": \"\", \"offsetgroup\": \"\", \"orientation\": \"v\", \"showlegend\": false, \"textposition\": \"auto\", \"x\": [\"Office Supplies\", \"Beverages\", \"Clothes\", \"Household\"], \"xaxis\": \"x\", \"y\": [446420.0, 204237.72, 193367.52, 66126.27], \"yaxis\": \"y\", \"type\": \"bar\"}], \"name\": \"2016-9\"}, {\"data\": [{\"alignmentgroup\": \"True\", \"hoverlabel\": {\"namelength\": 0}, \"hovertemplate\": \"YearMonth=2016-8<br>Item Type=%{x}<br>Total Profit=%{y}\", \"legendgroup\": \"\", \"marker\": {\"color\": \"#636efa\"}, \"name\": \"\", \"offsetgroup\": \"\", \"orientation\": \"v\", \"showlegend\": false, \"textposition\": \"auto\", \"x\": [\"Cereal\", \"Vegetables\", \"Baby Food\", \"Office Supplies\", \"Meat\", \"Personal Care\"], \"xaxis\": \"x\", \"y\": [1807856.13, 970623.75, 923419.38, 618246.25, 610152.4, 332320.66], \"yaxis\": \"y\", \"type\": \"bar\"}], \"name\": \"2016-8\"}, {\"data\": [{\"alignmentgroup\": \"True\", \"hoverlabel\": {\"namelength\": 0}, \"hovertemplate\": \"YearMonth=2016-7<br>Item Type=%{x}<br>Total Profit=%{y}\", \"legendgroup\": \"\", \"marker\": {\"color\": \"#636efa\"}, \"name\": \"\", \"offsetgroup\": \"\", \"orientation\": \"v\", \"showlegend\": false, \"textposition\": \"auto\", \"x\": [\"Cosmetics\", \"Household\", \"Vegetables\", \"Clothes\", \"Cereal\", \"Office Supplies\", \"Meat\", \"Beverages\", \"Fruits\", \"Personal Care\"], \"xaxis\": \"x\", \"y\": [1483806.58, 1123152.21, 614444.29, 586418.4, 541727.85, 443011.25, 246703.6, 85769.82, 5651.45, 626.5], \"yaxis\": \"y\", \"type\": \"bar\"}], \"name\": \"2016-7\"}, {\"data\": [{\"alignmentgroup\": \"True\", \"hoverlabel\": {\"namelength\": 0}, \"hovertemplate\": \"YearMonth=2016-6<br>Item Type=%{x}<br>Total Profit=%{y}\", \"legendgroup\": \"\", \"marker\": {\"color\": \"#636efa\"}, \"name\": \"\", \"offsetgroup\": \"\", \"orientation\": \"v\", \"showlegend\": false, \"textposition\": \"auto\", \"x\": [\"Clothes\", \"Snacks\", \"Beverages\"], \"xaxis\": \"x\", \"y\": [1025002.08, 127759.38, 124763.22], \"yaxis\": \"y\", \"type\": \"bar\"}], \"name\": \"2016-6\"}, {\"data\": [{\"alignmentgroup\": \"True\", \"hoverlabel\": {\"namelength\": 0}, \"hovertemplate\": \"YearMonth=2016-5<br>Item Type=%{x}<br>Total Profit=%{y}\", \"legendgroup\": \"\", \"marker\": {\"color\": \"#636efa\"}, \"name\": \"\", \"offsetgroup\": \"\", \"orientation\": \"v\", \"showlegend\": false, \"textposition\": \"auto\", \"x\": [\"Baby Food\", \"Cosmetics\", \"Vegetables\", \"Snacks\", \"Personal Care\", \"Household\", \"Office Supplies\", \"Fruits\"], \"xaxis\": \"x\", \"y\": [575831.02, 553428.21, 455609.21, 264672.0, 229950.56, 212134.4, 119937.5, 18532.9], \"yaxis\": \"y\", \"type\": \"bar\"}], \"name\": \"2016-5\"}, {\"data\": [{\"alignmentgroup\": \"True\", \"hoverlabel\": {\"namelength\": 0}, \"hovertemplate\": \"YearMonth=2016-4<br>Item Type=%{x}<br>Total Profit=%{y}\", \"legendgroup\": \"\", \"marker\": {\"color\": \"#636efa\"}, \"name\": \"\", \"offsetgroup\": \"\", \"orientation\": \"v\", \"showlegend\": false, \"textposition\": \"auto\", \"x\": [\"Household\", \"Cosmetics\", \"Snacks\", \"Vegetables\", \"Office Supplies\", \"Beverages\", \"Meat\"], \"xaxis\": \"x\", \"y\": [1418483.07, 845008.2, 431415.36, 408135.45, 302621.25, 223311.6, 115315.2], \"yaxis\": \"y\", \"type\": \"bar\"}], \"name\": \"2016-4\"}, {\"data\": [{\"alignmentgroup\": \"True\", \"hoverlabel\": {\"namelength\": 0}, \"hovertemplate\": \"YearMonth=2016-3<br>Item Type=%{x}<br>Total Profit=%{y}\", \"legendgroup\": \"\", \"marker\": {\"color\": \"#636efa\"}, \"name\": \"\", \"offsetgroup\": \"\", \"orientation\": \"v\", \"showlegend\": false, \"textposition\": \"auto\", \"x\": [\"Baby Food\", \"Household\", \"Cosmetics\", \"Office Supplies\", \"Snacks\"], \"xaxis\": \"x\", \"y\": [1879431.16, 1527864.87, 1444685.83, 1424857.5, 544342.08], \"yaxis\": \"y\", \"type\": \"bar\"}], \"name\": \"2016-3\"}, {\"data\": [{\"alignmentgroup\": \"True\", \"hoverlabel\": {\"namelength\": 0}, \"hovertemplate\": \"YearMonth=2016-2<br>Item Type=%{x}<br>Total Profit=%{y}\", \"legendgroup\": \"\", \"marker\": {\"color\": \"#636efa\"}, \"name\": \"\", \"offsetgroup\": \"\", \"orientation\": \"v\", \"showlegend\": false, \"textposition\": \"auto\", \"x\": [\"Cosmetics\", \"Baby Food\", \"Vegetables\", \"Cereal\", \"Beverages\"], \"xaxis\": \"x\", \"y\": [1671760.05, 1104403.06, 423854.82, 52445.28, 31335.66], \"yaxis\": \"y\", \"type\": \"bar\"}], \"name\": \"2016-2\"}, {\"data\": [{\"alignmentgroup\": \"True\", \"hoverlabel\": {\"namelength\": 0}, \"hovertemplate\": \"YearMonth=2016-12<br>Item Type=%{x}<br>Total Profit=%{y}\", \"legendgroup\": \"\", \"marker\": {\"color\": \"#636efa\"}, \"name\": \"\", \"offsetgroup\": \"\", \"orientation\": \"v\", \"showlegend\": false, \"textposition\": \"auto\", \"x\": [\"Cosmetics\", \"Baby Food\", \"Clothes\", \"Household\", \"Meat\", \"Cereal\", \"Vegetables\", \"Office Supplies\", \"Personal Care\"], \"xaxis\": \"x\", \"y\": [4055517.75, 1761044.0599999998, 681816.96, 655793.61, 468410.8, 436571.52, 382062.76, 376477.5, 303952.74], \"yaxis\": \"y\", \"type\": \"bar\"}], \"name\": \"2016-12\"}, {\"data\": [{\"alignmentgroup\": \"True\", \"hoverlabel\": {\"namelength\": 0}, \"hovertemplate\": \"YearMonth=2016-11<br>Item Type=%{x}<br>Total Profit=%{y}\", \"legendgroup\": \"\", \"marker\": {\"color\": \"#636efa\"}, \"name\": \"\", \"offsetgroup\": \"\", \"orientation\": \"v\", \"showlegend\": false, \"textposition\": \"auto\", \"x\": [\"Household\", \"Baby Food\", \"Cosmetics\", \"Snacks\", \"Personal Care\", \"Office Supplies\", \"Fruits\"], \"xaxis\": \"x\", \"y\": [1794192.98, 1272253.92, 613761.1, 243663.66, 198299.78, 44440.0, 20497.05], \"yaxis\": \"y\", \"type\": \"bar\"}], \"name\": \"2016-11\"}, {\"data\": [{\"alignmentgroup\": \"True\", \"hoverlabel\": {\"namelength\": 0}, \"hovertemplate\": \"YearMonth=2016-10<br>Item Type=%{x}<br>Total Profit=%{y}\", \"legendgroup\": \"\", \"marker\": {\"color\": \"#636efa\"}, \"name\": \"\", \"offsetgroup\": \"\", \"orientation\": \"v\", \"showlegend\": false, \"textposition\": \"auto\", \"x\": [\"Cereal\", \"Vegetables\", \"Meat\", \"Personal Care\", \"Baby Food\", \"Fruits\"], \"xaxis\": \"x\", \"y\": [1021708.47, 543738.69, 233376.0, 190380.82, 145419.62, 33882.189999999995], \"yaxis\": \"y\", \"type\": \"bar\"}], \"name\": \"2016-10\"}, {\"data\": [{\"alignmentgroup\": \"True\", \"hoverlabel\": {\"namelength\": 0}, \"hovertemplate\": \"YearMonth=2016-1<br>Item Type=%{x}<br>Total Profit=%{y}\", \"legendgroup\": \"\", \"marker\": {\"color\": \"#636efa\"}, \"name\": \"\", \"offsetgroup\": \"\", \"orientation\": \"v\", \"showlegend\": false, \"textposition\": \"auto\", \"x\": [\"Household\", \"Meat\", \"Baby Food\", \"Cosmetics\", \"Personal Care\", \"Snacks\", \"Office Supplies\", \"Fruits\"], \"xaxis\": \"x\", \"y\": [2504014.57, 1052594.4, 715499.04, 711476.04, 394068.5, 352675.44, 180663.75, 23562.57], \"yaxis\": \"y\", \"type\": \"bar\"}], \"name\": \"2016-1\"}, {\"data\": [{\"alignmentgroup\": \"True\", \"hoverlabel\": {\"namelength\": 0}, \"hovertemplate\": \"YearMonth=2015-9<br>Item Type=%{x}<br>Total Profit=%{y}\", \"legendgroup\": \"\", \"marker\": {\"color\": \"#636efa\"}, \"name\": \"\", \"offsetgroup\": \"\", \"orientation\": \"v\", \"showlegend\": false, \"textposition\": \"auto\", \"x\": [\"Office Supplies\", \"Baby Food\", \"Cosmetics\", \"Clothes\", \"Household\"], \"xaxis\": \"x\", \"y\": [1540123.75, 1211191.1, 924988.4, 625415.04, 275277.53], \"yaxis\": \"y\", \"type\": \"bar\"}], \"name\": \"2015-9\"}, {\"data\": [{\"alignmentgroup\": \"True\", \"hoverlabel\": {\"namelength\": 0}, \"hovertemplate\": \"YearMonth=2015-8<br>Item Type=%{x}<br>Total Profit=%{y}\", \"legendgroup\": \"\", \"marker\": {\"color\": \"#636efa\"}, \"name\": \"\", \"offsetgroup\": \"\", \"orientation\": \"v\", \"showlegend\": false, \"textposition\": \"auto\", \"x\": [\"Office Supplies\", \"Clothes\", \"Baby Food\", \"Snacks\", \"Meat\", \"Personal Care\", \"Beverages\"], \"xaxis\": \"x\", \"y\": [2249396.25, 846763.2, 843855.58, 436322.82, 350922.0, 286561.1, 58396.14], \"yaxis\": \"y\", \"type\": \"bar\"}], \"name\": \"2015-8\"}, {\"data\": [{\"alignmentgroup\": \"True\", \"hoverlabel\": {\"namelength\": 0}, \"hovertemplate\": \"YearMonth=2015-7<br>Item Type=%{x}<br>Total Profit=%{y}\", \"legendgroup\": \"\", \"marker\": {\"color\": \"#636efa\"}, \"name\": \"\", \"offsetgroup\": \"\", \"orientation\": \"v\", \"showlegend\": false, \"textposition\": \"auto\", \"x\": [\"Household\", \"Cosmetics\", \"Baby Food\", \"Office Supplies\", \"Clothes\"], \"xaxis\": \"x\", \"y\": [1170550.99, 1094685.52, 717032.8, 128775.0, 51334.56], \"yaxis\": \"y\", \"type\": \"bar\"}], \"name\": \"2015-7\"}, {\"data\": [{\"alignmentgroup\": \"True\", \"hoverlabel\": {\"namelength\": 0}, \"hovertemplate\": \"YearMonth=2015-6<br>Item Type=%{x}<br>Total Profit=%{y}\", \"legendgroup\": \"\", \"marker\": {\"color\": \"#636efa\"}, \"name\": \"\", \"offsetgroup\": \"\", \"orientation\": \"v\", \"showlegend\": false, \"textposition\": \"auto\", \"x\": [\"Household\", \"Office Supplies\", \"Cereal\", \"Clothes\", \"Baby Food\", \"Snacks\", \"Meat\", \"Vegetables\", \"Beverages\", \"Fruits\"], \"xaxis\": \"x\", \"y\": [1351196.69, 869105.0, 863663.9099999999, 734253.12, 570271.14, 456724.62, 322150.4, 266029.82, 212146.02, 14122.6], \"yaxis\": \"y\", \"type\": \"bar\"}], \"name\": \"2015-6\"}, {\"data\": [{\"alignmentgroup\": \"True\", \"hoverlabel\": {\"namelength\": 0}, \"hovertemplate\": \"YearMonth=2015-5<br>Item Type=%{x}<br>Total Profit=%{y}\", \"legendgroup\": \"\", \"marker\": {\"color\": \"#636efa\"}, \"name\": \"\", \"offsetgroup\": \"\", \"orientation\": \"v\", \"showlegend\": false, \"textposition\": \"auto\", \"x\": [\"Snacks\", \"Personal Care\", \"Beverages\", \"Fruits\"], \"xaxis\": \"x\", \"y\": [414432.24, 328010.33999999997, 13279.68, 8492.84], \"yaxis\": \"y\", \"type\": \"bar\"}], \"name\": \"2015-5\"}, {\"data\": [{\"alignmentgroup\": \"True\", \"hoverlabel\": {\"namelength\": 0}, \"hovertemplate\": \"YearMonth=2015-4<br>Item Type=%{x}<br>Total Profit=%{y}\", \"legendgroup\": \"\", \"marker\": {\"color\": \"#636efa\"}, \"name\": \"\", \"offsetgroup\": \"\", \"orientation\": \"v\", \"showlegend\": false, \"textposition\": \"auto\", \"x\": [\"Household\", \"Office Supplies\", \"Cereal\", \"Cosmetics\", \"Beverages\"], \"xaxis\": \"x\", \"y\": [2147860.8, 1769898.75, 860651.85, 637581.29, 41405.04], \"yaxis\": \"y\", \"type\": \"bar\"}], \"name\": \"2015-4\"}, {\"data\": [{\"alignmentgroup\": \"True\", \"hoverlabel\": {\"namelength\": 0}, \"hovertemplate\": \"YearMonth=2015-3<br>Item Type=%{x}<br>Total Profit=%{y}\", \"legendgroup\": \"\", \"marker\": {\"color\": \"#636efa\"}, \"name\": \"\", \"offsetgroup\": \"\", \"orientation\": \"v\", \"showlegend\": false, \"textposition\": \"auto\", \"x\": [\"Cosmetics\", \"Office Supplies\", \"Cereal\", \"Baby Food\", \"Vegetables\", \"Clothes\", \"Meat\", \"Personal Care\", \"Snacks\"], \"xaxis\": \"x\", \"y\": [1370269.47, 1114282.5, 858525.69, 766688.28, 730477.23, 668083.68, 361561.2, 247743.16, 98921.16], \"yaxis\": \"y\", \"type\": \"bar\"}], \"name\": \"2015-3\"}, {\"data\": [{\"alignmentgroup\": \"True\", \"hoverlabel\": {\"namelength\": 0}, \"hovertemplate\": \"YearMonth=2015-2<br>Item Type=%{x}<br>Total Profit=%{y}\", \"legendgroup\": \"\", \"marker\": {\"color\": \"#636efa\"}, \"name\": \"\", \"offsetgroup\": \"\", \"orientation\": \"v\", \"showlegend\": false, \"textposition\": \"auto\", \"x\": [\"Office Supplies\", \"Baby Food\", \"Cereal\", \"Household\", \"Personal Care\", \"Vegetables\", \"Fruits\"], \"xaxis\": \"x\", \"y\": [1861430.0, 1406170.34, 1157162.58, 806939.37, 466416.72, 239199.57, 11770.44], \"yaxis\": \"y\", \"type\": \"bar\"}], \"name\": \"2015-2\"}, {\"data\": [{\"alignmentgroup\": \"True\", \"hoverlabel\": {\"namelength\": 0}, \"hovertemplate\": \"YearMonth=2015-12<br>Item Type=%{x}<br>Total Profit=%{y}\", \"legendgroup\": \"\", \"marker\": {\"color\": \"#636efa\"}, \"name\": \"\", \"offsetgroup\": \"\", \"orientation\": \"v\", \"showlegend\": false, \"textposition\": \"auto\", \"x\": [\"Cereal\", \"Office Supplies\", \"Cosmetics\", \"Clothes\", \"Vegetables\", \"Personal Care\", \"Beverages\"], \"xaxis\": \"x\", \"y\": [1124650.05, 796637.5, 720865.02, 717949.44, 544054.34, 188927.34, 13326.66], \"yaxis\": \"y\", \"type\": \"bar\"}], \"name\": \"2015-12\"}, {\"data\": [{\"alignmentgroup\": \"True\", \"hoverlabel\": {\"namelength\": 0}, \"hovertemplate\": \"YearMonth=2015-11<br>Item Type=%{x}<br>Total Profit=%{y}\", \"legendgroup\": \"\", \"marker\": {\"color\": \"#636efa\"}, \"name\": \"\", \"offsetgroup\": \"\", \"orientation\": \"v\", \"showlegend\": false, \"textposition\": \"auto\", \"x\": [\"Cosmetics\", \"Baby Food\", \"Vegetables\", \"Personal Care\", \"Beverages\", \"Fruits\"], \"xaxis\": \"x\", \"y\": [1568307.4, 889484.94, 505418.78, 178276.84, 108946.62000000001, 23526.42], \"yaxis\": \"y\", \"type\": \"bar\"}], \"name\": \"2015-11\"}, {\"data\": [{\"alignmentgroup\": \"True\", \"hoverlabel\": {\"namelength\": 0}, \"hovertemplate\": \"YearMonth=2015-10<br>Item Type=%{x}<br>Total Profit=%{y}\", \"legendgroup\": \"\", \"marker\": {\"color\": \"#636efa\"}, \"name\": \"\", \"offsetgroup\": \"\", \"orientation\": \"v\", \"showlegend\": false, \"textposition\": \"auto\", \"x\": [\"Office Supplies\", \"Clothes\", \"Vegetables\", \"Cereal\", \"Household\", \"Meat\", \"Cosmetics\"], \"xaxis\": \"x\", \"y\": [2177560.0, 931145.76, 527956.19, 386961.12, 384659.33, 346460.4, 302707.67], \"yaxis\": \"y\", \"type\": \"bar\"}], \"name\": \"2015-10\"}, {\"data\": [{\"alignmentgroup\": \"True\", \"hoverlabel\": {\"namelength\": 0}, \"hovertemplate\": \"YearMonth=2015-1<br>Item Type=%{x}<br>Total Profit=%{y}\", \"legendgroup\": \"\", \"marker\": {\"color\": \"#636efa\"}, \"name\": \"\", \"offsetgroup\": \"\", \"orientation\": \"v\", \"showlegend\": false, \"textposition\": \"auto\", \"x\": [\"Clothes\", \"Cereal\", \"Meat\", \"Cosmetics\", \"Vegetables\", \"Household\"], \"xaxis\": \"x\", \"y\": [1365323.04, 477145.74, 474016.4, 472057.05, 462427.25, 377532.94], \"yaxis\": \"y\", \"type\": \"bar\"}], \"name\": \"2015-1\"}, {\"data\": [{\"alignmentgroup\": \"True\", \"hoverlabel\": {\"namelength\": 0}, \"hovertemplate\": \"YearMonth=2014-9<br>Item Type=%{x}<br>Total Profit=%{y}\", \"legendgroup\": \"\", \"marker\": {\"color\": \"#636efa\"}, \"name\": \"\", \"offsetgroup\": \"\", \"orientation\": \"v\", \"showlegend\": false, \"textposition\": \"auto\", \"x\": [\"Household\", \"Baby Food\", \"Office Supplies\", \"Beverages\", \"Clothes\", \"Cereal\"], \"xaxis\": \"x\", \"y\": [1482952.04, 815576.88, 323200.0, 270651.78, 169866.72, 101878.5], \"yaxis\": \"y\", \"type\": \"bar\"}], \"name\": \"2014-9\"}, {\"data\": [{\"alignmentgroup\": \"True\", \"hoverlabel\": {\"namelength\": 0}, \"hovertemplate\": \"YearMonth=2014-8<br>Item Type=%{x}<br>Total Profit=%{y}\", \"legendgroup\": \"\", \"marker\": {\"color\": \"#636efa\"}, \"name\": \"\", \"offsetgroup\": \"\", \"orientation\": \"v\", \"showlegend\": false, \"textposition\": \"auto\", \"x\": [\"Household\", \"Baby Food\", \"Vegetables\", \"Cereal\", \"Meat\", \"Beverages\", \"Snacks\", \"Clothes\", \"Personal Care\", \"Fruits\"], \"xaxis\": \"x\", \"y\": [1726243.68, 1149840.7, 876875.7, 752837.82, 540940.4, 423947.52, 406878.06, 210993.12, 90742.26, 19214.93], \"yaxis\": \"y\", \"type\": \"bar\"}], \"name\": \"2014-8\"}, {\"data\": [{\"alignmentgroup\": \"True\", \"hoverlabel\": {\"namelength\": 0}, \"hovertemplate\": \"YearMonth=2014-7<br>Item Type=%{x}<br>Total Profit=%{y}\", \"legendgroup\": \"\", \"marker\": {\"color\": \"#636efa\"}, \"name\": \"\", \"offsetgroup\": \"\", \"orientation\": \"v\", \"showlegend\": false, \"textposition\": \"auto\", \"x\": [\"Cosmetics\", \"Vegetables\", \"Cereal\", \"Office Supplies\", \"Meat\", \"Baby Food\", \"Snacks\", \"Personal Care\", \"Beverages\", \"Fruits\"], \"xaxis\": \"x\", \"y\": [1790861.0, 1019738.89, 690736.23, 680108.75, 471328.0, 434245.80000000005, 248791.68, 152289.62, 150555.24, 5714.11], \"yaxis\": \"y\", \"type\": \"bar\"}], \"name\": \"2014-7\"}, {\"data\": [{\"alignmentgroup\": \"True\", \"hoverlabel\": {\"namelength\": 0}, \"hovertemplate\": \"YearMonth=2014-6<br>Item Type=%{x}<br>Total Profit=%{y}\", \"legendgroup\": \"\", \"marker\": {\"color\": \"#636efa\"}, \"name\": \"\", \"offsetgroup\": \"\", \"orientation\": \"v\", \"showlegend\": false, \"textposition\": \"auto\", \"x\": [\"Office Supplies\", \"Vegetables\", \"Personal Care\", \"Snacks\"], \"xaxis\": \"x\", \"y\": [1166676.25, 1113108.16, 215541.06, 13564.44], \"yaxis\": \"y\", \"type\": \"bar\"}], \"name\": \"2014-6\"}, {\"data\": [{\"alignmentgroup\": \"True\", \"hoverlabel\": {\"namelength\": 0}, \"hovertemplate\": \"YearMonth=2014-5<br>Item Type=%{x}<br>Total Profit=%{y}\", \"legendgroup\": \"\", \"marker\": {\"color\": \"#636efa\"}, \"name\": \"\", \"offsetgroup\": \"\", \"orientation\": \"v\", \"showlegend\": false, \"textposition\": \"auto\", \"x\": [\"Cosmetics\", \"Baby Food\", \"Office Supplies\", \"Meat\", \"Vegetables\", \"Beverages\", \"Personal Care\"], \"xaxis\": \"x\", \"y\": [1114332.83, 892264.88, 766463.75, 528756.8, 483765.19, 132969.06, 33129.32], \"yaxis\": \"y\", \"type\": \"bar\"}], \"name\": \"2014-5\"}, {\"data\": [{\"alignmentgroup\": \"True\", \"hoverlabel\": {\"namelength\": 0}, \"hovertemplate\": \"YearMonth=2014-4<br>Item Type=%{x}<br>Total Profit=%{y}\", \"legendgroup\": \"\", \"marker\": {\"color\": \"#636efa\"}, \"name\": \"\", \"offsetgroup\": \"\", \"orientation\": \"v\", \"showlegend\": false, \"textposition\": \"auto\", \"x\": [\"Household\", \"Cosmetics\", \"Clothes\", \"Baby Food\", \"Cereal\", \"Office Supplies\", \"Vegetables\", \"Beverages\"], \"xaxis\": \"x\", \"y\": [3335979.17, 1728267.8, 837803.52, 796117.2999999999, 312545.52, 273078.75, 137181.49, 136273.32], \"yaxis\": \"y\", \"type\": \"bar\"}], \"name\": \"2014-4\"}, {\"data\": [{\"alignmentgroup\": \"True\", \"hoverlabel\": {\"namelength\": 0}, \"hovertemplate\": \"YearMonth=2014-3<br>Item Type=%{x}<br>Total Profit=%{y}\", \"legendgroup\": \"\", \"marker\": {\"color\": \"#636efa\"}, \"name\": \"\", \"offsetgroup\": \"\", \"orientation\": \"v\", \"showlegend\": false, \"textposition\": \"auto\", \"x\": [\"Cosmetics\", \"Office Supplies\", \"Cereal\", \"Clothes\", \"Snacks\", \"Meat\", \"Fruits\"], \"xaxis\": \"x\", \"y\": [1714010.46, 1123372.5, 649453.29, 545806.08, 461466.66, 187330.0, 27240.23], \"yaxis\": \"y\", \"type\": \"bar\"}], \"name\": \"2014-3\"}, {\"data\": [{\"alignmentgroup\": \"True\", \"hoverlabel\": {\"namelength\": 0}, \"hovertemplate\": \"YearMonth=2014-2<br>Item Type=%{x}<br>Total Profit=%{y}\", \"legendgroup\": \"\", \"marker\": {\"color\": \"#636efa\"}, \"name\": \"\", \"offsetgroup\": \"\", \"orientation\": \"v\", \"showlegend\": false, \"textposition\": \"auto\", \"x\": [\"Office Supplies\", \"Cereal\", \"Household\", \"Cosmetics\", \"Vegetables\", \"Snacks\", \"Baby Food\", \"Beverages\"], \"xaxis\": \"x\", \"y\": [1656526.25, 1346656.59, 1287722.1, 1047566.75, 594179.56, 436267.68, 391012.94, 1785.24], \"yaxis\": \"y\", \"type\": \"bar\"}], \"name\": \"2014-2\"}, {\"data\": [{\"alignmentgroup\": \"True\", \"hoverlabel\": {\"namelength\": 0}, \"hovertemplate\": \"YearMonth=2014-12<br>Item Type=%{x}<br>Total Profit=%{y}\", \"legendgroup\": \"\", \"marker\": {\"color\": \"#636efa\"}, \"name\": \"\", \"offsetgroup\": \"\", \"orientation\": \"v\", \"showlegend\": false, \"textposition\": \"auto\", \"x\": [\"Office Supplies\", \"Baby Food\", \"Cosmetics\", \"Meat\", \"Beverages\", \"Household\", \"Personal Care\", \"Snacks\"], \"xaxis\": \"x\", \"y\": [1060626.25, 776370.14, 614456.58, 337937.6, 295331.94, 174016.5, 155021.16, 100851.06], \"yaxis\": \"y\", \"type\": \"bar\"}], \"name\": \"2014-12\"}, {\"data\": [{\"alignmentgroup\": \"True\", \"hoverlabel\": {\"namelength\": 0}, \"hovertemplate\": \"YearMonth=2014-11<br>Item Type=%{x}<br>Total Profit=%{y}\", \"legendgroup\": \"\", \"marker\": {\"color\": \"#636efa\"}, \"name\": \"\", \"offsetgroup\": \"\", \"orientation\": \"v\", \"showlegend\": false, \"textposition\": \"auto\", \"x\": [\"Cosmetics\", \"Cereal\", \"Baby Food\", \"Meat\", \"Vegetables\"], \"xaxis\": \"x\", \"y\": [1454944.16, 844085.52, 705337.88, 473101.19999999995, 259148.65], \"yaxis\": \"y\", \"type\": \"bar\"}], \"name\": \"2014-11\"}, {\"data\": [{\"alignmentgroup\": \"True\", \"hoverlabel\": {\"namelength\": 0}, \"hovertemplate\": \"YearMonth=2014-10<br>Item Type=%{x}<br>Total Profit=%{y}\", \"legendgroup\": \"\", \"marker\": {\"color\": \"#636efa\"}, \"name\": \"\", \"offsetgroup\": \"\", \"orientation\": \"v\", \"showlegend\": false, \"textposition\": \"auto\", \"x\": [\"Cosmetics\", \"Household\", \"Baby Food\", \"Beverages\", \"Vegetables\", \"Snacks\", \"Cereal\", \"Fruits\"], \"xaxis\": \"x\", \"y\": [3770197.08, 927093.62, 543334.48, 251640.54, 187432.97, 109066.92, 98600.67, 27319.760000000002], \"yaxis\": \"y\", \"type\": \"bar\"}], \"name\": \"2014-10\"}, {\"data\": [{\"alignmentgroup\": \"True\", \"hoverlabel\": {\"namelength\": 0}, \"hovertemplate\": \"YearMonth=2014-1<br>Item Type=%{x}<br>Total Profit=%{y}\", \"legendgroup\": \"\", \"marker\": {\"color\": \"#636efa\"}, \"name\": \"\", \"offsetgroup\": \"\", \"orientation\": \"v\", \"showlegend\": false, \"textposition\": \"auto\", \"x\": [\"Household\", \"Vegetables\", \"Baby Food\", \"Meat\", \"Snacks\", \"Fruits\"], \"xaxis\": \"x\", \"y\": [1732044.23, 1292839.27, 607560.68, 425282.0, 333927.84, 706.13], \"yaxis\": \"y\", \"type\": \"bar\"}], \"name\": \"2014-1\"}, {\"data\": [{\"alignmentgroup\": \"True\", \"hoverlabel\": {\"namelength\": 0}, \"hovertemplate\": \"YearMonth=2013-9<br>Item Type=%{x}<br>Total Profit=%{y}\", \"legendgroup\": \"\", \"marker\": {\"color\": \"#636efa\"}, \"name\": \"\", \"offsetgroup\": \"\", \"orientation\": \"v\", \"showlegend\": false, \"textposition\": \"auto\", \"x\": [\"Baby Food\", \"Vegetables\", \"Snacks\", \"Clothes\", \"Meat\", \"Fruits\", \"Household\"], \"xaxis\": \"x\", \"y\": [630854.6599999999, 622524.93, 581616.72, 366832.8, 304246.8, 19651.14, 2154.49], \"yaxis\": \"y\", \"type\": \"bar\"}], \"name\": \"2013-9\"}, {\"data\": [{\"alignmentgroup\": \"True\", \"hoverlabel\": {\"namelength\": 0}, \"hovertemplate\": \"YearMonth=2013-8<br>Item Type=%{x}<br>Total Profit=%{y}\", \"legendgroup\": \"\", \"marker\": {\"color\": \"#636efa\"}, \"name\": \"\", \"offsetgroup\": \"\", \"orientation\": \"v\", \"showlegend\": false, \"textposition\": \"auto\", \"x\": [\"Cosmetics\", \"Baby Food\", \"Household\", \"Office Supplies\", \"Cereal\", \"Meat\", \"Beverages\", \"Snacks\", \"Clothes\", \"Personal Care\"], \"xaxis\": \"x\", \"y\": [2608919.35, 1678604.46, 774953.48, 744622.5, 629254.77, 484941.60000000003, 456285.42000000004, 309776.52, 238753.44, 159807.62], \"yaxis\": \"y\", \"type\": \"bar\"}], \"name\": \"2013-8\"}, {\"data\": [{\"alignmentgroup\": \"True\", \"hoverlabel\": {\"namelength\": 0}, \"hovertemplate\": \"YearMonth=2013-7<br>Item Type=%{x}<br>Total Profit=%{y}\", \"legendgroup\": \"\", \"marker\": {\"color\": \"#636efa\"}, \"name\": \"\", \"offsetgroup\": \"\", \"orientation\": \"v\", \"showlegend\": false, \"textposition\": \"auto\", \"x\": [\"Household\", \"Snacks\", \"Meat\", \"Beverages\", \"Fruits\"], \"xaxis\": \"x\", \"y\": [1575926.57, 1082398.2, 185614.0, 28422.9, 10093.08], \"yaxis\": \"y\", \"type\": \"bar\"}], \"name\": \"2013-7\"}, {\"data\": [{\"alignmentgroup\": \"True\", \"hoverlabel\": {\"namelength\": 0}, \"hovertemplate\": \"YearMonth=2013-6<br>Item Type=%{x}<br>Total Profit=%{y}\", \"legendgroup\": \"\", \"marker\": {\"color\": \"#636efa\"}, \"name\": \"\", \"offsetgroup\": \"\", \"orientation\": \"v\", \"showlegend\": false, \"textposition\": \"auto\", \"x\": [\"Household\", \"Baby Food\", \"Cosmetics\", \"Meat\", \"Snacks\", \"Vegetables\", \"Personal Care\", \"Beverages\"], \"xaxis\": \"x\", \"y\": [1207840.24, 816727.2, 769027.01, 570856.0, 371037.06, 347909.43, 198500.26, 115586.46], \"yaxis\": \"y\", \"type\": \"bar\"}], \"name\": \"2013-6\"}, {\"data\": [{\"alignmentgroup\": \"True\", \"hoverlabel\": {\"namelength\": 0}, \"hovertemplate\": \"YearMonth=2013-5<br>Item Type=%{x}<br>Total Profit=%{y}\", \"legendgroup\": \"\", \"marker\": {\"color\": \"#636efa\"}, \"name\": \"\", \"offsetgroup\": \"\", \"orientation\": \"v\", \"showlegend\": false, \"textposition\": \"auto\", \"x\": [\"Cereal\", \"Snacks\", \"Vegetables\", \"Personal Care\", \"Fruits\"], \"xaxis\": \"x\", \"y\": [1052449.2, 86790.36, 85288.63, 76934.2, 4550.08], \"yaxis\": \"y\", \"type\": \"bar\"}], \"name\": \"2013-5\"}, {\"data\": [{\"alignmentgroup\": \"True\", \"hoverlabel\": {\"namelength\": 0}, \"hovertemplate\": \"YearMonth=2013-4<br>Item Type=%{x}<br>Total Profit=%{y}\", \"legendgroup\": \"\", \"marker\": {\"color\": \"#636efa\"}, \"name\": \"\", \"offsetgroup\": \"\", \"orientation\": \"v\", \"showlegend\": false, \"textposition\": \"auto\", \"x\": [\"Snacks\", \"Vegetables\", \"Baby Food\", \"Clothes\", \"Beverages\", \"Personal Care\", \"Fruits\"], \"xaxis\": \"x\", \"y\": [664547.28, 524610.3, 304355.5, 282229.92, 250653.95999999996, 152139.26, 35400.49], \"yaxis\": \"y\", \"type\": \"bar\"}], \"name\": \"2013-4\"}, {\"data\": [{\"alignmentgroup\": \"True\", \"hoverlabel\": {\"namelength\": 0}, \"hovertemplate\": \"YearMonth=2013-3<br>Item Type=%{x}<br>Total Profit=%{y}\", \"legendgroup\": \"\", \"marker\": {\"color\": \"#636efa\"}, \"name\": \"\", \"offsetgroup\": \"\", \"orientation\": \"v\", \"showlegend\": false, \"textposition\": \"auto\", \"x\": [\"Office Supplies\", \"Cereal\", \"Household\", \"Clothes\", \"Personal Care\", \"Beverages\", \"Fruits\"], \"xaxis\": \"x\", \"y\": [1032725.0, 595236.21, 513928.73, 218263.68, 210278.46, 48655.62, 23618.0], \"yaxis\": \"y\", \"type\": \"bar\"}], \"name\": \"2013-3\"}, {\"data\": [{\"alignmentgroup\": \"True\", \"hoverlabel\": {\"namelength\": 0}, \"hovertemplate\": \"YearMonth=2013-2<br>Item Type=%{x}<br>Total Profit=%{y}\", \"legendgroup\": \"\", \"marker\": {\"color\": \"#636efa\"}, \"name\": \"\", \"offsetgroup\": \"\", \"orientation\": \"v\", \"showlegend\": false, \"textposition\": \"auto\", \"x\": [\"Household\", \"Cosmetics\", \"Baby Food\", \"Meat\", \"Office Supplies\", \"Personal Care\", \"Snacks\", \"Beverages\", \"Cereal\", \"Fruits\"], \"xaxis\": \"x\", \"y\": [4253791.91, 2270220.59, 771577.14, 621592.3999999999, 597415.0, 467519.36, 423971.46, 116134.56, 108256.98, 9707.48], \"yaxis\": \"y\", \"type\": \"bar\"}], \"name\": \"2013-2\"}, {\"data\": [{\"alignmentgroup\": \"True\", \"hoverlabel\": {\"namelength\": 0}, \"hovertemplate\": \"YearMonth=2013-12<br>Item Type=%{x}<br>Total Profit=%{y}\", \"legendgroup\": \"\", \"marker\": {\"color\": \"#636efa\"}, \"name\": \"\", \"offsetgroup\": \"\", \"orientation\": \"v\", \"showlegend\": false, \"textposition\": \"auto\", \"x\": [\"Office Supplies\", \"Cereal\", \"Baby Food\", \"Vegetables\", \"Beverages\", \"Meat\", \"Clothes\", \"Fruits\"], \"xaxis\": \"x\", \"y\": [1625216.25, 1089125.46, 539116.64, 303024.0, 20592.9, 14185.6, 12852.0, 7107.09], \"yaxis\": \"y\", \"type\": \"bar\"}], \"name\": \"2013-12\"}, {\"data\": [{\"alignmentgroup\": \"True\", \"hoverlabel\": {\"namelength\": 0}, \"hovertemplate\": \"YearMonth=2013-11<br>Item Type=%{x}<br>Total Profit=%{y}\", \"legendgroup\": \"\", \"marker\": {\"color\": \"#636efa\"}, \"name\": \"\", \"offsetgroup\": \"\", \"orientation\": \"v\", \"showlegend\": false, \"textposition\": \"auto\", \"x\": [\"Office Supplies\", \"Baby Food\", \"Household\", \"Cosmetics\", \"Personal Care\", \"Snacks\"], \"xaxis\": \"x\", \"y\": [1439376.25, 988124.88, 960902.54, 314704.7, 311420.62, 242064.6], \"yaxis\": \"y\", \"type\": \"bar\"}], \"name\": \"2013-11\"}, {\"data\": [{\"alignmentgroup\": \"True\", \"hoverlabel\": {\"namelength\": 0}, \"hovertemplate\": \"YearMonth=2013-10<br>Item Type=%{x}<br>Total Profit=%{y}\", \"legendgroup\": \"\", \"marker\": {\"color\": \"#636efa\"}, \"name\": \"\", \"offsetgroup\": \"\", \"orientation\": \"v\", \"showlegend\": false, \"textposition\": \"auto\", \"x\": [\"Office Supplies\", \"Cosmetics\", \"Household\", \"Clothes\", \"Beverages\", \"Vegetables\", \"Snacks\", \"Personal Care\", \"Cereal\", \"Fruits\"], \"xaxis\": \"x\", \"y\": [3004750.0, 1984378.31, 715787.87, 434838.24, 324882.36, 294627.71, 257393.52, 230050.8, 120305.22, 20412.7], \"yaxis\": \"y\", \"type\": \"bar\"}], \"name\": \"2013-10\"}, {\"data\": [{\"alignmentgroup\": \"True\", \"hoverlabel\": {\"namelength\": 0}, \"hovertemplate\": \"YearMonth=2013-1<br>Item Type=%{x}<br>Total Profit=%{y}\", \"legendgroup\": \"\", \"marker\": {\"color\": \"#636efa\"}, \"name\": \"\", \"offsetgroup\": \"\", \"orientation\": \"v\", \"showlegend\": false, \"textposition\": \"auto\", \"x\": [\"Household\", \"Office Supplies\", \"Baby Food\", \"Clothes\", \"Vegetables\", \"Personal Care\"], \"xaxis\": \"x\", \"y\": [2280941.99, 709398.75, 688562.38, 632391.84, 432061.72, 80618.02], \"yaxis\": \"y\", \"type\": \"bar\"}], \"name\": \"2013-1\"}, {\"data\": [{\"alignmentgroup\": \"True\", \"hoverlabel\": {\"namelength\": 0}, \"hovertemplate\": \"YearMonth=2012-9<br>Item Type=%{x}<br>Total Profit=%{y}\", \"legendgroup\": \"\", \"marker\": {\"color\": \"#636efa\"}, \"name\": \"\", \"offsetgroup\": \"\", \"orientation\": \"v\", \"showlegend\": false, \"textposition\": \"auto\", \"x\": [\"Vegetables\", \"Cereal\", \"Meat\", \"Snacks\", \"Household\", \"Personal Care\", \"Clothes\", \"Fruits\"], \"xaxis\": \"x\", \"y\": [660339.8, 633507.09, 536593.2, 460143.3, 412004.78, 170884.14, 141372.0, 20750.1], \"yaxis\": \"y\", \"type\": \"bar\"}], \"name\": \"2012-9\"}, {\"data\": [{\"alignmentgroup\": \"True\", \"hoverlabel\": {\"namelength\": 0}, \"hovertemplate\": \"YearMonth=2012-8<br>Item Type=%{x}<br>Total Profit=%{y}\", \"legendgroup\": \"\", \"marker\": {\"color\": \"#636efa\"}, \"name\": \"\", \"offsetgroup\": \"\", \"orientation\": \"v\", \"showlegend\": false, \"textposition\": \"auto\", \"x\": [\"Household\", \"Cosmetics\", \"Office Supplies\", \"Vegetables\", \"Meat\", \"Snacks\", \"Beverages\"], \"xaxis\": \"x\", \"y\": [1489746.97, 1322802.96, 778962.5, 687801.35, 551007.6, 513463.68, 199445.76], \"yaxis\": \"y\", \"type\": \"bar\"}], \"name\": \"2012-8\"}, {\"data\": [{\"alignmentgroup\": \"True\", \"hoverlabel\": {\"namelength\": 0}, \"hovertemplate\": \"YearMonth=2012-7<br>Item Type=%{x}<br>Total Profit=%{y}\", \"legendgroup\": \"\", \"marker\": {\"color\": \"#636efa\"}, \"name\": \"\", \"offsetgroup\": \"\", \"orientation\": \"v\", \"showlegend\": false, \"textposition\": \"auto\", \"x\": [\"Household\", \"Clothes\", \"Office Supplies\", \"Cereal\", \"Meat\", \"Snacks\", \"Personal Care\", \"Vegetables\", \"Beverages\", \"Baby Food\"], \"xaxis\": \"x\", \"y\": [1452623.45, 1198100.16, 526967.5, 411146.19, 403717.6, 262135.56, 207972.94, 201700.35, 184537.44, 7668.8], \"yaxis\": \"y\", \"type\": \"bar\"}], \"name\": \"2012-7\"}, {\"data\": [{\"alignmentgroup\": \"True\", \"hoverlabel\": {\"namelength\": 0}, \"hovertemplate\": \"YearMonth=2012-6<br>Item Type=%{x}<br>Total Profit=%{y}\", \"legendgroup\": \"\", \"marker\": {\"color\": \"#636efa\"}, \"name\": \"\", \"offsetgroup\": \"\", \"orientation\": \"v\", \"showlegend\": false, \"textposition\": \"auto\", \"x\": [\"Cereal\", \"Household\", \"Vegetables\", \"Office Supplies\", \"Meat\", \"Clothes\", \"Beverages\"], \"xaxis\": \"x\", \"y\": [1722455.3699999999, 1293688.38, 930346.81, 743865.0, 359730.8, 279953.28, 34342.38], \"yaxis\": \"y\", \"type\": \"bar\"}], \"name\": \"2012-6\"}, {\"data\": [{\"alignmentgroup\": \"True\", \"hoverlabel\": {\"namelength\": 0}, \"hovertemplate\": \"YearMonth=2012-5<br>Item Type=%{x}<br>Total Profit=%{y}\", \"legendgroup\": \"\", \"marker\": {\"color\": \"#636efa\"}, \"name\": \"\", \"offsetgroup\": \"\", \"orientation\": \"v\", \"showlegend\": false, \"textposition\": \"auto\", \"x\": [\"Office Supplies\", \"Meat\", \"Vegetables\", \"Clothes\", \"Cereal\", \"Personal Care\", \"Baby Food\", \"Beverages\"], \"xaxis\": \"x\", \"y\": [693617.5, 691490.8, 609457.02, 536038.56, 449948.61, 421659.56, 234281.84, 228526.37999999998], \"yaxis\": \"y\", \"type\": \"bar\"}], \"name\": \"2012-5\"}, {\"data\": [{\"alignmentgroup\": \"True\", \"hoverlabel\": {\"namelength\": 0}, \"hovertemplate\": \"YearMonth=2012-4<br>Item Type=%{x}<br>Total Profit=%{y}\", \"legendgroup\": \"\", \"marker\": {\"color\": \"#636efa\"}, \"name\": \"\", \"offsetgroup\": \"\", \"orientation\": \"v\", \"showlegend\": false, \"textposition\": \"auto\", \"x\": [\"Household\", \"Cereal\", \"Snacks\", \"Personal Care\", \"Vegetables\", \"Fruits\"], \"xaxis\": \"x\", \"y\": [950958.74, 795981.15, 212454.42, 155998.5, 59784.11, 40741.05], \"yaxis\": \"y\", \"type\": \"bar\"}], \"name\": \"2012-4\"}, {\"data\": [{\"alignmentgroup\": \"True\", \"hoverlabel\": {\"namelength\": 0}, \"hovertemplate\": \"YearMonth=2012-3<br>Item Type=%{x}<br>Total Profit=%{y}\", \"legendgroup\": \"\", \"marker\": {\"color\": \"#636efa\"}, \"name\": \"\", \"offsetgroup\": \"\", \"orientation\": \"v\", \"showlegend\": false, \"textposition\": \"auto\", \"x\": [\"Office Supplies\", \"Household\", \"Cereal\", \"Meat\", \"Snacks\", \"Clothes\", \"Beverages\", \"Vegetables\"], \"xaxis\": \"x\", \"y\": [2150795.0, 1631943.31, 760988.1, 466180.0, 392872.5, 262988.64, 159638.04, 100061.04999999999], \"yaxis\": \"y\", \"type\": \"bar\"}], \"name\": \"2012-3\"}, {\"data\": [{\"alignmentgroup\": \"True\", \"hoverlabel\": {\"namelength\": 0}, \"hovertemplate\": \"YearMonth=2012-2<br>Item Type=%{x}<br>Total Profit=%{y}\", \"legendgroup\": \"\", \"marker\": {\"color\": \"#636efa\"}, \"name\": \"\", \"offsetgroup\": \"\", \"orientation\": \"v\", \"showlegend\": false, \"textposition\": \"auto\", \"x\": [\"Baby Food\", \"Office Supplies\", \"Snacks\", \"Clothes\"], \"xaxis\": \"x\", \"y\": [1240907.7, 901930.0, 304152.24, 133367.04], \"yaxis\": \"y\", \"type\": \"bar\"}], \"name\": \"2012-2\"}, {\"data\": [{\"alignmentgroup\": \"True\", \"hoverlabel\": {\"namelength\": 0}, \"hovertemplate\": \"YearMonth=2012-12<br>Item Type=%{x}<br>Total Profit=%{y}\", \"legendgroup\": \"\", \"marker\": {\"color\": \"#636efa\"}, \"name\": \"\", \"offsetgroup\": \"\", \"orientation\": \"v\", \"showlegend\": false, \"textposition\": \"auto\", \"x\": [\"Meat\", \"Cosmetics\", \"Vegetables\", \"Snacks\", \"Beverages\", \"Personal Care\", \"Fruits\"], \"xaxis\": \"x\", \"y\": [1083539.6, 1032787.8, 552955.67, 456779.76, 81745.2, 62048.56, 5145.35], \"yaxis\": \"y\", \"type\": \"bar\"}], \"name\": \"2012-12\"}, {\"data\": [{\"alignmentgroup\": \"True\", \"hoverlabel\": {\"namelength\": 0}, \"hovertemplate\": \"YearMonth=2012-11<br>Item Type=%{x}<br>Total Profit=%{y}\", \"legendgroup\": \"\", \"marker\": {\"color\": \"#636efa\"}, \"name\": \"\", \"offsetgroup\": \"\", \"orientation\": \"v\", \"showlegend\": false, \"textposition\": \"auto\", \"x\": [\"Cosmetics\", \"Cereal\", \"Clothes\", \"Household\", \"Baby Food\", \"Snacks\", \"Personal Care\", \"Vegetables\"], \"xaxis\": \"x\", \"y\": [1386439.38, 1369158.45, 1173350.88, 619830.2, 598166.4, 363427.74, 169631.14, 106752.83], \"yaxis\": \"y\", \"type\": \"bar\"}], \"name\": \"2012-11\"}, {\"data\": [{\"alignmentgroup\": \"True\", \"hoverlabel\": {\"namelength\": 0}, \"hovertemplate\": \"YearMonth=2012-10<br>Item Type=%{x}<br>Total Profit=%{y}\", \"legendgroup\": \"\", \"marker\": {\"color\": \"#636efa\"}, \"name\": \"\", \"offsetgroup\": \"\", \"orientation\": \"v\", \"showlegend\": false, \"textposition\": \"auto\", \"x\": [\"Cosmetics\", \"Vegetables\", \"Snacks\", \"Cereal\", \"Clothes\", \"Beverages\", \"Personal Care\"], \"xaxis\": \"x\", \"y\": [907775.27, 905599.85, 277519.62, 100638.23999999999, 91873.44, 65818.98, 62725.18], \"yaxis\": \"y\", \"type\": \"bar\"}], \"name\": \"2012-10\"}, {\"data\": [{\"alignmentgroup\": \"True\", \"hoverlabel\": {\"namelength\": 0}, \"hovertemplate\": \"YearMonth=2012-1<br>Item Type=%{x}<br>Total Profit=%{y}\", \"legendgroup\": \"\", \"marker\": {\"color\": \"#636efa\"}, \"name\": \"\", \"offsetgroup\": \"\", \"orientation\": \"v\", \"showlegend\": false, \"textposition\": \"auto\", \"x\": [\"Cosmetics\", \"Snacks\", \"Meat\", \"Baby Food\", \"Clothes\", \"Household\", \"Vegetables\", \"Beverages\", \"Fruits\"], \"xaxis\": \"x\", \"y\": [1631422.21, 1369732.74, 946602.7999999999, 750967.24, 391435.2, 272294.39, 197407.51, 65552.76, 14450.36], \"yaxis\": \"y\", \"type\": \"bar\"}], \"name\": \"2012-1\"}, {\"data\": [{\"alignmentgroup\": \"True\", \"hoverlabel\": {\"namelength\": 0}, \"hovertemplate\": \"YearMonth=2011-9<br>Item Type=%{x}<br>Total Profit=%{y}\", \"legendgroup\": \"\", \"marker\": {\"color\": \"#636efa\"}, \"name\": \"\", \"offsetgroup\": \"\", \"orientation\": \"v\", \"showlegend\": false, \"textposition\": \"auto\", \"x\": [\"Office Supplies\", \"Meat\", \"Snacks\", \"Personal Care\", \"Beverages\", \"Cosmetics\", \"Fruits\"], \"xaxis\": \"x\", \"y\": [1644911.25, 525725.2, 301174.68, 232030.54, 89387.28, 37034.31, 20901.93], \"yaxis\": \"y\", \"type\": \"bar\"}], \"name\": \"2011-9\"}, {\"data\": [{\"alignmentgroup\": \"True\", \"hoverlabel\": {\"namelength\": 0}, \"hovertemplate\": \"YearMonth=2011-8<br>Item Type=%{x}<br>Total Profit=%{y}\", \"legendgroup\": \"\", \"marker\": {\"color\": \"#636efa\"}, \"name\": \"\", \"offsetgroup\": \"\", \"orientation\": \"v\", \"showlegend\": false, \"textposition\": \"auto\", \"x\": [\"Cosmetics\", \"Office Supplies\", \"Clothes\", \"Baby Food\", \"Vegetables\", \"Personal Care\", \"Snacks\", \"Meat\", \"Fruits\"], \"xaxis\": \"x\", \"y\": [1458769.3, 1404910.0, 875551.6799999999, 759211.2000000001, 473601.26, 374722.18000000005, 298913.94, 62519.6, 45896.04], \"yaxis\": \"y\", \"type\": \"bar\"}], \"name\": \"2011-8\"}, {\"data\": [{\"alignmentgroup\": \"True\", \"hoverlabel\": {\"namelength\": 0}, \"hovertemplate\": \"YearMonth=2011-7<br>Item Type=%{x}<br>Total Profit=%{y}\", \"legendgroup\": \"\", \"marker\": {\"color\": \"#636efa\"}, \"name\": \"\", \"offsetgroup\": \"\", \"orientation\": \"v\", \"showlegend\": false, \"textposition\": \"auto\", \"x\": [\"Cosmetics\", \"Household\", \"Cereal\", \"Baby Food\", \"Vegetables\"], \"xaxis\": \"x\", \"y\": [1842500.39, 1068792.77, 1029681.5700000001, 359187.42, 296395.35], \"yaxis\": \"y\", \"type\": \"bar\"}], \"name\": \"2011-7\"}, {\"data\": [{\"alignmentgroup\": \"True\", \"hoverlabel\": {\"namelength\": 0}, \"hovertemplate\": \"YearMonth=2011-6<br>Item Type=%{x}<br>Total Profit=%{y}\", \"legendgroup\": \"\", \"marker\": {\"color\": \"#636efa\"}, \"name\": \"\", \"offsetgroup\": \"\", \"orientation\": \"v\", \"showlegend\": false, \"textposition\": \"auto\", \"x\": [\"Baby Food\", \"Meat\", \"Personal Care\"], \"xaxis\": \"x\", \"y\": [1394954.72, 428256.4, 177725.52], \"yaxis\": \"y\", \"type\": \"bar\"}], \"name\": \"2011-6\"}, {\"data\": [{\"alignmentgroup\": \"True\", \"hoverlabel\": {\"namelength\": 0}, \"hovertemplate\": \"YearMonth=2011-5<br>Item Type=%{x}<br>Total Profit=%{y}\", \"legendgroup\": \"\", \"marker\": {\"color\": \"#636efa\"}, \"name\": \"\", \"offsetgroup\": \"\", \"orientation\": \"v\", \"showlegend\": false, \"textposition\": \"auto\", \"x\": [\"Office Supplies\", \"Cosmetics\", \"Baby Food\", \"Vegetables\", \"Beverages\", \"Personal Care\", \"Fruits\"], \"xaxis\": \"x\", \"y\": [2193341.25, 1571089.32, 721442.36, 603270.28, 57832.38, 20799.8, 17168.84], \"yaxis\": \"y\", \"type\": \"bar\"}], \"name\": \"2011-5\"}, {\"data\": [{\"alignmentgroup\": \"True\", \"hoverlabel\": {\"namelength\": 0}, \"hovertemplate\": \"YearMonth=2011-4<br>Item Type=%{x}<br>Total Profit=%{y}\", \"legendgroup\": \"\", \"marker\": {\"color\": \"#636efa\"}, \"name\": \"\", \"offsetgroup\": \"\", \"orientation\": \"v\", \"showlegend\": false, \"textposition\": \"auto\", \"x\": [\"Cosmetics\", \"Meat\", \"Clothes\", \"Snacks\", \"Beverages\", \"Fruits\"], \"xaxis\": \"x\", \"y\": [1534402.75, 547518.4, 406637.28, 234069.3, 159089.94, 9331.52], \"yaxis\": \"y\", \"type\": \"bar\"}], \"name\": \"2011-4\"}, {\"data\": [{\"alignmentgroup\": \"True\", \"hoverlabel\": {\"namelength\": 0}, \"hovertemplate\": \"YearMonth=2011-3<br>Item Type=%{x}<br>Total Profit=%{y}\", \"legendgroup\": \"\", \"marker\": {\"color\": \"#636efa\"}, \"name\": \"\", \"offsetgroup\": \"\", \"orientation\": \"v\", \"showlegend\": false, \"textposition\": \"auto\", \"x\": [\"Vegetables\", \"Meat\", \"Clothes\", \"Baby Food\", \"Snacks\", \"Household\", \"Personal Care\", \"Beverages\", \"Fruits\"], \"xaxis\": \"x\", \"y\": [696134.51, 629714.8, 586271.52, 545347.54, 383829.54, 242960.18, 137679.64, 64660.14, 12004.21], \"yaxis\": \"y\", \"type\": \"bar\"}], \"name\": \"2011-3\"}, {\"data\": [{\"alignmentgroup\": \"True\", \"hoverlabel\": {\"namelength\": 0}, \"hovertemplate\": \"YearMonth=2011-2<br>Item Type=%{x}<br>Total Profit=%{y}\", \"legendgroup\": \"\", \"marker\": {\"color\": \"#636efa\"}, \"name\": \"\", \"offsetgroup\": \"\", \"orientation\": \"v\", \"showlegend\": false, \"textposition\": \"auto\", \"x\": [\"Office Supplies\", \"Cosmetics\", \"Clothes\", \"Personal Care\", \"Household\", \"Beverages\", \"Snacks\", \"Baby Food\", \"Fruits\"], \"xaxis\": \"x\", \"y\": [888800.0, 700522.23, 430872.48, 299141.22, 253732.63, 78378.3, 68649.3, 38727.44, 3602.95], \"yaxis\": \"y\", \"type\": \"bar\"}], \"name\": \"2011-2\"}, {\"data\": [{\"alignmentgroup\": \"True\", \"hoverlabel\": {\"namelength\": 0}, \"hovertemplate\": \"YearMonth=2011-12<br>Item Type=%{x}<br>Total Profit=%{y}\", \"legendgroup\": \"\", \"marker\": {\"color\": \"#636efa\"}, \"name\": \"\", \"offsetgroup\": \"\", \"orientation\": \"v\", \"showlegend\": false, \"textposition\": \"auto\", \"x\": [\"Baby Food\", \"Clothes\", \"Meat\", \"Beverages\"], \"xaxis\": \"x\", \"y\": [1154729.56, 314690.4, 95924.4, 65270.880000000005], \"yaxis\": \"y\", \"type\": \"bar\"}], \"name\": \"2011-12\"}, {\"data\": [{\"alignmentgroup\": \"True\", \"hoverlabel\": {\"namelength\": 0}, \"hovertemplate\": \"YearMonth=2011-11<br>Item Type=%{x}<br>Total Profit=%{y}\", \"legendgroup\": \"\", \"marker\": {\"color\": \"#636efa\"}, \"name\": \"\", \"offsetgroup\": \"\", \"orientation\": \"v\", \"showlegend\": false, \"textposition\": \"auto\", \"x\": [\"Clothes\", \"Vegetables\", \"Cereal\", \"Beverages\", \"Personal Care\", \"Fruits\"], \"xaxis\": \"x\", \"y\": [730360.8, 190526.34, 187279.26, 156678.3, 40396.72, 18381.07], \"yaxis\": \"y\", \"type\": \"bar\"}], \"name\": \"2011-11\"}, {\"data\": [{\"alignmentgroup\": \"True\", \"hoverlabel\": {\"namelength\": 0}, \"hovertemplate\": \"YearMonth=2011-10<br>Item Type=%{x}<br>Total Profit=%{y}\", \"legendgroup\": \"\", \"marker\": {\"color\": \"#636efa\"}, \"name\": \"\", \"offsetgroup\": \"\", \"orientation\": \"v\", \"showlegend\": false, \"textposition\": \"auto\", \"x\": [\"Cosmetics\", \"Cereal\", \"Office Supplies\", \"Household\", \"Snacks\", \"Meat\", \"Personal Care\", \"Beverages\", \"Fruits\"], \"xaxis\": \"x\", \"y\": [2258571.3, 1590279.0899999999, 1245456.25, 902565.58, 377709.0, 363906.39999999997, 204915.62, 33653.34, 18889.58], \"yaxis\": \"y\", \"type\": \"bar\"}], \"name\": \"2011-10\"}, {\"data\": [{\"alignmentgroup\": \"True\", \"hoverlabel\": {\"namelength\": 0}, \"hovertemplate\": \"YearMonth=2011-1<br>Item Type=%{x}<br>Total Profit=%{y}\", \"legendgroup\": \"\", \"marker\": {\"color\": \"#636efa\"}, \"name\": \"\", \"offsetgroup\": \"\", \"orientation\": \"v\", \"showlegend\": false, \"textposition\": \"auto\", \"x\": [\"Office Supplies\", \"Clothes\", \"Baby Food\", \"Household\", \"Meat\", \"Beverages\", \"Personal Care\", \"Fruits\"], \"xaxis\": \"x\", \"y\": [1475736.25, 1095577.92, 695272.5800000001, 363114.43, 348691.2, 231846.3, 94275.72, 39803.56], \"yaxis\": \"y\", \"type\": \"bar\"}], \"name\": \"2011-1\"}, {\"data\": [{\"alignmentgroup\": \"True\", \"hoverlabel\": {\"namelength\": 0}, \"hovertemplate\": \"YearMonth=2010-9<br>Item Type=%{x}<br>Total Profit=%{y}\", \"legendgroup\": \"\", \"marker\": {\"color\": \"#636efa\"}, \"name\": \"\", \"offsetgroup\": \"\", \"orientation\": \"v\", \"showlegend\": false, \"textposition\": \"auto\", \"x\": [\"Vegetables\", \"Baby Food\", \"Snacks\", \"Office Supplies\", \"Personal Care\", \"Beverages\", \"Fruits\"], \"xaxis\": \"x\", \"y\": [707308.52, 496842.38, 484460.04, 369028.75, 313275.06, 244421.28000000003, 4070.49], \"yaxis\": \"y\", \"type\": \"bar\"}], \"name\": \"2010-9\"}, {\"data\": [{\"alignmentgroup\": \"True\", \"hoverlabel\": {\"namelength\": 0}, \"hovertemplate\": \"YearMonth=2010-8<br>Item Type=%{x}<br>Total Profit=%{y}\", \"legendgroup\": \"\", \"marker\": {\"color\": \"#636efa\"}, \"name\": \"\", \"offsetgroup\": \"\", \"orientation\": \"v\", \"showlegend\": false, \"textposition\": \"auto\", \"x\": [\"Cosmetics\", \"Household\", \"Clothes\", \"Baby Food\", \"Meat\", \"Snacks\", \"Vegetables\", \"Office Supplies\", \"Personal Care\", \"Beverages\"], \"xaxis\": \"x\", \"y\": [1425734.0, 1312913.06, 1177536.96, 1163548.6800000002, 508851.2, 222986.16, 219376.75, 170690.0, 151487.7, 131183.82], \"yaxis\": \"y\", \"type\": \"bar\"}], \"name\": \"2010-8\"}, {\"data\": [{\"alignmentgroup\": \"True\", \"hoverlabel\": {\"namelength\": 0}, \"hovertemplate\": \"YearMonth=2010-7<br>Item Type=%{x}<br>Total Profit=%{y}\", \"legendgroup\": \"\", \"marker\": {\"color\": \"#636efa\"}, \"name\": \"\", \"offsetgroup\": \"\", \"orientation\": \"v\", \"showlegend\": false, \"textposition\": \"auto\", \"x\": [\"Vegetables\", \"Cosmetics\", \"Meat\", \"Personal Care\", \"Household\", \"Beverages\", \"Baby Food\", \"Fruits\", \"Snacks\"], \"xaxis\": \"x\", \"y\": [945687.4, 819449.31, 742570.3999999999, 720274.52, 367091.95, 137416.5, 129698.58, 45233.28999999999, 27018.6], \"yaxis\": \"y\", \"type\": \"bar\"}], \"name\": \"2010-7\"}, {\"data\": [{\"alignmentgroup\": \"True\", \"hoverlabel\": {\"namelength\": 0}, \"hovertemplate\": \"YearMonth=2010-6<br>Item Type=%{x}<br>Total Profit=%{y}\", \"legendgroup\": \"\", \"marker\": {\"color\": \"#636efa\"}, \"name\": \"\", \"offsetgroup\": \"\", \"orientation\": \"v\", \"showlegend\": false, \"textposition\": \"auto\", \"x\": [\"Office Supplies\", \"Clothes\", \"Snacks\", \"Vegetables\", \"Personal Care\"], \"xaxis\": \"x\", \"y\": [2158622.5, 1353939.8399999999, 614039.0399999999, 126701.91, 119536.2], \"yaxis\": \"y\", \"type\": \"bar\"}], \"name\": \"2010-6\"}, {\"data\": [{\"alignmentgroup\": \"True\", \"hoverlabel\": {\"namelength\": 0}, \"hovertemplate\": \"YearMonth=2010-5<br>Item Type=%{x}<br>Total Profit=%{y}\", \"legendgroup\": \"\", \"marker\": {\"color\": \"#636efa\"}, \"name\": \"\", \"offsetgroup\": \"\", \"orientation\": \"v\", \"showlegend\": false, \"textposition\": \"auto\", \"x\": [\"Cosmetics\", \"Cereal\", \"Snacks\", \"Vegetables\", \"Office Supplies\", \"Beverages\", \"Fruits\"], \"xaxis\": \"x\", \"y\": [3298140.03, 1111715.9100000001, 369272.58, 355295.64, 296940.0, 152074.26, 4822.41], \"yaxis\": \"y\", \"type\": \"bar\"}], \"name\": \"2010-5\"}, {\"data\": [{\"alignmentgroup\": \"True\", \"hoverlabel\": {\"namelength\": 0}, \"hovertemplate\": \"YearMonth=2010-4<br>Item Type=%{x}<br>Total Profit=%{y}\", \"legendgroup\": \"\", \"marker\": {\"color\": \"#636efa\"}, \"name\": \"\", \"offsetgroup\": \"\", \"orientation\": \"v\", \"showlegend\": false, \"textposition\": \"auto\", \"x\": [\"Office Supplies\", \"Household\", \"Cereal\", \"Baby Food\", \"Snacks\", \"Clothes\", \"Cosmetics\", \"Beverages\", \"Personal Care\"], \"xaxis\": \"x\", \"y\": [1232831.25, 1139890.94, 847186.1699999999, 614558.46, 359733.36, 334298.88, 288450.33, 101194.92, 95152.82], \"yaxis\": \"y\", \"type\": \"bar\"}], \"name\": \"2010-4\"}, {\"data\": [{\"alignmentgroup\": \"True\", \"hoverlabel\": {\"namelength\": 0}, \"hovertemplate\": \"YearMonth=2010-3<br>Item Type=%{x}<br>Total Profit=%{y}\", \"legendgroup\": \"\", \"marker\": {\"color\": \"#636efa\"}, \"name\": \"\", \"offsetgroup\": \"\", \"orientation\": \"v\", \"showlegend\": false, \"textposition\": \"auto\", \"x\": [\"Snacks\", \"Cereal\", \"Office Supplies\", \"Vegetables\", \"Beverages\", \"Fruits\"], \"xaxis\": \"x\", \"y\": [845516.76, 454643.88, 395288.75, 216788.42, 129696.12, 21183.9], \"yaxis\": \"y\", \"type\": \"bar\"}], \"name\": \"2010-3\"}, {\"data\": [{\"alignmentgroup\": \"True\", \"hoverlabel\": {\"namelength\": 0}, \"hovertemplate\": \"YearMonth=2010-2<br>Item Type=%{x}<br>Total Profit=%{y}\", \"legendgroup\": \"\", \"marker\": {\"color\": \"#636efa\"}, \"name\": \"\", \"offsetgroup\": \"\", \"orientation\": \"v\", \"showlegend\": false, \"textposition\": \"auto\", \"x\": [\"Household\", \"Cosmetics\", \"Office Supplies\", \"Meat\", \"Personal Care\", \"Snacks\", \"Beverages\", \"Fruits\"], \"xaxis\": \"x\", \"y\": [4154353.91, 1726181.36, 715585.0, 462519.2, 171610.88, 148547.16, 71581.86, 19120.94], \"yaxis\": \"y\", \"type\": \"bar\"}], \"name\": \"2010-2\"}, {\"data\": [{\"alignmentgroup\": \"True\", \"hoverlabel\": {\"namelength\": 0}, \"hovertemplate\": \"YearMonth=2010-12<br>Item Type=%{x}<br>Total Profit=%{y}\", \"legendgroup\": \"\", \"marker\": {\"color\": \"#636efa\"}, \"name\": \"\", \"offsetgroup\": \"\", \"orientation\": \"v\", \"showlegend\": false, \"textposition\": \"auto\", \"x\": [\"Cosmetics\", \"Household\", \"Clothes\", \"Vegetables\", \"Snacks\", \"Meat\", \"Personal Care\"], \"xaxis\": \"x\", \"y\": [1283682.21, 665240.22, 539563.6799999999, 459649.53, 301009.26, 291319.6, 164092.88], \"yaxis\": \"y\", \"type\": \"bar\"}], \"name\": \"2010-12\"}, {\"data\": [{\"alignmentgroup\": \"True\", \"hoverlabel\": {\"namelength\": 0}, \"hovertemplate\": \"YearMonth=2010-11<br>Item Type=%{x}<br>Total Profit=%{y}\", \"legendgroup\": \"\", \"marker\": {\"color\": \"#636efa\"}, \"name\": \"\", \"offsetgroup\": \"\", \"orientation\": \"v\", \"showlegend\": false, \"textposition\": \"auto\", \"x\": [\"Baby Food\", \"Cereal\", \"Meat\", \"Vegetables\", \"Clothes\", \"Office Supplies\", \"Fruits\", \"Personal Care\"], \"xaxis\": \"x\", \"y\": [702845.52, 422928.66, 415500.8, 403905.74, 126169.92, 52141.25, 35655.95, 34206.9], \"yaxis\": \"y\", \"type\": \"bar\"}], \"name\": \"2010-11\"}, {\"data\": [{\"alignmentgroup\": \"True\", \"hoverlabel\": {\"namelength\": 0}, \"hovertemplate\": \"YearMonth=2010-10<br>Item Type=%{x}<br>Total Profit=%{y}\", \"legendgroup\": \"\", \"marker\": {\"color\": \"#636efa\"}, \"name\": \"\", \"offsetgroup\": \"\", \"orientation\": \"v\", \"showlegend\": false, \"textposition\": \"auto\", \"x\": [\"Baby Food\", \"Cereal\", \"Clothes\", \"Cosmetics\", \"Vegetables\", \"Snacks\", \"Meat\", \"Personal Care\", \"Fruits\"], \"xaxis\": \"x\", \"y\": [1244071.08, 1125535.95, 973961.28, 856135.88, 597336.06, 475031.1, 460574.4, 103848.64, 23302.29], \"yaxis\": \"y\", \"type\": \"bar\"}], \"name\": \"2010-10\"}, {\"data\": [{\"alignmentgroup\": \"True\", \"hoverlabel\": {\"namelength\": 0}, \"hovertemplate\": \"YearMonth=2010-1<br>Item Type=%{x}<br>Total Profit=%{y}\", \"legendgroup\": \"\", \"marker\": {\"color\": \"#636efa\"}, \"name\": \"\", \"offsetgroup\": \"\", \"orientation\": \"v\", \"showlegend\": false, \"textposition\": \"auto\", \"x\": [\"Household\", \"Vegetables\", \"Cosmetics\", \"Meat\", \"Snacks\", \"Beverages\", \"Personal Care\"], \"xaxis\": \"x\", \"y\": [1553221.56, 747711.72, 444585.59, 406692.0, 235944.06, 164257.74, 74277.84], \"yaxis\": \"y\", \"type\": \"bar\"}], \"name\": \"2010-1\"}]);\n",
       "                        }).then(function(){\n",
       "                            \n",
       "var gd = document.getElementById('92274c5e-a7b1-49d1-831e-41b2c3f64e07');\n",
       "var x = new MutationObserver(function (mutations, observer) {{\n",
       "        var display = window.getComputedStyle(gd).display;\n",
       "        if (!display || display === 'none') {{\n",
       "            console.log([gd, 'removed!']);\n",
       "            Plotly.purge(gd);\n",
       "            observer.disconnect();\n",
       "        }}\n",
       "}});\n",
       "\n",
       "// Listen for the removal of the full notebook cells\n",
       "var notebookContainer = gd.closest('#notebook-container');\n",
       "if (notebookContainer) {{\n",
       "    x.observe(notebookContainer, {childList: true});\n",
       "}}\n",
       "\n",
       "// Listen for the clearing of the current output cell\n",
       "var outputEl = gd.closest('.output');\n",
       "if (outputEl) {{\n",
       "    x.observe(outputEl, {childList: true});\n",
       "}}\n",
       "\n",
       "                        })\n",
       "                };\n",
       "                });\n",
       "            </script>\n",
       "        </div>"
      ]
     },
     "metadata": {},
     "output_type": "display_data"
    }
   ],
   "source": [
    "fig = px.bar(df_profit_month, \n",
    "             y=\"Total Profit\", x=\"Item Type\", height=800,\n",
    "             title='Number of Cases outside China',\n",
    "             animation_frame=\"YearMonth\")\n",
    "fig.update_layout(uniformtext_minsize=8, uniformtext_mode='hide')\n",
    "fig.show()"
   ]
  },
  {
   "cell_type": "code",
   "execution_count": 55,
   "metadata": {},
   "outputs": [
    {
     "data": {
      "application/vnd.plotly.v1+json": {
       "config": {
        "plotlyServerURL": "https://plot.ly"
       },
       "data": [
        {
         "alignmentgroup": "True",
         "hoverlabel": {
          "namelength": 0
         },
         "hovertemplate": "Item Type=%{x}<br>Total Profit=%{marker.color}",
         "legendgroup": "",
         "marker": {
          "color": "rgb(158,202,225)",
          "coloraxis": "coloraxis",
          "line": {
           "color": "rgb(8,48,107)",
           "width": 1.5
          }
         },
         "name": "",
         "offsetgroup": "",
         "opacity": 0.6,
         "orientation": "v",
         "showlegend": false,
         "textposition": "auto",
         "type": "bar",
         "x": [
          "Cosmetics",
          "Household",
          "Office Supplies",
          "Baby Food",
          "Cereal",
          "Vegetables",
          "Clothes",
          "Meat",
          "Snacks",
          "Personal Care",
          "Beverages",
          "Fruits"
         ],
         "xaxis": "x",
         "y": [
          74081138.64000002,
          61484504.16,
          56115852.5,
          41854201.48,
          34350683.91000001,
          29751653.87999999,
          27759291.839999992,
          23332738.000000004,
          21788240.159999996,
          11921643.439999996,
          7906812.299999999,
          855851.2499999999
         ],
         "yaxis": "y"
        }
       ],
       "layout": {
        "barmode": "relative",
        "coloraxis": {
         "colorbar": {
          "title": {
           "text": "Total Profit"
          }
         },
         "colorscale": [
          [
           0,
           "#0d0887"
          ],
          [
           0.1111111111111111,
           "#46039f"
          ],
          [
           0.2222222222222222,
           "#7201a8"
          ],
          [
           0.3333333333333333,
           "#9c179e"
          ],
          [
           0.4444444444444444,
           "#bd3786"
          ],
          [
           0.5555555555555556,
           "#d8576b"
          ],
          [
           0.6666666666666666,
           "#ed7953"
          ],
          [
           0.7777777777777778,
           "#fb9f3a"
          ],
          [
           0.8888888888888888,
           "#fdca26"
          ],
          [
           1,
           "#f0f921"
          ]
         ]
        },
        "height": 800,
        "legend": {
         "tracegroupgap": 0
        },
        "template": {
         "data": {
          "bar": [
           {
            "error_x": {
             "color": "#2a3f5f"
            },
            "error_y": {
             "color": "#2a3f5f"
            },
            "marker": {
             "line": {
              "color": "#E5ECF6",
              "width": 0.5
             }
            },
            "type": "bar"
           }
          ],
          "barpolar": [
           {
            "marker": {
             "line": {
              "color": "#E5ECF6",
              "width": 0.5
             }
            },
            "type": "barpolar"
           }
          ],
          "carpet": [
           {
            "aaxis": {
             "endlinecolor": "#2a3f5f",
             "gridcolor": "white",
             "linecolor": "white",
             "minorgridcolor": "white",
             "startlinecolor": "#2a3f5f"
            },
            "baxis": {
             "endlinecolor": "#2a3f5f",
             "gridcolor": "white",
             "linecolor": "white",
             "minorgridcolor": "white",
             "startlinecolor": "#2a3f5f"
            },
            "type": "carpet"
           }
          ],
          "choropleth": [
           {
            "colorbar": {
             "outlinewidth": 0,
             "ticks": ""
            },
            "type": "choropleth"
           }
          ],
          "contour": [
           {
            "colorbar": {
             "outlinewidth": 0,
             "ticks": ""
            },
            "colorscale": [
             [
              0,
              "#0d0887"
             ],
             [
              0.1111111111111111,
              "#46039f"
             ],
             [
              0.2222222222222222,
              "#7201a8"
             ],
             [
              0.3333333333333333,
              "#9c179e"
             ],
             [
              0.4444444444444444,
              "#bd3786"
             ],
             [
              0.5555555555555556,
              "#d8576b"
             ],
             [
              0.6666666666666666,
              "#ed7953"
             ],
             [
              0.7777777777777778,
              "#fb9f3a"
             ],
             [
              0.8888888888888888,
              "#fdca26"
             ],
             [
              1,
              "#f0f921"
             ]
            ],
            "type": "contour"
           }
          ],
          "contourcarpet": [
           {
            "colorbar": {
             "outlinewidth": 0,
             "ticks": ""
            },
            "type": "contourcarpet"
           }
          ],
          "heatmap": [
           {
            "colorbar": {
             "outlinewidth": 0,
             "ticks": ""
            },
            "colorscale": [
             [
              0,
              "#0d0887"
             ],
             [
              0.1111111111111111,
              "#46039f"
             ],
             [
              0.2222222222222222,
              "#7201a8"
             ],
             [
              0.3333333333333333,
              "#9c179e"
             ],
             [
              0.4444444444444444,
              "#bd3786"
             ],
             [
              0.5555555555555556,
              "#d8576b"
             ],
             [
              0.6666666666666666,
              "#ed7953"
             ],
             [
              0.7777777777777778,
              "#fb9f3a"
             ],
             [
              0.8888888888888888,
              "#fdca26"
             ],
             [
              1,
              "#f0f921"
             ]
            ],
            "type": "heatmap"
           }
          ],
          "heatmapgl": [
           {
            "colorbar": {
             "outlinewidth": 0,
             "ticks": ""
            },
            "colorscale": [
             [
              0,
              "#0d0887"
             ],
             [
              0.1111111111111111,
              "#46039f"
             ],
             [
              0.2222222222222222,
              "#7201a8"
             ],
             [
              0.3333333333333333,
              "#9c179e"
             ],
             [
              0.4444444444444444,
              "#bd3786"
             ],
             [
              0.5555555555555556,
              "#d8576b"
             ],
             [
              0.6666666666666666,
              "#ed7953"
             ],
             [
              0.7777777777777778,
              "#fb9f3a"
             ],
             [
              0.8888888888888888,
              "#fdca26"
             ],
             [
              1,
              "#f0f921"
             ]
            ],
            "type": "heatmapgl"
           }
          ],
          "histogram": [
           {
            "marker": {
             "colorbar": {
              "outlinewidth": 0,
              "ticks": ""
             }
            },
            "type": "histogram"
           }
          ],
          "histogram2d": [
           {
            "colorbar": {
             "outlinewidth": 0,
             "ticks": ""
            },
            "colorscale": [
             [
              0,
              "#0d0887"
             ],
             [
              0.1111111111111111,
              "#46039f"
             ],
             [
              0.2222222222222222,
              "#7201a8"
             ],
             [
              0.3333333333333333,
              "#9c179e"
             ],
             [
              0.4444444444444444,
              "#bd3786"
             ],
             [
              0.5555555555555556,
              "#d8576b"
             ],
             [
              0.6666666666666666,
              "#ed7953"
             ],
             [
              0.7777777777777778,
              "#fb9f3a"
             ],
             [
              0.8888888888888888,
              "#fdca26"
             ],
             [
              1,
              "#f0f921"
             ]
            ],
            "type": "histogram2d"
           }
          ],
          "histogram2dcontour": [
           {
            "colorbar": {
             "outlinewidth": 0,
             "ticks": ""
            },
            "colorscale": [
             [
              0,
              "#0d0887"
             ],
             [
              0.1111111111111111,
              "#46039f"
             ],
             [
              0.2222222222222222,
              "#7201a8"
             ],
             [
              0.3333333333333333,
              "#9c179e"
             ],
             [
              0.4444444444444444,
              "#bd3786"
             ],
             [
              0.5555555555555556,
              "#d8576b"
             ],
             [
              0.6666666666666666,
              "#ed7953"
             ],
             [
              0.7777777777777778,
              "#fb9f3a"
             ],
             [
              0.8888888888888888,
              "#fdca26"
             ],
             [
              1,
              "#f0f921"
             ]
            ],
            "type": "histogram2dcontour"
           }
          ],
          "mesh3d": [
           {
            "colorbar": {
             "outlinewidth": 0,
             "ticks": ""
            },
            "type": "mesh3d"
           }
          ],
          "parcoords": [
           {
            "line": {
             "colorbar": {
              "outlinewidth": 0,
              "ticks": ""
             }
            },
            "type": "parcoords"
           }
          ],
          "pie": [
           {
            "automargin": true,
            "type": "pie"
           }
          ],
          "scatter": [
           {
            "marker": {
             "colorbar": {
              "outlinewidth": 0,
              "ticks": ""
             }
            },
            "type": "scatter"
           }
          ],
          "scatter3d": [
           {
            "line": {
             "colorbar": {
              "outlinewidth": 0,
              "ticks": ""
             }
            },
            "marker": {
             "colorbar": {
              "outlinewidth": 0,
              "ticks": ""
             }
            },
            "type": "scatter3d"
           }
          ],
          "scattercarpet": [
           {
            "marker": {
             "colorbar": {
              "outlinewidth": 0,
              "ticks": ""
             }
            },
            "type": "scattercarpet"
           }
          ],
          "scattergeo": [
           {
            "marker": {
             "colorbar": {
              "outlinewidth": 0,
              "ticks": ""
             }
            },
            "type": "scattergeo"
           }
          ],
          "scattergl": [
           {
            "marker": {
             "colorbar": {
              "outlinewidth": 0,
              "ticks": ""
             }
            },
            "type": "scattergl"
           }
          ],
          "scattermapbox": [
           {
            "marker": {
             "colorbar": {
              "outlinewidth": 0,
              "ticks": ""
             }
            },
            "type": "scattermapbox"
           }
          ],
          "scatterpolar": [
           {
            "marker": {
             "colorbar": {
              "outlinewidth": 0,
              "ticks": ""
             }
            },
            "type": "scatterpolar"
           }
          ],
          "scatterpolargl": [
           {
            "marker": {
             "colorbar": {
              "outlinewidth": 0,
              "ticks": ""
             }
            },
            "type": "scatterpolargl"
           }
          ],
          "scatterternary": [
           {
            "marker": {
             "colorbar": {
              "outlinewidth": 0,
              "ticks": ""
             }
            },
            "type": "scatterternary"
           }
          ],
          "surface": [
           {
            "colorbar": {
             "outlinewidth": 0,
             "ticks": ""
            },
            "colorscale": [
             [
              0,
              "#0d0887"
             ],
             [
              0.1111111111111111,
              "#46039f"
             ],
             [
              0.2222222222222222,
              "#7201a8"
             ],
             [
              0.3333333333333333,
              "#9c179e"
             ],
             [
              0.4444444444444444,
              "#bd3786"
             ],
             [
              0.5555555555555556,
              "#d8576b"
             ],
             [
              0.6666666666666666,
              "#ed7953"
             ],
             [
              0.7777777777777778,
              "#fb9f3a"
             ],
             [
              0.8888888888888888,
              "#fdca26"
             ],
             [
              1,
              "#f0f921"
             ]
            ],
            "type": "surface"
           }
          ],
          "table": [
           {
            "cells": {
             "fill": {
              "color": "#EBF0F8"
             },
             "line": {
              "color": "white"
             }
            },
            "header": {
             "fill": {
              "color": "#C8D4E3"
             },
             "line": {
              "color": "white"
             }
            },
            "type": "table"
           }
          ]
         },
         "layout": {
          "annotationdefaults": {
           "arrowcolor": "#2a3f5f",
           "arrowhead": 0,
           "arrowwidth": 1
          },
          "coloraxis": {
           "colorbar": {
            "outlinewidth": 0,
            "ticks": ""
           }
          },
          "colorscale": {
           "diverging": [
            [
             0,
             "#8e0152"
            ],
            [
             0.1,
             "#c51b7d"
            ],
            [
             0.2,
             "#de77ae"
            ],
            [
             0.3,
             "#f1b6da"
            ],
            [
             0.4,
             "#fde0ef"
            ],
            [
             0.5,
             "#f7f7f7"
            ],
            [
             0.6,
             "#e6f5d0"
            ],
            [
             0.7,
             "#b8e186"
            ],
            [
             0.8,
             "#7fbc41"
            ],
            [
             0.9,
             "#4d9221"
            ],
            [
             1,
             "#276419"
            ]
           ],
           "sequential": [
            [
             0,
             "#0d0887"
            ],
            [
             0.1111111111111111,
             "#46039f"
            ],
            [
             0.2222222222222222,
             "#7201a8"
            ],
            [
             0.3333333333333333,
             "#9c179e"
            ],
            [
             0.4444444444444444,
             "#bd3786"
            ],
            [
             0.5555555555555556,
             "#d8576b"
            ],
            [
             0.6666666666666666,
             "#ed7953"
            ],
            [
             0.7777777777777778,
             "#fb9f3a"
            ],
            [
             0.8888888888888888,
             "#fdca26"
            ],
            [
             1,
             "#f0f921"
            ]
           ],
           "sequentialminus": [
            [
             0,
             "#0d0887"
            ],
            [
             0.1111111111111111,
             "#46039f"
            ],
            [
             0.2222222222222222,
             "#7201a8"
            ],
            [
             0.3333333333333333,
             "#9c179e"
            ],
            [
             0.4444444444444444,
             "#bd3786"
            ],
            [
             0.5555555555555556,
             "#d8576b"
            ],
            [
             0.6666666666666666,
             "#ed7953"
            ],
            [
             0.7777777777777778,
             "#fb9f3a"
            ],
            [
             0.8888888888888888,
             "#fdca26"
            ],
            [
             1,
             "#f0f921"
            ]
           ]
          },
          "colorway": [
           "#636efa",
           "#EF553B",
           "#00cc96",
           "#ab63fa",
           "#FFA15A",
           "#19d3f3",
           "#FF6692",
           "#B6E880",
           "#FF97FF",
           "#FECB52"
          ],
          "font": {
           "color": "#2a3f5f"
          },
          "geo": {
           "bgcolor": "white",
           "lakecolor": "white",
           "landcolor": "#E5ECF6",
           "showlakes": true,
           "showland": true,
           "subunitcolor": "white"
          },
          "hoverlabel": {
           "align": "left"
          },
          "hovermode": "closest",
          "mapbox": {
           "style": "light"
          },
          "paper_bgcolor": "white",
          "plot_bgcolor": "#E5ECF6",
          "polar": {
           "angularaxis": {
            "gridcolor": "white",
            "linecolor": "white",
            "ticks": ""
           },
           "bgcolor": "#E5ECF6",
           "radialaxis": {
            "gridcolor": "white",
            "linecolor": "white",
            "ticks": ""
           }
          },
          "scene": {
           "xaxis": {
            "backgroundcolor": "#E5ECF6",
            "gridcolor": "white",
            "gridwidth": 2,
            "linecolor": "white",
            "showbackground": true,
            "ticks": "",
            "zerolinecolor": "white"
           },
           "yaxis": {
            "backgroundcolor": "#E5ECF6",
            "gridcolor": "white",
            "gridwidth": 2,
            "linecolor": "white",
            "showbackground": true,
            "ticks": "",
            "zerolinecolor": "white"
           },
           "zaxis": {
            "backgroundcolor": "#E5ECF6",
            "gridcolor": "white",
            "gridwidth": 2,
            "linecolor": "white",
            "showbackground": true,
            "ticks": "",
            "zerolinecolor": "white"
           }
          },
          "shapedefaults": {
           "line": {
            "color": "#2a3f5f"
           }
          },
          "ternary": {
           "aaxis": {
            "gridcolor": "white",
            "linecolor": "white",
            "ticks": ""
           },
           "baxis": {
            "gridcolor": "white",
            "linecolor": "white",
            "ticks": ""
           },
           "bgcolor": "#E5ECF6",
           "caxis": {
            "gridcolor": "white",
            "linecolor": "white",
            "ticks": ""
           }
          },
          "title": {
           "x": 0.05
          },
          "xaxis": {
           "automargin": true,
           "gridcolor": "white",
           "linecolor": "white",
           "ticks": "",
           "title": {
            "standoff": 15
           },
           "zerolinecolor": "white",
           "zerolinewidth": 2
          },
          "yaxis": {
           "automargin": true,
           "gridcolor": "white",
           "linecolor": "white",
           "ticks": "",
           "title": {
            "standoff": 15
           },
           "zerolinecolor": "white",
           "zerolinewidth": 2
          }
         }
        },
        "title": {
         "text": "Number of Cases outside China"
        },
        "xaxis": {
         "anchor": "y",
         "domain": [
          0,
          1
         ],
         "title": {
          "text": "Item Type"
         }
        },
        "yaxis": {
         "anchor": "x",
         "domain": [
          0,
          1
         ],
         "title": {
          "text": "Total Profit"
         }
        }
       }
      },
      "text/html": [
       "<div>\n",
       "        \n",
       "        \n",
       "            <div id=\"3a8b5fea-b6a3-41a7-9719-ed86a8a438ca\" class=\"plotly-graph-div\" style=\"height:800px; width:100%;\"></div>\n",
       "            <script type=\"text/javascript\">\n",
       "                require([\"plotly\"], function(Plotly) {\n",
       "                    window.PLOTLYENV=window.PLOTLYENV || {};\n",
       "                    \n",
       "                if (document.getElementById(\"3a8b5fea-b6a3-41a7-9719-ed86a8a438ca\")) {\n",
       "                    Plotly.newPlot(\n",
       "                        '3a8b5fea-b6a3-41a7-9719-ed86a8a438ca',\n",
       "                        [{\"alignmentgroup\": \"True\", \"hoverlabel\": {\"namelength\": 0}, \"hovertemplate\": \"Item Type=%{x}<br>Total Profit=%{marker.color}\", \"legendgroup\": \"\", \"marker\": {\"color\": \"rgb(158,202,225)\", \"coloraxis\": \"coloraxis\", \"line\": {\"color\": \"rgb(8,48,107)\", \"width\": 1.5}}, \"name\": \"\", \"offsetgroup\": \"\", \"opacity\": 0.6, \"orientation\": \"v\", \"showlegend\": false, \"textposition\": \"auto\", \"type\": \"bar\", \"x\": [\"Cosmetics\", \"Household\", \"Office Supplies\", \"Baby Food\", \"Cereal\", \"Vegetables\", \"Clothes\", \"Meat\", \"Snacks\", \"Personal Care\", \"Beverages\", \"Fruits\"], \"xaxis\": \"x\", \"y\": [74081138.64000002, 61484504.16, 56115852.5, 41854201.48, 34350683.91000001, 29751653.87999999, 27759291.839999992, 23332738.000000004, 21788240.159999996, 11921643.439999996, 7906812.299999999, 855851.2499999999], \"yaxis\": \"y\"}],\n",
       "                        {\"barmode\": \"relative\", \"coloraxis\": {\"colorbar\": {\"title\": {\"text\": \"Total Profit\"}}, \"colorscale\": [[0.0, \"#0d0887\"], [0.1111111111111111, \"#46039f\"], [0.2222222222222222, \"#7201a8\"], [0.3333333333333333, \"#9c179e\"], [0.4444444444444444, \"#bd3786\"], [0.5555555555555556, \"#d8576b\"], [0.6666666666666666, \"#ed7953\"], [0.7777777777777778, \"#fb9f3a\"], [0.8888888888888888, \"#fdca26\"], [1.0, \"#f0f921\"]]}, \"height\": 800, \"legend\": {\"tracegroupgap\": 0}, \"template\": {\"data\": {\"bar\": [{\"error_x\": {\"color\": \"#2a3f5f\"}, \"error_y\": {\"color\": \"#2a3f5f\"}, \"marker\": {\"line\": {\"color\": \"#E5ECF6\", \"width\": 0.5}}, \"type\": \"bar\"}], \"barpolar\": [{\"marker\": {\"line\": {\"color\": \"#E5ECF6\", \"width\": 0.5}}, \"type\": \"barpolar\"}], \"carpet\": [{\"aaxis\": {\"endlinecolor\": \"#2a3f5f\", \"gridcolor\": \"white\", \"linecolor\": \"white\", \"minorgridcolor\": \"white\", \"startlinecolor\": \"#2a3f5f\"}, \"baxis\": {\"endlinecolor\": \"#2a3f5f\", \"gridcolor\": \"white\", \"linecolor\": \"white\", \"minorgridcolor\": \"white\", \"startlinecolor\": \"#2a3f5f\"}, \"type\": \"carpet\"}], \"choropleth\": [{\"colorbar\": {\"outlinewidth\": 0, \"ticks\": \"\"}, \"type\": \"choropleth\"}], \"contour\": [{\"colorbar\": {\"outlinewidth\": 0, \"ticks\": \"\"}, \"colorscale\": [[0.0, \"#0d0887\"], [0.1111111111111111, \"#46039f\"], [0.2222222222222222, \"#7201a8\"], [0.3333333333333333, \"#9c179e\"], [0.4444444444444444, \"#bd3786\"], [0.5555555555555556, \"#d8576b\"], [0.6666666666666666, \"#ed7953\"], [0.7777777777777778, \"#fb9f3a\"], [0.8888888888888888, \"#fdca26\"], [1.0, \"#f0f921\"]], \"type\": \"contour\"}], \"contourcarpet\": [{\"colorbar\": {\"outlinewidth\": 0, \"ticks\": \"\"}, \"type\": \"contourcarpet\"}], \"heatmap\": [{\"colorbar\": {\"outlinewidth\": 0, \"ticks\": \"\"}, \"colorscale\": [[0.0, \"#0d0887\"], [0.1111111111111111, \"#46039f\"], [0.2222222222222222, \"#7201a8\"], [0.3333333333333333, \"#9c179e\"], [0.4444444444444444, \"#bd3786\"], [0.5555555555555556, \"#d8576b\"], [0.6666666666666666, \"#ed7953\"], [0.7777777777777778, \"#fb9f3a\"], [0.8888888888888888, \"#fdca26\"], [1.0, \"#f0f921\"]], \"type\": \"heatmap\"}], \"heatmapgl\": [{\"colorbar\": {\"outlinewidth\": 0, \"ticks\": \"\"}, \"colorscale\": [[0.0, \"#0d0887\"], [0.1111111111111111, \"#46039f\"], [0.2222222222222222, \"#7201a8\"], [0.3333333333333333, \"#9c179e\"], [0.4444444444444444, \"#bd3786\"], [0.5555555555555556, \"#d8576b\"], [0.6666666666666666, \"#ed7953\"], [0.7777777777777778, \"#fb9f3a\"], [0.8888888888888888, \"#fdca26\"], [1.0, \"#f0f921\"]], \"type\": \"heatmapgl\"}], \"histogram\": [{\"marker\": {\"colorbar\": {\"outlinewidth\": 0, \"ticks\": \"\"}}, \"type\": \"histogram\"}], \"histogram2d\": [{\"colorbar\": {\"outlinewidth\": 0, \"ticks\": \"\"}, \"colorscale\": [[0.0, \"#0d0887\"], [0.1111111111111111, \"#46039f\"], [0.2222222222222222, \"#7201a8\"], [0.3333333333333333, \"#9c179e\"], [0.4444444444444444, \"#bd3786\"], [0.5555555555555556, \"#d8576b\"], [0.6666666666666666, \"#ed7953\"], [0.7777777777777778, \"#fb9f3a\"], [0.8888888888888888, \"#fdca26\"], [1.0, \"#f0f921\"]], \"type\": \"histogram2d\"}], \"histogram2dcontour\": [{\"colorbar\": {\"outlinewidth\": 0, \"ticks\": \"\"}, \"colorscale\": [[0.0, \"#0d0887\"], [0.1111111111111111, \"#46039f\"], [0.2222222222222222, \"#7201a8\"], [0.3333333333333333, \"#9c179e\"], [0.4444444444444444, \"#bd3786\"], [0.5555555555555556, \"#d8576b\"], [0.6666666666666666, \"#ed7953\"], [0.7777777777777778, \"#fb9f3a\"], [0.8888888888888888, \"#fdca26\"], [1.0, \"#f0f921\"]], \"type\": \"histogram2dcontour\"}], \"mesh3d\": [{\"colorbar\": {\"outlinewidth\": 0, \"ticks\": \"\"}, \"type\": \"mesh3d\"}], \"parcoords\": [{\"line\": {\"colorbar\": {\"outlinewidth\": 0, \"ticks\": \"\"}}, \"type\": \"parcoords\"}], \"pie\": [{\"automargin\": true, \"type\": \"pie\"}], \"scatter\": [{\"marker\": {\"colorbar\": {\"outlinewidth\": 0, \"ticks\": \"\"}}, \"type\": \"scatter\"}], \"scatter3d\": [{\"line\": {\"colorbar\": {\"outlinewidth\": 0, \"ticks\": \"\"}}, \"marker\": {\"colorbar\": {\"outlinewidth\": 0, \"ticks\": \"\"}}, \"type\": \"scatter3d\"}], \"scattercarpet\": [{\"marker\": {\"colorbar\": {\"outlinewidth\": 0, \"ticks\": \"\"}}, \"type\": \"scattercarpet\"}], \"scattergeo\": [{\"marker\": {\"colorbar\": {\"outlinewidth\": 0, \"ticks\": \"\"}}, \"type\": \"scattergeo\"}], \"scattergl\": [{\"marker\": {\"colorbar\": {\"outlinewidth\": 0, \"ticks\": \"\"}}, \"type\": \"scattergl\"}], \"scattermapbox\": [{\"marker\": {\"colorbar\": {\"outlinewidth\": 0, \"ticks\": \"\"}}, \"type\": \"scattermapbox\"}], \"scatterpolar\": [{\"marker\": {\"colorbar\": {\"outlinewidth\": 0, \"ticks\": \"\"}}, \"type\": \"scatterpolar\"}], \"scatterpolargl\": [{\"marker\": {\"colorbar\": {\"outlinewidth\": 0, \"ticks\": \"\"}}, \"type\": \"scatterpolargl\"}], \"scatterternary\": [{\"marker\": {\"colorbar\": {\"outlinewidth\": 0, \"ticks\": \"\"}}, \"type\": \"scatterternary\"}], \"surface\": [{\"colorbar\": {\"outlinewidth\": 0, \"ticks\": \"\"}, \"colorscale\": [[0.0, \"#0d0887\"], [0.1111111111111111, \"#46039f\"], [0.2222222222222222, \"#7201a8\"], [0.3333333333333333, \"#9c179e\"], [0.4444444444444444, \"#bd3786\"], [0.5555555555555556, \"#d8576b\"], [0.6666666666666666, \"#ed7953\"], [0.7777777777777778, \"#fb9f3a\"], [0.8888888888888888, \"#fdca26\"], [1.0, \"#f0f921\"]], \"type\": \"surface\"}], \"table\": [{\"cells\": {\"fill\": {\"color\": \"#EBF0F8\"}, \"line\": {\"color\": \"white\"}}, \"header\": {\"fill\": {\"color\": \"#C8D4E3\"}, \"line\": {\"color\": \"white\"}}, \"type\": \"table\"}]}, \"layout\": {\"annotationdefaults\": {\"arrowcolor\": \"#2a3f5f\", \"arrowhead\": 0, \"arrowwidth\": 1}, \"coloraxis\": {\"colorbar\": {\"outlinewidth\": 0, \"ticks\": \"\"}}, \"colorscale\": {\"diverging\": [[0, \"#8e0152\"], [0.1, \"#c51b7d\"], [0.2, \"#de77ae\"], [0.3, \"#f1b6da\"], [0.4, \"#fde0ef\"], [0.5, \"#f7f7f7\"], [0.6, \"#e6f5d0\"], [0.7, \"#b8e186\"], [0.8, \"#7fbc41\"], [0.9, \"#4d9221\"], [1, \"#276419\"]], \"sequential\": [[0.0, \"#0d0887\"], [0.1111111111111111, \"#46039f\"], [0.2222222222222222, \"#7201a8\"], [0.3333333333333333, \"#9c179e\"], [0.4444444444444444, \"#bd3786\"], [0.5555555555555556, \"#d8576b\"], [0.6666666666666666, \"#ed7953\"], [0.7777777777777778, \"#fb9f3a\"], [0.8888888888888888, \"#fdca26\"], [1.0, \"#f0f921\"]], \"sequentialminus\": [[0.0, \"#0d0887\"], [0.1111111111111111, \"#46039f\"], [0.2222222222222222, \"#7201a8\"], [0.3333333333333333, \"#9c179e\"], [0.4444444444444444, \"#bd3786\"], [0.5555555555555556, \"#d8576b\"], [0.6666666666666666, \"#ed7953\"], [0.7777777777777778, \"#fb9f3a\"], [0.8888888888888888, \"#fdca26\"], [1.0, \"#f0f921\"]]}, \"colorway\": [\"#636efa\", \"#EF553B\", \"#00cc96\", \"#ab63fa\", \"#FFA15A\", \"#19d3f3\", \"#FF6692\", \"#B6E880\", \"#FF97FF\", \"#FECB52\"], \"font\": {\"color\": \"#2a3f5f\"}, \"geo\": {\"bgcolor\": \"white\", \"lakecolor\": \"white\", \"landcolor\": \"#E5ECF6\", \"showlakes\": true, \"showland\": true, \"subunitcolor\": \"white\"}, \"hoverlabel\": {\"align\": \"left\"}, \"hovermode\": \"closest\", \"mapbox\": {\"style\": \"light\"}, \"paper_bgcolor\": \"white\", \"plot_bgcolor\": \"#E5ECF6\", \"polar\": {\"angularaxis\": {\"gridcolor\": \"white\", \"linecolor\": \"white\", \"ticks\": \"\"}, \"bgcolor\": \"#E5ECF6\", \"radialaxis\": {\"gridcolor\": \"white\", \"linecolor\": \"white\", \"ticks\": \"\"}}, \"scene\": {\"xaxis\": {\"backgroundcolor\": \"#E5ECF6\", \"gridcolor\": \"white\", \"gridwidth\": 2, \"linecolor\": \"white\", \"showbackground\": true, \"ticks\": \"\", \"zerolinecolor\": \"white\"}, \"yaxis\": {\"backgroundcolor\": \"#E5ECF6\", \"gridcolor\": \"white\", \"gridwidth\": 2, \"linecolor\": \"white\", \"showbackground\": true, \"ticks\": \"\", \"zerolinecolor\": \"white\"}, \"zaxis\": {\"backgroundcolor\": \"#E5ECF6\", \"gridcolor\": \"white\", \"gridwidth\": 2, \"linecolor\": \"white\", \"showbackground\": true, \"ticks\": \"\", \"zerolinecolor\": \"white\"}}, \"shapedefaults\": {\"line\": {\"color\": \"#2a3f5f\"}}, \"ternary\": {\"aaxis\": {\"gridcolor\": \"white\", \"linecolor\": \"white\", \"ticks\": \"\"}, \"baxis\": {\"gridcolor\": \"white\", \"linecolor\": \"white\", \"ticks\": \"\"}, \"bgcolor\": \"#E5ECF6\", \"caxis\": {\"gridcolor\": \"white\", \"linecolor\": \"white\", \"ticks\": \"\"}}, \"title\": {\"x\": 0.05}, \"xaxis\": {\"automargin\": true, \"gridcolor\": \"white\", \"linecolor\": \"white\", \"ticks\": \"\", \"title\": {\"standoff\": 15}, \"zerolinecolor\": \"white\", \"zerolinewidth\": 2}, \"yaxis\": {\"automargin\": true, \"gridcolor\": \"white\", \"linecolor\": \"white\", \"ticks\": \"\", \"title\": {\"standoff\": 15}, \"zerolinecolor\": \"white\", \"zerolinewidth\": 2}}}, \"title\": {\"text\": \"Number of Cases outside China\"}, \"xaxis\": {\"anchor\": \"y\", \"domain\": [0.0, 1.0], \"title\": {\"text\": \"Item Type\"}}, \"yaxis\": {\"anchor\": \"x\", \"domain\": [0.0, 1.0], \"title\": {\"text\": \"Total Profit\"}}},\n",
       "                        {\"responsive\": true}\n",
       "                    ).then(function(){\n",
       "                            \n",
       "var gd = document.getElementById('3a8b5fea-b6a3-41a7-9719-ed86a8a438ca');\n",
       "var x = new MutationObserver(function (mutations, observer) {{\n",
       "        var display = window.getComputedStyle(gd).display;\n",
       "        if (!display || display === 'none') {{\n",
       "            console.log([gd, 'removed!']);\n",
       "            Plotly.purge(gd);\n",
       "            observer.disconnect();\n",
       "        }}\n",
       "}});\n",
       "\n",
       "// Listen for the removal of the full notebook cells\n",
       "var notebookContainer = gd.closest('#notebook-container');\n",
       "if (notebookContainer) {{\n",
       "    x.observe(notebookContainer, {childList: true});\n",
       "}}\n",
       "\n",
       "// Listen for the clearing of the current output cell\n",
       "var outputEl = gd.closest('.output');\n",
       "if (outputEl) {{\n",
       "    x.observe(outputEl, {childList: true});\n",
       "}}\n",
       "\n",
       "                        })\n",
       "                };\n",
       "                });\n",
       "            </script>\n",
       "        </div>"
      ]
     },
     "metadata": {},
     "output_type": "display_data"
    }
   ],
   "source": [
    "df_profit_total = df.loc[:,[\"Item Type\", \"Total Profit\"]]\n",
    "df_profit_total = df_profit_total.groupby(\"Item Type\").sum().reset_index().sort_values(\"Total Profit\", ascending = False)\n",
    "\n",
    "fig = px.bar(df_profit_total, \n",
    "             y=\"Total Profit\", x=\"Item Type\", height=800,\n",
    "             title='Number of Cases outside China', color='Total Profit')\n",
    "fig.update_traces(marker_color='rgb(158,202,225)', marker_line_color='rgb(8,48,107)',\n",
    "                  marker_line_width=1.5, opacity=0.6)\n",
    "fig.show()"
   ]
  },
  {
   "cell_type": "code",
   "execution_count": 58,
   "metadata": {},
   "outputs": [
    {
     "data": {
      "application/vnd.plotly.v1+json": {
       "config": {
        "plotlyServerURL": "https://plot.ly"
       },
       "data": [
        {
         "geo": "geo",
         "hoverlabel": {
          "namelength": 0
         },
         "hovertemplate": "<b>%{hovertext}</b><br><br>YearMonth=2014-10<br>Total Profit=%{marker.color}<br>Country=%{location}",
         "hovertext": [
          "Libya",
          "Senegal",
          "Yemen",
          "Liberia",
          "Angola",
          "Israel",
          "Mozambique",
          "Luxembourg",
          "Angola",
          "Zimbabwe",
          "Belarus",
          "Dominican Republic",
          "Singapore",
          "Somalia",
          "Trinidad and Tobago"
         ],
         "legendgroup": "",
         "locationmode": "country names",
         "locations": [
          "Libya",
          "Senegal",
          "Yemen",
          "Liberia",
          "Angola",
          "Israel",
          "Mozambique",
          "Luxembourg",
          "Angola",
          "Zimbabwe",
          "Belarus",
          "Dominican Republic",
          "Singapore",
          "Somalia",
          "Trinidad and Tobago"
         ],
         "marker": {
          "color": [
           1468506.02,
           130510.44,
           543334.48,
           13262.23,
           1195182.38,
           44443.08,
           65756.34,
           187432.97,
           10930.68,
           14057.53,
           927093.62,
           98600.67,
           779459.21,
           327049.47,
           109066.92
          ],
          "coloraxis": "coloraxis",
          "size": [
           1468506.02,
           130510.44,
           543334.48,
           13262.23,
           1195182.38,
           44443.08,
           65756.34,
           187432.97,
           10930.68,
           14057.53,
           927093.62,
           98600.67,
           779459.21,
           327049.47,
           109066.92
          ],
          "sizemode": "area",
          "sizeref": 4315.4534
         },
         "name": "",
         "showlegend": false,
         "type": "scattergeo"
        }
       ],
       "frames": [
        {
         "data": [
          {
           "geo": "geo",
           "hoverlabel": {
            "namelength": 0
           },
           "hovertemplate": "<b>%{hovertext}</b><br><br>YearMonth=2014-10<br>Total Profit=%{marker.color}<br>Country=%{location}",
           "hovertext": [
            "Libya",
            "Senegal",
            "Yemen",
            "Liberia",
            "Angola",
            "Israel",
            "Mozambique",
            "Luxembourg",
            "Angola",
            "Zimbabwe",
            "Belarus",
            "Dominican Republic",
            "Singapore",
            "Somalia",
            "Trinidad and Tobago"
           ],
           "legendgroup": "",
           "locationmode": "country names",
           "locations": [
            "Libya",
            "Senegal",
            "Yemen",
            "Liberia",
            "Angola",
            "Israel",
            "Mozambique",
            "Luxembourg",
            "Angola",
            "Zimbabwe",
            "Belarus",
            "Dominican Republic",
            "Singapore",
            "Somalia",
            "Trinidad and Tobago"
           ],
           "marker": {
            "color": [
             1468506.02,
             130510.44,
             543334.48,
             13262.23,
             1195182.38,
             44443.08,
             65756.34,
             187432.97,
             10930.68,
             14057.53,
             927093.62,
             98600.67,
             779459.21,
             327049.47,
             109066.92
            ],
            "coloraxis": "coloraxis",
            "size": [
             1468506.02,
             130510.44,
             543334.48,
             13262.23,
             1195182.38,
             44443.08,
             65756.34,
             187432.97,
             10930.68,
             14057.53,
             927093.62,
             98600.67,
             779459.21,
             327049.47,
             109066.92
            ],
            "sizemode": "area",
            "sizeref": 4315.4534
           },
           "name": "",
           "showlegend": false,
           "type": "scattergeo"
          }
         ],
         "name": "2014-10"
        },
        {
         "data": [
          {
           "geo": "geo",
           "hoverlabel": {
            "namelength": 0
           },
           "hovertemplate": "<b>%{hovertext}</b><br><br>YearMonth=2011-11<br>Total Profit=%{marker.color}<br>Country=%{location}",
           "hovertext": [
            "Canada",
            "Somalia",
            "Zimbabwe",
            "Nigeria",
            "Poland",
            "Cyprus",
            "Haiti",
            "Qatar"
           ],
           "legendgroup": "",
           "locationmode": "country names",
           "locations": [
            "Canada",
            "Somalia",
            "Zimbabwe",
            "Nigeria",
            "Poland",
            "Cyprus",
            "Haiti",
            "Qatar"
           ],
           "marker": {
            "color": [
             190526.34,
             247786.56,
             18381.07,
             40396.72,
             8613,
             187279.26,
             148065.3,
             482574.24
            ],
            "coloraxis": "coloraxis",
            "size": [
             190526.34,
             247786.56,
             18381.07,
             40396.72,
             8613,
             187279.26,
             148065.3,
             482574.24
            ],
            "sizemode": "area",
            "sizeref": 4315.4534
           },
           "name": "",
           "showlegend": false,
           "type": "scattergeo"
          }
         ],
         "name": "2011-11"
        },
        {
         "data": [
          {
           "geo": "geo",
           "hoverlabel": {
            "namelength": 0
           },
           "hovertemplate": "<b>%{hovertext}</b><br><br>YearMonth=2016-10<br>Total Profit=%{marker.color}<br>Country=%{location}",
           "hovertext": [
            "Libya",
            "Afghanistan",
            "Canada",
            "Republic of the Congo",
            "Bangladesh",
            "Zimbabwe",
            "Uzbekistan",
            "Jamaica",
            "Netherlands",
            "The Gambia"
           ],
           "legendgroup": "",
           "locationmode": "country names",
           "locations": [
            "Libya",
            "Afghanistan",
            "Canada",
            "Republic of the Congo",
            "Bangladesh",
            "Zimbabwe",
            "Uzbekistan",
            "Jamaica",
            "Netherlands",
            "The Gambia"
           ],
           "marker": {
            "color": [
             145419.62,
             627305.79,
             268113.11,
             15327.6,
             190380.82,
             233376,
             394402.68,
             17491.78,
             1062.81,
             275625.58
            ],
            "coloraxis": "coloraxis",
            "size": [
             145419.62,
             627305.79,
             268113.11,
             15327.6,
             190380.82,
             233376,
             394402.68,
             17491.78,
             1062.81,
             275625.58
            ],
            "sizemode": "area",
            "sizeref": 4315.4534
           },
           "name": "",
           "showlegend": false,
           "type": "scattergeo"
          }
         ],
         "name": "2016-10"
        },
        {
         "data": [
          {
           "geo": "geo",
           "hoverlabel": {
            "namelength": 0
           },
           "hovertemplate": "<b>%{hovertext}</b><br><br>YearMonth=2010-4<br>Total Profit=%{marker.color}<br>Country=%{location}",
           "hovertext": [
            "Japan",
            "Tunisia ",
            "Norway",
            "Mauritius ",
            "Panama",
            "Kyrgyzstan",
            "Seychelles ",
            "Samoa ",
            "Maldives",
            "Vatican City",
            "Somalia",
            "Austria",
            "Azerbaijan"
           ],
           "legendgroup": "",
           "locationmode": "country names",
           "locations": [
            "Japan",
            "Tunisia ",
            "Norway",
            "Mauritius ",
            "Panama",
            "Kyrgyzstan",
            "Seychelles ",
            "Samoa ",
            "Maldives",
            "Vatican City",
            "Somalia",
            "Austria",
            "Azerbaijan"
           ],
           "marker": {
            "color": [
             294295.98,
             552890.19,
             168618.24,
             288450.33,
             614558.46,
             24226.02,
             1144203.75,
             95152.82,
             88627.5,
             165680.64,
             76968.9,
             1139890.94,
             359733.36
            ],
            "coloraxis": "coloraxis",
            "size": [
             294295.98,
             552890.19,
             168618.24,
             288450.33,
             614558.46,
             24226.02,
             1144203.75,
             95152.82,
             88627.5,
             165680.64,
             76968.9,
             1139890.94,
             359733.36
            ],
            "sizemode": "area",
            "sizeref": 4315.4534
           },
           "name": "",
           "showlegend": false,
           "type": "scattergeo"
          }
         ],
         "name": "2010-4"
        },
        {
         "data": [
          {
           "geo": "geo",
           "hoverlabel": {
            "namelength": 0
           },
           "hovertemplate": "<b>%{hovertext}</b><br><br>YearMonth=2011-8<br>Total Profit=%{marker.color}<br>Country=%{location}",
           "hovertext": [
            "Chad",
            "Bangladesh",
            "East Timor",
            "Luxembourg",
            "Qatar",
            "Albania",
            "Turkey",
            "Japan",
            "Ethiopia",
            "Sri Lanka",
            "Zimbabwe",
            "Macedonia",
            "Brunei",
            "Jordan",
            "Georgia"
           ],
           "legendgroup": "",
           "locationmode": "country names",
           "locations": [
            "Chad",
            "Bangladesh",
            "East Timor",
            "Luxembourg",
            "Qatar",
            "Albania",
            "Turkey",
            "Japan",
            "Ethiopia",
            "Sri Lanka",
            "Zimbabwe",
            "Macedonia",
            "Brunei",
            "Jordan",
            "Georgia"
           ],
           "marker": {
            "color": [
             23726.45,
             731603.52,
             118810.66,
             62519.6,
             1458769.3,
             870115,
             298913.94,
             207221.14,
             354790.6,
             534795,
             167501.04,
             22169.59,
             207835.2,
             667716.48,
             27607.68
            ],
            "coloraxis": "coloraxis",
            "size": [
             23726.45,
             731603.52,
             118810.66,
             62519.6,
             1458769.3,
             870115,
             298913.94,
             207221.14,
             354790.6,
             534795,
             167501.04,
             22169.59,
             207835.2,
             667716.48,
             27607.68
            ],
            "sizemode": "area",
            "sizeref": 4315.4534
           },
           "name": "",
           "showlegend": false,
           "type": "scattergeo"
          }
         ],
         "name": "2011-8"
        },
        {
         "data": [
          {
           "geo": "geo",
           "hoverlabel": {
            "namelength": 0
           },
           "hovertemplate": "<b>%{hovertext}</b><br><br>YearMonth=2014-11<br>Total Profit=%{marker.color}<br>Country=%{location}",
           "hovertext": [
            "Armenia",
            "Ukraine",
            "Zimbabwe",
            "Rwanda",
            "Benin",
            "Dominica"
           ],
           "legendgroup": "",
           "locationmode": "country names",
           "locations": [
            "Armenia",
            "Ukraine",
            "Zimbabwe",
            "Rwanda",
            "Benin",
            "Dominica"
           ],
           "marker": {
            "color": [
             844085.52,
             1454944.16,
             346860.8,
             705337.88,
             126240.4,
             259148.65
            ],
            "coloraxis": "coloraxis",
            "size": [
             844085.52,
             1454944.16,
             346860.8,
             705337.88,
             126240.4,
             259148.65
            ],
            "sizemode": "area",
            "sizeref": 4315.4534
           },
           "name": "",
           "showlegend": false,
           "type": "scattergeo"
          }
         ],
         "name": "2014-11"
        },
        {
         "data": [
          {
           "geo": "geo",
           "hoverlabel": {
            "namelength": 0
           },
           "hovertemplate": "<b>%{hovertext}</b><br><br>YearMonth=2015-3<br>Total Profit=%{marker.color}<br>Country=%{location}",
           "hovertext": [
            "Eritrea",
            "Panama",
            "Botswana",
            "Iceland",
            "Thailand",
            "Nicaragua",
            "The Bahamas",
            "Cuba",
            "Serbia",
            "Solomon Islands",
            "Ghana",
            "Russia",
            "Slovakia"
           ],
           "legendgroup": "",
           "locationmode": "country names",
           "locations": [
            "Eritrea",
            "Panama",
            "Botswana",
            "Iceland",
            "Thailand",
            "Nicaragua",
            "The Bahamas",
            "Cuba",
            "Serbia",
            "Solomon Islands",
            "Ghana",
            "Russia",
            "Slovakia"
           ],
           "marker": {
            "color": [
             251949.96,
             1370269.47,
             668083.68,
             170170,
             475178.02,
             191391.2,
             98921.16,
             606575.73,
             220955,
             247743.16,
             1114282.5,
             291510.26,
             509522.23
            ],
            "coloraxis": "coloraxis",
            "size": [
             251949.96,
             1370269.47,
             668083.68,
             170170,
             475178.02,
             191391.2,
             98921.16,
             606575.73,
             220955,
             247743.16,
             1114282.5,
             291510.26,
             509522.23
            ],
            "sizemode": "area",
            "sizeref": 4315.4534
           },
           "name": "",
           "showlegend": false,
           "type": "scattergeo"
          }
         ],
         "name": "2015-3"
        },
        {
         "data": [
          {
           "geo": "geo",
           "hoverlabel": {
            "namelength": 0
           },
           "hovertemplate": "<b>%{hovertext}</b><br><br>YearMonth=2012-5<br>Total Profit=%{marker.color}<br>Country=%{location}",
           "hovertext": [
            "Montenegro",
            "Vanuatu",
            "Qatar",
            "Kenya",
            "Bahrain",
            "Denmark",
            "Uganda",
            "New Zealand",
            "Israel",
            "Pakistan",
            "Grenada",
            "South Africa",
            "Djibouti",
            "Belarus"
           ],
           "legendgroup": "",
           "locationmode": "country names",
           "locations": [
            "Montenegro",
            "Vanuatu",
            "Qatar",
            "Kenya",
            "Bahrain",
            "Denmark",
            "Uganda",
            "New Zealand",
            "Israel",
            "Pakistan",
            "Grenada",
            "South Africa",
            "Djibouti",
            "Belarus"
           ],
           "marker": {
            "color": [
             536038.56,
             609457.02,
             173540.5,
             14047.02,
             693617.5,
             79834.68,
             134644.68,
             219901.5,
             28217.56,
             356043.21,
             247904.8,
             443586,
             234281.84,
             93905.4
            ],
            "coloraxis": "coloraxis",
            "size": [
             536038.56,
             609457.02,
             173540.5,
             14047.02,
             693617.5,
             79834.68,
             134644.68,
             219901.5,
             28217.56,
             356043.21,
             247904.8,
             443586,
             234281.84,
             93905.4
            ],
            "sizemode": "area",
            "sizeref": 4315.4534
           },
           "name": "",
           "showlegend": false,
           "type": "scattergeo"
          }
         ],
         "name": "2012-5"
        },
        {
         "data": [
          {
           "geo": "geo",
           "hoverlabel": {
            "namelength": 0
           },
           "hovertemplate": "<b>%{hovertext}</b><br><br>YearMonth=2015-1<br>Total Profit=%{marker.color}<br>Country=%{location}",
           "hovertext": [
            "Jamaica",
            "Mongolia",
            "United Kingdom",
            "Libya",
            "South Africa",
            "Qatar",
            "Guinea-Bissau",
            "Benin",
            "Albania",
            "Georgia",
            "Nepal"
           ],
           "legendgroup": "",
           "locationmode": "country names",
           "locations": [
            "Jamaica",
            "Mongolia",
            "United Kingdom",
            "Libya",
            "South Africa",
            "Qatar",
            "Guinea-Bissau",
            "Benin",
            "Albania",
            "Georgia",
            "Nepal"
           ],
           "marker": {
            "color": [
             153279.64,
             244873.2,
             377532.94,
             4040.32,
             472057.05,
             729259.2,
             261340.5,
             229143.2,
             636063.84,
             305107.29,
             215805.24
            ],
            "coloraxis": "coloraxis",
            "size": [
             153279.64,
             244873.2,
             377532.94,
             4040.32,
             472057.05,
             729259.2,
             261340.5,
             229143.2,
             636063.84,
             305107.29,
             215805.24
            ],
            "sizemode": "area",
            "sizeref": 4315.4534
           },
           "name": "",
           "showlegend": false,
           "type": "scattergeo"
          }
         ],
         "name": "2015-1"
        },
        {
         "data": [
          {
           "geo": "geo",
           "hoverlabel": {
            "namelength": 0
           },
           "hovertemplate": "<b>%{hovertext}</b><br><br>YearMonth=2013-12<br>Total Profit=%{marker.color}<br>Country=%{location}",
           "hovertext": [
            "Fiji",
            "South Africa",
            "Lithuania",
            "Dominican Republic",
            "Lithuania",
            "The Bahamas",
            "Yemen",
            "Germany",
            "El Salvador",
            "Niger",
            "Croatia"
           ],
           "legendgroup": "",
           "locationmode": "country names",
           "locations": [
            "Fiji",
            "South Africa",
            "Lithuania",
            "Dominican Republic",
            "Lithuania",
            "The Bahamas",
            "Yemen",
            "Germany",
            "El Salvador",
            "Niger",
            "Croatia"
           ],
           "marker": {
            "color": [
             303024,
             539116.64,
             7107.09,
             12852,
             807320.67,
             281804.79,
             274341.25,
             933113.75,
             14185.6,
             417761.25,
             20592.9
            ],
            "coloraxis": "coloraxis",
            "size": [
             303024,
             539116.64,
             7107.09,
             12852,
             807320.67,
             281804.79,
             274341.25,
             933113.75,
             14185.6,
             417761.25,
             20592.9
            ],
            "sizemode": "area",
            "sizeref": 4315.4534
           },
           "name": "",
           "showlegend": false,
           "type": "scattergeo"
          }
         ],
         "name": "2013-12"
        },
        {
         "data": [
          {
           "geo": "geo",
           "hoverlabel": {
            "namelength": 0
           },
           "hovertemplate": "<b>%{hovertext}</b><br><br>YearMonth=2015-12<br>Total Profit=%{marker.color}<br>Country=%{location}",
           "hovertext": [
            "Togo",
            "Sudan",
            "Mongolia",
            "Lebanon",
            "India",
            "Iran",
            "Zimbabwe",
            "Tunisia ",
            "Azerbaijan",
            "Afghanistan",
            "Saint Vincent and the Grenadines",
            "Dominican Republic",
            "Liberia"
           ],
           "legendgroup": "",
           "locationmode": "country names",
           "locations": [
            "Togo",
            "Sudan",
            "Mongolia",
            "Lebanon",
            "India",
            "Iran",
            "Zimbabwe",
            "Tunisia ",
            "Azerbaijan",
            "Afghanistan",
            "Saint Vincent and the Grenadines",
            "Dominican Republic",
            "Liberia"
           ],
           "marker": {
            "color": [
             221201.28,
             720865.02,
             37821.6,
             458926.56,
             188927.34,
             97662.11,
             13326.66,
             556610.97,
             787800,
             291106.74,
             8837.5,
             446392.23,
             276932.34
            ],
            "coloraxis": "coloraxis",
            "size": [
             221201.28,
             720865.02,
             37821.6,
             458926.56,
             188927.34,
             97662.11,
             13326.66,
             556610.97,
             787800,
             291106.74,
             8837.5,
             446392.23,
             276932.34
            ],
            "sizemode": "area",
            "sizeref": 4315.4534
           },
           "name": "",
           "showlegend": false,
           "type": "scattergeo"
          }
         ],
         "name": "2015-12"
        },
        {
         "data": [
          {
           "geo": "geo",
           "hoverlabel": {
            "namelength": 0
           },
           "hovertemplate": "<b>%{hovertext}</b><br><br>YearMonth=2010-2<br>Total Profit=%{marker.color}<br>Country=%{location}",
           "hovertext": [
            "Montenegro",
            "Papua New Guinea",
            "Czech Republic",
            "Czech Republic",
            "Malawi",
            "Moldova ",
            "Nauru",
            "Barbados",
            "Singapore",
            "Belgium"
           ],
           "legendgroup": "",
           "locationmode": "country names",
           "locations": [
            "Montenegro",
            "Papua New Guinea",
            "Czech Republic",
            "Czech Republic",
            "Malawi",
            "Moldova ",
            "Nauru",
            "Barbados",
            "Singapore",
            "Belgium"
           ],
           "marker": {
            "color": [
             148547.16,
             1500685.15,
             715585,
             1641058.46,
             1012610.3,
             462519.2,
             19120.94,
             171610.88,
             71581.86,
             1726181.36
            ],
            "coloraxis": "coloraxis",
            "size": [
             148547.16,
             1500685.15,
             715585,
             1641058.46,
             1012610.3,
             462519.2,
             19120.94,
             171610.88,
             71581.86,
             1726181.36
            ],
            "sizemode": "area",
            "sizeref": 4315.4534
           },
           "name": "",
           "showlegend": false,
           "type": "scattergeo"
          }
         ],
         "name": "2010-2"
        },
        {
         "data": [
          {
           "geo": "geo",
           "hoverlabel": {
            "namelength": 0
           },
           "hovertemplate": "<b>%{hovertext}</b><br><br>YearMonth=2016-11<br>Total Profit=%{marker.color}<br>Country=%{location}",
           "hovertext": [
            "Greece",
            "Central African Republic",
            "Belgium",
            "El Salvador",
            "East Timor",
            "Japan",
            "Benin",
            "Greece",
            "Turkmenistan",
            "Palau",
            "Samoa "
           ],
           "legendgroup": "",
           "locationmode": "country names",
           "locations": [
            "Greece",
            "Central African Republic",
            "Belgium",
            "El Salvador",
            "East Timor",
            "Japan",
            "Benin",
            "Greece",
            "Turkmenistan",
            "Palau",
            "Samoa "
           ],
           "marker": {
            "color": [
             249920.84,
             243663.66,
             431657.58,
             5489.98,
             15007.07,
             613761.1,
             214951.81,
             198299.78,
             44440,
             1329320.33,
             840596.34
            ],
            "coloraxis": "coloraxis",
            "size": [
             249920.84,
             243663.66,
             431657.58,
             5489.98,
             15007.07,
             613761.1,
             214951.81,
             198299.78,
             44440,
             1329320.33,
             840596.34
            ],
            "sizemode": "area",
            "sizeref": 4315.4534
           },
           "name": "",
           "showlegend": false,
           "type": "scattergeo"
          }
         ],
         "name": "2016-11"
        },
        {
         "data": [
          {
           "geo": "geo",
           "hoverlabel": {
            "namelength": 0
           },
           "hovertemplate": "<b>%{hovertext}</b><br><br>YearMonth=2011-1<br>Total Profit=%{marker.color}<br>Country=%{location}",
           "hovertext": [
            "Maldives",
            "Belarus",
            "Italy",
            "Cuba",
            "Estonia",
            "Andorra",
            "Cyprus",
            "Marshall Islands",
            "Russia",
            "Egypt",
            "Seychelles ",
            "Greenland",
            "Pakistan",
            "Somalia",
            "Nigeria"
           ],
           "legendgroup": "",
           "locationmode": "country names",
           "locations": [
            "Maldives",
            "Belarus",
            "Italy",
            "Cuba",
            "Estonia",
            "Andorra",
            "Cyprus",
            "Marshall Islands",
            "Russia",
            "Egypt",
            "Seychelles ",
            "Greenland",
            "Pakistan",
            "Somalia",
            "Nigeria"
           ],
           "marker": {
            "color": [
             17670.12,
             811282.5,
             664453.75,
             84689.28,
             25978.06,
             669294.52,
             363114.43,
             11177.58,
             10955.86,
             348691.2,
             94275.72,
             545292,
             10722.24,
             539563.68,
             147157.02
            ],
            "coloraxis": "coloraxis",
            "size": [
             17670.12,
             811282.5,
             664453.75,
             84689.28,
             25978.06,
             669294.52,
             363114.43,
             11177.58,
             10955.86,
             348691.2,
             94275.72,
             545292,
             10722.24,
             539563.68,
             147157.02
            ],
            "sizemode": "area",
            "sizeref": 4315.4534
           },
           "name": "",
           "showlegend": false,
           "type": "scattergeo"
          }
         ],
         "name": "2011-1"
        },
        {
         "data": [
          {
           "geo": "geo",
           "hoverlabel": {
            "namelength": 0
           },
           "hovertemplate": "<b>%{hovertext}</b><br><br>YearMonth=2010-6<br>Total Profit=%{marker.color}<br>Country=%{location}",
           "hovertext": [
            "Montenegro",
            "Seychelles ",
            "Costa Rica",
            "Germany",
            "Palau",
            "Netherlands",
            "Pakistan",
            "Hungary",
            "Bosnia and Herzegovina",
            "Norway",
            "Cote d'Ivoire",
            "Greenland"
           ],
           "legendgroup": "",
           "locationmode": "country names",
           "locations": [
            "Montenegro",
            "Seychelles ",
            "Costa Rica",
            "Germany",
            "Palau",
            "Netherlands",
            "Pakistan",
            "Hungary",
            "Bosnia and Herzegovina",
            "Norway",
            "Cote d'Ivoire",
            "Greenland"
           ],
           "marker": {
            "color": [
             353980.8,
             74177.75,
             1222731.25,
             71020.04,
             52524.16,
             935891.25,
             395694.72,
             443546.16,
             24757.86,
             48516.16,
             604264.32,
             145735.02
            ],
            "coloraxis": "coloraxis",
            "size": [
             353980.8,
             74177.75,
             1222731.25,
             71020.04,
             52524.16,
             935891.25,
             395694.72,
             443546.16,
             24757.86,
             48516.16,
             604264.32,
             145735.02
            ],
            "sizemode": "area",
            "sizeref": 4315.4534
           },
           "name": "",
           "showlegend": false,
           "type": "scattergeo"
          }
         ],
         "name": "2010-6"
        },
        {
         "data": [
          {
           "geo": "geo",
           "hoverlabel": {
            "namelength": 0
           },
           "hovertemplate": "<b>%{hovertext}</b><br><br>YearMonth=2016-4<br>Total Profit=%{marker.color}<br>Country=%{location}",
           "hovertext": [
            "Estonia",
            "Papua New Guinea",
            "Slovakia",
            "Canada",
            "Vatican City",
            "Myanmar",
            "Angola",
            "Gabon",
            "Fiji"
           ],
           "legendgroup": "",
           "locationmode": "country names",
           "locations": [
            "Estonia",
            "Papua New Guinea",
            "Slovakia",
            "Canada",
            "Vatican City",
            "Myanmar",
            "Angola",
            "Gabon",
            "Fiji"
           ],
           "marker": {
            "color": [
             302621.25,
             1418483.07,
             408135.45,
             35266.32,
             124434.36,
             845008.2,
             115315.2,
             431415.36,
             63610.92
            ],
            "coloraxis": "coloraxis",
            "size": [
             302621.25,
             1418483.07,
             408135.45,
             35266.32,
             124434.36,
             845008.2,
             115315.2,
             431415.36,
             63610.92
            ],
            "sizemode": "area",
            "sizeref": 4315.4534
           },
           "name": "",
           "showlegend": false,
           "type": "scattergeo"
          }
         ],
         "name": "2016-4"
        },
        {
         "data": [
          {
           "geo": "geo",
           "hoverlabel": {
            "namelength": 0
           },
           "hovertemplate": "<b>%{hovertext}</b><br><br>YearMonth=2012-7<br>Total Profit=%{marker.color}<br>Country=%{location}",
           "hovertext": [
            "Greenland",
            "Trinidad and Tobago",
            "Afghanistan",
            "Zimbabwe",
            "Kiribati",
            "Bhutan",
            "Tunisia ",
            "Armenia",
            "South Sudan",
            "Georgia",
            "Mali",
            "Monaco",
            "Tajikistan",
            "Republic of the Congo"
           ],
           "legendgroup": "",
           "locationmode": "country names",
           "locations": [
            "Greenland",
            "Trinidad and Tobago",
            "Afghanistan",
            "Zimbabwe",
            "Kiribati",
            "Bhutan",
            "Tunisia ",
            "Armenia",
            "South Sudan",
            "Georgia",
            "Mali",
            "Monaco",
            "Tajikistan",
            "Republic of the Congo"
           ],
           "marker": {
            "color": [
             45100.8,
             139436.64,
             7668.8,
             201700.35,
             411146.19,
             354641.76,
             262135.56,
             207972.94,
             526967.5,
             1452623.45,
             391476.8,
             342156.96,
             12240.8,
             501301.44
            ],
            "coloraxis": "coloraxis",
            "size": [
             45100.8,
             139436.64,
             7668.8,
             201700.35,
             411146.19,
             354641.76,
             262135.56,
             207972.94,
             526967.5,
             1452623.45,
             391476.8,
             342156.96,
             12240.8,
             501301.44
            ],
            "sizemode": "area",
            "sizeref": 4315.4534
           },
           "name": "",
           "showlegend": false,
           "type": "scattergeo"
          }
         ],
         "name": "2012-7"
        },
        {
         "data": [
          {
           "geo": "geo",
           "hoverlabel": {
            "namelength": 0
           },
           "hovertemplate": "<b>%{hovertext}</b><br><br>YearMonth=2014-9<br>Total Profit=%{marker.color}<br>Country=%{location}",
           "hovertext": [
            "Cape Verde",
            "Egypt",
            "Eritrea",
            "South Africa",
            "Pakistan",
            "Macedonia",
            "Guinea",
            "Liberia",
            "Lebanon",
            "Tajikistan"
           ],
           "legendgroup": "",
           "locationmode": "country names",
           "locations": [
            "Cape Verde",
            "Egypt",
            "Eritrea",
            "South Africa",
            "Pakistan",
            "Macedonia",
            "Guinea",
            "Liberia",
            "Lebanon",
            "Tajikistan"
           ],
           "marker": {
            "color": [
             82032.48,
             140219.64,
             101878.5,
             1482952.04,
             111452.22,
             283305,
             815576.88,
             39895,
             87834.24,
             18979.92
            ],
            "coloraxis": "coloraxis",
            "size": [
             82032.48,
             140219.64,
             101878.5,
             1482952.04,
             111452.22,
             283305,
             815576.88,
             39895,
             87834.24,
             18979.92
            ],
            "sizemode": "area",
            "sizeref": 4315.4534
           },
           "name": "",
           "showlegend": false,
           "type": "scattergeo"
          }
         ],
         "name": "2014-9"
        },
        {
         "data": [
          {
           "geo": "geo",
           "hoverlabel": {
            "namelength": 0
           },
           "hovertemplate": "<b>%{hovertext}</b><br><br>YearMonth=2012-8<br>Total Profit=%{marker.color}<br>Country=%{location}",
           "hovertext": [
            "Senegal",
            "Saint Lucia",
            "Lesotho",
            "Tonga",
            "Saudi Arabia",
            "Bulgaria",
            "Namibia",
            "Vanuatu",
            "Morocco",
            "Bulgaria"
           ],
           "legendgroup": "",
           "locationmode": "country names",
           "locations": [
            "Senegal",
            "Saint Lucia",
            "Lesotho",
            "Tonga",
            "Saudi Arabia",
            "Bulgaria",
            "Namibia",
            "Vanuatu",
            "Morocco",
            "Bulgaria"
           ],
           "marker": {
            "color": [
             1489746.97,
             90760.14,
             778962.5,
             551007.6,
             468550.86,
             219250.49,
             50691.42,
             1232042.82,
             148754.34,
             513463.68
            ],
            "coloraxis": "coloraxis",
            "size": [
             1489746.97,
             90760.14,
             778962.5,
             551007.6,
             468550.86,
             219250.49,
             50691.42,
             1232042.82,
             148754.34,
             513463.68
            ],
            "sizemode": "area",
            "sizeref": 4315.4534
           },
           "name": "",
           "showlegend": false,
           "type": "scattergeo"
          }
         ],
         "name": "2012-8"
        },
        {
         "data": [
          {
           "geo": "geo",
           "hoverlabel": {
            "namelength": 0
           },
           "hovertemplate": "<b>%{hovertext}</b><br><br>YearMonth=2012-9<br>Total Profit=%{marker.color}<br>Country=%{location}",
           "hovertext": [
            "Federated States of Micronesia",
            "China",
            "Guinea",
            "Equatorial Guinea",
            "Mauritius ",
            "Georgia",
            "Belarus",
            "Tuvalu",
            "Latvia",
            "Central African Republic",
            "Albania",
            "Bahrain",
            "Swaziland"
           ],
           "legendgroup": "",
           "locationmode": "country names",
           "locations": [
            "Federated States of Micronesia",
            "China",
            "Guinea",
            "Equatorial Guinea",
            "Mauritius ",
            "Georgia",
            "Belarus",
            "Tuvalu",
            "Latvia",
            "Central African Republic",
            "Albania",
            "Bahrain",
            "Swaziland"
           ],
           "marker": {
            "color": [
             22441.98,
             97759.06,
             536593.2,
             633507.09,
             272791.58,
             8094.38,
             437701.32,
             139213.2,
             141372,
             535342.4,
             124997.4,
             20750.1,
             65030.7
            ],
            "coloraxis": "coloraxis",
            "size": [
             22441.98,
             97759.06,
             536593.2,
             633507.09,
             272791.58,
             8094.38,
             437701.32,
             139213.2,
             141372,
             535342.4,
             124997.4,
             20750.1,
             65030.7
            ],
            "sizemode": "area",
            "sizeref": 4315.4534
           },
           "name": "",
           "showlegend": false,
           "type": "scattergeo"
          }
         ],
         "name": "2012-9"
        },
        {
         "data": [
          {
           "geo": "geo",
           "hoverlabel": {
            "namelength": 0
           },
           "hovertemplate": "<b>%{hovertext}</b><br><br>YearMonth=2010-8<br>Total Profit=%{marker.color}<br>Country=%{location}",
           "hovertext": [
            "Bulgaria",
            "Armenia",
            "El Salvador",
            "Ghana",
            "Mozambique",
            "Hungary",
            "Kiribati",
            "Vatican City",
            "South Sudan",
            "Panama",
            "Egypt",
            "Germany"
           ],
           "legendgroup": "",
           "locationmode": "country names",
           "locations": [
            "Bulgaria",
            "Armenia",
            "El Salvador",
            "Ghana",
            "Mozambique",
            "Hungary",
            "Kiribati",
            "Vatican City",
            "South Sudan",
            "Panama",
            "Egypt",
            "Germany"
           ],
           "marker": {
            "color": [
             463626.72,
             508851.2,
             713910.24,
             314612.52,
             1312913.06,
             219376.75,
             848936.16,
             222986.16,
             131183.82,
             1425734,
             170690,
             151487.7
            ],
            "coloraxis": "coloraxis",
            "size": [
             463626.72,
             508851.2,
             713910.24,
             314612.52,
             1312913.06,
             219376.75,
             848936.16,
             222986.16,
             131183.82,
             1425734,
             170690,
             151487.7
            ],
            "sizemode": "area",
            "sizeref": 4315.4534
           },
           "name": "",
           "showlegend": false,
           "type": "scattergeo"
          }
         ],
         "name": "2010-8"
        },
        {
         "data": [
          {
           "geo": "geo",
           "hoverlabel": {
            "namelength": 0
           },
           "hovertemplate": "<b>%{hovertext}</b><br><br>YearMonth=2011-2<br>Total Profit=%{marker.color}<br>Country=%{location}",
           "hovertext": [
            "Algeria",
            "Cuba",
            "Norway",
            "Estonia",
            "Burkina Faso",
            "Switzerland",
            "Benin",
            "Libya",
            "Portugal",
            "Bahrain",
            "Russia",
            "Haiti"
           ],
           "legendgroup": "",
           "locationmode": "country names",
           "locations": [
            "Algeria",
            "Cuba",
            "Norway",
            "Estonia",
            "Burkina Faso",
            "Switzerland",
            "Benin",
            "Libya",
            "Portugal",
            "Bahrain",
            "Russia",
            "Haiti"
           ],
           "marker": {
            "color": [
             242605.86,
             430872.48,
             56535.36,
             792850,
             253732.63,
             7125.3,
             95950,
             71253,
             700522.23,
             38727.44,
             3602.95,
             68649.3
            ],
            "coloraxis": "coloraxis",
            "size": [
             242605.86,
             430872.48,
             56535.36,
             792850,
             253732.63,
             7125.3,
             95950,
             71253,
             700522.23,
             38727.44,
             3602.95,
             68649.3
            ],
            "sizemode": "area",
            "sizeref": 4315.4534
           },
           "name": "",
           "showlegend": false,
           "type": "scattergeo"
          }
         ],
         "name": "2011-2"
        },
        {
         "data": [
          {
           "geo": "geo",
           "hoverlabel": {
            "namelength": 0
           },
           "hovertemplate": "<b>%{hovertext}</b><br><br>YearMonth=2012-10<br>Total Profit=%{marker.color}<br>Country=%{location}",
           "hovertext": [
            "Grenada",
            "Malaysia",
            "Japan",
            "Central African Republic",
            "Luxembourg",
            "Iceland",
            "Burkina Faso",
            "Luxembourg",
            "Spain",
            "Morocco"
           ],
           "legendgroup": "",
           "locationmode": "country names",
           "locations": [
            "Grenada",
            "Malaysia",
            "Japan",
            "Central African Republic",
            "Luxembourg",
            "Iceland",
            "Burkina Faso",
            "Luxembourg",
            "Spain",
            "Morocco"
           ],
           "marker": {
            "color": [
             75478.68,
             277519.62,
             65818.98,
             562867.08,
             62725.18,
             91873.44,
             570989.08,
             336786.19,
             342732.77,
             25159.56
            ],
            "coloraxis": "coloraxis",
            "size": [
             75478.68,
             277519.62,
             65818.98,
             562867.08,
             62725.18,
             91873.44,
             570989.08,
             336786.19,
             342732.77,
             25159.56
            ],
            "sizemode": "area",
            "sizeref": 4315.4534
           },
           "name": "",
           "showlegend": false,
           "type": "scattergeo"
          }
         ],
         "name": "2012-10"
        },
        {
         "data": [
          {
           "geo": "geo",
           "hoverlabel": {
            "namelength": 0
           },
           "hovertemplate": "<b>%{hovertext}</b><br><br>YearMonth=2017-1<br>Total Profit=%{marker.color}<br>Country=%{location}",
           "hovertext": [
            "Grenada",
            "Taiwan",
            "El Salvador",
            "Belgium",
            "Spain",
            "Egypt",
            "Saint Vincent and the Grenadines",
            "Kyrgyzstan",
            "China",
            "Afghanistan"
           ],
           "legendgroup": "",
           "locationmode": "country names",
           "locations": [
            "Grenada",
            "Taiwan",
            "El Salvador",
            "Belgium",
            "Spain",
            "Egypt",
            "Saint Vincent and the Grenadines",
            "Kyrgyzstan",
            "China",
            "Afghanistan"
           ],
           "marker": {
            "color": [
             152825.94,
             186777.71,
             152941.18,
             441927.2,
             554995,
             333321.3,
             101946.6,
             290650.52,
             1413215.36,
             171188.64
            ],
            "coloraxis": "coloraxis",
            "size": [
             152825.94,
             186777.71,
             152941.18,
             441927.2,
             554995,
             333321.3,
             101946.6,
             290650.52,
             1413215.36,
             171188.64
            ],
            "sizemode": "area",
            "sizeref": 4315.4534
           },
           "name": "",
           "showlegend": false,
           "type": "scattergeo"
          }
         ],
         "name": "2017-1"
        },
        {
         "data": [
          {
           "geo": "geo",
           "hoverlabel": {
            "namelength": 0
           },
           "hovertemplate": "<b>%{hovertext}</b><br><br>YearMonth=2012-1<br>Total Profit=%{marker.color}<br>Country=%{location}",
           "hovertext": [
            "Greenland",
            "Greece",
            "Marshall Islands",
            "Costa Rica",
            "Central African Republic",
            "Malawi",
            "Antigua and Barbuda ",
            "Thailand",
            "Kyrgyzstan",
            "Saint Lucia",
            "Niger",
            "Vanuatu",
            "Cambodia",
            "Saint Kitts and Nevis ",
            "Laos",
            "Guatemala"
           ],
           "legendgroup": "",
           "locationmode": "country names",
           "locations": [
            "Greenland",
            "Greece",
            "Marshall Islands",
            "Costa Rica",
            "Central African Republic",
            "Malawi",
            "Antigua and Barbuda ",
            "Thailand",
            "Kyrgyzstan",
            "Saint Lucia",
            "Niger",
            "Vanuatu",
            "Cambodia",
            "Saint Kitts and Nevis ",
            "Laos",
            "Guatemala"
           ],
           "marker": {
            "color": [
             11348.69,
             272294.39,
             89988.48,
             502387.6,
             725660.2,
             65552.76,
             197407.51,
             366074.46,
             3101.67,
             1631422.21,
             391435.2,
             469572.24,
             25307.04,
             55083.6,
             444097.56,
             389131.6
            ],
            "coloraxis": "coloraxis",
            "size": [
             11348.69,
             272294.39,
             89988.48,
             502387.6,
             725660.2,
             65552.76,
             197407.51,
             366074.46,
             3101.67,
             1631422.21,
             391435.2,
             469572.24,
             25307.04,
             55083.6,
             444097.56,
             389131.6
            ],
            "sizemode": "area",
            "sizeref": 4315.4534
           },
           "name": "",
           "showlegend": false,
           "type": "scattergeo"
          }
         ],
         "name": "2012-1"
        },
        {
         "data": [
          {
           "geo": "geo",
           "hoverlabel": {
            "namelength": 0
           },
           "hovertemplate": "<b>%{hovertext}</b><br><br>YearMonth=2016-1<br>Total Profit=%{marker.color}<br>Country=%{location}",
           "hovertext": [
            "Chad",
            "Mauritius ",
            "Niger",
            "Cote d'Ivoire",
            "Sudan",
            "Turkey",
            "Ukraine",
            "South Sudan",
            "Kuwait",
            "Monaco",
            "Tuvalu",
            "Burundi",
            "Japan",
            "Finland"
           ],
           "legendgroup": "",
           "locationmode": "country names",
           "locations": [
            "Chad",
            "Mauritius ",
            "Niger",
            "Cote d'Ivoire",
            "Sudan",
            "Turkey",
            "Ukraine",
            "South Sudan",
            "Kuwait",
            "Monaco",
            "Tuvalu",
            "Burundi",
            "Japan",
            "Finland"
           ],
           "marker": {
            "color": [
             517259.6,
             213736.74,
             552728.76,
             180331.76,
             16621.77,
             535334.8,
             180663.75,
             6940.8,
             352675.44,
             879694.84,
             661227.61,
             162770.28,
             50248.43,
             1624319.73
            ],
            "coloraxis": "coloraxis",
            "size": [
             517259.6,
             213736.74,
             552728.76,
             180331.76,
             16621.77,
             535334.8,
             180663.75,
             6940.8,
             352675.44,
             879694.84,
             661227.61,
             162770.28,
             50248.43,
             1624319.73
            ],
            "sizemode": "area",
            "sizeref": 4315.4534
           },
           "name": "",
           "showlegend": false,
           "type": "scattergeo"
          }
         ],
         "name": "2016-1"
        },
        {
         "data": [
          {
           "geo": "geo",
           "hoverlabel": {
            "namelength": 0
           },
           "hovertemplate": "<b>%{hovertext}</b><br><br>YearMonth=2017-6<br>Total Profit=%{marker.color}<br>Country=%{location}",
           "hovertext": [
            "Morocco",
            "United States of America",
            "Antigua and Barbuda ",
            "Switzerland",
            "Liechtenstein",
            "Malawi",
            "Saint Kitts and Nevis ",
            "Poland",
            "Vietnam"
           ],
           "legendgroup": "",
           "locationmode": "country names",
           "locations": [
            "Morocco",
            "United States of America",
            "Antigua and Barbuda ",
            "Switzerland",
            "Liechtenstein",
            "Malawi",
            "Saint Kitts and Nevis ",
            "Poland",
            "Vietnam"
           ],
           "marker": {
            "color": [
             37443.06,
             1167433.75,
             335047.38,
             726174.72,
             516391.11,
             889866.66,
             248460,
             289861.77,
             8044.26
            ],
            "coloraxis": "coloraxis",
            "size": [
             37443.06,
             1167433.75,
             335047.38,
             726174.72,
             516391.11,
             889866.66,
             248460,
             289861.77,
             8044.26
            ],
            "sizemode": "area",
            "sizeref": 4315.4534
           },
           "name": "",
           "showlegend": false,
           "type": "scattergeo"
          }
         ],
         "name": "2017-6"
        },
        {
         "data": [
          {
           "geo": "geo",
           "hoverlabel": {
            "namelength": 0
           },
           "hovertemplate": "<b>%{hovertext}</b><br><br>YearMonth=2015-6<br>Total Profit=%{marker.color}<br>Country=%{location}",
           "hovertext": [
            "Honduras",
            "Jordan",
            "Poland",
            "Sweden",
            "Denmark",
            "Syria",
            "Somalia",
            "San Marino",
            "Rwanda",
            "Bhutan",
            "Egypt",
            "East Timor",
            "Guinea-Bissau",
            "Bahrain",
            "Mauritius ",
            "Syria"
           ],
           "legendgroup": "",
           "locationmode": "country names",
           "locations": [
            "Honduras",
            "Jordan",
            "Poland",
            "Sweden",
            "Denmark",
            "Syria",
            "Somalia",
            "San Marino",
            "Rwanda",
            "Bhutan",
            "Egypt",
            "East Timor",
            "Guinea-Bissau",
            "Bahrain",
            "Mauritius ",
            "Syria"
           ],
           "marker": {
            "color": [
             869105,
             200122.1,
             110707.64,
             570271.14,
             6248.34,
             1240489.05,
             61481.46,
             532.61,
             13589.99,
             456724.62,
             322150.4,
             97859.34,
             734253.12,
             108038.34,
             802182.45,
             65907.72
            ],
            "coloraxis": "coloraxis",
            "size": [
             869105,
             200122.1,
             110707.64,
             570271.14,
             6248.34,
             1240489.05,
             61481.46,
             532.61,
             13589.99,
             456724.62,
             322150.4,
             97859.34,
             734253.12,
             108038.34,
             802182.45,
             65907.72
            ],
            "sizemode": "area",
            "sizeref": 4315.4534
           },
           "name": "",
           "showlegend": false,
           "type": "scattergeo"
          }
         ],
         "name": "2015-6"
        },
        {
         "data": [
          {
           "geo": "geo",
           "hoverlabel": {
            "namelength": 0
           },
           "hovertemplate": "<b>%{hovertext}</b><br><br>YearMonth=2014-1<br>Total Profit=%{marker.color}<br>Country=%{location}",
           "hovertext": [
            "Benin",
            "Ireland",
            "Comoros",
            "Finland",
            "Jordan",
            "Somalia",
            "North Korea",
            "Italy",
            "Maldives"
           ],
           "legendgroup": "",
           "locationmode": "country names",
           "locations": [
            "Benin",
            "Ireland",
            "Comoros",
            "Finland",
            "Jordan",
            "Somalia",
            "North Korea",
            "Italy",
            "Maldives"
           ],
           "marker": {
            "color": [
             706.13,
             1326834.38,
             333927.84,
             407314.76,
             405209.85,
             607560.68,
             425282,
             528208.71,
             357315.8
            ],
            "coloraxis": "coloraxis",
            "size": [
             706.13,
             1326834.38,
             333927.84,
             407314.76,
             405209.85,
             607560.68,
             425282,
             528208.71,
             357315.8
            ],
            "sizemode": "area",
            "sizeref": 4315.4534
           },
           "name": "",
           "showlegend": false,
           "type": "scattergeo"
          }
         ],
         "name": "2014-1"
        },
        {
         "data": [
          {
           "geo": "geo",
           "hoverlabel": {
            "namelength": 0
           },
           "hovertemplate": "<b>%{hovertext}</b><br><br>YearMonth=2014-4<br>Total Profit=%{marker.color}<br>Country=%{location}",
           "hovertext": [
            "Greece",
            "Central African Republic",
            "Spain",
            "Vatican City",
            "Hungary",
            "Greenland",
            "Finland",
            "Iran",
            "Turkey",
            "Costa Rica",
            "Cuba",
            "Mongolia",
            "Slovenia",
            "Portugal"
           ],
           "legendgroup": "",
           "locationmode": "country names",
           "locations": [
            "Greece",
            "Central African Republic",
            "Spain",
            "Vatican City",
            "Hungary",
            "Greenland",
            "Finland",
            "Iran",
            "Turkey",
            "Costa Rica",
            "Cuba",
            "Mongolia",
            "Slovenia",
            "Portugal"
           ],
           "marker": {
            "color": [
             760840.82,
             273078.75,
             738327.15,
             137181.49,
             1103031.28,
             1541620.46,
             625236.52,
             383664.95,
             35276.48,
             158483.52,
             679320,
             136273.32,
             672366.61,
             312545.52
            ],
            "coloraxis": "coloraxis",
            "size": [
             760840.82,
             273078.75,
             738327.15,
             137181.49,
             1103031.28,
             1541620.46,
             625236.52,
             383664.95,
             35276.48,
             158483.52,
             679320,
             136273.32,
             672366.61,
             312545.52
            ],
            "sizemode": "area",
            "sizeref": 4315.4534
           },
           "name": "",
           "showlegend": false,
           "type": "scattergeo"
          }
         ],
         "name": "2014-4"
        },
        {
         "data": [
          {
           "geo": "geo",
           "hoverlabel": {
            "namelength": 0
           },
           "hovertemplate": "<b>%{hovertext}</b><br><br>YearMonth=2010-9<br>Total Profit=%{marker.color}<br>Country=%{location}",
           "hovertext": [
            "Jamaica",
            "Democratic Republic of the Congo",
            "Tajikistan",
            "Czech Republic",
            "China",
            "Lesotho",
            "Jordan",
            "Grenada",
            "Norway",
            "Bahrain"
           ],
           "legendgroup": "",
           "locationmode": "country names",
           "locations": [
            "Jamaica",
            "Democratic Republic of the Congo",
            "Tajikistan",
            "Czech Republic",
            "China",
            "Lesotho",
            "Jordan",
            "Grenada",
            "Norway",
            "Bahrain"
           ],
           "marker": {
            "color": [
             112172.58,
             200830.84,
             369028.75,
             484460.04,
             321963,
             4070.49,
             385345.52,
             112444.22,
             496842.38,
             132248.7
            ],
            "coloraxis": "coloraxis",
            "size": [
             112172.58,
             200830.84,
             369028.75,
             484460.04,
             321963,
             4070.49,
             385345.52,
             112444.22,
             496842.38,
             132248.7
            ],
            "sizemode": "area",
            "sizeref": 4315.4534
           },
           "name": "",
           "showlegend": false,
           "type": "scattergeo"
          }
         ],
         "name": "2010-9"
        },
        {
         "data": [
          {
           "geo": "geo",
           "hoverlabel": {
            "namelength": 0
           },
           "hovertemplate": "<b>%{hovertext}</b><br><br>YearMonth=2010-5<br>Total Profit=%{marker.color}<br>Country=%{location}",
           "hovertext": [
            "Equatorial Guinea",
            "Liberia",
            "Bulgaria",
            "Turkey",
            "Indonesia",
            "Estonia",
            "Burundi",
            "Slovenia",
            "Uganda",
            "Georgia",
            "Saudi Arabia",
            "Morocco"
           ],
           "legendgroup": "",
           "locationmode": "country names",
           "locations": [
            "Equatorial Guinea",
            "Liberia",
            "Bulgaria",
            "Turkey",
            "Indonesia",
            "Estonia",
            "Burundi",
            "Slovenia",
            "Uganda",
            "Georgia",
            "Saudi Arabia",
            "Morocco"
           ],
           "marker": {
            "color": [
             296940,
             660.34,
             376241.73,
             1682887.73,
             215077.19,
             152074.26,
             308122.32,
             735474.18,
             4162.07,
             61150.26,
             355295.64,
             1400175.11
            ],
            "coloraxis": "coloraxis",
            "size": [
             296940,
             660.34,
             376241.73,
             1682887.73,
             215077.19,
             152074.26,
             308122.32,
             735474.18,
             4162.07,
             61150.26,
             355295.64,
             1400175.11
            ],
            "sizemode": "area",
            "sizeref": 4315.4534
           },
           "name": "",
           "showlegend": false,
           "type": "scattergeo"
          }
         ],
         "name": "2010-5"
        },
        {
         "data": [
          {
           "geo": "geo",
           "hoverlabel": {
            "namelength": 0
           },
           "hovertemplate": "<b>%{hovertext}</b><br><br>YearMonth=2013-10<br>Total Profit=%{marker.color}<br>Country=%{location}",
           "hovertext": [
            "Swaziland",
            "Cape Verde",
            "Ghana",
            "Malaysia",
            "East Timor",
            "Armenia",
            "Niger",
            "Iceland",
            "Marshall Islands",
            "Taiwan",
            "Spain",
            "Jordan",
            "Vanuatu",
            "Saint Vincent and the Grenadines",
            "Maldives"
           ],
           "legendgroup": "",
           "locationmode": "country names",
           "locations": [
            "Swaziland",
            "Cape Verde",
            "Ghana",
            "Malaysia",
            "East Timor",
            "Armenia",
            "Niger",
            "Iceland",
            "Marshall Islands",
            "Taiwan",
            "Spain",
            "Jordan",
            "Vanuatu",
            "Saint Vincent and the Grenadines",
            "Maldives"
           ],
           "marker": {
            "color": [
             1251768.75,
             153374.04,
             120305.22,
             715787.87,
             1562048.08,
             257393.52,
             79756.38,
             806485,
             91751.94,
             434838.24,
             294627.71,
             946496.25,
             422330.23,
             20412.7,
             230050.8
            ],
            "coloraxis": "coloraxis",
            "size": [
             1251768.75,
             153374.04,
             120305.22,
             715787.87,
             1562048.08,
             257393.52,
             79756.38,
             806485,
             91751.94,
             434838.24,
             294627.71,
             946496.25,
             422330.23,
             20412.7,
             230050.8
            ],
            "sizemode": "area",
            "sizeref": 4315.4534
           },
           "name": "",
           "showlegend": false,
           "type": "scattergeo"
          }
         ],
         "name": "2013-10"
        },
        {
         "data": [
          {
           "geo": "geo",
           "hoverlabel": {
            "namelength": 0
           },
           "hovertemplate": "<b>%{hovertext}</b><br><br>YearMonth=2011-3<br>Total Profit=%{marker.color}<br>Country=%{location}",
           "hovertext": [
            "Trinidad and Tobago",
            "Tuvalu",
            "United Arab Emirates",
            "Macedonia",
            "Equatorial Guinea",
            "Greenland",
            "Fiji",
            "United States of America",
            "Italy",
            "Andorra",
            "Kyrgyzstan",
            "South Africa",
            "Netherlands",
            "New Zealand"
           ],
           "legendgroup": "",
           "locationmode": "country names",
           "locations": [
            "Trinidad and Tobago",
            "Tuvalu",
            "United Arab Emirates",
            "Macedonia",
            "Equatorial Guinea",
            "Greenland",
            "Fiji",
            "United States of America",
            "Italy",
            "Andorra",
            "Kyrgyzstan",
            "South Africa",
            "Netherlands",
            "New Zealand"
           ],
           "marker": {
            "color": [
             207950.22,
             115297.74,
             89823.06,
             64660.14,
             413393.76,
             545347.54,
             178708.74,
             380608.8,
             137679.64,
             249106,
             488184.29,
             12004.21,
             172877.76,
             242960.18
            ],
            "coloraxis": "coloraxis",
            "size": [
             207950.22,
             115297.74,
             89823.06,
             64660.14,
             413393.76,
             545347.54,
             178708.74,
             380608.8,
             137679.64,
             249106,
             488184.29,
             12004.21,
             172877.76,
             242960.18
            ],
            "sizemode": "area",
            "sizeref": 4315.4534
           },
           "name": "",
           "showlegend": false,
           "type": "scattergeo"
          }
         ],
         "name": "2011-3"
        },
        {
         "data": [
          {
           "geo": "geo",
           "hoverlabel": {
            "namelength": 0
           },
           "hovertemplate": "<b>%{hovertext}</b><br><br>YearMonth=2016-8<br>Total Profit=%{marker.color}<br>Country=%{location}",
           "hovertext": [
            "Sweden",
            "Vietnam",
            "Togo",
            "Federated States of Micronesia",
            "Liechtenstein",
            "Qatar",
            "Mauritius ",
            "Saudi Arabia",
            "Iran",
            "Madagascar",
            "Chad",
            "Norway",
            "Indonesia"
           ],
           "legendgroup": "",
           "locationmode": "country names",
           "locations": [
            "Sweden",
            "Vietnam",
            "Togo",
            "Federated States of Micronesia",
            "Liechtenstein",
            "Qatar",
            "Mauritius ",
            "Saudi Arabia",
            "Iran",
            "Madagascar",
            "Chad",
            "Norway",
            "Indonesia"
           ],
           "marker": {
            "color": [
             763333.18,
             618246.25,
             575808.73,
             125425.3,
             721919.91,
             61776,
             290132.25,
             394815.02,
             548376.4,
             795803.97,
             18596.84,
             141489.36,
             206895.36
            ],
            "coloraxis": "coloraxis",
            "size": [
             763333.18,
             618246.25,
             575808.73,
             125425.3,
             721919.91,
             61776,
             290132.25,
             394815.02,
             548376.4,
             795803.97,
             18596.84,
             141489.36,
             206895.36
            ],
            "sizemode": "area",
            "sizeref": 4315.4534
           },
           "name": "",
           "showlegend": false,
           "type": "scattergeo"
          }
         ],
         "name": "2016-8"
        },
        {
         "data": [
          {
           "geo": "geo",
           "hoverlabel": {
            "namelength": 0
           },
           "hovertemplate": "<b>%{hovertext}</b><br><br>YearMonth=2014-5<br>Total Profit=%{marker.color}<br>Country=%{location}",
           "hovertext": [
            "Guinea-Bissau",
            "United Kingdom",
            "Bulgaria",
            "Hungary",
            "Australia",
            "Liberia",
            "Benin",
            "Spain",
            "Sri Lanka",
            "Syria",
            "Bhutan"
           ],
           "legendgroup": "",
           "locationmode": "country names",
           "locations": [
            "Guinea-Bissau",
            "United Kingdom",
            "Bulgaria",
            "Hungary",
            "Australia",
            "Liberia",
            "Benin",
            "Spain",
            "Sri Lanka",
            "Syria",
            "Bhutan"
           ],
           "marker": {
            "color": [
             406651.25,
             359812.5,
             578515.1,
             47221.24,
             436543.95,
             132969.06,
             409494.8,
             313749.78,
             1114332.83,
             33129.32,
             119262
            ],
            "coloraxis": "coloraxis",
            "size": [
             406651.25,
             359812.5,
             578515.1,
             47221.24,
             436543.95,
             132969.06,
             409494.8,
             313749.78,
             1114332.83,
             33129.32,
             119262
            ],
            "sizemode": "area",
            "sizeref": 4315.4534
           },
           "name": "",
           "showlegend": false,
           "type": "scattergeo"
          }
         ],
         "name": "2014-5"
        },
        {
         "data": [
          {
           "geo": "geo",
           "hoverlabel": {
            "namelength": 0
           },
           "hovertemplate": "<b>%{hovertext}</b><br><br>YearMonth=2013-8<br>Total Profit=%{marker.color}<br>Country=%{location}",
           "hovertext": [
            "Mongolia",
            "Luxembourg",
            "Mauritania",
            "Croatia",
            "Japan",
            "Mali",
            "Czech Republic",
            "Sudan",
            "Rwanda",
            "Djibouti",
            "South Sudan",
            "Tajikistan",
            "Poland",
            "Italy",
            "Antigua and Barbuda ",
            "North Korea",
            "Mexico",
            "Yemen"
           ],
           "legendgroup": "",
           "locationmode": "country names",
           "locations": [
            "Mongolia",
            "Luxembourg",
            "Mauritania",
            "Croatia",
            "Japan",
            "Mali",
            "Czech Republic",
            "Sudan",
            "Rwanda",
            "Djibouti",
            "South Sudan",
            "Tajikistan",
            "Poland",
            "Italy",
            "Antigua and Barbuda ",
            "North Korea",
            "Mexico",
            "Yemen"
           ],
           "marker": {
            "color": [
             155237.58,
             607273.1,
             465150.4,
             309776.52,
             1332018.07,
             147579.84,
             159807.62,
             629254.77,
             3489.2,
             774953.48,
             1276901.28,
             16302,
             671786.88,
             112845.96,
             238753.44,
             40622.04,
             399544.48,
             744622.5
            ],
            "coloraxis": "coloraxis",
            "size": [
             155237.58,
             607273.1,
             465150.4,
             309776.52,
             1332018.07,
             147579.84,
             159807.62,
             629254.77,
             3489.2,
             774953.48,
             1276901.28,
             16302,
             671786.88,
             112845.96,
             238753.44,
             40622.04,
             399544.48,
             744622.5
            ],
            "sizemode": "area",
            "sizeref": 4315.4534
           },
           "name": "",
           "showlegend": false,
           "type": "scattergeo"
          }
         ],
         "name": "2013-8"
        },
        {
         "data": [
          {
           "geo": "geo",
           "hoverlabel": {
            "namelength": 0
           },
           "hovertemplate": "<b>%{hovertext}</b><br><br>YearMonth=2011-10<br>Total Profit=%{marker.color}<br>Country=%{location}",
           "hovertext": [
            "Turkey",
            "Angola",
            "Lithuania",
            "Kuwait",
            "Estonia",
            "San Marino",
            "Maldives",
            "Malaysia",
            "Ireland",
            "Cambodia",
            "Germany",
            "Lesotho",
            "Bhutan"
           ],
           "legendgroup": "",
           "locationmode": "country names",
           "locations": [
            "Turkey",
            "Angola",
            "Lithuania",
            "Kuwait",
            "Estonia",
            "San Marino",
            "Maldives",
            "Malaysia",
            "Ireland",
            "Cambodia",
            "Germany",
            "Lesotho",
            "Bhutan"
           ],
           "marker": {
            "color": [
             5891.6,
             375621.6,
             18889.58,
             377709,
             33653.34,
             560904.62,
             1697666.68,
             902565.58,
             358014.8,
             476259.84,
             738397.65,
             204915.62,
             1245456.25
            ],
            "coloraxis": "coloraxis",
            "size": [
             5891.6,
             375621.6,
             18889.58,
             377709,
             33653.34,
             560904.62,
             1697666.68,
             902565.58,
             358014.8,
             476259.84,
             738397.65,
             204915.62,
             1245456.25
            ],
            "sizemode": "area",
            "sizeref": 4315.4534
           },
           "name": "",
           "showlegend": false,
           "type": "scattergeo"
          }
         ],
         "name": "2011-10"
        },
        {
         "data": [
          {
           "geo": "geo",
           "hoverlabel": {
            "namelength": 0
           },
           "hovertemplate": "<b>%{hovertext}</b><br><br>YearMonth=2015-4<br>Total Profit=%{marker.color}<br>Country=%{location}",
           "hovertext": [
            "Equatorial Guinea",
            "Poland",
            "Cyprus",
            "Tanzania",
            "Serbia",
            "Sao Tome and Principe",
            "Angola"
           ],
           "legendgroup": "",
           "locationmode": "country names",
           "locations": [
            "Equatorial Guinea",
            "Poland",
            "Cyprus",
            "Tanzania",
            "Serbia",
            "Sao Tome and Principe",
            "Angola"
           ],
           "marker": {
            "color": [
             697278.75,
             1072620,
             637581.29,
             633917.25,
             41405.04,
             860651.85,
             1513943.55
            ],
            "coloraxis": "coloraxis",
            "size": [
             697278.75,
             1072620,
             637581.29,
             633917.25,
             41405.04,
             860651.85,
             1513943.55
            ],
            "sizemode": "area",
            "sizeref": 4315.4534
           },
           "name": "",
           "showlegend": false,
           "type": "scattergeo"
          }
         ],
         "name": "2015-4"
        },
        {
         "data": [
          {
           "geo": "geo",
           "hoverlabel": {
            "namelength": 0
           },
           "hovertemplate": "<b>%{hovertext}</b><br><br>YearMonth=2013-3<br>Total Profit=%{marker.color}<br>Country=%{location}",
           "hovertext": [
            "Laos",
            "Georgia",
            "Belize",
            "Bulgaria",
            "Somalia",
            "Cape Verde",
            "Moldova ",
            "Tuvalu"
           ],
           "legendgroup": "",
           "locationmode": "country names",
           "locations": [
            "Laos",
            "Georgia",
            "Belize",
            "Bulgaria",
            "Somalia",
            "Cape Verde",
            "Moldova ",
            "Tuvalu"
           ],
           "marker": {
            "color": [
             48655.62,
             1032725,
             513928.73,
             218263.68,
             118734.28,
             23618,
             91544.18,
             595236.21
            ],
            "coloraxis": "coloraxis",
            "size": [
             48655.62,
             1032725,
             513928.73,
             218263.68,
             118734.28,
             23618,
             91544.18,
             595236.21
            ],
            "sizemode": "area",
            "sizeref": 4315.4534
           },
           "name": "",
           "showlegend": false,
           "type": "scattergeo"
          }
         ],
         "name": "2013-3"
        },
        {
         "data": [
          {
           "geo": "geo",
           "hoverlabel": {
            "namelength": 0
           },
           "hovertemplate": "<b>%{hovertext}</b><br><br>YearMonth=2015-8<br>Total Profit=%{marker.color}<br>Country=%{location}",
           "hovertext": [
            "Israel",
            "Portugal",
            "Brunei",
            "Marshall Islands",
            "Tunisia ",
            "Laos",
            "Cuba",
            "Ukraine",
            "Guinea-Bissau",
            "Iran",
            "Greece",
            "Sao Tome and Principe"
           ],
           "legendgroup": "",
           "locationmode": "country names",
           "locations": [
            "Israel",
            "Portugal",
            "Brunei",
            "Marshall Islands",
            "Tunisia ",
            "Laos",
            "Cuba",
            "Ukraine",
            "Guinea-Bissau",
            "Iran",
            "Greece",
            "Sao Tome and Principe"
           ],
           "marker": {
            "color": [
             53503.1,
             1109485,
             843855.58,
             58396.14,
             350922,
             75497.5,
             154770.56,
             411264,
             436322.82,
             1064413.75,
             78287.44,
             435499.2
            ],
            "coloraxis": "coloraxis",
            "size": [
             53503.1,
             1109485,
             843855.58,
             58396.14,
             350922,
             75497.5,
             154770.56,
             411264,
             436322.82,
             1064413.75,
             78287.44,
             435499.2
            ],
            "sizemode": "area",
            "sizeref": 4315.4534
           },
           "name": "",
           "showlegend": false,
           "type": "scattergeo"
          }
         ],
         "name": "2015-8"
        },
        {
         "data": [
          {
           "geo": "geo",
           "hoverlabel": {
            "namelength": 0
           },
           "hovertemplate": "<b>%{hovertext}</b><br><br>YearMonth=2016-12<br>Total Profit=%{marker.color}<br>Country=%{location}",
           "hovertext": [
            "Bhutan",
            "Fiji",
            "Israel",
            "Vietnam",
            "Libya",
            "Slovenia",
            "Benin",
            "Norway",
            "India",
            "Sweden",
            "Ethiopia",
            "Estonia",
            "Afghanistan",
            "Netherlands",
            "Malaysia",
            "Andorra",
            "Maldives",
            "Sudan"
           ],
           "legendgroup": "",
           "locationmode": "country names",
           "locations": [
            "Bhutan",
            "Fiji",
            "Israel",
            "Vietnam",
            "Libya",
            "Slovenia",
            "Benin",
            "Norway",
            "India",
            "Sweden",
            "Ethiopia",
            "Estonia",
            "Afghanistan",
            "Netherlands",
            "Malaysia",
            "Andorra",
            "Maldives",
            "Sudan"
           ],
           "marker": {
            "color": [
             468410.8,
             45709.44,
             62249.04,
             1109986.08,
             559534.82,
             486583.28,
             436571.52,
             169210.33,
             1725485.88,
             195994.26,
             376477.5,
             111361.32,
             252633.6,
             1220045.79,
             462045.2,
             739464.04,
             429183.36,
             270701.44
            ],
            "coloraxis": "coloraxis",
            "size": [
             468410.8,
             45709.44,
             62249.04,
             1109986.08,
             559534.82,
             486583.28,
             436571.52,
             169210.33,
             1725485.88,
             195994.26,
             376477.5,
             111361.32,
             252633.6,
             1220045.79,
             462045.2,
             739464.04,
             429183.36,
             270701.44
            ],
            "sizemode": "area",
            "sizeref": 4315.4534
           },
           "name": "",
           "showlegend": false,
           "type": "scattergeo"
          }
         ],
         "name": "2016-12"
        },
        {
         "data": [
          {
           "geo": "geo",
           "hoverlabel": {
            "namelength": 0
           },
           "hovertemplate": "<b>%{hovertext}</b><br><br>YearMonth=2010-11<br>Total Profit=%{marker.color}<br>Country=%{location}",
           "hovertext": [
            "Burundi",
            "Kiribati",
            "Moldova ",
            "Uzbekistan",
            "Tunisia ",
            "Finland",
            "Mongolia",
            "Chad",
            "Oman",
            "Poland",
            "Sweden",
            "Malaysia",
            "Solomon Islands",
            "Guatemala",
            "Egypt"
           ],
           "legendgroup": "",
           "locationmode": "country names",
           "locations": [
            "Burundi",
            "Kiribati",
            "Moldova ",
            "Uzbekistan",
            "Tunisia ",
            "Finland",
            "Mongolia",
            "Chad",
            "Oman",
            "Poland",
            "Sweden",
            "Malaysia",
            "Solomon Islands",
            "Guatemala",
            "Egypt"
           ],
           "marker": {
            "color": [
             215273.3,
             118918.8,
             7323.99,
             126169.92,
             31976.56,
             2230.34,
             188632.44,
             23302.29,
             5029.67,
             296582,
             121368.3,
             242525.8,
             301560.36,
             460319.72,
             52141.25
            ],
            "coloraxis": "coloraxis",
            "size": [
             215273.3,
             118918.8,
             7323.99,
             126169.92,
             31976.56,
             2230.34,
             188632.44,
             23302.29,
             5029.67,
             296582,
             121368.3,
             242525.8,
             301560.36,
             460319.72,
             52141.25
            ],
            "sizemode": "area",
            "sizeref": 4315.4534
           },
           "name": "",
           "showlegend": false,
           "type": "scattergeo"
          }
         ],
         "name": "2010-11"
        },
        {
         "data": [
          {
           "geo": "geo",
           "hoverlabel": {
            "namelength": 0
           },
           "hovertemplate": "<b>%{hovertext}</b><br><br>YearMonth=2016-6<br>Total Profit=%{marker.color}<br>Country=%{location}",
           "hovertext": [
            "Croatia",
            "Estonia",
            "Myanmar",
            "Turkey",
            "Latvia"
           ],
           "legendgroup": "",
           "locationmode": "country names",
           "locations": [
            "Croatia",
            "Estonia",
            "Myanmar",
            "Turkey",
            "Latvia"
           ],
           "marker": {
            "color": [
             7360.2,
             474642.72,
             127759.38,
             550359.36,
             117403.02
            ],
            "coloraxis": "coloraxis",
            "size": [
             7360.2,
             474642.72,
             127759.38,
             550359.36,
             117403.02
            ],
            "sizemode": "area",
            "sizeref": 4315.4534
           },
           "name": "",
           "showlegend": false,
           "type": "scattergeo"
          }
         ],
         "name": "2016-6"
        },
        {
         "data": [
          {
           "geo": "geo",
           "hoverlabel": {
            "namelength": 0
           },
           "hovertemplate": "<b>%{hovertext}</b><br><br>YearMonth=2016-5<br>Total Profit=%{marker.color}<br>Country=%{location}",
           "hovertext": [
            "Madagascar",
            "Burkina Faso",
            "Switzerland",
            "Dominican Republic",
            "Belarus",
            "Senegal",
            "Namibia",
            "France",
            "Panama",
            "Switzerland"
           ],
           "legendgroup": "",
           "locationmode": "country names",
           "locations": [
            "Madagascar",
            "Burkina Faso",
            "Switzerland",
            "Dominican Republic",
            "Belarus",
            "Senegal",
            "Namibia",
            "France",
            "Panama",
            "Switzerland"
           ],
           "marker": {
            "color": [
             18532.9,
             115771.25,
             553428.21,
             158830.28,
             575831.02,
             212134.4,
             455609.21,
             4166.25,
             71120.28,
             264672
            ],
            "coloraxis": "coloraxis",
            "size": [
             18532.9,
             115771.25,
             553428.21,
             158830.28,
             575831.02,
             212134.4,
             455609.21,
             4166.25,
             71120.28,
             264672
            ],
            "sizemode": "area",
            "sizeref": 4315.4534
           },
           "name": "",
           "showlegend": false,
           "type": "scattergeo"
          }
         ],
         "name": "2016-5"
        },
        {
         "data": [
          {
           "geo": "geo",
           "hoverlabel": {
            "namelength": 0
           },
           "hovertemplate": "<b>%{hovertext}</b><br><br>YearMonth=2012-3<br>Total Profit=%{marker.color}<br>Country=%{location}",
           "hovertext": [
            "Uzbekistan",
            "Mali",
            "Cyprus",
            "Ireland",
            "Poland",
            "Switzerland",
            "Chad",
            "Cambodia",
            "Ireland",
            "Brunei",
            "Saint Lucia",
            "Sierra Leone",
            "Iceland",
            "Papua New Guinea",
            "Mali"
           ],
           "legendgroup": "",
           "locationmode": "country names",
           "locations": [
            "Uzbekistan",
            "Mali",
            "Cyprus",
            "Ireland",
            "Poland",
            "Switzerland",
            "Chad",
            "Cambodia",
            "Ireland",
            "Brunei",
            "Saint Lucia",
            "Sierra Leone",
            "Iceland",
            "Papua New Guinea",
            "Mali"
           ],
           "marker": {
            "color": [
             1203793.75,
             760988.1,
             305696.16,
             66412.76,
             97828.02,
             204310.08,
             466180,
             87176.34,
             58678.56,
             48185.82,
             10605.84,
             947001.25,
             23042.45,
             1631943.31,
             13624.2
            ],
            "coloraxis": "coloraxis",
            "size": [
             1203793.75,
             760988.1,
             305696.16,
             66412.76,
             97828.02,
             204310.08,
             466180,
             87176.34,
             58678.56,
             48185.82,
             10605.84,
             947001.25,
             23042.45,
             1631943.31,
             13624.2
            ],
            "sizemode": "area",
            "sizeref": 4315.4534
           },
           "name": "",
           "showlegend": false,
           "type": "scattergeo"
          }
         ],
         "name": "2012-3"
        },
        {
         "data": [
          {
           "geo": "geo",
           "hoverlabel": {
            "namelength": 0
           },
           "hovertemplate": "<b>%{hovertext}</b><br><br>YearMonth=2014-6<br>Total Profit=%{marker.color}<br>Country=%{location}",
           "hovertext": [
            "Nepal",
            "Portugal",
            "Jordan",
            "Belgium",
            "Zimbabwe",
            "Lesotho",
            "Chad"
           ],
           "legendgroup": "",
           "locationmode": "country names",
           "locations": [
            "Nepal",
            "Portugal",
            "Jordan",
            "Belgium",
            "Zimbabwe",
            "Lesotho",
            "Chad"
           ],
           "marker": {
            "color": [
             524989.08,
             119811.25,
             389070.19,
             13564.44,
             199048.89,
             215541.06,
             1046865
            ],
            "coloraxis": "coloraxis",
            "size": [
             524989.08,
             119811.25,
             389070.19,
             13564.44,
             199048.89,
             215541.06,
             1046865
            ],
            "sizemode": "area",
            "sizeref": 4315.4534
           },
           "name": "",
           "showlegend": false,
           "type": "scattergeo"
          }
         ],
         "name": "2014-6"
        },
        {
         "data": [
          {
           "geo": "geo",
           "hoverlabel": {
            "namelength": 0
           },
           "hovertemplate": "<b>%{hovertext}</b><br><br>YearMonth=2013-4<br>Total Profit=%{marker.color}<br>Country=%{location}",
           "hovertext": [
            "Belarus",
            "China",
            "Oman",
            "Slovakia",
            "Belgium",
            "Marshall Islands",
            "Democratic Republic of the Congo",
            "The Bahamas",
            "Pakistan",
            "Algeria",
            "Afghanistan"
           ],
           "legendgroup": "",
           "locationmode": "country names",
           "locations": [
            "Belarus",
            "China",
            "Oman",
            "Slovakia",
            "Belgium",
            "Marshall Islands",
            "Democratic Republic of the Congo",
            "The Bahamas",
            "Pakistan",
            "Algeria",
            "Afghanistan"
           ],
           "marker": {
            "color": [
             107208.36,
             75340.26,
             258000.06,
             282229.92,
             68105.34,
             152139.26,
             19896.96,
             406547.22,
             524610.3,
             304355.5,
             15503.53
            ],
            "coloraxis": "coloraxis",
            "size": [
             107208.36,
             75340.26,
             258000.06,
             282229.92,
             68105.34,
             152139.26,
             19896.96,
             406547.22,
             524610.3,
             304355.5,
             15503.53
            ],
            "sizemode": "area",
            "sizeref": 4315.4534
           },
           "name": "",
           "showlegend": false,
           "type": "scattergeo"
          }
         ],
         "name": "2013-4"
        },
        {
         "data": [
          {
           "geo": "geo",
           "hoverlabel": {
            "namelength": 0
           },
           "hovertemplate": "<b>%{hovertext}</b><br><br>YearMonth=2013-6<br>Total Profit=%{marker.color}<br>Country=%{location}",
           "hovertext": [
            "Tanzania",
            "Czech Republic",
            "Sudan",
            "Grenada",
            "Andorra",
            "Ethiopia",
            "Cape Verde",
            "Portugal",
            "Belize",
            "New Zealand",
            "Lesotho",
            "Lebanon"
           ],
           "legendgroup": "",
           "locationmode": "country names",
           "locations": [
            "Tanzania",
            "Czech Republic",
            "Sudan",
            "Grenada",
            "Andorra",
            "Ethiopia",
            "Cape Verde",
            "Portugal",
            "Belize",
            "New Zealand",
            "Lesotho",
            "Lebanon"
           ],
           "marker": {
            "color": [
             198500.26,
             18306.48,
             825169.67,
             48696.88,
             9396,
             382670.57,
             769027.01,
             347909.43,
             352730.58,
             570856,
             768030.32,
             106190.46
            ],
            "coloraxis": "coloraxis",
            "size": [
             198500.26,
             18306.48,
             825169.67,
             48696.88,
             9396,
             382670.57,
             769027.01,
             347909.43,
             352730.58,
             570856,
             768030.32,
             106190.46
            ],
            "sizemode": "area",
            "sizeref": 4315.4534
           },
           "name": "",
           "showlegend": false,
           "type": "scattergeo"
          }
         ],
         "name": "2013-6"
        },
        {
         "data": [
          {
           "geo": "geo",
           "hoverlabel": {
            "namelength": 0
           },
           "hovertemplate": "<b>%{hovertext}</b><br><br>YearMonth=2013-1<br>Total Profit=%{marker.color}<br>Country=%{location}",
           "hovertext": [
            "Romania",
            "Kenya",
            "Tonga",
            "Namibia",
            "The Bahamas",
            "Botswana",
            "Honduras",
            "Kyrgyzstan",
            "Angola",
            "Myanmar"
           ],
           "legendgroup": "",
           "locationmode": "country names",
           "locations": [
            "Romania",
            "Kenya",
            "Tonga",
            "Namibia",
            "The Bahamas",
            "Botswana",
            "Honduras",
            "Kyrgyzstan",
            "Angola",
            "Myanmar"
           ],
           "marker": {
            "color": [
             459045,
             632391.84,
             1431078.55,
             47233.05,
             633634.6,
             250353.75,
             80618.02,
             54927.78,
             802630.39,
             432061.72
            ],
            "coloraxis": "coloraxis",
            "size": [
             459045,
             632391.84,
             1431078.55,
             47233.05,
             633634.6,
             250353.75,
             80618.02,
             54927.78,
             802630.39,
             432061.72
            ],
            "sizemode": "area",
            "sizeref": 4315.4534
           },
           "name": "",
           "showlegend": false,
           "type": "scattergeo"
          }
         ],
         "name": "2013-1"
        },
        {
         "data": [
          {
           "geo": "geo",
           "hoverlabel": {
            "namelength": 0
           },
           "hovertemplate": "<b>%{hovertext}</b><br><br>YearMonth=2011-5<br>Total Profit=%{marker.color}<br>Country=%{location}",
           "hovertext": [
            "Austria",
            "Portugal",
            "Tonga",
            "Democratic Republic of the Congo",
            "Burundi",
            "Zambia",
            "Turkey",
            "United Arab Emirates"
           ],
           "legendgroup": "",
           "locationmode": "country names",
           "locations": [
            "Austria",
            "Portugal",
            "Tonga",
            "Democratic Republic of the Congo",
            "Burundi",
            "Zambia",
            "Turkey",
            "United Arab Emirates"
           ],
           "marker": {
            "color": [
             989926.25,
             1203415,
             17168.84,
             20799.8,
             1571089.32,
             721442.36,
             57832.38,
             603270.28
            ],
            "coloraxis": "coloraxis",
            "size": [
             989926.25,
             1203415,
             17168.84,
             20799.8,
             1571089.32,
             721442.36,
             57832.38,
             603270.28
            ],
            "sizemode": "area",
            "sizeref": 4315.4534
           },
           "name": "",
           "showlegend": false,
           "type": "scattergeo"
          }
         ],
         "name": "2011-5"
        },
        {
         "data": [
          {
           "geo": "geo",
           "hoverlabel": {
            "namelength": 0
           },
           "hovertemplate": "<b>%{hovertext}</b><br><br>YearMonth=2010-7<br>Total Profit=%{marker.color}<br>Country=%{location}",
           "hovertext": [
            "India",
            "Rwanda",
            "Czech Republic",
            "Solomon Islands",
            "Bangladesh",
            "Saint Kitts and Nevis ",
            "United States of America",
            "Namibia",
            "Nigeria",
            "Japan",
            "Panama",
            "Syria",
            "Tajikistan",
            "Thailand",
            "Albania",
            "Zimbabwe"
           ],
           "legendgroup": "",
           "locationmode": "country names",
           "locations": [
            "India",
            "Rwanda",
            "Czech Republic",
            "Solomon Islands",
            "Bangladesh",
            "Saint Kitts and Nevis ",
            "United States of America",
            "Namibia",
            "Nigeria",
            "Japan",
            "Panama",
            "Syria",
            "Tajikistan",
            "Thailand",
            "Albania",
            "Zimbabwe"
           ],
           "marker": {
            "color": [
             21357.42,
             366823.6,
             129698.58,
             123019.54,
             119360.78,
             367091.95,
             224612.78,
             819449.31,
             505355.65,
             375746.8,
             87559.64,
             27018.6,
             165721.78,
             440331.75,
             137416.5,
             23875.87
            ],
            "coloraxis": "coloraxis",
            "size": [
             21357.42,
             366823.6,
             129698.58,
             123019.54,
             119360.78,
             367091.95,
             224612.78,
             819449.31,
             505355.65,
             375746.8,
             87559.64,
             27018.6,
             165721.78,
             440331.75,
             137416.5,
             23875.87
            ],
            "sizemode": "area",
            "sizeref": 4315.4534
           },
           "name": "",
           "showlegend": false,
           "type": "scattergeo"
          }
         ],
         "name": "2010-7"
        },
        {
         "data": [
          {
           "geo": "geo",
           "hoverlabel": {
            "namelength": 0
           },
           "hovertemplate": "<b>%{hovertext}</b><br><br>YearMonth=2017-2<br>Total Profit=%{marker.color}<br>Country=%{location}",
           "hovertext": [
            "Sweden",
            "Algeria",
            "Fiji",
            "Cape Verde",
            "Belgium",
            "Ghana",
            "Greece",
            "Tajikistan",
            "Guinea-Bissau",
            "Macedonia",
            "Kiribati",
            "North Korea",
            "Kenya",
            "Vanuatu",
            "Bahrain",
            "Switzerland"
           ],
           "legendgroup": "",
           "locationmode": "country names",
           "locations": [
            "Sweden",
            "Algeria",
            "Fiji",
            "Cape Verde",
            "Belgium",
            "Ghana",
            "Greece",
            "Tajikistan",
            "Guinea-Bissau",
            "Macedonia",
            "Kiribati",
            "North Korea",
            "Kenya",
            "Vanuatu",
            "Bahrain",
            "Switzerland"
           ],
           "marker": {
            "color": [
             366659.04,
             444182.68,
             172143.36,
             366846.42,
             169806.25,
             374774.4,
             381683.98,
             136101.06,
             179857.37,
             225489.88,
             437922.72,
             182041.89,
             199513.6,
             822912.51,
             31210.38,
             62436.42
            ],
            "coloraxis": "coloraxis",
            "size": [
             366659.04,
             444182.68,
             172143.36,
             366846.42,
             169806.25,
             374774.4,
             381683.98,
             136101.06,
             179857.37,
             225489.88,
             437922.72,
             182041.89,
             199513.6,
             822912.51,
             31210.38,
             62436.42
            ],
            "sizemode": "area",
            "sizeref": 4315.4534
           },
           "name": "",
           "showlegend": false,
           "type": "scattergeo"
          }
         ],
         "name": "2017-2"
        },
        {
         "data": [
          {
           "geo": "geo",
           "hoverlabel": {
            "namelength": 0
           },
           "hovertemplate": "<b>%{hovertext}</b><br><br>YearMonth=2013-9<br>Total Profit=%{marker.color}<br>Country=%{location}",
           "hovertext": [
            "South Sudan",
            "Serbia",
            "Barbados",
            "Mongolia",
            "Seychelles ",
            "Swaziland",
            "Andorra",
            "Djibouti",
            "Trinidad and Tobago",
            "The Gambia",
            "Saint Kitts and Nevis "
           ],
           "legendgroup": "",
           "locationmode": "country names",
           "locations": [
            "South Sudan",
            "Serbia",
            "Barbados",
            "Mongolia",
            "Seychelles ",
            "Swaziland",
            "Andorra",
            "Djibouti",
            "Trinidad and Tobago",
            "The Gambia",
            "Saint Kitts and Nevis "
           ],
           "marker": {
            "color": [
             304246.8,
             548698.14,
             32918.58,
             927.85,
             2154.49,
             204565.24,
             120262.65,
             426289.42,
             18723.29,
             502262.28,
             366832.8
            ],
            "coloraxis": "coloraxis",
            "size": [
             304246.8,
             548698.14,
             32918.58,
             927.85,
             2154.49,
             204565.24,
             120262.65,
             426289.42,
             18723.29,
             502262.28,
             366832.8
            ],
            "sizemode": "area",
            "sizeref": 4315.4534
           },
           "name": "",
           "showlegend": false,
           "type": "scattergeo"
          }
         ],
         "name": "2013-9"
        },
        {
         "data": [
          {
           "geo": "geo",
           "hoverlabel": {
            "namelength": 0
           },
           "hovertemplate": "<b>%{hovertext}</b><br><br>YearMonth=2015-2<br>Total Profit=%{marker.color}<br>Country=%{location}",
           "hovertext": [
            "Liberia",
            "United States of America",
            "Mauritius ",
            "Costa Rica",
            "Maldives",
            "Honduras",
            "Finland",
            "Antigua and Barbuda ",
            "Taiwan",
            "Bulgaria",
            "Ghana",
            "Niger"
           ],
           "legendgroup": "",
           "locationmode": "country names",
           "locations": [
            "Liberia",
            "United States of America",
            "Mauritius ",
            "Costa Rica",
            "Maldives",
            "Honduras",
            "Finland",
            "Antigua and Barbuda ",
            "Taiwan",
            "Bulgaria",
            "Ghana",
            "Niger"
           ],
           "marker": {
            "color": [
             677979.27,
             552441.18,
             181183.8,
             1079058.75,
             239199.57,
             479183.31,
             144120.06,
             782371.25,
             141112.86,
             11770.44,
             806939.37,
             853729.16
            ],
            "coloraxis": "coloraxis",
            "size": [
             677979.27,
             552441.18,
             181183.8,
             1079058.75,
             239199.57,
             479183.31,
             144120.06,
             782371.25,
             141112.86,
             11770.44,
             806939.37,
             853729.16
            ],
            "sizemode": "area",
            "sizeref": 4315.4534
           },
           "name": "",
           "showlegend": false,
           "type": "scattergeo"
          }
         ],
         "name": "2015-2"
        },
        {
         "data": [
          {
           "geo": "geo",
           "hoverlabel": {
            "namelength": 0
           },
           "hovertemplate": "<b>%{hovertext}</b><br><br>YearMonth=2010-1<br>Total Profit=%{marker.color}<br>Country=%{location}",
           "hovertext": [
            "Eritrea",
            "Tonga",
            "Ethiopia",
            "Nauru",
            "Monaco",
            "Russia",
            "Slovakia",
            "Kuwait",
            "Central African Republic"
           ],
           "legendgroup": "",
           "locationmode": "country names",
           "locations": [
            "Eritrea",
            "Tonga",
            "Ethiopia",
            "Nauru",
            "Monaco",
            "Russia",
            "Slovakia",
            "Kuwait",
            "Central African Republic"
           ],
           "marker": {
            "color": [
             235944.06,
             146687.22,
             74277.84,
             471896.75,
             275814.97,
             17570.52,
             444585.59,
             406692,
             1553221.56
            ],
            "coloraxis": "coloraxis",
            "size": [
             235944.06,
             146687.22,
             74277.84,
             471896.75,
             275814.97,
             17570.52,
             444585.59,
             406692,
             1553221.56
            ],
            "sizemode": "area",
            "sizeref": 4315.4534
           },
           "name": "",
           "showlegend": false,
           "type": "scattergeo"
          }
         ],
         "name": "2010-1"
        },
        {
         "data": [
          {
           "geo": "geo",
           "hoverlabel": {
            "namelength": 0
           },
           "hovertemplate": "<b>%{hovertext}</b><br><br>YearMonth=2010-3<br>Total Profit=%{marker.color}<br>Country=%{location}",
           "hovertext": [
            "South Korea",
            "Malaysia",
            "Cyprus",
            "Guinea-Bissau",
            "Mozambique",
            "Lesotho",
            "Guatemala",
            "India"
           ],
           "legendgroup": "",
           "locationmode": "country names",
           "locations": [
            "South Korea",
            "Malaysia",
            "Cyprus",
            "Guinea-Bissau",
            "Mozambique",
            "Lesotho",
            "Guatemala",
            "India"
           ],
           "marker": {
            "color": [
             9572.52,
             492345.06,
             353171.7,
             216788.42,
             11611.38,
             129696.12,
             395288.75,
             454643.88
            ],
            "coloraxis": "coloraxis",
            "size": [
             9572.52,
             492345.06,
             353171.7,
             216788.42,
             11611.38,
             129696.12,
             395288.75,
             454643.88
            ],
            "sizemode": "area",
            "sizeref": 4315.4534
           },
           "name": "",
           "showlegend": false,
           "type": "scattergeo"
          }
         ],
         "name": "2010-3"
        },
        {
         "data": [
          {
           "geo": "geo",
           "hoverlabel": {
            "namelength": 0
           },
           "hovertemplate": "<b>%{hovertext}</b><br><br>YearMonth=2017-3<br>Total Profit=%{marker.color}<br>Country=%{location}",
           "hovertext": [
            "Rwanda",
            "Republic of the Congo",
            "Moldova ",
            "Niger",
            "North Korea",
            "Austria",
            "New Zealand",
            "Tunisia ",
            "Poland",
            "Senegal",
            "Bahrain",
            "Costa Rica",
            "Fiji"
           ],
           "legendgroup": "",
           "locationmode": "country names",
           "locations": [
            "Rwanda",
            "Republic of the Congo",
            "Moldova ",
            "Niger",
            "North Korea",
            "Austria",
            "New Zealand",
            "Tunisia ",
            "Poland",
            "Senegal",
            "Bahrain",
            "Costa Rica",
            "Fiji"
           ],
           "marker": {
            "color": [
             116290.26,
             449534.8,
             201031.32,
             690192,
             9208.38,
             383295,
             1194084.65,
             453526.5,
             346444.62,
             401667.06,
             12654.91,
             1516841.88,
             791285.88
            ],
            "coloraxis": "coloraxis",
            "size": [
             116290.26,
             449534.8,
             201031.32,
             690192,
             9208.38,
             383295,
             1194084.65,
             453526.5,
             346444.62,
             401667.06,
             12654.91,
             1516841.88,
             791285.88
            ],
            "sizemode": "area",
            "sizeref": 4315.4534
           },
           "name": "",
           "showlegend": false,
           "type": "scattergeo"
          }
         ],
         "name": "2017-3"
        },
        {
         "data": [
          {
           "geo": "geo",
           "hoverlabel": {
            "namelength": 0
           },
           "hovertemplate": "<b>%{hovertext}</b><br><br>YearMonth=2014-3<br>Total Profit=%{marker.color}<br>Country=%{location}",
           "hovertext": [
            "Libya",
            "Morocco",
            "Guinea-Bissau",
            "Solomon Islands",
            "Sao Tome and Principe",
            "Czech Republic",
            "Swaziland",
            "Mongolia",
            "Guatemala",
            "Sweden"
           ],
           "legendgroup": "",
           "locationmode": "country names",
           "locations": [
            "Libya",
            "Morocco",
            "Guinea-Bissau",
            "Solomon Islands",
            "Sao Tome and Principe",
            "Czech Republic",
            "Swaziland",
            "Mongolia",
            "Guatemala",
            "Sweden"
           ],
           "marker": {
            "color": [
             131113.2,
             1123372.5,
             363087.36,
             461466.66,
             187330,
             518340.09,
             182718.72,
             23092.62,
             4147.61,
             1714010.46
            ],
            "coloraxis": "coloraxis",
            "size": [
             131113.2,
             1123372.5,
             363087.36,
             461466.66,
             187330,
             518340.09,
             182718.72,
             23092.62,
             4147.61,
             1714010.46
            ],
            "sizemode": "area",
            "sizeref": 4315.4534
           },
           "name": "",
           "showlegend": false,
           "type": "scattergeo"
          }
         ],
         "name": "2014-3"
        },
        {
         "data": [
          {
           "geo": "geo",
           "hoverlabel": {
            "namelength": 0
           },
           "hovertemplate": "<b>%{hovertext}</b><br><br>YearMonth=2011-9<br>Total Profit=%{marker.color}<br>Country=%{location}",
           "hovertext": [
            "Montenegro",
            "China",
            "Albania",
            "Iraq",
            "Chad",
            "Algeria",
            "Liberia",
            "Pakistan",
            "South Sudan",
            "Myanmar",
            "Indonesia"
           ],
           "legendgroup": "",
           "locationmode": "country names",
           "locations": [
            "Montenegro",
            "China",
            "Albania",
            "Iraq",
            "Chad",
            "Algeria",
            "Liberia",
            "Pakistan",
            "South Sudan",
            "Myanmar",
            "Indonesia"
           ],
           "marker": {
            "color": [
             62624.34,
             37034.31,
             5070.64,
             793228.75,
             851682.5,
             525725.2,
             301174.68,
             15831.29,
             5731.56,
             21031.38,
             232030.54
            ],
            "coloraxis": "coloraxis",
            "size": [
             62624.34,
             37034.31,
             5070.64,
             793228.75,
             851682.5,
             525725.2,
             301174.68,
             15831.29,
             5731.56,
             21031.38,
             232030.54
            ],
            "sizemode": "area",
            "sizeref": 4315.4534
           },
           "name": "",
           "showlegend": false,
           "type": "scattergeo"
          }
         ],
         "name": "2011-9"
        },
        {
         "data": [
          {
           "geo": "geo",
           "hoverlabel": {
            "namelength": 0
           },
           "hovertemplate": "<b>%{hovertext}</b><br><br>YearMonth=2016-7<br>Total Profit=%{marker.color}<br>Country=%{location}",
           "hovertext": [
            "Montenegro",
            "Malta",
            "Vietnam",
            "Austria",
            "Equatorial Guinea",
            "Senegal",
            "Iran",
            "Kuwait",
            "Cape Verde",
            "Solomon Islands",
            "Cote d'Ivoire",
            "Germany",
            "Russia",
            "United Kingdom"
           ],
           "legendgroup": "",
           "locationmode": "country names",
           "locations": [
            "Montenegro",
            "Malta",
            "Vietnam",
            "Austria",
            "Equatorial Guinea",
            "Senegal",
            "Iran",
            "Kuwait",
            "Cape Verde",
            "Solomon Islands",
            "Cote d'Ivoire",
            "Germany",
            "Russia",
            "United Kingdom"
           ],
           "marker": {
            "color": [
             113758.56,
             1483806.58,
             443011.25,
             191283.9,
             73044.4,
             3670.43,
             173659.2,
             472659.84,
             626.5,
             423160.39,
             541727.85,
             1123152.21,
             1981.02,
             85769.82
            ],
            "coloraxis": "coloraxis",
            "size": [
             113758.56,
             1483806.58,
             443011.25,
             191283.9,
             73044.4,
             3670.43,
             173659.2,
             472659.84,
             626.5,
             423160.39,
             541727.85,
             1123152.21,
             1981.02,
             85769.82
            ],
            "sizemode": "area",
            "sizeref": 4315.4534
           },
           "name": "",
           "showlegend": false,
           "type": "scattergeo"
          }
         ],
         "name": "2016-7"
        },
        {
         "data": [
          {
           "geo": "geo",
           "hoverlabel": {
            "namelength": 0
           },
           "hovertemplate": "<b>%{hovertext}</b><br><br>YearMonth=2014-2<br>Total Profit=%{marker.color}<br>Country=%{location}",
           "hovertext": [
            "Philippines",
            "Swaziland",
            "Czech Republic",
            "Dominican Republic",
            "Austria",
            "Tanzania",
            "Lithuania",
            "Saint Lucia",
            "Tuvalu",
            "Sudan",
            "Tunisia ",
            "Sao Tome and Principe",
            "Italy",
            "Spain"
           ],
           "legendgroup": "",
           "locationmode": "country names",
           "locations": [
            "Philippines",
            "Swaziland",
            "Czech Republic",
            "Dominican Republic",
            "Austria",
            "Tanzania",
            "Lithuania",
            "Saint Lucia",
            "Tuvalu",
            "Sudan",
            "Tunisia ",
            "Sao Tome and Principe",
            "Italy",
            "Spain"
           ],
           "marker": {
            "color": [
             391012.94,
             668145.78,
             174256.53,
             1256896.32,
             728210,
             163714.32,
             928316.25,
             30825.78,
             340539.96,
             594179.56,
             1785.24,
             1047566.75,
             415535.04,
             20732.64
            ],
            "coloraxis": "coloraxis",
            "size": [
             391012.94,
             668145.78,
             174256.53,
             1256896.32,
             728210,
             163714.32,
             928316.25,
             30825.78,
             340539.96,
             594179.56,
             1785.24,
             1047566.75,
             415535.04,
             20732.64
            ],
            "sizemode": "area",
            "sizeref": 4315.4534
           },
           "name": "",
           "showlegend": false,
           "type": "scattergeo"
          }
         ],
         "name": "2014-2"
        },
        {
         "data": [
          {
           "geo": "geo",
           "hoverlabel": {
            "namelength": 0
           },
           "hovertemplate": "<b>%{hovertext}</b><br><br>YearMonth=2012-12<br>Total Profit=%{marker.color}<br>Country=%{location}",
           "hovertext": [
            "Sudan",
            "Belarus",
            "Djibouti",
            "Mali",
            "Yemen",
            "Niger",
            "Switzerland",
            "Mozambique",
            "United Kingdom",
            "Panama",
            "Monaco"
           ],
           "legendgroup": "",
           "locationmode": "country names",
           "locations": [
            "Sudan",
            "Belarus",
            "Djibouti",
            "Mali",
            "Yemen",
            "Niger",
            "Switzerland",
            "Mozambique",
            "United Kingdom",
            "Panama",
            "Monaco"
           ],
           "marker": {
            "color": [
             3207.71,
             62048.56,
             398496.78,
             81745.2,
             1032787.8,
             344000.8,
             205062,
             1937.64,
             552955.67,
             534476.8,
             58282.98
            ],
            "coloraxis": "coloraxis",
            "size": [
             3207.71,
             62048.56,
             398496.78,
             81745.2,
             1032787.8,
             344000.8,
             205062,
             1937.64,
             552955.67,
             534476.8,
             58282.98
            ],
            "sizemode": "area",
            "sizeref": 4315.4534
           },
           "name": "",
           "showlegend": false,
           "type": "scattergeo"
          }
         ],
         "name": "2012-12"
        },
        {
         "data": [
          {
           "geo": "geo",
           "hoverlabel": {
            "namelength": 0
           },
           "hovertemplate": "<b>%{hovertext}</b><br><br>YearMonth=2015-9<br>Total Profit=%{marker.color}<br>Country=%{location}",
           "hovertext": [
            "Niger",
            "Swaziland",
            "United Kingdom",
            "Israel",
            "Cuba",
            "China",
            "Egypt",
            "Saudi Arabia",
            "Albania",
            "Oman"
           ],
           "legendgroup": "",
           "locationmode": "country names",
           "locations": [
            "Niger",
            "Swaziland",
            "United Kingdom",
            "Israel",
            "Cuba",
            "China",
            "Egypt",
            "Saudi Arabia",
            "Albania",
            "Oman"
           ],
           "marker": {
            "color": [
             8592.48,
             513963.75,
             616822.56,
             154909.76,
             924988.4,
             1026160,
             262560.54,
             275277.53,
             189131.78,
             604589.02
            ],
            "coloraxis": "coloraxis",
            "size": [
             8592.48,
             513963.75,
             616822.56,
             154909.76,
             924988.4,
             1026160,
             262560.54,
             275277.53,
             189131.78,
             604589.02
            ],
            "sizemode": "area",
            "sizeref": 4315.4534
           },
           "name": "",
           "showlegend": false,
           "type": "scattergeo"
          }
         ],
         "name": "2015-9"
        },
        {
         "data": [
          {
           "geo": "geo",
           "hoverlabel": {
            "namelength": 0
           },
           "hovertemplate": "<b>%{hovertext}</b><br><br>YearMonth=2013-11<br>Total Profit=%{marker.color}<br>Country=%{location}",
           "hovertext": [
            "Gabon",
            "South Korea",
            "Taiwan",
            "India",
            "Lebanon",
            "Malaysia",
            "Haiti",
            "Ghana",
            "Sri Lanka"
           ],
           "legendgroup": "",
           "locationmode": "country names",
           "locations": [
            "Gabon",
            "South Korea",
            "Taiwan",
            "India",
            "Lebanon",
            "Malaysia",
            "Haiti",
            "Ghana",
            "Sri Lanka"
           ],
           "marker": {
            "color": [
             960902.54,
             166700.54,
             104575.38,
             206845.24,
             1174882.5,
             314704.7,
             821424.34,
             264493.75,
             242064.6
            ],
            "coloraxis": "coloraxis",
            "size": [
             960902.54,
             166700.54,
             104575.38,
             206845.24,
             1174882.5,
             314704.7,
             821424.34,
             264493.75,
             242064.6
            ],
            "sizemode": "area",
            "sizeref": 4315.4534
           },
           "name": "",
           "showlegend": false,
           "type": "scattergeo"
          }
         ],
         "name": "2013-11"
        },
        {
         "data": [
          {
           "geo": "geo",
           "hoverlabel": {
            "namelength": 0
           },
           "hovertemplate": "<b>%{hovertext}</b><br><br>YearMonth=2014-8<br>Total Profit=%{marker.color}<br>Country=%{location}",
           "hovertext": [
            "East Timor",
            "Romania",
            "Luxembourg",
            "Swaziland",
            "Ukraine",
            "Slovenia",
            "Zimbabwe",
            "Tajikistan",
            "Moldova ",
            "Estonia",
            "Qatar",
            "Nicaragua",
            "Solomon Islands",
            "Namibia",
            "Laos",
            "Mauritania",
            "Turkey",
            "Bahrain",
            "Bhutan",
            "Austria"
           ],
           "legendgroup": "",
           "locationmode": "country names",
           "locations": [
            "East Timor",
            "Romania",
            "Luxembourg",
            "Swaziland",
            "Ukraine",
            "Slovenia",
            "Zimbabwe",
            "Tajikistan",
            "Moldova ",
            "Estonia",
            "Qatar",
            "Nicaragua",
            "Solomon Islands",
            "Namibia",
            "Laos",
            "Mauritania",
            "Turkey",
            "Bahrain",
            "Bhutan",
            "Austria"
           ],
           "marker": {
            "color": [
             173923.15,
             406878.06,
             1513280.63,
             52852.8,
             212963.05,
             127801.26,
             325444.7,
             498348.22,
             824396,
             83054.4,
             625002.45,
             19214.93,
             210993.12,
             168999.01,
             152199.54,
             405033.2,
             35605.32,
             90742.26,
             143946.72,
             127835.37
            ],
            "coloraxis": "coloraxis",
            "size": [
             173923.15,
             406878.06,
             1513280.63,
             52852.8,
             212963.05,
             127801.26,
             325444.7,
             498348.22,
             824396,
             83054.4,
             625002.45,
             19214.93,
             210993.12,
             168999.01,
             152199.54,
             405033.2,
             35605.32,
             90742.26,
             143946.72,
             127835.37
            ],
            "sizemode": "area",
            "sizeref": 4315.4534
           },
           "name": "",
           "showlegend": false,
           "type": "scattergeo"
          }
         ],
         "name": "2014-8"
        },
        {
         "data": [
          {
           "geo": "geo",
           "hoverlabel": {
            "namelength": 0
           },
           "hovertemplate": "<b>%{hovertext}</b><br><br>YearMonth=2010-10<br>Total Profit=%{marker.color}<br>Country=%{location}",
           "hovertext": [
            "United States of America",
            "Gabon",
            "Belgium",
            "Uganda",
            "Philippines",
            "Kazakhstan",
            "Bosnia and Herzegovina",
            "Sri Lanka",
            "Comoros",
            "Comoros",
            "Barbados",
            "Belarus",
            "Palau",
            "Iraq",
            "Lithuania"
           ],
           "legendgroup": "",
           "locationmode": "country names",
           "locations": [
            "United States of America",
            "Gabon",
            "Belgium",
            "Uganda",
            "Philippines",
            "Kazakhstan",
            "Bosnia and Herzegovina",
            "Sri Lanka",
            "Comoros",
            "Comoros",
            "Barbados",
            "Belarus",
            "Palau",
            "Iraq",
            "Lithuania"
           ],
           "marker": {
            "color": [
             543309.12,
             475031.1,
             23302.29,
             528439.35,
             319012.59,
             151267.08,
             160287.07,
             413348.32,
             460574.4,
             103848.64,
             856135.88,
             679455.68,
             278084.01,
             430652.16,
             437048.99
            ],
            "coloraxis": "coloraxis",
            "size": [
             543309.12,
             475031.1,
             23302.29,
             528439.35,
             319012.59,
             151267.08,
             160287.07,
             413348.32,
             460574.4,
             103848.64,
             856135.88,
             679455.68,
             278084.01,
             430652.16,
             437048.99
            ],
            "sizemode": "area",
            "sizeref": 4315.4534
           },
           "name": "",
           "showlegend": false,
           "type": "scattergeo"
          }
         ],
         "name": "2010-10"
        },
        {
         "data": [
          {
           "geo": "geo",
           "hoverlabel": {
            "namelength": 0
           },
           "hovertemplate": "<b>%{hovertext}</b><br><br>YearMonth=2012-6<br>Total Profit=%{marker.color}<br>Country=%{location}",
           "hovertext": [
            "Malawi",
            "Mozambique",
            "Republic of the Congo",
            "Mali",
            "Benin",
            "United Arab Emirates",
            "Niger",
            "Palau",
            "Czech Republic",
            "Bahrain",
            "Qatar",
            "Vanuatu"
           ],
           "legendgroup": "",
           "locationmode": "country names",
           "locations": [
            "Malawi",
            "Mozambique",
            "Republic of the Congo",
            "Mali",
            "Benin",
            "United Arab Emirates",
            "Niger",
            "Palau",
            "Czech Republic",
            "Bahrain",
            "Qatar",
            "Vanuatu"
           ],
           "marker": {
            "color": [
             443488.25,
             617110,
             34342.38,
             486858.56,
             439140.63,
             279953.28,
             700126.77,
             300965.68,
             583187.97,
             992722.7,
             126755,
             359730.8
            ],
            "coloraxis": "coloraxis",
            "size": [
             443488.25,
             617110,
             34342.38,
             486858.56,
             439140.63,
             279953.28,
             700126.77,
             300965.68,
             583187.97,
             992722.7,
             126755,
             359730.8
            ],
            "sizemode": "area",
            "sizeref": 4315.4534
           },
           "name": "",
           "showlegend": false,
           "type": "scattergeo"
          }
         ],
         "name": "2012-6"
        },
        {
         "data": [
          {
           "geo": "geo",
           "hoverlabel": {
            "namelength": 0
           },
           "hovertemplate": "<b>%{hovertext}</b><br><br>YearMonth=2013-5<br>Total Profit=%{marker.color}<br>Country=%{location}",
           "hovertext": [
            "Iceland",
            "Italy",
            "East Timor",
            "Finland",
            "Pakistan",
            "Philippines",
            "Yemen"
           ],
           "legendgroup": "",
           "locationmode": "country names",
           "locations": [
            "Iceland",
            "Italy",
            "East Timor",
            "Finland",
            "Pakistan",
            "Philippines",
            "Yemen"
           ],
           "marker": {
            "color": [
             53853.94,
             596476.47,
             86790.36,
             23080.26,
             85288.63,
             4550.08,
             455972.73
            ],
            "coloraxis": "coloraxis",
            "size": [
             53853.94,
             596476.47,
             86790.36,
             23080.26,
             85288.63,
             4550.08,
             455972.73
            ],
            "sizemode": "area",
            "sizeref": 4315.4534
           },
           "name": "",
           "showlegend": false,
           "type": "scattergeo"
          }
         ],
         "name": "2013-5"
        },
        {
         "data": [
          {
           "geo": "geo",
           "hoverlabel": {
            "namelength": 0
           },
           "hovertemplate": "<b>%{hovertext}</b><br><br>YearMonth=2011-6<br>Total Profit=%{marker.color}<br>Country=%{location}",
           "hovertext": [
            "Vietnam",
            "Luxembourg",
            "Ukraine",
            "Guinea"
           ],
           "legendgroup": "",
           "locationmode": "country names",
           "locations": [
            "Vietnam",
            "Luxembourg",
            "Ukraine",
            "Guinea"
           ],
           "marker": {
            "color": [
             440380.84,
             954573.88,
             177725.52,
             428256.4
            ],
            "coloraxis": "coloraxis",
            "size": [
             440380.84,
             954573.88,
             177725.52,
             428256.4
            ],
            "sizemode": "area",
            "sizeref": 4315.4534
           },
           "name": "",
           "showlegend": false,
           "type": "scattergeo"
          }
         ],
         "name": "2011-6"
        },
        {
         "data": [
          {
           "geo": "geo",
           "hoverlabel": {
            "namelength": 0
           },
           "hovertemplate": "<b>%{hovertext}</b><br><br>YearMonth=2011-4<br>Total Profit=%{marker.color}<br>Country=%{location}",
           "hovertext": [
            "Sweden",
            "Mauritania",
            "Papua New Guinea",
            "Czech Republic",
            "Belize",
            "Romania",
            "Armenia"
           ],
           "legendgroup": "",
           "locationmode": "country names",
           "locations": [
            "Sweden",
            "Mauritania",
            "Papua New Guinea",
            "Czech Republic",
            "Belize",
            "Romania",
            "Armenia"
           ],
           "marker": {
            "color": [
             234069.3,
             134378.46,
             1534402.75,
             24711.48,
             547518.4,
             406637.28,
             9331.52
            ],
            "coloraxis": "coloraxis",
            "size": [
             234069.3,
             134378.46,
             1534402.75,
             24711.48,
             547518.4,
             406637.28,
             9331.52
            ],
            "sizemode": "area",
            "sizeref": 4315.4534
           },
           "name": "",
           "showlegend": false,
           "type": "scattergeo"
          }
         ],
         "name": "2011-4"
        },
        {
         "data": [
          {
           "geo": "geo",
           "hoverlabel": {
            "namelength": 0
           },
           "hovertemplate": "<b>%{hovertext}</b><br><br>YearMonth=2012-11<br>Total Profit=%{marker.color}<br>Country=%{location}",
           "hovertext": [
            "Ghana",
            "Mexico",
            "Andorra",
            "Yemen",
            "Turkmenistan",
            "The Bahamas",
            "South Sudan",
            "Namibia",
            "Belarus",
            "Angola",
            "Uganda",
            "Fiji"
           ],
           "legendgroup": "",
           "locationmode": "country names",
           "locations": [
            "Ghana",
            "Mexico",
            "Andorra",
            "Yemen",
            "Turkmenistan",
            "The Bahamas",
            "South Sudan",
            "Namibia",
            "Belarus",
            "Angola",
            "Uganda",
            "Fiji"
           ],
           "marker": {
            "color": [
             513431.54,
             531485.28,
             106398.66,
             626597.07,
             1386439.38,
             742561.38,
             598166.4,
             579000.96,
             106752.83,
             363427.74,
             169631.14,
             62864.64
            ],
            "coloraxis": "coloraxis",
            "size": [
             513431.54,
             531485.28,
             106398.66,
             626597.07,
             1386439.38,
             742561.38,
             598166.4,
             579000.96,
             106752.83,
             363427.74,
             169631.14,
             62864.64
            ],
            "sizemode": "area",
            "sizeref": 4315.4534
           },
           "name": "",
           "showlegend": false,
           "type": "scattergeo"
          }
         ],
         "name": "2012-11"
        },
        {
         "data": [
          {
           "geo": "geo",
           "hoverlabel": {
            "namelength": 0
           },
           "hovertemplate": "<b>%{hovertext}</b><br><br>YearMonth=2015-11<br>Total Profit=%{marker.color}<br>Country=%{location}",
           "hovertext": [
            "Germany",
            "Albania",
            "Russia",
            "Vanuatu",
            "Norway",
            "Bahrain",
            "Tunisia "
           ],
           "legendgroup": "",
           "locationmode": "country names",
           "locations": [
            "Germany",
            "Albania",
            "Russia",
            "Vanuatu",
            "Norway",
            "Bahrain",
            "Tunisia "
           ],
           "marker": {
            "color": [
             889484.94,
             505418.78,
             98548.38,
             10398.24,
             1568307.4,
             23526.42,
             178276.84
            ],
            "coloraxis": "coloraxis",
            "size": [
             889484.94,
             505418.78,
             98548.38,
             10398.24,
             1568307.4,
             23526.42,
             178276.84
            ],
            "sizemode": "area",
            "sizeref": 4315.4534
           },
           "name": "",
           "showlegend": false,
           "type": "scattergeo"
          }
         ],
         "name": "2015-11"
        },
        {
         "data": [
          {
           "geo": "geo",
           "hoverlabel": {
            "namelength": 0
           },
           "hovertemplate": "<b>%{hovertext}</b><br><br>YearMonth=2013-2<br>Total Profit=%{marker.color}<br>Country=%{location}",
           "hovertext": [
            "Uzbekistan",
            "The Bahamas",
            "Ethiopia",
            "Cuba",
            "Ghana",
            "Kazakhstan",
            "Democratic Republic of the Congo",
            "Philippines",
            "Mongolia",
            "Burundi",
            "Switzerland",
            "Bosnia and Herzegovina",
            "Uzbekistan",
            "Pakistan",
            "Tanzania",
            "Tuvalu",
            "Democratic Republic of the Congo"
           ],
           "legendgroup": "",
           "locationmode": "country names",
           "locations": [
            "Uzbekistan",
            "The Bahamas",
            "Ethiopia",
            "Cuba",
            "Ghana",
            "Kazakhstan",
            "Democratic Republic of the Congo",
            "Philippines",
            "Mongolia",
            "Burundi",
            "Switzerland",
            "Bosnia and Herzegovina",
            "Uzbekistan",
            "Pakistan",
            "Tanzania",
            "Tuvalu",
            "Democratic Republic of the Congo"
           ],
           "marker": {
            "color": [
             249146.52,
             1336190.95,
             12872.52,
             603588.66,
             1227727.84,
             103262.04,
             771577.14,
             218372.84,
             1626142.76,
             423971.46,
             108256.98,
             934029.64,
             475503.6,
             146088.8,
             796332.65,
             9707.48,
             597415
            ],
            "coloraxis": "coloraxis",
            "size": [
             249146.52,
             1336190.95,
             12872.52,
             603588.66,
             1227727.84,
             103262.04,
             771577.14,
             218372.84,
             1626142.76,
             423971.46,
             108256.98,
             934029.64,
             475503.6,
             146088.8,
             796332.65,
             9707.48,
             597415
            ],
            "sizemode": "area",
            "sizeref": 4315.4534
           },
           "name": "",
           "showlegend": false,
           "type": "scattergeo"
          }
         ],
         "name": "2013-2"
        },
        {
         "data": [
          {
           "geo": "geo",
           "hoverlabel": {
            "namelength": 0
           },
           "hovertemplate": "<b>%{hovertext}</b><br><br>YearMonth=2017-7<br>Total Profit=%{marker.color}<br>Country=%{location}",
           "hovertext": [
            "Serbia",
            "Hungary",
            "Marshall Islands",
            "Swaziland",
            "Vanuatu",
            "Cuba",
            "Madagascar",
            "Madagascar"
           ],
           "legendgroup": "",
           "locationmode": "country names",
           "locations": [
            "Serbia",
            "Hungary",
            "Marshall Islands",
            "Swaziland",
            "Vanuatu",
            "Cuba",
            "Madagascar",
            "Madagascar"
           ],
           "marker": {
            "color": [
             1438774.25,
             898753.79,
             189428.54,
             235463.76,
             534305.2,
             884002.5,
             4603.1,
             13327.3
            ],
            "coloraxis": "coloraxis",
            "size": [
             1438774.25,
             898753.79,
             189428.54,
             235463.76,
             534305.2,
             884002.5,
             4603.1,
             13327.3
            ],
            "sizemode": "area",
            "sizeref": 4315.4534
           },
           "name": "",
           "showlegend": false,
           "type": "scattergeo"
          }
         ],
         "name": "2017-7"
        },
        {
         "data": [
          {
           "geo": "geo",
           "hoverlabel": {
            "namelength": 0
           },
           "hovertemplate": "<b>%{hovertext}</b><br><br>YearMonth=2017-4<br>Total Profit=%{marker.color}<br>Country=%{location}",
           "hovertext": [
            "Democratic Republic of the Congo",
            "Dominican Republic",
            "Ireland",
            "Saint Kitts and Nevis ",
            "Nepal"
           ],
           "legendgroup": "",
           "locationmode": "country names",
           "locations": [
            "Democratic Republic of the Congo",
            "Dominican Republic",
            "Ireland",
            "Saint Kitts and Nevis ",
            "Nepal"
           ],
           "marker": {
            "color": [
             16383.18,
             1225261.89,
             155331.54,
             388375.76,
             275761.2
            ],
            "coloraxis": "coloraxis",
            "size": [
             16383.18,
             1225261.89,
             155331.54,
             388375.76,
             275761.2
            ],
            "sizemode": "area",
            "sizeref": 4315.4534
           },
           "name": "",
           "showlegend": false,
           "type": "scattergeo"
          }
         ],
         "name": "2017-4"
        },
        {
         "data": [
          {
           "geo": "geo",
           "hoverlabel": {
            "namelength": 0
           },
           "hovertemplate": "<b>%{hovertext}</b><br><br>YearMonth=2014-7<br>Total Profit=%{marker.color}<br>Country=%{location}",
           "hovertext": [
            "Malawi",
            "Guatemala",
            "Greenland",
            "New Zealand",
            "Tonga",
            "Slovakia",
            "Montenegro",
            "Cote d'Ivoire",
            "Malaysia",
            "Jordan",
            "Azerbaijan",
            "Iran",
            "Liberia",
            "Cyprus",
            "Saint Vincent and the Grenadines",
            "Nepal"
           ],
           "legendgroup": "",
           "locationmode": "country names",
           "locations": [
            "Malawi",
            "Guatemala",
            "Greenland",
            "New Zealand",
            "Tonga",
            "Slovakia",
            "Montenegro",
            "Cote d'Ivoire",
            "Malaysia",
            "Jordan",
            "Azerbaijan",
            "Iran",
            "Liberia",
            "Cyprus",
            "Saint Vincent and the Grenadines",
            "Nepal"
           ],
           "marker": {
            "color": [
             614460.24,
             150555.24,
             58187.02,
             376058.78,
             200142.8,
             297405.43,
             152289.62,
             620125.99,
             680108.75,
             271185.2,
             102207.47,
             1587954.71,
             248791.68,
             76275.99,
             202906.29,
             5714.11
            ],
            "coloraxis": "coloraxis",
            "size": [
             614460.24,
             150555.24,
             58187.02,
             376058.78,
             200142.8,
             297405.43,
             152289.62,
             620125.99,
             680108.75,
             271185.2,
             102207.47,
             1587954.71,
             248791.68,
             76275.99,
             202906.29,
             5714.11
            ],
            "sizemode": "area",
            "sizeref": 4315.4534
           },
           "name": "",
           "showlegend": false,
           "type": "scattergeo"
          }
         ],
         "name": "2014-7"
        },
        {
         "data": [
          {
           "geo": "geo",
           "hoverlabel": {
            "namelength": 0
           },
           "hovertemplate": "<b>%{hovertext}</b><br><br>YearMonth=2011-7<br>Total Profit=%{marker.color}<br>Country=%{location}",
           "hovertext": [
            "Nicaragua",
            "Russia",
            "Liechtenstein",
            "Burkina Faso",
            "Singapore",
            "Kosovo",
            "Sierra Leone",
            "Australia"
           ],
           "legendgroup": "",
           "locationmode": "country names",
           "locations": [
            "Nicaragua",
            "Russia",
            "Liechtenstein",
            "Burkina Faso",
            "Singapore",
            "Kosovo",
            "Sierra Leone",
            "Australia"
           ],
           "marker": {
            "color": [
             290043.66,
             705216.72,
             1068792.77,
             296395.35,
             739637.91,
             359187.42,
             728341.43,
             408942.24
            ],
            "coloraxis": "coloraxis",
            "size": [
             290043.66,
             705216.72,
             1068792.77,
             296395.35,
             739637.91,
             359187.42,
             728341.43,
             408942.24
            ],
            "sizemode": "area",
            "sizeref": 4315.4534
           },
           "name": "",
           "showlegend": false,
           "type": "scattergeo"
          }
         ],
         "name": "2011-7"
        },
        {
         "data": [
          {
           "geo": "geo",
           "hoverlabel": {
            "namelength": 0
           },
           "hovertemplate": "<b>%{hovertext}</b><br><br>YearMonth=2013-7<br>Total Profit=%{marker.color}<br>Country=%{location}",
           "hovertext": [
            "Cameroon",
            "United States of America",
            "Saint Lucia",
            "Bangladesh",
            "Mali",
            "Cuba",
            "Poland",
            "Vietnam"
           ],
           "legendgroup": "",
           "locationmode": "country names",
           "locations": [
            "Cameroon",
            "United States of America",
            "Saint Lucia",
            "Bangladesh",
            "Mali",
            "Cuba",
            "Poland",
            "Vietnam"
           ],
           "marker": {
            "color": [
             34407.36,
             28422.9,
             185614,
             191060.1,
             10093.08,
             1575926.57,
             434282.64,
             422648.1
            ],
            "coloraxis": "coloraxis",
            "size": [
             34407.36,
             28422.9,
             185614,
             191060.1,
             10093.08,
             1575926.57,
             434282.64,
             422648.1
            ],
            "sizemode": "area",
            "sizeref": 4315.4534
           },
           "name": "",
           "showlegend": false,
           "type": "scattergeo"
          }
         ],
         "name": "2013-7"
        },
        {
         "data": [
          {
           "geo": "geo",
           "hoverlabel": {
            "namelength": 0
           },
           "hovertemplate": "<b>%{hovertext}</b><br><br>YearMonth=2014-12<br>Total Profit=%{marker.color}<br>Country=%{location}",
           "hovertext": [
            "Moldova ",
            "Iran",
            "Guinea",
            "Iraq",
            "Malaysia",
            "Mozambique",
            "Iran",
            "Cuba",
            "Haiti",
            "Montenegro",
            "East Timor",
            "Romania",
            "Qatar",
            "Comoros"
           ],
           "legendgroup": "",
           "locationmode": "country names",
           "locations": [
            "Moldova ",
            "Iran",
            "Guinea",
            "Iraq",
            "Malaysia",
            "Mozambique",
            "Iran",
            "Cuba",
            "Haiti",
            "Montenegro",
            "East Timor",
            "Romania",
            "Qatar",
            "Comoros"
           ],
           "marker": {
            "color": [
             24252.8,
             776370.14,
             82425.2,
             16317.72,
             614456.58,
             120190.5,
             20898.06,
             1060626.25,
             79953,
             87476.76,
             71346.96,
             174016.5,
             231259.6,
             155021.16
            ],
            "coloraxis": "coloraxis",
            "size": [
             24252.8,
             776370.14,
             82425.2,
             16317.72,
             614456.58,
             120190.5,
             20898.06,
             1060626.25,
             79953,
             87476.76,
             71346.96,
             174016.5,
             231259.6,
             155021.16
            ],
            "sizemode": "area",
            "sizeref": 4315.4534
           },
           "name": "",
           "showlegend": false,
           "type": "scattergeo"
          }
         ],
         "name": "2014-12"
        },
        {
         "data": [
          {
           "geo": "geo",
           "hoverlabel": {
            "namelength": 0
           },
           "hovertemplate": "<b>%{hovertext}</b><br><br>YearMonth=2010-12<br>Total Profit=%{marker.color}<br>Country=%{location}",
           "hovertext": [
            "Romania",
            "Israel",
            "Dominican Republic",
            "Australia",
            "Cambodia",
            "East Timor",
            "Angola",
            "South Sudan"
           ],
           "legendgroup": "",
           "locationmode": "country names",
           "locations": [
            "Romania",
            "Israel",
            "Dominican Republic",
            "Australia",
            "Cambodia",
            "East Timor",
            "Angola",
            "South Sudan"
           ],
           "marker": {
            "color": [
             496821.6,
             291319.6,
             42742.08,
             459649.53,
             1283682.21,
             301009.26,
             164092.88,
             665240.22
            ],
            "coloraxis": "coloraxis",
            "size": [
             496821.6,
             291319.6,
             42742.08,
             459649.53,
             1283682.21,
             301009.26,
             164092.88,
             665240.22
            ],
            "sizemode": "area",
            "sizeref": 4315.4534
           },
           "name": "",
           "showlegend": false,
           "type": "scattergeo"
          }
         ],
         "name": "2010-12"
        },
        {
         "data": [
          {
           "geo": "geo",
           "hoverlabel": {
            "namelength": 0
           },
           "hovertemplate": "<b>%{hovertext}</b><br><br>YearMonth=2011-12<br>Total Profit=%{marker.color}<br>Country=%{location}",
           "hovertext": [
            "Israel",
            "Malawi",
            "Ireland",
            "Albania",
            "Fiji",
            "Burundi"
           ],
           "legendgroup": "",
           "locationmode": "country names",
           "locations": [
            "Israel",
            "Malawi",
            "Ireland",
            "Albania",
            "Fiji",
            "Burundi"
           ],
           "marker": {
            "color": [
             33058.26,
             479875.16,
             95924.4,
             674854.4,
             314690.4,
             32212.62
            ],
            "coloraxis": "coloraxis",
            "size": [
             33058.26,
             479875.16,
             95924.4,
             674854.4,
             314690.4,
             32212.62
            ],
            "sizemode": "area",
            "sizeref": 4315.4534
           },
           "name": "",
           "showlegend": false,
           "type": "scattergeo"
          }
         ],
         "name": "2011-12"
        },
        {
         "data": [
          {
           "geo": "geo",
           "hoverlabel": {
            "namelength": 0
           },
           "hovertemplate": "<b>%{hovertext}</b><br><br>YearMonth=2016-3<br>Total Profit=%{marker.color}<br>Country=%{location}",
           "hovertext": [
            "Lebanon",
            "Japan",
            "Central African Republic",
            "Sudan",
            "Vanuatu",
            "Kenya",
            "Mali",
            "Lesotho"
           ],
           "legendgroup": "",
           "locationmode": "country names",
           "locations": [
            "Lebanon",
            "Japan",
            "Central African Republic",
            "Sudan",
            "Vanuatu",
            "Kenya",
            "Mali",
            "Lesotho"
           ],
           "marker": {
            "color": [
             1527864.87,
             951793.94,
             1444685.83,
             200863.75,
             102515,
             1121478.75,
             927637.22,
             544342.08
            ],
            "coloraxis": "coloraxis",
            "size": [
             1527864.87,
             951793.94,
             1444685.83,
             200863.75,
             102515,
             1121478.75,
             927637.22,
             544342.08
            ],
            "sizemode": "area",
            "sizeref": 4315.4534
           },
           "name": "",
           "showlegend": false,
           "type": "scattergeo"
          }
         ],
         "name": "2016-3"
        },
        {
         "data": [
          {
           "geo": "geo",
           "hoverlabel": {
            "namelength": 0
           },
           "hovertemplate": "<b>%{hovertext}</b><br><br>YearMonth=2012-4<br>Total Profit=%{marker.color}<br>Country=%{location}",
           "hovertext": [
            "Palau",
            "Romania",
            "Republic of the Congo",
            "Saint Lucia",
            "Romania",
            "France",
            "Sierra Leone",
            "Comoros"
           ],
           "legendgroup": "",
           "locationmode": "country names",
           "locations": [
            "Palau",
            "Romania",
            "Republic of the Congo",
            "Saint Lucia",
            "Romania",
            "France",
            "Sierra Leone",
            "Comoros"
           ],
           "marker": {
            "color": [
             212454.42,
             795981.15,
             4699.5,
             155998.5,
             16159.05,
             59784.11,
             19882.5,
             950958.74
            ],
            "coloraxis": "coloraxis",
            "size": [
             212454.42,
             795981.15,
             4699.5,
             155998.5,
             16159.05,
             59784.11,
             19882.5,
             950958.74
            ],
            "sizemode": "area",
            "sizeref": 4315.4534
           },
           "name": "",
           "showlegend": false,
           "type": "scattergeo"
          }
         ],
         "name": "2012-4"
        },
        {
         "data": [
          {
           "geo": "geo",
           "hoverlabel": {
            "namelength": 0
           },
           "hovertemplate": "<b>%{hovertext}</b><br><br>YearMonth=2015-7<br>Total Profit=%{marker.color}<br>Country=%{location}",
           "hovertext": [
            "South Korea",
            "Belize",
            "Samoa ",
            "Djibouti",
            "North Korea"
           ],
           "legendgroup": "",
           "locationmode": "country names",
           "locations": [
            "South Korea",
            "Belize",
            "Samoa ",
            "Djibouti",
            "North Korea"
           ],
           "marker": {
            "color": [
             128775,
             1094685.52,
             51334.56,
             717032.8,
             1170550.99
            ],
            "coloraxis": "coloraxis",
            "size": [
             128775,
             1094685.52,
             51334.56,
             717032.8,
             1170550.99
            ],
            "sizemode": "area",
            "sizeref": 4315.4534
           },
           "name": "",
           "showlegend": false,
           "type": "scattergeo"
          }
         ],
         "name": "2015-7"
        },
        {
         "data": [
          {
           "geo": "geo",
           "hoverlabel": {
            "namelength": 0
           },
           "hovertemplate": "<b>%{hovertext}</b><br><br>YearMonth=2016-2<br>Total Profit=%{marker.color}<br>Country=%{location}",
           "hovertext": [
            "Seychelles ",
            "Moldova ",
            "Vietnam",
            "Serbia",
            "Oman",
            "Saint Kitts and Nevis "
           ],
           "legendgroup": "",
           "locationmode": "country names",
           "locations": [
            "Seychelles ",
            "Moldova ",
            "Vietnam",
            "Serbia",
            "Oman",
            "Saint Kitts and Nevis "
           ],
           "marker": {
            "color": [
             218464.94,
             1671760.05,
             423854.82,
             31335.66,
             885938.12,
             52445.28
            ],
            "coloraxis": "coloraxis",
            "size": [
             218464.94,
             1671760.05,
             423854.82,
             31335.66,
             885938.12,
             52445.28
            ],
            "sizemode": "area",
            "sizeref": 4315.4534
           },
           "name": "",
           "showlegend": false,
           "type": "scattergeo"
          }
         ],
         "name": "2016-2"
        },
        {
         "data": [
          {
           "geo": "geo",
           "hoverlabel": {
            "namelength": 0
           },
           "hovertemplate": "<b>%{hovertext}</b><br><br>YearMonth=2015-5<br>Total Profit=%{marker.color}<br>Country=%{location}",
           "hovertext": [
            "Solomon Islands",
            "Malaysia",
            "United Arab Emirates",
            "South Korea",
            "Dominica",
            "Zambia"
           ],
           "legendgroup": "",
           "locationmode": "country names",
           "locations": [
            "Solomon Islands",
            "Malaysia",
            "United Arab Emirates",
            "South Korea",
            "Dominica",
            "Zambia"
           ],
           "marker": {
            "color": [
             188852.16,
             13279.68,
             139158.18,
             324168.06,
             90264.18,
             8492.84
            ],
            "coloraxis": "coloraxis",
            "size": [
             188852.16,
             13279.68,
             139158.18,
             324168.06,
             90264.18,
             8492.84
            ],
            "sizemode": "area",
            "sizeref": 4315.4534
           },
           "name": "",
           "showlegend": false,
           "type": "scattergeo"
          }
         ],
         "name": "2015-5"
        },
        {
         "data": [
          {
           "geo": "geo",
           "hoverlabel": {
            "namelength": 0
           },
           "hovertemplate": "<b>%{hovertext}</b><br><br>YearMonth=2012-2<br>Total Profit=%{marker.color}<br>Country=%{location}",
           "hovertext": [
            "Uganda",
            "Guatemala",
            "Nigeria",
            "Ireland",
            "Gabon",
            "France"
           ],
           "legendgroup": "",
           "locationmode": "country names",
           "locations": [
            "Uganda",
            "Guatemala",
            "Nigeria",
            "Ireland",
            "Gabon",
            "France"
           ],
           "marker": {
            "color": [
             133367.04,
             786339.58,
             91162.86,
             901930,
             363405.26,
             304152.24
            ],
            "coloraxis": "coloraxis",
            "size": [
             133367.04,
             786339.58,
             91162.86,
             901930,
             363405.26,
             304152.24
            ],
            "sizemode": "area",
            "sizeref": 4315.4534
           },
           "name": "",
           "showlegend": false,
           "type": "scattergeo"
          }
         ],
         "name": "2012-2"
        },
        {
         "data": [
          {
           "geo": "geo",
           "hoverlabel": {
            "namelength": 0
           },
           "hovertemplate": "<b>%{hovertext}</b><br><br>YearMonth=2016-9<br>Total Profit=%{marker.color}<br>Country=%{location}",
           "hovertext": [
            "Thailand",
            "Taiwan",
            "North Korea",
            "Malawi",
            "Mongolia"
           ],
           "legendgroup": "",
           "locationmode": "country names",
           "locations": [
            "Thailand",
            "Taiwan",
            "North Korea",
            "Malawi",
            "Mongolia"
           ],
           "marker": {
            "color": [
             66126.27,
             446420,
             66962.16,
             137275.56,
             193367.52
            ],
            "coloraxis": "coloraxis",
            "size": [
             66126.27,
             446420,
             66962.16,
             137275.56,
             193367.52
            ],
            "sizemode": "area",
            "sizeref": 4315.4534
           },
           "name": "",
           "showlegend": false,
           "type": "scattergeo"
          }
         ],
         "name": "2016-9"
        },
        {
         "data": [
          {
           "geo": "geo",
           "hoverlabel": {
            "namelength": 0
           },
           "hovertemplate": "<b>%{hovertext}</b><br><br>YearMonth=2015-10<br>Total Profit=%{marker.color}<br>Country=%{location}",
           "hovertext": [
            "Cuba",
            "Greenland",
            "Cote d'Ivoire",
            "Trinidad and Tobago",
            "Bangladesh",
            "Kenya",
            "Bosnia and Herzegovina",
            "Monaco",
            "Fiji",
            "Haiti",
            "Algeria"
           ],
           "legendgroup": "",
           "locationmode": "country names",
           "locations": [
            "Cuba",
            "Greenland",
            "Cote d'Ivoire",
            "Trinidad and Tobago",
            "Bangladesh",
            "Kenya",
            "Bosnia and Herzegovina",
            "Monaco",
            "Fiji",
            "Haiti",
            "Algeria"
           ],
           "marker": {
            "color": [
             346460.4,
             493663.68,
             353654.26,
             1007727.5,
             450712.5,
             386961.12,
             384659.33,
             437482.08,
             302707.67,
             174301.93,
             719120
            ],
            "coloraxis": "coloraxis",
            "size": [
             346460.4,
             493663.68,
             353654.26,
             1007727.5,
             450712.5,
             386961.12,
             384659.33,
             437482.08,
             302707.67,
             174301.93,
             719120
            ],
            "sizemode": "area",
            "sizeref": 4315.4534
           },
           "name": "",
           "showlegend": false,
           "type": "scattergeo"
          }
         ],
         "name": "2015-10"
        },
        {
         "data": [
          {
           "geo": "geo",
           "hoverlabel": {
            "namelength": 0
           },
           "hovertemplate": "<b>%{hovertext}</b><br><br>YearMonth=2017-5<br>Total Profit=%{marker.color}<br>Country=%{location}",
           "hovertext": [
            "Jordan",
            "Andorra",
            "Madagascar",
            "Marshall Islands",
            "Romania",
            "Botswana",
            "Honduras",
            "Netherlands"
           ],
           "legendgroup": "",
           "locationmode": "country names",
           "locations": [
            "Jordan",
            "Andorra",
            "Madagascar",
            "Marshall Islands",
            "Romania",
            "Botswana",
            "Honduras",
            "Netherlands"
           ],
           "marker": {
            "color": [
             17653.25,
             249347,
             720446.4,
             285879.93,
             1362966.93,
             203934.18,
             572901.65,
             300678.42
            ],
            "coloraxis": "coloraxis",
            "size": [
             17653.25,
             249347,
             720446.4,
             285879.93,
             1362966.93,
             203934.18,
             572901.65,
             300678.42
            ],
            "sizemode": "area",
            "sizeref": 4315.4534
           },
           "name": "",
           "showlegend": false,
           "type": "scattergeo"
          }
         ],
         "name": "2017-5"
        }
       ],
       "layout": {
        "coloraxis": {
         "cmax": 1726183.36,
         "cmin": 0,
         "colorbar": {
          "title": {
           "text": "Total Profit"
          }
         },
         "colorscale": [
          [
           0,
           "#0d0887"
          ],
          [
           0.1111111111111111,
           "#46039f"
          ],
          [
           0.2222222222222222,
           "#7201a8"
          ],
          [
           0.3333333333333333,
           "#9c179e"
          ],
          [
           0.4444444444444444,
           "#bd3786"
          ],
          [
           0.5555555555555556,
           "#d8576b"
          ],
          [
           0.6666666666666666,
           "#ed7953"
          ],
          [
           0.7777777777777778,
           "#fb9f3a"
          ],
          [
           0.8888888888888888,
           "#fdca26"
          ],
          [
           1,
           "#f0f921"
          ]
         ],
         "showscale": false
        },
        "geo": {
         "center": {},
         "domain": {
          "x": [
           0,
           1
          ],
          "y": [
           0,
           1
          ]
         },
         "projection": {
          "type": "natural earth"
         }
        },
        "legend": {
         "itemsizing": "constant",
         "tracegroupgap": 0
        },
        "sliders": [
         {
          "active": 0,
          "currentvalue": {
           "prefix": "YearMonth="
          },
          "len": 0.9,
          "pad": {
           "b": 10,
           "t": 60
          },
          "steps": [
           {
            "args": [
             [
              "2014-10"
             ],
             {
              "frame": {
               "duration": 0,
               "redraw": true
              },
              "fromcurrent": true,
              "mode": "immediate",
              "transition": {
               "duration": 0,
               "easing": "linear"
              }
             }
            ],
            "label": "2014-10",
            "method": "animate"
           },
           {
            "args": [
             [
              "2011-11"
             ],
             {
              "frame": {
               "duration": 0,
               "redraw": true
              },
              "fromcurrent": true,
              "mode": "immediate",
              "transition": {
               "duration": 0,
               "easing": "linear"
              }
             }
            ],
            "label": "2011-11",
            "method": "animate"
           },
           {
            "args": [
             [
              "2016-10"
             ],
             {
              "frame": {
               "duration": 0,
               "redraw": true
              },
              "fromcurrent": true,
              "mode": "immediate",
              "transition": {
               "duration": 0,
               "easing": "linear"
              }
             }
            ],
            "label": "2016-10",
            "method": "animate"
           },
           {
            "args": [
             [
              "2010-4"
             ],
             {
              "frame": {
               "duration": 0,
               "redraw": true
              },
              "fromcurrent": true,
              "mode": "immediate",
              "transition": {
               "duration": 0,
               "easing": "linear"
              }
             }
            ],
            "label": "2010-4",
            "method": "animate"
           },
           {
            "args": [
             [
              "2011-8"
             ],
             {
              "frame": {
               "duration": 0,
               "redraw": true
              },
              "fromcurrent": true,
              "mode": "immediate",
              "transition": {
               "duration": 0,
               "easing": "linear"
              }
             }
            ],
            "label": "2011-8",
            "method": "animate"
           },
           {
            "args": [
             [
              "2014-11"
             ],
             {
              "frame": {
               "duration": 0,
               "redraw": true
              },
              "fromcurrent": true,
              "mode": "immediate",
              "transition": {
               "duration": 0,
               "easing": "linear"
              }
             }
            ],
            "label": "2014-11",
            "method": "animate"
           },
           {
            "args": [
             [
              "2015-3"
             ],
             {
              "frame": {
               "duration": 0,
               "redraw": true
              },
              "fromcurrent": true,
              "mode": "immediate",
              "transition": {
               "duration": 0,
               "easing": "linear"
              }
             }
            ],
            "label": "2015-3",
            "method": "animate"
           },
           {
            "args": [
             [
              "2012-5"
             ],
             {
              "frame": {
               "duration": 0,
               "redraw": true
              },
              "fromcurrent": true,
              "mode": "immediate",
              "transition": {
               "duration": 0,
               "easing": "linear"
              }
             }
            ],
            "label": "2012-5",
            "method": "animate"
           },
           {
            "args": [
             [
              "2015-1"
             ],
             {
              "frame": {
               "duration": 0,
               "redraw": true
              },
              "fromcurrent": true,
              "mode": "immediate",
              "transition": {
               "duration": 0,
               "easing": "linear"
              }
             }
            ],
            "label": "2015-1",
            "method": "animate"
           },
           {
            "args": [
             [
              "2013-12"
             ],
             {
              "frame": {
               "duration": 0,
               "redraw": true
              },
              "fromcurrent": true,
              "mode": "immediate",
              "transition": {
               "duration": 0,
               "easing": "linear"
              }
             }
            ],
            "label": "2013-12",
            "method": "animate"
           },
           {
            "args": [
             [
              "2015-12"
             ],
             {
              "frame": {
               "duration": 0,
               "redraw": true
              },
              "fromcurrent": true,
              "mode": "immediate",
              "transition": {
               "duration": 0,
               "easing": "linear"
              }
             }
            ],
            "label": "2015-12",
            "method": "animate"
           },
           {
            "args": [
             [
              "2010-2"
             ],
             {
              "frame": {
               "duration": 0,
               "redraw": true
              },
              "fromcurrent": true,
              "mode": "immediate",
              "transition": {
               "duration": 0,
               "easing": "linear"
              }
             }
            ],
            "label": "2010-2",
            "method": "animate"
           },
           {
            "args": [
             [
              "2016-11"
             ],
             {
              "frame": {
               "duration": 0,
               "redraw": true
              },
              "fromcurrent": true,
              "mode": "immediate",
              "transition": {
               "duration": 0,
               "easing": "linear"
              }
             }
            ],
            "label": "2016-11",
            "method": "animate"
           },
           {
            "args": [
             [
              "2011-1"
             ],
             {
              "frame": {
               "duration": 0,
               "redraw": true
              },
              "fromcurrent": true,
              "mode": "immediate",
              "transition": {
               "duration": 0,
               "easing": "linear"
              }
             }
            ],
            "label": "2011-1",
            "method": "animate"
           },
           {
            "args": [
             [
              "2010-6"
             ],
             {
              "frame": {
               "duration": 0,
               "redraw": true
              },
              "fromcurrent": true,
              "mode": "immediate",
              "transition": {
               "duration": 0,
               "easing": "linear"
              }
             }
            ],
            "label": "2010-6",
            "method": "animate"
           },
           {
            "args": [
             [
              "2016-4"
             ],
             {
              "frame": {
               "duration": 0,
               "redraw": true
              },
              "fromcurrent": true,
              "mode": "immediate",
              "transition": {
               "duration": 0,
               "easing": "linear"
              }
             }
            ],
            "label": "2016-4",
            "method": "animate"
           },
           {
            "args": [
             [
              "2012-7"
             ],
             {
              "frame": {
               "duration": 0,
               "redraw": true
              },
              "fromcurrent": true,
              "mode": "immediate",
              "transition": {
               "duration": 0,
               "easing": "linear"
              }
             }
            ],
            "label": "2012-7",
            "method": "animate"
           },
           {
            "args": [
             [
              "2014-9"
             ],
             {
              "frame": {
               "duration": 0,
               "redraw": true
              },
              "fromcurrent": true,
              "mode": "immediate",
              "transition": {
               "duration": 0,
               "easing": "linear"
              }
             }
            ],
            "label": "2014-9",
            "method": "animate"
           },
           {
            "args": [
             [
              "2012-8"
             ],
             {
              "frame": {
               "duration": 0,
               "redraw": true
              },
              "fromcurrent": true,
              "mode": "immediate",
              "transition": {
               "duration": 0,
               "easing": "linear"
              }
             }
            ],
            "label": "2012-8",
            "method": "animate"
           },
           {
            "args": [
             [
              "2012-9"
             ],
             {
              "frame": {
               "duration": 0,
               "redraw": true
              },
              "fromcurrent": true,
              "mode": "immediate",
              "transition": {
               "duration": 0,
               "easing": "linear"
              }
             }
            ],
            "label": "2012-9",
            "method": "animate"
           },
           {
            "args": [
             [
              "2010-8"
             ],
             {
              "frame": {
               "duration": 0,
               "redraw": true
              },
              "fromcurrent": true,
              "mode": "immediate",
              "transition": {
               "duration": 0,
               "easing": "linear"
              }
             }
            ],
            "label": "2010-8",
            "method": "animate"
           },
           {
            "args": [
             [
              "2011-2"
             ],
             {
              "frame": {
               "duration": 0,
               "redraw": true
              },
              "fromcurrent": true,
              "mode": "immediate",
              "transition": {
               "duration": 0,
               "easing": "linear"
              }
             }
            ],
            "label": "2011-2",
            "method": "animate"
           },
           {
            "args": [
             [
              "2012-10"
             ],
             {
              "frame": {
               "duration": 0,
               "redraw": true
              },
              "fromcurrent": true,
              "mode": "immediate",
              "transition": {
               "duration": 0,
               "easing": "linear"
              }
             }
            ],
            "label": "2012-10",
            "method": "animate"
           },
           {
            "args": [
             [
              "2017-1"
             ],
             {
              "frame": {
               "duration": 0,
               "redraw": true
              },
              "fromcurrent": true,
              "mode": "immediate",
              "transition": {
               "duration": 0,
               "easing": "linear"
              }
             }
            ],
            "label": "2017-1",
            "method": "animate"
           },
           {
            "args": [
             [
              "2012-1"
             ],
             {
              "frame": {
               "duration": 0,
               "redraw": true
              },
              "fromcurrent": true,
              "mode": "immediate",
              "transition": {
               "duration": 0,
               "easing": "linear"
              }
             }
            ],
            "label": "2012-1",
            "method": "animate"
           },
           {
            "args": [
             [
              "2016-1"
             ],
             {
              "frame": {
               "duration": 0,
               "redraw": true
              },
              "fromcurrent": true,
              "mode": "immediate",
              "transition": {
               "duration": 0,
               "easing": "linear"
              }
             }
            ],
            "label": "2016-1",
            "method": "animate"
           },
           {
            "args": [
             [
              "2017-6"
             ],
             {
              "frame": {
               "duration": 0,
               "redraw": true
              },
              "fromcurrent": true,
              "mode": "immediate",
              "transition": {
               "duration": 0,
               "easing": "linear"
              }
             }
            ],
            "label": "2017-6",
            "method": "animate"
           },
           {
            "args": [
             [
              "2015-6"
             ],
             {
              "frame": {
               "duration": 0,
               "redraw": true
              },
              "fromcurrent": true,
              "mode": "immediate",
              "transition": {
               "duration": 0,
               "easing": "linear"
              }
             }
            ],
            "label": "2015-6",
            "method": "animate"
           },
           {
            "args": [
             [
              "2014-1"
             ],
             {
              "frame": {
               "duration": 0,
               "redraw": true
              },
              "fromcurrent": true,
              "mode": "immediate",
              "transition": {
               "duration": 0,
               "easing": "linear"
              }
             }
            ],
            "label": "2014-1",
            "method": "animate"
           },
           {
            "args": [
             [
              "2014-4"
             ],
             {
              "frame": {
               "duration": 0,
               "redraw": true
              },
              "fromcurrent": true,
              "mode": "immediate",
              "transition": {
               "duration": 0,
               "easing": "linear"
              }
             }
            ],
            "label": "2014-4",
            "method": "animate"
           },
           {
            "args": [
             [
              "2010-9"
             ],
             {
              "frame": {
               "duration": 0,
               "redraw": true
              },
              "fromcurrent": true,
              "mode": "immediate",
              "transition": {
               "duration": 0,
               "easing": "linear"
              }
             }
            ],
            "label": "2010-9",
            "method": "animate"
           },
           {
            "args": [
             [
              "2010-5"
             ],
             {
              "frame": {
               "duration": 0,
               "redraw": true
              },
              "fromcurrent": true,
              "mode": "immediate",
              "transition": {
               "duration": 0,
               "easing": "linear"
              }
             }
            ],
            "label": "2010-5",
            "method": "animate"
           },
           {
            "args": [
             [
              "2013-10"
             ],
             {
              "frame": {
               "duration": 0,
               "redraw": true
              },
              "fromcurrent": true,
              "mode": "immediate",
              "transition": {
               "duration": 0,
               "easing": "linear"
              }
             }
            ],
            "label": "2013-10",
            "method": "animate"
           },
           {
            "args": [
             [
              "2011-3"
             ],
             {
              "frame": {
               "duration": 0,
               "redraw": true
              },
              "fromcurrent": true,
              "mode": "immediate",
              "transition": {
               "duration": 0,
               "easing": "linear"
              }
             }
            ],
            "label": "2011-3",
            "method": "animate"
           },
           {
            "args": [
             [
              "2016-8"
             ],
             {
              "frame": {
               "duration": 0,
               "redraw": true
              },
              "fromcurrent": true,
              "mode": "immediate",
              "transition": {
               "duration": 0,
               "easing": "linear"
              }
             }
            ],
            "label": "2016-8",
            "method": "animate"
           },
           {
            "args": [
             [
              "2014-5"
             ],
             {
              "frame": {
               "duration": 0,
               "redraw": true
              },
              "fromcurrent": true,
              "mode": "immediate",
              "transition": {
               "duration": 0,
               "easing": "linear"
              }
             }
            ],
            "label": "2014-5",
            "method": "animate"
           },
           {
            "args": [
             [
              "2013-8"
             ],
             {
              "frame": {
               "duration": 0,
               "redraw": true
              },
              "fromcurrent": true,
              "mode": "immediate",
              "transition": {
               "duration": 0,
               "easing": "linear"
              }
             }
            ],
            "label": "2013-8",
            "method": "animate"
           },
           {
            "args": [
             [
              "2011-10"
             ],
             {
              "frame": {
               "duration": 0,
               "redraw": true
              },
              "fromcurrent": true,
              "mode": "immediate",
              "transition": {
               "duration": 0,
               "easing": "linear"
              }
             }
            ],
            "label": "2011-10",
            "method": "animate"
           },
           {
            "args": [
             [
              "2015-4"
             ],
             {
              "frame": {
               "duration": 0,
               "redraw": true
              },
              "fromcurrent": true,
              "mode": "immediate",
              "transition": {
               "duration": 0,
               "easing": "linear"
              }
             }
            ],
            "label": "2015-4",
            "method": "animate"
           },
           {
            "args": [
             [
              "2013-3"
             ],
             {
              "frame": {
               "duration": 0,
               "redraw": true
              },
              "fromcurrent": true,
              "mode": "immediate",
              "transition": {
               "duration": 0,
               "easing": "linear"
              }
             }
            ],
            "label": "2013-3",
            "method": "animate"
           },
           {
            "args": [
             [
              "2015-8"
             ],
             {
              "frame": {
               "duration": 0,
               "redraw": true
              },
              "fromcurrent": true,
              "mode": "immediate",
              "transition": {
               "duration": 0,
               "easing": "linear"
              }
             }
            ],
            "label": "2015-8",
            "method": "animate"
           },
           {
            "args": [
             [
              "2016-12"
             ],
             {
              "frame": {
               "duration": 0,
               "redraw": true
              },
              "fromcurrent": true,
              "mode": "immediate",
              "transition": {
               "duration": 0,
               "easing": "linear"
              }
             }
            ],
            "label": "2016-12",
            "method": "animate"
           },
           {
            "args": [
             [
              "2010-11"
             ],
             {
              "frame": {
               "duration": 0,
               "redraw": true
              },
              "fromcurrent": true,
              "mode": "immediate",
              "transition": {
               "duration": 0,
               "easing": "linear"
              }
             }
            ],
            "label": "2010-11",
            "method": "animate"
           },
           {
            "args": [
             [
              "2016-6"
             ],
             {
              "frame": {
               "duration": 0,
               "redraw": true
              },
              "fromcurrent": true,
              "mode": "immediate",
              "transition": {
               "duration": 0,
               "easing": "linear"
              }
             }
            ],
            "label": "2016-6",
            "method": "animate"
           },
           {
            "args": [
             [
              "2016-5"
             ],
             {
              "frame": {
               "duration": 0,
               "redraw": true
              },
              "fromcurrent": true,
              "mode": "immediate",
              "transition": {
               "duration": 0,
               "easing": "linear"
              }
             }
            ],
            "label": "2016-5",
            "method": "animate"
           },
           {
            "args": [
             [
              "2012-3"
             ],
             {
              "frame": {
               "duration": 0,
               "redraw": true
              },
              "fromcurrent": true,
              "mode": "immediate",
              "transition": {
               "duration": 0,
               "easing": "linear"
              }
             }
            ],
            "label": "2012-3",
            "method": "animate"
           },
           {
            "args": [
             [
              "2014-6"
             ],
             {
              "frame": {
               "duration": 0,
               "redraw": true
              },
              "fromcurrent": true,
              "mode": "immediate",
              "transition": {
               "duration": 0,
               "easing": "linear"
              }
             }
            ],
            "label": "2014-6",
            "method": "animate"
           },
           {
            "args": [
             [
              "2013-4"
             ],
             {
              "frame": {
               "duration": 0,
               "redraw": true
              },
              "fromcurrent": true,
              "mode": "immediate",
              "transition": {
               "duration": 0,
               "easing": "linear"
              }
             }
            ],
            "label": "2013-4",
            "method": "animate"
           },
           {
            "args": [
             [
              "2013-6"
             ],
             {
              "frame": {
               "duration": 0,
               "redraw": true
              },
              "fromcurrent": true,
              "mode": "immediate",
              "transition": {
               "duration": 0,
               "easing": "linear"
              }
             }
            ],
            "label": "2013-6",
            "method": "animate"
           },
           {
            "args": [
             [
              "2013-1"
             ],
             {
              "frame": {
               "duration": 0,
               "redraw": true
              },
              "fromcurrent": true,
              "mode": "immediate",
              "transition": {
               "duration": 0,
               "easing": "linear"
              }
             }
            ],
            "label": "2013-1",
            "method": "animate"
           },
           {
            "args": [
             [
              "2011-5"
             ],
             {
              "frame": {
               "duration": 0,
               "redraw": true
              },
              "fromcurrent": true,
              "mode": "immediate",
              "transition": {
               "duration": 0,
               "easing": "linear"
              }
             }
            ],
            "label": "2011-5",
            "method": "animate"
           },
           {
            "args": [
             [
              "2010-7"
             ],
             {
              "frame": {
               "duration": 0,
               "redraw": true
              },
              "fromcurrent": true,
              "mode": "immediate",
              "transition": {
               "duration": 0,
               "easing": "linear"
              }
             }
            ],
            "label": "2010-7",
            "method": "animate"
           },
           {
            "args": [
             [
              "2017-2"
             ],
             {
              "frame": {
               "duration": 0,
               "redraw": true
              },
              "fromcurrent": true,
              "mode": "immediate",
              "transition": {
               "duration": 0,
               "easing": "linear"
              }
             }
            ],
            "label": "2017-2",
            "method": "animate"
           },
           {
            "args": [
             [
              "2013-9"
             ],
             {
              "frame": {
               "duration": 0,
               "redraw": true
              },
              "fromcurrent": true,
              "mode": "immediate",
              "transition": {
               "duration": 0,
               "easing": "linear"
              }
             }
            ],
            "label": "2013-9",
            "method": "animate"
           },
           {
            "args": [
             [
              "2015-2"
             ],
             {
              "frame": {
               "duration": 0,
               "redraw": true
              },
              "fromcurrent": true,
              "mode": "immediate",
              "transition": {
               "duration": 0,
               "easing": "linear"
              }
             }
            ],
            "label": "2015-2",
            "method": "animate"
           },
           {
            "args": [
             [
              "2010-1"
             ],
             {
              "frame": {
               "duration": 0,
               "redraw": true
              },
              "fromcurrent": true,
              "mode": "immediate",
              "transition": {
               "duration": 0,
               "easing": "linear"
              }
             }
            ],
            "label": "2010-1",
            "method": "animate"
           },
           {
            "args": [
             [
              "2010-3"
             ],
             {
              "frame": {
               "duration": 0,
               "redraw": true
              },
              "fromcurrent": true,
              "mode": "immediate",
              "transition": {
               "duration": 0,
               "easing": "linear"
              }
             }
            ],
            "label": "2010-3",
            "method": "animate"
           },
           {
            "args": [
             [
              "2017-3"
             ],
             {
              "frame": {
               "duration": 0,
               "redraw": true
              },
              "fromcurrent": true,
              "mode": "immediate",
              "transition": {
               "duration": 0,
               "easing": "linear"
              }
             }
            ],
            "label": "2017-3",
            "method": "animate"
           },
           {
            "args": [
             [
              "2014-3"
             ],
             {
              "frame": {
               "duration": 0,
               "redraw": true
              },
              "fromcurrent": true,
              "mode": "immediate",
              "transition": {
               "duration": 0,
               "easing": "linear"
              }
             }
            ],
            "label": "2014-3",
            "method": "animate"
           },
           {
            "args": [
             [
              "2011-9"
             ],
             {
              "frame": {
               "duration": 0,
               "redraw": true
              },
              "fromcurrent": true,
              "mode": "immediate",
              "transition": {
               "duration": 0,
               "easing": "linear"
              }
             }
            ],
            "label": "2011-9",
            "method": "animate"
           },
           {
            "args": [
             [
              "2016-7"
             ],
             {
              "frame": {
               "duration": 0,
               "redraw": true
              },
              "fromcurrent": true,
              "mode": "immediate",
              "transition": {
               "duration": 0,
               "easing": "linear"
              }
             }
            ],
            "label": "2016-7",
            "method": "animate"
           },
           {
            "args": [
             [
              "2014-2"
             ],
             {
              "frame": {
               "duration": 0,
               "redraw": true
              },
              "fromcurrent": true,
              "mode": "immediate",
              "transition": {
               "duration": 0,
               "easing": "linear"
              }
             }
            ],
            "label": "2014-2",
            "method": "animate"
           },
           {
            "args": [
             [
              "2012-12"
             ],
             {
              "frame": {
               "duration": 0,
               "redraw": true
              },
              "fromcurrent": true,
              "mode": "immediate",
              "transition": {
               "duration": 0,
               "easing": "linear"
              }
             }
            ],
            "label": "2012-12",
            "method": "animate"
           },
           {
            "args": [
             [
              "2015-9"
             ],
             {
              "frame": {
               "duration": 0,
               "redraw": true
              },
              "fromcurrent": true,
              "mode": "immediate",
              "transition": {
               "duration": 0,
               "easing": "linear"
              }
             }
            ],
            "label": "2015-9",
            "method": "animate"
           },
           {
            "args": [
             [
              "2013-11"
             ],
             {
              "frame": {
               "duration": 0,
               "redraw": true
              },
              "fromcurrent": true,
              "mode": "immediate",
              "transition": {
               "duration": 0,
               "easing": "linear"
              }
             }
            ],
            "label": "2013-11",
            "method": "animate"
           },
           {
            "args": [
             [
              "2014-8"
             ],
             {
              "frame": {
               "duration": 0,
               "redraw": true
              },
              "fromcurrent": true,
              "mode": "immediate",
              "transition": {
               "duration": 0,
               "easing": "linear"
              }
             }
            ],
            "label": "2014-8",
            "method": "animate"
           },
           {
            "args": [
             [
              "2010-10"
             ],
             {
              "frame": {
               "duration": 0,
               "redraw": true
              },
              "fromcurrent": true,
              "mode": "immediate",
              "transition": {
               "duration": 0,
               "easing": "linear"
              }
             }
            ],
            "label": "2010-10",
            "method": "animate"
           },
           {
            "args": [
             [
              "2012-6"
             ],
             {
              "frame": {
               "duration": 0,
               "redraw": true
              },
              "fromcurrent": true,
              "mode": "immediate",
              "transition": {
               "duration": 0,
               "easing": "linear"
              }
             }
            ],
            "label": "2012-6",
            "method": "animate"
           },
           {
            "args": [
             [
              "2013-5"
             ],
             {
              "frame": {
               "duration": 0,
               "redraw": true
              },
              "fromcurrent": true,
              "mode": "immediate",
              "transition": {
               "duration": 0,
               "easing": "linear"
              }
             }
            ],
            "label": "2013-5",
            "method": "animate"
           },
           {
            "args": [
             [
              "2011-6"
             ],
             {
              "frame": {
               "duration": 0,
               "redraw": true
              },
              "fromcurrent": true,
              "mode": "immediate",
              "transition": {
               "duration": 0,
               "easing": "linear"
              }
             }
            ],
            "label": "2011-6",
            "method": "animate"
           },
           {
            "args": [
             [
              "2011-4"
             ],
             {
              "frame": {
               "duration": 0,
               "redraw": true
              },
              "fromcurrent": true,
              "mode": "immediate",
              "transition": {
               "duration": 0,
               "easing": "linear"
              }
             }
            ],
            "label": "2011-4",
            "method": "animate"
           },
           {
            "args": [
             [
              "2012-11"
             ],
             {
              "frame": {
               "duration": 0,
               "redraw": true
              },
              "fromcurrent": true,
              "mode": "immediate",
              "transition": {
               "duration": 0,
               "easing": "linear"
              }
             }
            ],
            "label": "2012-11",
            "method": "animate"
           },
           {
            "args": [
             [
              "2015-11"
             ],
             {
              "frame": {
               "duration": 0,
               "redraw": true
              },
              "fromcurrent": true,
              "mode": "immediate",
              "transition": {
               "duration": 0,
               "easing": "linear"
              }
             }
            ],
            "label": "2015-11",
            "method": "animate"
           },
           {
            "args": [
             [
              "2013-2"
             ],
             {
              "frame": {
               "duration": 0,
               "redraw": true
              },
              "fromcurrent": true,
              "mode": "immediate",
              "transition": {
               "duration": 0,
               "easing": "linear"
              }
             }
            ],
            "label": "2013-2",
            "method": "animate"
           },
           {
            "args": [
             [
              "2017-7"
             ],
             {
              "frame": {
               "duration": 0,
               "redraw": true
              },
              "fromcurrent": true,
              "mode": "immediate",
              "transition": {
               "duration": 0,
               "easing": "linear"
              }
             }
            ],
            "label": "2017-7",
            "method": "animate"
           },
           {
            "args": [
             [
              "2017-4"
             ],
             {
              "frame": {
               "duration": 0,
               "redraw": true
              },
              "fromcurrent": true,
              "mode": "immediate",
              "transition": {
               "duration": 0,
               "easing": "linear"
              }
             }
            ],
            "label": "2017-4",
            "method": "animate"
           },
           {
            "args": [
             [
              "2014-7"
             ],
             {
              "frame": {
               "duration": 0,
               "redraw": true
              },
              "fromcurrent": true,
              "mode": "immediate",
              "transition": {
               "duration": 0,
               "easing": "linear"
              }
             }
            ],
            "label": "2014-7",
            "method": "animate"
           },
           {
            "args": [
             [
              "2011-7"
             ],
             {
              "frame": {
               "duration": 0,
               "redraw": true
              },
              "fromcurrent": true,
              "mode": "immediate",
              "transition": {
               "duration": 0,
               "easing": "linear"
              }
             }
            ],
            "label": "2011-7",
            "method": "animate"
           },
           {
            "args": [
             [
              "2013-7"
             ],
             {
              "frame": {
               "duration": 0,
               "redraw": true
              },
              "fromcurrent": true,
              "mode": "immediate",
              "transition": {
               "duration": 0,
               "easing": "linear"
              }
             }
            ],
            "label": "2013-7",
            "method": "animate"
           },
           {
            "args": [
             [
              "2014-12"
             ],
             {
              "frame": {
               "duration": 0,
               "redraw": true
              },
              "fromcurrent": true,
              "mode": "immediate",
              "transition": {
               "duration": 0,
               "easing": "linear"
              }
             }
            ],
            "label": "2014-12",
            "method": "animate"
           },
           {
            "args": [
             [
              "2010-12"
             ],
             {
              "frame": {
               "duration": 0,
               "redraw": true
              },
              "fromcurrent": true,
              "mode": "immediate",
              "transition": {
               "duration": 0,
               "easing": "linear"
              }
             }
            ],
            "label": "2010-12",
            "method": "animate"
           },
           {
            "args": [
             [
              "2011-12"
             ],
             {
              "frame": {
               "duration": 0,
               "redraw": true
              },
              "fromcurrent": true,
              "mode": "immediate",
              "transition": {
               "duration": 0,
               "easing": "linear"
              }
             }
            ],
            "label": "2011-12",
            "method": "animate"
           },
           {
            "args": [
             [
              "2016-3"
             ],
             {
              "frame": {
               "duration": 0,
               "redraw": true
              },
              "fromcurrent": true,
              "mode": "immediate",
              "transition": {
               "duration": 0,
               "easing": "linear"
              }
             }
            ],
            "label": "2016-3",
            "method": "animate"
           },
           {
            "args": [
             [
              "2012-4"
             ],
             {
              "frame": {
               "duration": 0,
               "redraw": true
              },
              "fromcurrent": true,
              "mode": "immediate",
              "transition": {
               "duration": 0,
               "easing": "linear"
              }
             }
            ],
            "label": "2012-4",
            "method": "animate"
           },
           {
            "args": [
             [
              "2015-7"
             ],
             {
              "frame": {
               "duration": 0,
               "redraw": true
              },
              "fromcurrent": true,
              "mode": "immediate",
              "transition": {
               "duration": 0,
               "easing": "linear"
              }
             }
            ],
            "label": "2015-7",
            "method": "animate"
           },
           {
            "args": [
             [
              "2016-2"
             ],
             {
              "frame": {
               "duration": 0,
               "redraw": true
              },
              "fromcurrent": true,
              "mode": "immediate",
              "transition": {
               "duration": 0,
               "easing": "linear"
              }
             }
            ],
            "label": "2016-2",
            "method": "animate"
           },
           {
            "args": [
             [
              "2015-5"
             ],
             {
              "frame": {
               "duration": 0,
               "redraw": true
              },
              "fromcurrent": true,
              "mode": "immediate",
              "transition": {
               "duration": 0,
               "easing": "linear"
              }
             }
            ],
            "label": "2015-5",
            "method": "animate"
           },
           {
            "args": [
             [
              "2012-2"
             ],
             {
              "frame": {
               "duration": 0,
               "redraw": true
              },
              "fromcurrent": true,
              "mode": "immediate",
              "transition": {
               "duration": 0,
               "easing": "linear"
              }
             }
            ],
            "label": "2012-2",
            "method": "animate"
           },
           {
            "args": [
             [
              "2016-9"
             ],
             {
              "frame": {
               "duration": 0,
               "redraw": true
              },
              "fromcurrent": true,
              "mode": "immediate",
              "transition": {
               "duration": 0,
               "easing": "linear"
              }
             }
            ],
            "label": "2016-9",
            "method": "animate"
           },
           {
            "args": [
             [
              "2015-10"
             ],
             {
              "frame": {
               "duration": 0,
               "redraw": true
              },
              "fromcurrent": true,
              "mode": "immediate",
              "transition": {
               "duration": 0,
               "easing": "linear"
              }
             }
            ],
            "label": "2015-10",
            "method": "animate"
           },
           {
            "args": [
             [
              "2017-5"
             ],
             {
              "frame": {
               "duration": 0,
               "redraw": true
              },
              "fromcurrent": true,
              "mode": "immediate",
              "transition": {
               "duration": 0,
               "easing": "linear"
              }
             }
            ],
            "label": "2017-5",
            "method": "animate"
           }
          ],
          "x": 0.1,
          "xanchor": "left",
          "y": 0,
          "yanchor": "top"
         }
        ],
        "template": {
         "data": {
          "bar": [
           {
            "error_x": {
             "color": "#2a3f5f"
            },
            "error_y": {
             "color": "#2a3f5f"
            },
            "marker": {
             "line": {
              "color": "#E5ECF6",
              "width": 0.5
             }
            },
            "type": "bar"
           }
          ],
          "barpolar": [
           {
            "marker": {
             "line": {
              "color": "#E5ECF6",
              "width": 0.5
             }
            },
            "type": "barpolar"
           }
          ],
          "carpet": [
           {
            "aaxis": {
             "endlinecolor": "#2a3f5f",
             "gridcolor": "white",
             "linecolor": "white",
             "minorgridcolor": "white",
             "startlinecolor": "#2a3f5f"
            },
            "baxis": {
             "endlinecolor": "#2a3f5f",
             "gridcolor": "white",
             "linecolor": "white",
             "minorgridcolor": "white",
             "startlinecolor": "#2a3f5f"
            },
            "type": "carpet"
           }
          ],
          "choropleth": [
           {
            "colorbar": {
             "outlinewidth": 0,
             "ticks": ""
            },
            "type": "choropleth"
           }
          ],
          "contour": [
           {
            "colorbar": {
             "outlinewidth": 0,
             "ticks": ""
            },
            "colorscale": [
             [
              0,
              "#0d0887"
             ],
             [
              0.1111111111111111,
              "#46039f"
             ],
             [
              0.2222222222222222,
              "#7201a8"
             ],
             [
              0.3333333333333333,
              "#9c179e"
             ],
             [
              0.4444444444444444,
              "#bd3786"
             ],
             [
              0.5555555555555556,
              "#d8576b"
             ],
             [
              0.6666666666666666,
              "#ed7953"
             ],
             [
              0.7777777777777778,
              "#fb9f3a"
             ],
             [
              0.8888888888888888,
              "#fdca26"
             ],
             [
              1,
              "#f0f921"
             ]
            ],
            "type": "contour"
           }
          ],
          "contourcarpet": [
           {
            "colorbar": {
             "outlinewidth": 0,
             "ticks": ""
            },
            "type": "contourcarpet"
           }
          ],
          "heatmap": [
           {
            "colorbar": {
             "outlinewidth": 0,
             "ticks": ""
            },
            "colorscale": [
             [
              0,
              "#0d0887"
             ],
             [
              0.1111111111111111,
              "#46039f"
             ],
             [
              0.2222222222222222,
              "#7201a8"
             ],
             [
              0.3333333333333333,
              "#9c179e"
             ],
             [
              0.4444444444444444,
              "#bd3786"
             ],
             [
              0.5555555555555556,
              "#d8576b"
             ],
             [
              0.6666666666666666,
              "#ed7953"
             ],
             [
              0.7777777777777778,
              "#fb9f3a"
             ],
             [
              0.8888888888888888,
              "#fdca26"
             ],
             [
              1,
              "#f0f921"
             ]
            ],
            "type": "heatmap"
           }
          ],
          "heatmapgl": [
           {
            "colorbar": {
             "outlinewidth": 0,
             "ticks": ""
            },
            "colorscale": [
             [
              0,
              "#0d0887"
             ],
             [
              0.1111111111111111,
              "#46039f"
             ],
             [
              0.2222222222222222,
              "#7201a8"
             ],
             [
              0.3333333333333333,
              "#9c179e"
             ],
             [
              0.4444444444444444,
              "#bd3786"
             ],
             [
              0.5555555555555556,
              "#d8576b"
             ],
             [
              0.6666666666666666,
              "#ed7953"
             ],
             [
              0.7777777777777778,
              "#fb9f3a"
             ],
             [
              0.8888888888888888,
              "#fdca26"
             ],
             [
              1,
              "#f0f921"
             ]
            ],
            "type": "heatmapgl"
           }
          ],
          "histogram": [
           {
            "marker": {
             "colorbar": {
              "outlinewidth": 0,
              "ticks": ""
             }
            },
            "type": "histogram"
           }
          ],
          "histogram2d": [
           {
            "colorbar": {
             "outlinewidth": 0,
             "ticks": ""
            },
            "colorscale": [
             [
              0,
              "#0d0887"
             ],
             [
              0.1111111111111111,
              "#46039f"
             ],
             [
              0.2222222222222222,
              "#7201a8"
             ],
             [
              0.3333333333333333,
              "#9c179e"
             ],
             [
              0.4444444444444444,
              "#bd3786"
             ],
             [
              0.5555555555555556,
              "#d8576b"
             ],
             [
              0.6666666666666666,
              "#ed7953"
             ],
             [
              0.7777777777777778,
              "#fb9f3a"
             ],
             [
              0.8888888888888888,
              "#fdca26"
             ],
             [
              1,
              "#f0f921"
             ]
            ],
            "type": "histogram2d"
           }
          ],
          "histogram2dcontour": [
           {
            "colorbar": {
             "outlinewidth": 0,
             "ticks": ""
            },
            "colorscale": [
             [
              0,
              "#0d0887"
             ],
             [
              0.1111111111111111,
              "#46039f"
             ],
             [
              0.2222222222222222,
              "#7201a8"
             ],
             [
              0.3333333333333333,
              "#9c179e"
             ],
             [
              0.4444444444444444,
              "#bd3786"
             ],
             [
              0.5555555555555556,
              "#d8576b"
             ],
             [
              0.6666666666666666,
              "#ed7953"
             ],
             [
              0.7777777777777778,
              "#fb9f3a"
             ],
             [
              0.8888888888888888,
              "#fdca26"
             ],
             [
              1,
              "#f0f921"
             ]
            ],
            "type": "histogram2dcontour"
           }
          ],
          "mesh3d": [
           {
            "colorbar": {
             "outlinewidth": 0,
             "ticks": ""
            },
            "type": "mesh3d"
           }
          ],
          "parcoords": [
           {
            "line": {
             "colorbar": {
              "outlinewidth": 0,
              "ticks": ""
             }
            },
            "type": "parcoords"
           }
          ],
          "pie": [
           {
            "automargin": true,
            "type": "pie"
           }
          ],
          "scatter": [
           {
            "marker": {
             "colorbar": {
              "outlinewidth": 0,
              "ticks": ""
             }
            },
            "type": "scatter"
           }
          ],
          "scatter3d": [
           {
            "line": {
             "colorbar": {
              "outlinewidth": 0,
              "ticks": ""
             }
            },
            "marker": {
             "colorbar": {
              "outlinewidth": 0,
              "ticks": ""
             }
            },
            "type": "scatter3d"
           }
          ],
          "scattercarpet": [
           {
            "marker": {
             "colorbar": {
              "outlinewidth": 0,
              "ticks": ""
             }
            },
            "type": "scattercarpet"
           }
          ],
          "scattergeo": [
           {
            "marker": {
             "colorbar": {
              "outlinewidth": 0,
              "ticks": ""
             }
            },
            "type": "scattergeo"
           }
          ],
          "scattergl": [
           {
            "marker": {
             "colorbar": {
              "outlinewidth": 0,
              "ticks": ""
             }
            },
            "type": "scattergl"
           }
          ],
          "scattermapbox": [
           {
            "marker": {
             "colorbar": {
              "outlinewidth": 0,
              "ticks": ""
             }
            },
            "type": "scattermapbox"
           }
          ],
          "scatterpolar": [
           {
            "marker": {
             "colorbar": {
              "outlinewidth": 0,
              "ticks": ""
             }
            },
            "type": "scatterpolar"
           }
          ],
          "scatterpolargl": [
           {
            "marker": {
             "colorbar": {
              "outlinewidth": 0,
              "ticks": ""
             }
            },
            "type": "scatterpolargl"
           }
          ],
          "scatterternary": [
           {
            "marker": {
             "colorbar": {
              "outlinewidth": 0,
              "ticks": ""
             }
            },
            "type": "scatterternary"
           }
          ],
          "surface": [
           {
            "colorbar": {
             "outlinewidth": 0,
             "ticks": ""
            },
            "colorscale": [
             [
              0,
              "#0d0887"
             ],
             [
              0.1111111111111111,
              "#46039f"
             ],
             [
              0.2222222222222222,
              "#7201a8"
             ],
             [
              0.3333333333333333,
              "#9c179e"
             ],
             [
              0.4444444444444444,
              "#bd3786"
             ],
             [
              0.5555555555555556,
              "#d8576b"
             ],
             [
              0.6666666666666666,
              "#ed7953"
             ],
             [
              0.7777777777777778,
              "#fb9f3a"
             ],
             [
              0.8888888888888888,
              "#fdca26"
             ],
             [
              1,
              "#f0f921"
             ]
            ],
            "type": "surface"
           }
          ],
          "table": [
           {
            "cells": {
             "fill": {
              "color": "#EBF0F8"
             },
             "line": {
              "color": "white"
             }
            },
            "header": {
             "fill": {
              "color": "#C8D4E3"
             },
             "line": {
              "color": "white"
             }
            },
            "type": "table"
           }
          ]
         },
         "layout": {
          "annotationdefaults": {
           "arrowcolor": "#2a3f5f",
           "arrowhead": 0,
           "arrowwidth": 1
          },
          "coloraxis": {
           "colorbar": {
            "outlinewidth": 0,
            "ticks": ""
           }
          },
          "colorscale": {
           "diverging": [
            [
             0,
             "#8e0152"
            ],
            [
             0.1,
             "#c51b7d"
            ],
            [
             0.2,
             "#de77ae"
            ],
            [
             0.3,
             "#f1b6da"
            ],
            [
             0.4,
             "#fde0ef"
            ],
            [
             0.5,
             "#f7f7f7"
            ],
            [
             0.6,
             "#e6f5d0"
            ],
            [
             0.7,
             "#b8e186"
            ],
            [
             0.8,
             "#7fbc41"
            ],
            [
             0.9,
             "#4d9221"
            ],
            [
             1,
             "#276419"
            ]
           ],
           "sequential": [
            [
             0,
             "#0d0887"
            ],
            [
             0.1111111111111111,
             "#46039f"
            ],
            [
             0.2222222222222222,
             "#7201a8"
            ],
            [
             0.3333333333333333,
             "#9c179e"
            ],
            [
             0.4444444444444444,
             "#bd3786"
            ],
            [
             0.5555555555555556,
             "#d8576b"
            ],
            [
             0.6666666666666666,
             "#ed7953"
            ],
            [
             0.7777777777777778,
             "#fb9f3a"
            ],
            [
             0.8888888888888888,
             "#fdca26"
            ],
            [
             1,
             "#f0f921"
            ]
           ],
           "sequentialminus": [
            [
             0,
             "#0d0887"
            ],
            [
             0.1111111111111111,
             "#46039f"
            ],
            [
             0.2222222222222222,
             "#7201a8"
            ],
            [
             0.3333333333333333,
             "#9c179e"
            ],
            [
             0.4444444444444444,
             "#bd3786"
            ],
            [
             0.5555555555555556,
             "#d8576b"
            ],
            [
             0.6666666666666666,
             "#ed7953"
            ],
            [
             0.7777777777777778,
             "#fb9f3a"
            ],
            [
             0.8888888888888888,
             "#fdca26"
            ],
            [
             1,
             "#f0f921"
            ]
           ]
          },
          "colorway": [
           "#636efa",
           "#EF553B",
           "#00cc96",
           "#ab63fa",
           "#FFA15A",
           "#19d3f3",
           "#FF6692",
           "#B6E880",
           "#FF97FF",
           "#FECB52"
          ],
          "font": {
           "color": "#2a3f5f"
          },
          "geo": {
           "bgcolor": "white",
           "lakecolor": "white",
           "landcolor": "#E5ECF6",
           "showlakes": true,
           "showland": true,
           "subunitcolor": "white"
          },
          "hoverlabel": {
           "align": "left"
          },
          "hovermode": "closest",
          "mapbox": {
           "style": "light"
          },
          "paper_bgcolor": "white",
          "plot_bgcolor": "#E5ECF6",
          "polar": {
           "angularaxis": {
            "gridcolor": "white",
            "linecolor": "white",
            "ticks": ""
           },
           "bgcolor": "#E5ECF6",
           "radialaxis": {
            "gridcolor": "white",
            "linecolor": "white",
            "ticks": ""
           }
          },
          "scene": {
           "xaxis": {
            "backgroundcolor": "#E5ECF6",
            "gridcolor": "white",
            "gridwidth": 2,
            "linecolor": "white",
            "showbackground": true,
            "ticks": "",
            "zerolinecolor": "white"
           },
           "yaxis": {
            "backgroundcolor": "#E5ECF6",
            "gridcolor": "white",
            "gridwidth": 2,
            "linecolor": "white",
            "showbackground": true,
            "ticks": "",
            "zerolinecolor": "white"
           },
           "zaxis": {
            "backgroundcolor": "#E5ECF6",
            "gridcolor": "white",
            "gridwidth": 2,
            "linecolor": "white",
            "showbackground": true,
            "ticks": "",
            "zerolinecolor": "white"
           }
          },
          "shapedefaults": {
           "line": {
            "color": "#2a3f5f"
           }
          },
          "ternary": {
           "aaxis": {
            "gridcolor": "white",
            "linecolor": "white",
            "ticks": ""
           },
           "baxis": {
            "gridcolor": "white",
            "linecolor": "white",
            "ticks": ""
           },
           "bgcolor": "#E5ECF6",
           "caxis": {
            "gridcolor": "white",
            "linecolor": "white",
            "ticks": ""
           }
          },
          "title": {
           "x": 0.05
          },
          "xaxis": {
           "automargin": true,
           "gridcolor": "white",
           "linecolor": "white",
           "ticks": "",
           "title": {
            "standoff": 15
           },
           "zerolinecolor": "white",
           "zerolinewidth": 2
          },
          "yaxis": {
           "automargin": true,
           "gridcolor": "white",
           "linecolor": "white",
           "ticks": "",
           "title": {
            "standoff": 15
           },
           "zerolinecolor": "white",
           "zerolinewidth": 2
          }
         }
        },
        "title": {
         "text": "Spread outside China over time"
        },
        "updatemenus": [
         {
          "buttons": [
           {
            "args": [
             null,
             {
              "frame": {
               "duration": 500,
               "redraw": true
              },
              "fromcurrent": true,
              "mode": "immediate",
              "transition": {
               "duration": 500,
               "easing": "linear"
              }
             }
            ],
            "label": "&#9654;",
            "method": "animate"
           },
           {
            "args": [
             [
              null
             ],
             {
              "frame": {
               "duration": 0,
               "redraw": true
              },
              "fromcurrent": true,
              "mode": "immediate",
              "transition": {
               "duration": 0,
               "easing": "linear"
              }
             }
            ],
            "label": "&#9724;",
            "method": "animate"
           }
          ],
          "direction": "left",
          "pad": {
           "r": 10,
           "t": 70
          },
          "showactive": false,
          "type": "buttons",
          "x": 0.1,
          "xanchor": "right",
          "y": 0,
          "yanchor": "top"
         }
        ]
       }
      },
      "text/html": [
       "<div>\n",
       "        \n",
       "        \n",
       "            <div id=\"57db8048-6663-4213-b301-a7bfbece5e70\" class=\"plotly-graph-div\" style=\"height:525px; width:100%;\"></div>\n",
       "            <script type=\"text/javascript\">\n",
       "                require([\"plotly\"], function(Plotly) {\n",
       "                    window.PLOTLYENV=window.PLOTLYENV || {};\n",
       "                    \n",
       "                if (document.getElementById(\"57db8048-6663-4213-b301-a7bfbece5e70\")) {\n",
       "                    Plotly.newPlot(\n",
       "                        '57db8048-6663-4213-b301-a7bfbece5e70',\n",
       "                        [{\"geo\": \"geo\", \"hoverlabel\": {\"namelength\": 0}, \"hovertemplate\": \"<b>%{hovertext}</b><br><br>YearMonth=2014-10<br>Total Profit=%{marker.color}<br>Country=%{location}\", \"hovertext\": [\"Libya\", \"Senegal\", \"Yemen\", \"Liberia\", \"Angola\", \"Israel\", \"Mozambique\", \"Luxembourg\", \"Angola\", \"Zimbabwe\", \"Belarus\", \"Dominican Republic\", \"Singapore\", \"Somalia\", \"Trinidad and Tobago\"], \"legendgroup\": \"\", \"locationmode\": \"country names\", \"locations\": [\"Libya\", \"Senegal\", \"Yemen\", \"Liberia\", \"Angola\", \"Israel\", \"Mozambique\", \"Luxembourg\", \"Angola\", \"Zimbabwe\", \"Belarus\", \"Dominican Republic\", \"Singapore\", \"Somalia\", \"Trinidad and Tobago\"], \"marker\": {\"color\": [1468506.02, 130510.44, 543334.48, 13262.23, 1195182.38, 44443.08, 65756.34, 187432.97, 10930.68, 14057.53, 927093.62, 98600.67, 779459.21, 327049.47, 109066.92], \"coloraxis\": \"coloraxis\", \"size\": [1468506.02, 130510.44, 543334.48, 13262.23, 1195182.38, 44443.08, 65756.34, 187432.97, 10930.68, 14057.53, 927093.62, 98600.67, 779459.21, 327049.47, 109066.92], \"sizemode\": \"area\", \"sizeref\": 4315.4534}, \"name\": \"\", \"showlegend\": false, \"type\": \"scattergeo\"}],\n",
       "                        {\"coloraxis\": {\"cmax\": 1726183.36, \"cmin\": 0, \"colorbar\": {\"title\": {\"text\": \"Total Profit\"}}, \"colorscale\": [[0.0, \"#0d0887\"], [0.1111111111111111, \"#46039f\"], [0.2222222222222222, \"#7201a8\"], [0.3333333333333333, \"#9c179e\"], [0.4444444444444444, \"#bd3786\"], [0.5555555555555556, \"#d8576b\"], [0.6666666666666666, \"#ed7953\"], [0.7777777777777778, \"#fb9f3a\"], [0.8888888888888888, \"#fdca26\"], [1.0, \"#f0f921\"]], \"showscale\": false}, \"geo\": {\"center\": {}, \"domain\": {\"x\": [0.0, 1.0], \"y\": [0.0, 1.0]}, \"projection\": {\"type\": \"natural earth\"}}, \"legend\": {\"itemsizing\": \"constant\", \"tracegroupgap\": 0}, \"sliders\": [{\"active\": 0, \"currentvalue\": {\"prefix\": \"YearMonth=\"}, \"len\": 0.9, \"pad\": {\"b\": 10, \"t\": 60}, \"steps\": [{\"args\": [[\"2014-10\"], {\"frame\": {\"duration\": 0, \"redraw\": true}, \"fromcurrent\": true, \"mode\": \"immediate\", \"transition\": {\"duration\": 0, \"easing\": \"linear\"}}], \"label\": \"2014-10\", \"method\": \"animate\"}, {\"args\": [[\"2011-11\"], {\"frame\": {\"duration\": 0, \"redraw\": true}, \"fromcurrent\": true, \"mode\": \"immediate\", \"transition\": {\"duration\": 0, \"easing\": \"linear\"}}], \"label\": \"2011-11\", \"method\": \"animate\"}, {\"args\": [[\"2016-10\"], {\"frame\": {\"duration\": 0, \"redraw\": true}, \"fromcurrent\": true, \"mode\": \"immediate\", \"transition\": {\"duration\": 0, \"easing\": \"linear\"}}], \"label\": \"2016-10\", \"method\": \"animate\"}, {\"args\": [[\"2010-4\"], {\"frame\": {\"duration\": 0, \"redraw\": true}, \"fromcurrent\": true, \"mode\": \"immediate\", \"transition\": {\"duration\": 0, \"easing\": \"linear\"}}], \"label\": \"2010-4\", \"method\": \"animate\"}, {\"args\": [[\"2011-8\"], {\"frame\": {\"duration\": 0, \"redraw\": true}, \"fromcurrent\": true, \"mode\": \"immediate\", \"transition\": {\"duration\": 0, \"easing\": \"linear\"}}], \"label\": \"2011-8\", \"method\": \"animate\"}, {\"args\": [[\"2014-11\"], {\"frame\": {\"duration\": 0, \"redraw\": true}, \"fromcurrent\": true, \"mode\": \"immediate\", \"transition\": {\"duration\": 0, \"easing\": \"linear\"}}], \"label\": \"2014-11\", \"method\": \"animate\"}, {\"args\": [[\"2015-3\"], {\"frame\": {\"duration\": 0, \"redraw\": true}, \"fromcurrent\": true, \"mode\": \"immediate\", \"transition\": {\"duration\": 0, \"easing\": \"linear\"}}], \"label\": \"2015-3\", \"method\": \"animate\"}, {\"args\": [[\"2012-5\"], {\"frame\": {\"duration\": 0, \"redraw\": true}, \"fromcurrent\": true, \"mode\": \"immediate\", \"transition\": {\"duration\": 0, \"easing\": \"linear\"}}], \"label\": \"2012-5\", \"method\": \"animate\"}, {\"args\": [[\"2015-1\"], {\"frame\": {\"duration\": 0, \"redraw\": true}, \"fromcurrent\": true, \"mode\": \"immediate\", \"transition\": {\"duration\": 0, \"easing\": \"linear\"}}], \"label\": \"2015-1\", \"method\": \"animate\"}, {\"args\": [[\"2013-12\"], {\"frame\": {\"duration\": 0, \"redraw\": true}, \"fromcurrent\": true, \"mode\": \"immediate\", \"transition\": {\"duration\": 0, \"easing\": \"linear\"}}], \"label\": \"2013-12\", \"method\": \"animate\"}, {\"args\": [[\"2015-12\"], {\"frame\": {\"duration\": 0, \"redraw\": true}, \"fromcurrent\": true, \"mode\": \"immediate\", \"transition\": {\"duration\": 0, \"easing\": \"linear\"}}], \"label\": \"2015-12\", \"method\": \"animate\"}, {\"args\": [[\"2010-2\"], {\"frame\": {\"duration\": 0, \"redraw\": true}, \"fromcurrent\": true, \"mode\": \"immediate\", \"transition\": {\"duration\": 0, \"easing\": \"linear\"}}], \"label\": \"2010-2\", \"method\": \"animate\"}, {\"args\": [[\"2016-11\"], {\"frame\": {\"duration\": 0, \"redraw\": true}, \"fromcurrent\": true, \"mode\": \"immediate\", \"transition\": {\"duration\": 0, \"easing\": \"linear\"}}], \"label\": \"2016-11\", \"method\": \"animate\"}, {\"args\": [[\"2011-1\"], {\"frame\": {\"duration\": 0, \"redraw\": true}, \"fromcurrent\": true, \"mode\": \"immediate\", \"transition\": {\"duration\": 0, \"easing\": \"linear\"}}], \"label\": \"2011-1\", \"method\": \"animate\"}, {\"args\": [[\"2010-6\"], {\"frame\": {\"duration\": 0, \"redraw\": true}, \"fromcurrent\": true, \"mode\": \"immediate\", \"transition\": {\"duration\": 0, \"easing\": \"linear\"}}], \"label\": \"2010-6\", \"method\": \"animate\"}, {\"args\": [[\"2016-4\"], {\"frame\": {\"duration\": 0, \"redraw\": true}, \"fromcurrent\": true, \"mode\": \"immediate\", \"transition\": {\"duration\": 0, \"easing\": \"linear\"}}], \"label\": \"2016-4\", \"method\": \"animate\"}, {\"args\": [[\"2012-7\"], {\"frame\": {\"duration\": 0, \"redraw\": true}, \"fromcurrent\": true, \"mode\": \"immediate\", \"transition\": {\"duration\": 0, \"easing\": \"linear\"}}], \"label\": \"2012-7\", \"method\": \"animate\"}, {\"args\": [[\"2014-9\"], {\"frame\": {\"duration\": 0, \"redraw\": true}, \"fromcurrent\": true, \"mode\": \"immediate\", \"transition\": {\"duration\": 0, \"easing\": \"linear\"}}], \"label\": \"2014-9\", \"method\": \"animate\"}, {\"args\": [[\"2012-8\"], {\"frame\": {\"duration\": 0, \"redraw\": true}, \"fromcurrent\": true, \"mode\": \"immediate\", \"transition\": {\"duration\": 0, \"easing\": \"linear\"}}], \"label\": \"2012-8\", \"method\": \"animate\"}, {\"args\": [[\"2012-9\"], {\"frame\": {\"duration\": 0, \"redraw\": true}, \"fromcurrent\": true, \"mode\": \"immediate\", \"transition\": {\"duration\": 0, \"easing\": \"linear\"}}], \"label\": \"2012-9\", \"method\": \"animate\"}, {\"args\": [[\"2010-8\"], {\"frame\": {\"duration\": 0, \"redraw\": true}, \"fromcurrent\": true, \"mode\": \"immediate\", \"transition\": {\"duration\": 0, \"easing\": \"linear\"}}], \"label\": \"2010-8\", \"method\": \"animate\"}, {\"args\": [[\"2011-2\"], {\"frame\": {\"duration\": 0, \"redraw\": true}, \"fromcurrent\": true, \"mode\": \"immediate\", \"transition\": {\"duration\": 0, \"easing\": \"linear\"}}], \"label\": \"2011-2\", \"method\": \"animate\"}, {\"args\": [[\"2012-10\"], {\"frame\": {\"duration\": 0, \"redraw\": true}, \"fromcurrent\": true, \"mode\": \"immediate\", \"transition\": {\"duration\": 0, \"easing\": \"linear\"}}], \"label\": \"2012-10\", \"method\": \"animate\"}, {\"args\": [[\"2017-1\"], {\"frame\": {\"duration\": 0, \"redraw\": true}, \"fromcurrent\": true, \"mode\": \"immediate\", \"transition\": {\"duration\": 0, \"easing\": \"linear\"}}], \"label\": \"2017-1\", \"method\": \"animate\"}, {\"args\": [[\"2012-1\"], {\"frame\": {\"duration\": 0, \"redraw\": true}, \"fromcurrent\": true, \"mode\": \"immediate\", \"transition\": {\"duration\": 0, \"easing\": \"linear\"}}], \"label\": \"2012-1\", \"method\": \"animate\"}, {\"args\": [[\"2016-1\"], {\"frame\": {\"duration\": 0, \"redraw\": true}, \"fromcurrent\": true, \"mode\": \"immediate\", \"transition\": {\"duration\": 0, \"easing\": \"linear\"}}], \"label\": \"2016-1\", \"method\": \"animate\"}, {\"args\": [[\"2017-6\"], {\"frame\": {\"duration\": 0, \"redraw\": true}, \"fromcurrent\": true, \"mode\": \"immediate\", \"transition\": {\"duration\": 0, \"easing\": \"linear\"}}], \"label\": \"2017-6\", \"method\": \"animate\"}, {\"args\": [[\"2015-6\"], {\"frame\": {\"duration\": 0, \"redraw\": true}, \"fromcurrent\": true, \"mode\": \"immediate\", \"transition\": {\"duration\": 0, \"easing\": \"linear\"}}], \"label\": \"2015-6\", \"method\": \"animate\"}, {\"args\": [[\"2014-1\"], {\"frame\": {\"duration\": 0, \"redraw\": true}, \"fromcurrent\": true, \"mode\": \"immediate\", \"transition\": {\"duration\": 0, \"easing\": \"linear\"}}], \"label\": \"2014-1\", \"method\": \"animate\"}, {\"args\": [[\"2014-4\"], {\"frame\": {\"duration\": 0, \"redraw\": true}, \"fromcurrent\": true, \"mode\": \"immediate\", \"transition\": {\"duration\": 0, \"easing\": \"linear\"}}], \"label\": \"2014-4\", \"method\": \"animate\"}, {\"args\": [[\"2010-9\"], {\"frame\": {\"duration\": 0, \"redraw\": true}, \"fromcurrent\": true, \"mode\": \"immediate\", \"transition\": {\"duration\": 0, \"easing\": \"linear\"}}], \"label\": \"2010-9\", \"method\": \"animate\"}, {\"args\": [[\"2010-5\"], {\"frame\": {\"duration\": 0, \"redraw\": true}, \"fromcurrent\": true, \"mode\": \"immediate\", \"transition\": {\"duration\": 0, \"easing\": \"linear\"}}], \"label\": \"2010-5\", \"method\": \"animate\"}, {\"args\": [[\"2013-10\"], {\"frame\": {\"duration\": 0, \"redraw\": true}, \"fromcurrent\": true, \"mode\": \"immediate\", \"transition\": {\"duration\": 0, \"easing\": \"linear\"}}], \"label\": \"2013-10\", \"method\": \"animate\"}, {\"args\": [[\"2011-3\"], {\"frame\": {\"duration\": 0, \"redraw\": true}, \"fromcurrent\": true, \"mode\": \"immediate\", \"transition\": {\"duration\": 0, \"easing\": \"linear\"}}], \"label\": \"2011-3\", \"method\": \"animate\"}, {\"args\": [[\"2016-8\"], {\"frame\": {\"duration\": 0, \"redraw\": true}, \"fromcurrent\": true, \"mode\": \"immediate\", \"transition\": {\"duration\": 0, \"easing\": \"linear\"}}], \"label\": \"2016-8\", \"method\": \"animate\"}, {\"args\": [[\"2014-5\"], {\"frame\": {\"duration\": 0, \"redraw\": true}, \"fromcurrent\": true, \"mode\": \"immediate\", \"transition\": {\"duration\": 0, \"easing\": \"linear\"}}], \"label\": \"2014-5\", \"method\": \"animate\"}, {\"args\": [[\"2013-8\"], {\"frame\": {\"duration\": 0, \"redraw\": true}, \"fromcurrent\": true, \"mode\": \"immediate\", \"transition\": {\"duration\": 0, \"easing\": \"linear\"}}], \"label\": \"2013-8\", \"method\": \"animate\"}, {\"args\": [[\"2011-10\"], {\"frame\": {\"duration\": 0, \"redraw\": true}, \"fromcurrent\": true, \"mode\": \"immediate\", \"transition\": {\"duration\": 0, \"easing\": \"linear\"}}], \"label\": \"2011-10\", \"method\": \"animate\"}, {\"args\": [[\"2015-4\"], {\"frame\": {\"duration\": 0, \"redraw\": true}, \"fromcurrent\": true, \"mode\": \"immediate\", \"transition\": {\"duration\": 0, \"easing\": \"linear\"}}], \"label\": \"2015-4\", \"method\": \"animate\"}, {\"args\": [[\"2013-3\"], {\"frame\": {\"duration\": 0, \"redraw\": true}, \"fromcurrent\": true, \"mode\": \"immediate\", \"transition\": {\"duration\": 0, \"easing\": \"linear\"}}], \"label\": \"2013-3\", \"method\": \"animate\"}, {\"args\": [[\"2015-8\"], {\"frame\": {\"duration\": 0, \"redraw\": true}, \"fromcurrent\": true, \"mode\": \"immediate\", \"transition\": {\"duration\": 0, \"easing\": \"linear\"}}], \"label\": \"2015-8\", \"method\": \"animate\"}, {\"args\": [[\"2016-12\"], {\"frame\": {\"duration\": 0, \"redraw\": true}, \"fromcurrent\": true, \"mode\": \"immediate\", \"transition\": {\"duration\": 0, \"easing\": \"linear\"}}], \"label\": \"2016-12\", \"method\": \"animate\"}, {\"args\": [[\"2010-11\"], {\"frame\": {\"duration\": 0, \"redraw\": true}, \"fromcurrent\": true, \"mode\": \"immediate\", \"transition\": {\"duration\": 0, \"easing\": \"linear\"}}], \"label\": \"2010-11\", \"method\": \"animate\"}, {\"args\": [[\"2016-6\"], {\"frame\": {\"duration\": 0, \"redraw\": true}, \"fromcurrent\": true, \"mode\": \"immediate\", \"transition\": {\"duration\": 0, \"easing\": \"linear\"}}], \"label\": \"2016-6\", \"method\": \"animate\"}, {\"args\": [[\"2016-5\"], {\"frame\": {\"duration\": 0, \"redraw\": true}, \"fromcurrent\": true, \"mode\": \"immediate\", \"transition\": {\"duration\": 0, \"easing\": \"linear\"}}], \"label\": \"2016-5\", \"method\": \"animate\"}, {\"args\": [[\"2012-3\"], {\"frame\": {\"duration\": 0, \"redraw\": true}, \"fromcurrent\": true, \"mode\": \"immediate\", \"transition\": {\"duration\": 0, \"easing\": \"linear\"}}], \"label\": \"2012-3\", \"method\": \"animate\"}, {\"args\": [[\"2014-6\"], {\"frame\": {\"duration\": 0, \"redraw\": true}, \"fromcurrent\": true, \"mode\": \"immediate\", \"transition\": {\"duration\": 0, \"easing\": \"linear\"}}], \"label\": \"2014-6\", \"method\": \"animate\"}, {\"args\": [[\"2013-4\"], {\"frame\": {\"duration\": 0, \"redraw\": true}, \"fromcurrent\": true, \"mode\": \"immediate\", \"transition\": {\"duration\": 0, \"easing\": \"linear\"}}], \"label\": \"2013-4\", \"method\": \"animate\"}, {\"args\": [[\"2013-6\"], {\"frame\": {\"duration\": 0, \"redraw\": true}, \"fromcurrent\": true, \"mode\": \"immediate\", \"transition\": {\"duration\": 0, \"easing\": \"linear\"}}], \"label\": \"2013-6\", \"method\": \"animate\"}, {\"args\": [[\"2013-1\"], {\"frame\": {\"duration\": 0, \"redraw\": true}, \"fromcurrent\": true, \"mode\": \"immediate\", \"transition\": {\"duration\": 0, \"easing\": \"linear\"}}], \"label\": \"2013-1\", \"method\": \"animate\"}, {\"args\": [[\"2011-5\"], {\"frame\": {\"duration\": 0, \"redraw\": true}, \"fromcurrent\": true, \"mode\": \"immediate\", \"transition\": {\"duration\": 0, \"easing\": \"linear\"}}], \"label\": \"2011-5\", \"method\": \"animate\"}, {\"args\": [[\"2010-7\"], {\"frame\": {\"duration\": 0, \"redraw\": true}, \"fromcurrent\": true, \"mode\": \"immediate\", \"transition\": {\"duration\": 0, \"easing\": \"linear\"}}], \"label\": \"2010-7\", \"method\": \"animate\"}, {\"args\": [[\"2017-2\"], {\"frame\": {\"duration\": 0, \"redraw\": true}, \"fromcurrent\": true, \"mode\": \"immediate\", \"transition\": {\"duration\": 0, \"easing\": \"linear\"}}], \"label\": \"2017-2\", \"method\": \"animate\"}, {\"args\": [[\"2013-9\"], {\"frame\": {\"duration\": 0, \"redraw\": true}, \"fromcurrent\": true, \"mode\": \"immediate\", \"transition\": {\"duration\": 0, \"easing\": \"linear\"}}], \"label\": \"2013-9\", \"method\": \"animate\"}, {\"args\": [[\"2015-2\"], {\"frame\": {\"duration\": 0, \"redraw\": true}, \"fromcurrent\": true, \"mode\": \"immediate\", \"transition\": {\"duration\": 0, \"easing\": \"linear\"}}], \"label\": \"2015-2\", \"method\": \"animate\"}, {\"args\": [[\"2010-1\"], {\"frame\": {\"duration\": 0, \"redraw\": true}, \"fromcurrent\": true, \"mode\": \"immediate\", \"transition\": {\"duration\": 0, \"easing\": \"linear\"}}], \"label\": \"2010-1\", \"method\": \"animate\"}, {\"args\": [[\"2010-3\"], {\"frame\": {\"duration\": 0, \"redraw\": true}, \"fromcurrent\": true, \"mode\": \"immediate\", \"transition\": {\"duration\": 0, \"easing\": \"linear\"}}], \"label\": \"2010-3\", \"method\": \"animate\"}, {\"args\": [[\"2017-3\"], {\"frame\": {\"duration\": 0, \"redraw\": true}, \"fromcurrent\": true, \"mode\": \"immediate\", \"transition\": {\"duration\": 0, \"easing\": \"linear\"}}], \"label\": \"2017-3\", \"method\": \"animate\"}, {\"args\": [[\"2014-3\"], {\"frame\": {\"duration\": 0, \"redraw\": true}, \"fromcurrent\": true, \"mode\": \"immediate\", \"transition\": {\"duration\": 0, \"easing\": \"linear\"}}], \"label\": \"2014-3\", \"method\": \"animate\"}, {\"args\": [[\"2011-9\"], {\"frame\": {\"duration\": 0, \"redraw\": true}, \"fromcurrent\": true, \"mode\": \"immediate\", \"transition\": {\"duration\": 0, \"easing\": \"linear\"}}], \"label\": \"2011-9\", \"method\": \"animate\"}, {\"args\": [[\"2016-7\"], {\"frame\": {\"duration\": 0, \"redraw\": true}, \"fromcurrent\": true, \"mode\": \"immediate\", \"transition\": {\"duration\": 0, \"easing\": \"linear\"}}], \"label\": \"2016-7\", \"method\": \"animate\"}, {\"args\": [[\"2014-2\"], {\"frame\": {\"duration\": 0, \"redraw\": true}, \"fromcurrent\": true, \"mode\": \"immediate\", \"transition\": {\"duration\": 0, \"easing\": \"linear\"}}], \"label\": \"2014-2\", \"method\": \"animate\"}, {\"args\": [[\"2012-12\"], {\"frame\": {\"duration\": 0, \"redraw\": true}, \"fromcurrent\": true, \"mode\": \"immediate\", \"transition\": {\"duration\": 0, \"easing\": \"linear\"}}], \"label\": \"2012-12\", \"method\": \"animate\"}, {\"args\": [[\"2015-9\"], {\"frame\": {\"duration\": 0, \"redraw\": true}, \"fromcurrent\": true, \"mode\": \"immediate\", \"transition\": {\"duration\": 0, \"easing\": \"linear\"}}], \"label\": \"2015-9\", \"method\": \"animate\"}, {\"args\": [[\"2013-11\"], {\"frame\": {\"duration\": 0, \"redraw\": true}, \"fromcurrent\": true, \"mode\": \"immediate\", \"transition\": {\"duration\": 0, \"easing\": \"linear\"}}], \"label\": \"2013-11\", \"method\": \"animate\"}, {\"args\": [[\"2014-8\"], {\"frame\": {\"duration\": 0, \"redraw\": true}, \"fromcurrent\": true, \"mode\": \"immediate\", \"transition\": {\"duration\": 0, \"easing\": \"linear\"}}], \"label\": \"2014-8\", \"method\": \"animate\"}, {\"args\": [[\"2010-10\"], {\"frame\": {\"duration\": 0, \"redraw\": true}, \"fromcurrent\": true, \"mode\": \"immediate\", \"transition\": {\"duration\": 0, \"easing\": \"linear\"}}], \"label\": \"2010-10\", \"method\": \"animate\"}, {\"args\": [[\"2012-6\"], {\"frame\": {\"duration\": 0, \"redraw\": true}, \"fromcurrent\": true, \"mode\": \"immediate\", \"transition\": {\"duration\": 0, \"easing\": \"linear\"}}], \"label\": \"2012-6\", \"method\": \"animate\"}, {\"args\": [[\"2013-5\"], {\"frame\": {\"duration\": 0, \"redraw\": true}, \"fromcurrent\": true, \"mode\": \"immediate\", \"transition\": {\"duration\": 0, \"easing\": \"linear\"}}], \"label\": \"2013-5\", \"method\": \"animate\"}, {\"args\": [[\"2011-6\"], {\"frame\": {\"duration\": 0, \"redraw\": true}, \"fromcurrent\": true, \"mode\": \"immediate\", \"transition\": {\"duration\": 0, \"easing\": \"linear\"}}], \"label\": \"2011-6\", \"method\": \"animate\"}, {\"args\": [[\"2011-4\"], {\"frame\": {\"duration\": 0, \"redraw\": true}, \"fromcurrent\": true, \"mode\": \"immediate\", \"transition\": {\"duration\": 0, \"easing\": \"linear\"}}], \"label\": \"2011-4\", \"method\": \"animate\"}, {\"args\": [[\"2012-11\"], {\"frame\": {\"duration\": 0, \"redraw\": true}, \"fromcurrent\": true, \"mode\": \"immediate\", \"transition\": {\"duration\": 0, \"easing\": \"linear\"}}], \"label\": \"2012-11\", \"method\": \"animate\"}, {\"args\": [[\"2015-11\"], {\"frame\": {\"duration\": 0, \"redraw\": true}, \"fromcurrent\": true, \"mode\": \"immediate\", \"transition\": {\"duration\": 0, \"easing\": \"linear\"}}], \"label\": \"2015-11\", \"method\": \"animate\"}, {\"args\": [[\"2013-2\"], {\"frame\": {\"duration\": 0, \"redraw\": true}, \"fromcurrent\": true, \"mode\": \"immediate\", \"transition\": {\"duration\": 0, \"easing\": \"linear\"}}], \"label\": \"2013-2\", \"method\": \"animate\"}, {\"args\": [[\"2017-7\"], {\"frame\": {\"duration\": 0, \"redraw\": true}, \"fromcurrent\": true, \"mode\": \"immediate\", \"transition\": {\"duration\": 0, \"easing\": \"linear\"}}], \"label\": \"2017-7\", \"method\": \"animate\"}, {\"args\": [[\"2017-4\"], {\"frame\": {\"duration\": 0, \"redraw\": true}, \"fromcurrent\": true, \"mode\": \"immediate\", \"transition\": {\"duration\": 0, \"easing\": \"linear\"}}], \"label\": \"2017-4\", \"method\": \"animate\"}, {\"args\": [[\"2014-7\"], {\"frame\": {\"duration\": 0, \"redraw\": true}, \"fromcurrent\": true, \"mode\": \"immediate\", \"transition\": {\"duration\": 0, \"easing\": \"linear\"}}], \"label\": \"2014-7\", \"method\": \"animate\"}, {\"args\": [[\"2011-7\"], {\"frame\": {\"duration\": 0, \"redraw\": true}, \"fromcurrent\": true, \"mode\": \"immediate\", \"transition\": {\"duration\": 0, \"easing\": \"linear\"}}], \"label\": \"2011-7\", \"method\": \"animate\"}, {\"args\": [[\"2013-7\"], {\"frame\": {\"duration\": 0, \"redraw\": true}, \"fromcurrent\": true, \"mode\": \"immediate\", \"transition\": {\"duration\": 0, \"easing\": \"linear\"}}], \"label\": \"2013-7\", \"method\": \"animate\"}, {\"args\": [[\"2014-12\"], {\"frame\": {\"duration\": 0, \"redraw\": true}, \"fromcurrent\": true, \"mode\": \"immediate\", \"transition\": {\"duration\": 0, \"easing\": \"linear\"}}], \"label\": \"2014-12\", \"method\": \"animate\"}, {\"args\": [[\"2010-12\"], {\"frame\": {\"duration\": 0, \"redraw\": true}, \"fromcurrent\": true, \"mode\": \"immediate\", \"transition\": {\"duration\": 0, \"easing\": \"linear\"}}], \"label\": \"2010-12\", \"method\": \"animate\"}, {\"args\": [[\"2011-12\"], {\"frame\": {\"duration\": 0, \"redraw\": true}, \"fromcurrent\": true, \"mode\": \"immediate\", \"transition\": {\"duration\": 0, \"easing\": \"linear\"}}], \"label\": \"2011-12\", \"method\": \"animate\"}, {\"args\": [[\"2016-3\"], {\"frame\": {\"duration\": 0, \"redraw\": true}, \"fromcurrent\": true, \"mode\": \"immediate\", \"transition\": {\"duration\": 0, \"easing\": \"linear\"}}], \"label\": \"2016-3\", \"method\": \"animate\"}, {\"args\": [[\"2012-4\"], {\"frame\": {\"duration\": 0, \"redraw\": true}, \"fromcurrent\": true, \"mode\": \"immediate\", \"transition\": {\"duration\": 0, \"easing\": \"linear\"}}], \"label\": \"2012-4\", \"method\": \"animate\"}, {\"args\": [[\"2015-7\"], {\"frame\": {\"duration\": 0, \"redraw\": true}, \"fromcurrent\": true, \"mode\": \"immediate\", \"transition\": {\"duration\": 0, \"easing\": \"linear\"}}], \"label\": \"2015-7\", \"method\": \"animate\"}, {\"args\": [[\"2016-2\"], {\"frame\": {\"duration\": 0, \"redraw\": true}, \"fromcurrent\": true, \"mode\": \"immediate\", \"transition\": {\"duration\": 0, \"easing\": \"linear\"}}], \"label\": \"2016-2\", \"method\": \"animate\"}, {\"args\": [[\"2015-5\"], {\"frame\": {\"duration\": 0, \"redraw\": true}, \"fromcurrent\": true, \"mode\": \"immediate\", \"transition\": {\"duration\": 0, \"easing\": \"linear\"}}], \"label\": \"2015-5\", \"method\": \"animate\"}, {\"args\": [[\"2012-2\"], {\"frame\": {\"duration\": 0, \"redraw\": true}, \"fromcurrent\": true, \"mode\": \"immediate\", \"transition\": {\"duration\": 0, \"easing\": \"linear\"}}], \"label\": \"2012-2\", \"method\": \"animate\"}, {\"args\": [[\"2016-9\"], {\"frame\": {\"duration\": 0, \"redraw\": true}, \"fromcurrent\": true, \"mode\": \"immediate\", \"transition\": {\"duration\": 0, \"easing\": \"linear\"}}], \"label\": \"2016-9\", \"method\": \"animate\"}, {\"args\": [[\"2015-10\"], {\"frame\": {\"duration\": 0, \"redraw\": true}, \"fromcurrent\": true, \"mode\": \"immediate\", \"transition\": {\"duration\": 0, \"easing\": \"linear\"}}], \"label\": \"2015-10\", \"method\": \"animate\"}, {\"args\": [[\"2017-5\"], {\"frame\": {\"duration\": 0, \"redraw\": true}, \"fromcurrent\": true, \"mode\": \"immediate\", \"transition\": {\"duration\": 0, \"easing\": \"linear\"}}], \"label\": \"2017-5\", \"method\": \"animate\"}], \"x\": 0.1, \"xanchor\": \"left\", \"y\": 0, \"yanchor\": \"top\"}], \"template\": {\"data\": {\"bar\": [{\"error_x\": {\"color\": \"#2a3f5f\"}, \"error_y\": {\"color\": \"#2a3f5f\"}, \"marker\": {\"line\": {\"color\": \"#E5ECF6\", \"width\": 0.5}}, \"type\": \"bar\"}], \"barpolar\": [{\"marker\": {\"line\": {\"color\": \"#E5ECF6\", \"width\": 0.5}}, \"type\": \"barpolar\"}], \"carpet\": [{\"aaxis\": {\"endlinecolor\": \"#2a3f5f\", \"gridcolor\": \"white\", \"linecolor\": \"white\", \"minorgridcolor\": \"white\", \"startlinecolor\": \"#2a3f5f\"}, \"baxis\": {\"endlinecolor\": \"#2a3f5f\", \"gridcolor\": \"white\", \"linecolor\": \"white\", \"minorgridcolor\": \"white\", \"startlinecolor\": \"#2a3f5f\"}, \"type\": \"carpet\"}], \"choropleth\": [{\"colorbar\": {\"outlinewidth\": 0, \"ticks\": \"\"}, \"type\": \"choropleth\"}], \"contour\": [{\"colorbar\": {\"outlinewidth\": 0, \"ticks\": \"\"}, \"colorscale\": [[0.0, \"#0d0887\"], [0.1111111111111111, \"#46039f\"], [0.2222222222222222, \"#7201a8\"], [0.3333333333333333, \"#9c179e\"], [0.4444444444444444, \"#bd3786\"], [0.5555555555555556, \"#d8576b\"], [0.6666666666666666, \"#ed7953\"], [0.7777777777777778, \"#fb9f3a\"], [0.8888888888888888, \"#fdca26\"], [1.0, \"#f0f921\"]], \"type\": \"contour\"}], \"contourcarpet\": [{\"colorbar\": {\"outlinewidth\": 0, \"ticks\": \"\"}, \"type\": \"contourcarpet\"}], \"heatmap\": [{\"colorbar\": {\"outlinewidth\": 0, \"ticks\": \"\"}, \"colorscale\": [[0.0, \"#0d0887\"], [0.1111111111111111, \"#46039f\"], [0.2222222222222222, \"#7201a8\"], [0.3333333333333333, \"#9c179e\"], [0.4444444444444444, \"#bd3786\"], [0.5555555555555556, \"#d8576b\"], [0.6666666666666666, \"#ed7953\"], [0.7777777777777778, \"#fb9f3a\"], [0.8888888888888888, \"#fdca26\"], [1.0, \"#f0f921\"]], \"type\": \"heatmap\"}], \"heatmapgl\": [{\"colorbar\": {\"outlinewidth\": 0, \"ticks\": \"\"}, \"colorscale\": [[0.0, \"#0d0887\"], [0.1111111111111111, \"#46039f\"], [0.2222222222222222, \"#7201a8\"], [0.3333333333333333, \"#9c179e\"], [0.4444444444444444, \"#bd3786\"], [0.5555555555555556, \"#d8576b\"], [0.6666666666666666, \"#ed7953\"], [0.7777777777777778, \"#fb9f3a\"], [0.8888888888888888, \"#fdca26\"], [1.0, \"#f0f921\"]], \"type\": \"heatmapgl\"}], \"histogram\": [{\"marker\": {\"colorbar\": {\"outlinewidth\": 0, \"ticks\": \"\"}}, \"type\": \"histogram\"}], \"histogram2d\": [{\"colorbar\": {\"outlinewidth\": 0, \"ticks\": \"\"}, \"colorscale\": [[0.0, \"#0d0887\"], [0.1111111111111111, \"#46039f\"], [0.2222222222222222, \"#7201a8\"], [0.3333333333333333, \"#9c179e\"], [0.4444444444444444, \"#bd3786\"], [0.5555555555555556, \"#d8576b\"], [0.6666666666666666, \"#ed7953\"], [0.7777777777777778, \"#fb9f3a\"], [0.8888888888888888, \"#fdca26\"], [1.0, \"#f0f921\"]], \"type\": \"histogram2d\"}], \"histogram2dcontour\": [{\"colorbar\": {\"outlinewidth\": 0, \"ticks\": \"\"}, \"colorscale\": [[0.0, \"#0d0887\"], [0.1111111111111111, \"#46039f\"], [0.2222222222222222, \"#7201a8\"], [0.3333333333333333, \"#9c179e\"], [0.4444444444444444, \"#bd3786\"], [0.5555555555555556, \"#d8576b\"], [0.6666666666666666, \"#ed7953\"], [0.7777777777777778, \"#fb9f3a\"], [0.8888888888888888, \"#fdca26\"], [1.0, \"#f0f921\"]], \"type\": \"histogram2dcontour\"}], \"mesh3d\": [{\"colorbar\": {\"outlinewidth\": 0, \"ticks\": \"\"}, \"type\": \"mesh3d\"}], \"parcoords\": [{\"line\": {\"colorbar\": {\"outlinewidth\": 0, \"ticks\": \"\"}}, \"type\": \"parcoords\"}], \"pie\": [{\"automargin\": true, \"type\": \"pie\"}], \"scatter\": [{\"marker\": {\"colorbar\": {\"outlinewidth\": 0, \"ticks\": \"\"}}, \"type\": \"scatter\"}], \"scatter3d\": [{\"line\": {\"colorbar\": {\"outlinewidth\": 0, \"ticks\": \"\"}}, \"marker\": {\"colorbar\": {\"outlinewidth\": 0, \"ticks\": \"\"}}, \"type\": \"scatter3d\"}], \"scattercarpet\": [{\"marker\": {\"colorbar\": {\"outlinewidth\": 0, \"ticks\": \"\"}}, \"type\": \"scattercarpet\"}], \"scattergeo\": [{\"marker\": {\"colorbar\": {\"outlinewidth\": 0, \"ticks\": \"\"}}, \"type\": \"scattergeo\"}], \"scattergl\": [{\"marker\": {\"colorbar\": {\"outlinewidth\": 0, \"ticks\": \"\"}}, \"type\": \"scattergl\"}], \"scattermapbox\": [{\"marker\": {\"colorbar\": {\"outlinewidth\": 0, \"ticks\": \"\"}}, \"type\": \"scattermapbox\"}], \"scatterpolar\": [{\"marker\": {\"colorbar\": {\"outlinewidth\": 0, \"ticks\": \"\"}}, \"type\": \"scatterpolar\"}], \"scatterpolargl\": [{\"marker\": {\"colorbar\": {\"outlinewidth\": 0, \"ticks\": \"\"}}, \"type\": \"scatterpolargl\"}], \"scatterternary\": [{\"marker\": {\"colorbar\": {\"outlinewidth\": 0, \"ticks\": \"\"}}, \"type\": \"scatterternary\"}], \"surface\": [{\"colorbar\": {\"outlinewidth\": 0, \"ticks\": \"\"}, \"colorscale\": [[0.0, \"#0d0887\"], [0.1111111111111111, \"#46039f\"], [0.2222222222222222, \"#7201a8\"], [0.3333333333333333, \"#9c179e\"], [0.4444444444444444, \"#bd3786\"], [0.5555555555555556, \"#d8576b\"], [0.6666666666666666, \"#ed7953\"], [0.7777777777777778, \"#fb9f3a\"], [0.8888888888888888, \"#fdca26\"], [1.0, \"#f0f921\"]], \"type\": \"surface\"}], \"table\": [{\"cells\": {\"fill\": {\"color\": \"#EBF0F8\"}, \"line\": {\"color\": \"white\"}}, \"header\": {\"fill\": {\"color\": \"#C8D4E3\"}, \"line\": {\"color\": \"white\"}}, \"type\": \"table\"}]}, \"layout\": {\"annotationdefaults\": {\"arrowcolor\": \"#2a3f5f\", \"arrowhead\": 0, \"arrowwidth\": 1}, \"coloraxis\": {\"colorbar\": {\"outlinewidth\": 0, \"ticks\": \"\"}}, \"colorscale\": {\"diverging\": [[0, \"#8e0152\"], [0.1, \"#c51b7d\"], [0.2, \"#de77ae\"], [0.3, \"#f1b6da\"], [0.4, \"#fde0ef\"], [0.5, \"#f7f7f7\"], [0.6, \"#e6f5d0\"], [0.7, \"#b8e186\"], [0.8, \"#7fbc41\"], [0.9, \"#4d9221\"], [1, \"#276419\"]], \"sequential\": [[0.0, \"#0d0887\"], [0.1111111111111111, \"#46039f\"], [0.2222222222222222, \"#7201a8\"], [0.3333333333333333, \"#9c179e\"], [0.4444444444444444, \"#bd3786\"], [0.5555555555555556, \"#d8576b\"], [0.6666666666666666, \"#ed7953\"], [0.7777777777777778, \"#fb9f3a\"], [0.8888888888888888, \"#fdca26\"], [1.0, \"#f0f921\"]], \"sequentialminus\": [[0.0, \"#0d0887\"], [0.1111111111111111, \"#46039f\"], [0.2222222222222222, \"#7201a8\"], [0.3333333333333333, \"#9c179e\"], [0.4444444444444444, \"#bd3786\"], [0.5555555555555556, \"#d8576b\"], [0.6666666666666666, \"#ed7953\"], [0.7777777777777778, \"#fb9f3a\"], [0.8888888888888888, \"#fdca26\"], [1.0, \"#f0f921\"]]}, \"colorway\": [\"#636efa\", \"#EF553B\", \"#00cc96\", \"#ab63fa\", \"#FFA15A\", \"#19d3f3\", \"#FF6692\", \"#B6E880\", \"#FF97FF\", \"#FECB52\"], \"font\": {\"color\": \"#2a3f5f\"}, \"geo\": {\"bgcolor\": \"white\", \"lakecolor\": \"white\", \"landcolor\": \"#E5ECF6\", \"showlakes\": true, \"showland\": true, \"subunitcolor\": \"white\"}, \"hoverlabel\": {\"align\": \"left\"}, \"hovermode\": \"closest\", \"mapbox\": {\"style\": \"light\"}, \"paper_bgcolor\": \"white\", \"plot_bgcolor\": \"#E5ECF6\", \"polar\": {\"angularaxis\": {\"gridcolor\": \"white\", \"linecolor\": \"white\", \"ticks\": \"\"}, \"bgcolor\": \"#E5ECF6\", \"radialaxis\": {\"gridcolor\": \"white\", \"linecolor\": \"white\", \"ticks\": \"\"}}, \"scene\": {\"xaxis\": {\"backgroundcolor\": \"#E5ECF6\", \"gridcolor\": \"white\", \"gridwidth\": 2, \"linecolor\": \"white\", \"showbackground\": true, \"ticks\": \"\", \"zerolinecolor\": \"white\"}, \"yaxis\": {\"backgroundcolor\": \"#E5ECF6\", \"gridcolor\": \"white\", \"gridwidth\": 2, \"linecolor\": \"white\", \"showbackground\": true, \"ticks\": \"\", \"zerolinecolor\": \"white\"}, \"zaxis\": {\"backgroundcolor\": \"#E5ECF6\", \"gridcolor\": \"white\", \"gridwidth\": 2, \"linecolor\": \"white\", \"showbackground\": true, \"ticks\": \"\", \"zerolinecolor\": \"white\"}}, \"shapedefaults\": {\"line\": {\"color\": \"#2a3f5f\"}}, \"ternary\": {\"aaxis\": {\"gridcolor\": \"white\", \"linecolor\": \"white\", \"ticks\": \"\"}, \"baxis\": {\"gridcolor\": \"white\", \"linecolor\": \"white\", \"ticks\": \"\"}, \"bgcolor\": \"#E5ECF6\", \"caxis\": {\"gridcolor\": \"white\", \"linecolor\": \"white\", \"ticks\": \"\"}}, \"title\": {\"x\": 0.05}, \"xaxis\": {\"automargin\": true, \"gridcolor\": \"white\", \"linecolor\": \"white\", \"ticks\": \"\", \"title\": {\"standoff\": 15}, \"zerolinecolor\": \"white\", \"zerolinewidth\": 2}, \"yaxis\": {\"automargin\": true, \"gridcolor\": \"white\", \"linecolor\": \"white\", \"ticks\": \"\", \"title\": {\"standoff\": 15}, \"zerolinecolor\": \"white\", \"zerolinewidth\": 2}}}, \"title\": {\"text\": \"Spread outside China over time\"}, \"updatemenus\": [{\"buttons\": [{\"args\": [null, {\"frame\": {\"duration\": 500, \"redraw\": true}, \"fromcurrent\": true, \"mode\": \"immediate\", \"transition\": {\"duration\": 500, \"easing\": \"linear\"}}], \"label\": \"&#9654;\", \"method\": \"animate\"}, {\"args\": [[null], {\"frame\": {\"duration\": 0, \"redraw\": true}, \"fromcurrent\": true, \"mode\": \"immediate\", \"transition\": {\"duration\": 0, \"easing\": \"linear\"}}], \"label\": \"&#9724;\", \"method\": \"animate\"}], \"direction\": \"left\", \"pad\": {\"r\": 10, \"t\": 70}, \"showactive\": false, \"type\": \"buttons\", \"x\": 0.1, \"xanchor\": \"right\", \"y\": 0, \"yanchor\": \"top\"}]},\n",
       "                        {\"responsive\": true}\n",
       "                    ).then(function(){\n",
       "                            Plotly.addFrames('57db8048-6663-4213-b301-a7bfbece5e70', [{\"data\": [{\"geo\": \"geo\", \"hoverlabel\": {\"namelength\": 0}, \"hovertemplate\": \"<b>%{hovertext}</b><br><br>YearMonth=2014-10<br>Total Profit=%{marker.color}<br>Country=%{location}\", \"hovertext\": [\"Libya\", \"Senegal\", \"Yemen\", \"Liberia\", \"Angola\", \"Israel\", \"Mozambique\", \"Luxembourg\", \"Angola\", \"Zimbabwe\", \"Belarus\", \"Dominican Republic\", \"Singapore\", \"Somalia\", \"Trinidad and Tobago\"], \"legendgroup\": \"\", \"locationmode\": \"country names\", \"locations\": [\"Libya\", \"Senegal\", \"Yemen\", \"Liberia\", \"Angola\", \"Israel\", \"Mozambique\", \"Luxembourg\", \"Angola\", \"Zimbabwe\", \"Belarus\", \"Dominican Republic\", \"Singapore\", \"Somalia\", \"Trinidad and Tobago\"], \"marker\": {\"color\": [1468506.02, 130510.44, 543334.48, 13262.23, 1195182.38, 44443.08, 65756.34, 187432.97, 10930.68, 14057.53, 927093.62, 98600.67, 779459.21, 327049.47, 109066.92], \"coloraxis\": \"coloraxis\", \"size\": [1468506.02, 130510.44, 543334.48, 13262.23, 1195182.38, 44443.08, 65756.34, 187432.97, 10930.68, 14057.53, 927093.62, 98600.67, 779459.21, 327049.47, 109066.92], \"sizemode\": \"area\", \"sizeref\": 4315.4534}, \"name\": \"\", \"showlegend\": false, \"type\": \"scattergeo\"}], \"name\": \"2014-10\"}, {\"data\": [{\"geo\": \"geo\", \"hoverlabel\": {\"namelength\": 0}, \"hovertemplate\": \"<b>%{hovertext}</b><br><br>YearMonth=2011-11<br>Total Profit=%{marker.color}<br>Country=%{location}\", \"hovertext\": [\"Canada\", \"Somalia\", \"Zimbabwe\", \"Nigeria\", \"Poland\", \"Cyprus\", \"Haiti\", \"Qatar\"], \"legendgroup\": \"\", \"locationmode\": \"country names\", \"locations\": [\"Canada\", \"Somalia\", \"Zimbabwe\", \"Nigeria\", \"Poland\", \"Cyprus\", \"Haiti\", \"Qatar\"], \"marker\": {\"color\": [190526.34, 247786.56, 18381.07, 40396.72, 8613.0, 187279.26, 148065.3, 482574.24], \"coloraxis\": \"coloraxis\", \"size\": [190526.34, 247786.56, 18381.07, 40396.72, 8613.0, 187279.26, 148065.3, 482574.24], \"sizemode\": \"area\", \"sizeref\": 4315.4534}, \"name\": \"\", \"showlegend\": false, \"type\": \"scattergeo\"}], \"name\": \"2011-11\"}, {\"data\": [{\"geo\": \"geo\", \"hoverlabel\": {\"namelength\": 0}, \"hovertemplate\": \"<b>%{hovertext}</b><br><br>YearMonth=2016-10<br>Total Profit=%{marker.color}<br>Country=%{location}\", \"hovertext\": [\"Libya\", \"Afghanistan\", \"Canada\", \"Republic of the Congo\", \"Bangladesh\", \"Zimbabwe\", \"Uzbekistan\", \"Jamaica\", \"Netherlands\", \"The Gambia\"], \"legendgroup\": \"\", \"locationmode\": \"country names\", \"locations\": [\"Libya\", \"Afghanistan\", \"Canada\", \"Republic of the Congo\", \"Bangladesh\", \"Zimbabwe\", \"Uzbekistan\", \"Jamaica\", \"Netherlands\", \"The Gambia\"], \"marker\": {\"color\": [145419.62, 627305.79, 268113.11, 15327.6, 190380.82, 233376.0, 394402.68, 17491.78, 1062.81, 275625.58], \"coloraxis\": \"coloraxis\", \"size\": [145419.62, 627305.79, 268113.11, 15327.6, 190380.82, 233376.0, 394402.68, 17491.78, 1062.81, 275625.58], \"sizemode\": \"area\", \"sizeref\": 4315.4534}, \"name\": \"\", \"showlegend\": false, \"type\": \"scattergeo\"}], \"name\": \"2016-10\"}, {\"data\": [{\"geo\": \"geo\", \"hoverlabel\": {\"namelength\": 0}, \"hovertemplate\": \"<b>%{hovertext}</b><br><br>YearMonth=2010-4<br>Total Profit=%{marker.color}<br>Country=%{location}\", \"hovertext\": [\"Japan\", \"Tunisia \", \"Norway\", \"Mauritius \", \"Panama\", \"Kyrgyzstan\", \"Seychelles \", \"Samoa \", \"Maldives\", \"Vatican City\", \"Somalia\", \"Austria\", \"Azerbaijan\"], \"legendgroup\": \"\", \"locationmode\": \"country names\", \"locations\": [\"Japan\", \"Tunisia \", \"Norway\", \"Mauritius \", \"Panama\", \"Kyrgyzstan\", \"Seychelles \", \"Samoa \", \"Maldives\", \"Vatican City\", \"Somalia\", \"Austria\", \"Azerbaijan\"], \"marker\": {\"color\": [294295.98, 552890.19, 168618.24, 288450.33, 614558.46, 24226.02, 1144203.75, 95152.82, 88627.5, 165680.64, 76968.9, 1139890.94, 359733.36], \"coloraxis\": \"coloraxis\", \"size\": [294295.98, 552890.19, 168618.24, 288450.33, 614558.46, 24226.02, 1144203.75, 95152.82, 88627.5, 165680.64, 76968.9, 1139890.94, 359733.36], \"sizemode\": \"area\", \"sizeref\": 4315.4534}, \"name\": \"\", \"showlegend\": false, \"type\": \"scattergeo\"}], \"name\": \"2010-4\"}, {\"data\": [{\"geo\": \"geo\", \"hoverlabel\": {\"namelength\": 0}, \"hovertemplate\": \"<b>%{hovertext}</b><br><br>YearMonth=2011-8<br>Total Profit=%{marker.color}<br>Country=%{location}\", \"hovertext\": [\"Chad\", \"Bangladesh\", \"East Timor\", \"Luxembourg\", \"Qatar\", \"Albania\", \"Turkey\", \"Japan\", \"Ethiopia\", \"Sri Lanka\", \"Zimbabwe\", \"Macedonia\", \"Brunei\", \"Jordan\", \"Georgia\"], \"legendgroup\": \"\", \"locationmode\": \"country names\", \"locations\": [\"Chad\", \"Bangladesh\", \"East Timor\", \"Luxembourg\", \"Qatar\", \"Albania\", \"Turkey\", \"Japan\", \"Ethiopia\", \"Sri Lanka\", \"Zimbabwe\", \"Macedonia\", \"Brunei\", \"Jordan\", \"Georgia\"], \"marker\": {\"color\": [23726.45, 731603.52, 118810.66, 62519.6, 1458769.3, 870115.0, 298913.94, 207221.14, 354790.6, 534795.0, 167501.04, 22169.59, 207835.2, 667716.48, 27607.68], \"coloraxis\": \"coloraxis\", \"size\": [23726.45, 731603.52, 118810.66, 62519.6, 1458769.3, 870115.0, 298913.94, 207221.14, 354790.6, 534795.0, 167501.04, 22169.59, 207835.2, 667716.48, 27607.68], \"sizemode\": \"area\", \"sizeref\": 4315.4534}, \"name\": \"\", \"showlegend\": false, \"type\": \"scattergeo\"}], \"name\": \"2011-8\"}, {\"data\": [{\"geo\": \"geo\", \"hoverlabel\": {\"namelength\": 0}, \"hovertemplate\": \"<b>%{hovertext}</b><br><br>YearMonth=2014-11<br>Total Profit=%{marker.color}<br>Country=%{location}\", \"hovertext\": [\"Armenia\", \"Ukraine\", \"Zimbabwe\", \"Rwanda\", \"Benin\", \"Dominica\"], \"legendgroup\": \"\", \"locationmode\": \"country names\", \"locations\": [\"Armenia\", \"Ukraine\", \"Zimbabwe\", \"Rwanda\", \"Benin\", \"Dominica\"], \"marker\": {\"color\": [844085.52, 1454944.16, 346860.8, 705337.88, 126240.4, 259148.65], \"coloraxis\": \"coloraxis\", \"size\": [844085.52, 1454944.16, 346860.8, 705337.88, 126240.4, 259148.65], \"sizemode\": \"area\", \"sizeref\": 4315.4534}, \"name\": \"\", \"showlegend\": false, \"type\": \"scattergeo\"}], \"name\": \"2014-11\"}, {\"data\": [{\"geo\": \"geo\", \"hoverlabel\": {\"namelength\": 0}, \"hovertemplate\": \"<b>%{hovertext}</b><br><br>YearMonth=2015-3<br>Total Profit=%{marker.color}<br>Country=%{location}\", \"hovertext\": [\"Eritrea\", \"Panama\", \"Botswana\", \"Iceland\", \"Thailand\", \"Nicaragua\", \"The Bahamas\", \"Cuba\", \"Serbia\", \"Solomon Islands\", \"Ghana\", \"Russia\", \"Slovakia\"], \"legendgroup\": \"\", \"locationmode\": \"country names\", \"locations\": [\"Eritrea\", \"Panama\", \"Botswana\", \"Iceland\", \"Thailand\", \"Nicaragua\", \"The Bahamas\", \"Cuba\", \"Serbia\", \"Solomon Islands\", \"Ghana\", \"Russia\", \"Slovakia\"], \"marker\": {\"color\": [251949.96, 1370269.47, 668083.68, 170170.0, 475178.02, 191391.2, 98921.16, 606575.73, 220955.0, 247743.16, 1114282.5, 291510.26, 509522.23], \"coloraxis\": \"coloraxis\", \"size\": [251949.96, 1370269.47, 668083.68, 170170.0, 475178.02, 191391.2, 98921.16, 606575.73, 220955.0, 247743.16, 1114282.5, 291510.26, 509522.23], \"sizemode\": \"area\", \"sizeref\": 4315.4534}, \"name\": \"\", \"showlegend\": false, \"type\": \"scattergeo\"}], \"name\": \"2015-3\"}, {\"data\": [{\"geo\": \"geo\", \"hoverlabel\": {\"namelength\": 0}, \"hovertemplate\": \"<b>%{hovertext}</b><br><br>YearMonth=2012-5<br>Total Profit=%{marker.color}<br>Country=%{location}\", \"hovertext\": [\"Montenegro\", \"Vanuatu\", \"Qatar\", \"Kenya\", \"Bahrain\", \"Denmark\", \"Uganda\", \"New Zealand\", \"Israel\", \"Pakistan\", \"Grenada\", \"South Africa\", \"Djibouti\", \"Belarus\"], \"legendgroup\": \"\", \"locationmode\": \"country names\", \"locations\": [\"Montenegro\", \"Vanuatu\", \"Qatar\", \"Kenya\", \"Bahrain\", \"Denmark\", \"Uganda\", \"New Zealand\", \"Israel\", \"Pakistan\", \"Grenada\", \"South Africa\", \"Djibouti\", \"Belarus\"], \"marker\": {\"color\": [536038.56, 609457.02, 173540.5, 14047.02, 693617.5, 79834.68, 134644.68, 219901.5, 28217.56, 356043.21, 247904.8, 443586.0, 234281.84, 93905.4], \"coloraxis\": \"coloraxis\", \"size\": [536038.56, 609457.02, 173540.5, 14047.02, 693617.5, 79834.68, 134644.68, 219901.5, 28217.56, 356043.21, 247904.8, 443586.0, 234281.84, 93905.4], \"sizemode\": \"area\", \"sizeref\": 4315.4534}, \"name\": \"\", \"showlegend\": false, \"type\": \"scattergeo\"}], \"name\": \"2012-5\"}, {\"data\": [{\"geo\": \"geo\", \"hoverlabel\": {\"namelength\": 0}, \"hovertemplate\": \"<b>%{hovertext}</b><br><br>YearMonth=2015-1<br>Total Profit=%{marker.color}<br>Country=%{location}\", \"hovertext\": [\"Jamaica\", \"Mongolia\", \"United Kingdom\", \"Libya\", \"South Africa\", \"Qatar\", \"Guinea-Bissau\", \"Benin\", \"Albania\", \"Georgia\", \"Nepal\"], \"legendgroup\": \"\", \"locationmode\": \"country names\", \"locations\": [\"Jamaica\", \"Mongolia\", \"United Kingdom\", \"Libya\", \"South Africa\", \"Qatar\", \"Guinea-Bissau\", \"Benin\", \"Albania\", \"Georgia\", \"Nepal\"], \"marker\": {\"color\": [153279.64, 244873.2, 377532.94, 4040.32, 472057.05, 729259.2, 261340.5, 229143.2, 636063.84, 305107.29, 215805.24], \"coloraxis\": \"coloraxis\", \"size\": [153279.64, 244873.2, 377532.94, 4040.32, 472057.05, 729259.2, 261340.5, 229143.2, 636063.84, 305107.29, 215805.24], \"sizemode\": \"area\", \"sizeref\": 4315.4534}, \"name\": \"\", \"showlegend\": false, \"type\": \"scattergeo\"}], \"name\": \"2015-1\"}, {\"data\": [{\"geo\": \"geo\", \"hoverlabel\": {\"namelength\": 0}, \"hovertemplate\": \"<b>%{hovertext}</b><br><br>YearMonth=2013-12<br>Total Profit=%{marker.color}<br>Country=%{location}\", \"hovertext\": [\"Fiji\", \"South Africa\", \"Lithuania\", \"Dominican Republic\", \"Lithuania\", \"The Bahamas\", \"Yemen\", \"Germany\", \"El Salvador\", \"Niger\", \"Croatia\"], \"legendgroup\": \"\", \"locationmode\": \"country names\", \"locations\": [\"Fiji\", \"South Africa\", \"Lithuania\", \"Dominican Republic\", \"Lithuania\", \"The Bahamas\", \"Yemen\", \"Germany\", \"El Salvador\", \"Niger\", \"Croatia\"], \"marker\": {\"color\": [303024.0, 539116.64, 7107.09, 12852.0, 807320.67, 281804.79, 274341.25, 933113.75, 14185.6, 417761.25, 20592.9], \"coloraxis\": \"coloraxis\", \"size\": [303024.0, 539116.64, 7107.09, 12852.0, 807320.67, 281804.79, 274341.25, 933113.75, 14185.6, 417761.25, 20592.9], \"sizemode\": \"area\", \"sizeref\": 4315.4534}, \"name\": \"\", \"showlegend\": false, \"type\": \"scattergeo\"}], \"name\": \"2013-12\"}, {\"data\": [{\"geo\": \"geo\", \"hoverlabel\": {\"namelength\": 0}, \"hovertemplate\": \"<b>%{hovertext}</b><br><br>YearMonth=2015-12<br>Total Profit=%{marker.color}<br>Country=%{location}\", \"hovertext\": [\"Togo\", \"Sudan\", \"Mongolia\", \"Lebanon\", \"India\", \"Iran\", \"Zimbabwe\", \"Tunisia \", \"Azerbaijan\", \"Afghanistan\", \"Saint Vincent and the Grenadines\", \"Dominican Republic\", \"Liberia\"], \"legendgroup\": \"\", \"locationmode\": \"country names\", \"locations\": [\"Togo\", \"Sudan\", \"Mongolia\", \"Lebanon\", \"India\", \"Iran\", \"Zimbabwe\", \"Tunisia \", \"Azerbaijan\", \"Afghanistan\", \"Saint Vincent and the Grenadines\", \"Dominican Republic\", \"Liberia\"], \"marker\": {\"color\": [221201.28, 720865.02, 37821.6, 458926.56, 188927.34, 97662.11, 13326.66, 556610.97, 787800.0, 291106.74, 8837.5, 446392.23, 276932.34], \"coloraxis\": \"coloraxis\", \"size\": [221201.28, 720865.02, 37821.6, 458926.56, 188927.34, 97662.11, 13326.66, 556610.97, 787800.0, 291106.74, 8837.5, 446392.23, 276932.34], \"sizemode\": \"area\", \"sizeref\": 4315.4534}, \"name\": \"\", \"showlegend\": false, \"type\": \"scattergeo\"}], \"name\": \"2015-12\"}, {\"data\": [{\"geo\": \"geo\", \"hoverlabel\": {\"namelength\": 0}, \"hovertemplate\": \"<b>%{hovertext}</b><br><br>YearMonth=2010-2<br>Total Profit=%{marker.color}<br>Country=%{location}\", \"hovertext\": [\"Montenegro\", \"Papua New Guinea\", \"Czech Republic\", \"Czech Republic\", \"Malawi\", \"Moldova \", \"Nauru\", \"Barbados\", \"Singapore\", \"Belgium\"], \"legendgroup\": \"\", \"locationmode\": \"country names\", \"locations\": [\"Montenegro\", \"Papua New Guinea\", \"Czech Republic\", \"Czech Republic\", \"Malawi\", \"Moldova \", \"Nauru\", \"Barbados\", \"Singapore\", \"Belgium\"], \"marker\": {\"color\": [148547.16, 1500685.15, 715585.0, 1641058.46, 1012610.3, 462519.2, 19120.94, 171610.88, 71581.86, 1726181.36], \"coloraxis\": \"coloraxis\", \"size\": [148547.16, 1500685.15, 715585.0, 1641058.46, 1012610.3, 462519.2, 19120.94, 171610.88, 71581.86, 1726181.36], \"sizemode\": \"area\", \"sizeref\": 4315.4534}, \"name\": \"\", \"showlegend\": false, \"type\": \"scattergeo\"}], \"name\": \"2010-2\"}, {\"data\": [{\"geo\": \"geo\", \"hoverlabel\": {\"namelength\": 0}, \"hovertemplate\": \"<b>%{hovertext}</b><br><br>YearMonth=2016-11<br>Total Profit=%{marker.color}<br>Country=%{location}\", \"hovertext\": [\"Greece\", \"Central African Republic\", \"Belgium\", \"El Salvador\", \"East Timor\", \"Japan\", \"Benin\", \"Greece\", \"Turkmenistan\", \"Palau\", \"Samoa \"], \"legendgroup\": \"\", \"locationmode\": \"country names\", \"locations\": [\"Greece\", \"Central African Republic\", \"Belgium\", \"El Salvador\", \"East Timor\", \"Japan\", \"Benin\", \"Greece\", \"Turkmenistan\", \"Palau\", \"Samoa \"], \"marker\": {\"color\": [249920.84, 243663.66, 431657.58, 5489.98, 15007.07, 613761.1, 214951.81, 198299.78, 44440.0, 1329320.33, 840596.34], \"coloraxis\": \"coloraxis\", \"size\": [249920.84, 243663.66, 431657.58, 5489.98, 15007.07, 613761.1, 214951.81, 198299.78, 44440.0, 1329320.33, 840596.34], \"sizemode\": \"area\", \"sizeref\": 4315.4534}, \"name\": \"\", \"showlegend\": false, \"type\": \"scattergeo\"}], \"name\": \"2016-11\"}, {\"data\": [{\"geo\": \"geo\", \"hoverlabel\": {\"namelength\": 0}, \"hovertemplate\": \"<b>%{hovertext}</b><br><br>YearMonth=2011-1<br>Total Profit=%{marker.color}<br>Country=%{location}\", \"hovertext\": [\"Maldives\", \"Belarus\", \"Italy\", \"Cuba\", \"Estonia\", \"Andorra\", \"Cyprus\", \"Marshall Islands\", \"Russia\", \"Egypt\", \"Seychelles \", \"Greenland\", \"Pakistan\", \"Somalia\", \"Nigeria\"], \"legendgroup\": \"\", \"locationmode\": \"country names\", \"locations\": [\"Maldives\", \"Belarus\", \"Italy\", \"Cuba\", \"Estonia\", \"Andorra\", \"Cyprus\", \"Marshall Islands\", \"Russia\", \"Egypt\", \"Seychelles \", \"Greenland\", \"Pakistan\", \"Somalia\", \"Nigeria\"], \"marker\": {\"color\": [17670.12, 811282.5, 664453.75, 84689.28, 25978.06, 669294.52, 363114.43, 11177.58, 10955.86, 348691.2, 94275.72, 545292.0, 10722.24, 539563.68, 147157.02], \"coloraxis\": \"coloraxis\", \"size\": [17670.12, 811282.5, 664453.75, 84689.28, 25978.06, 669294.52, 363114.43, 11177.58, 10955.86, 348691.2, 94275.72, 545292.0, 10722.24, 539563.68, 147157.02], \"sizemode\": \"area\", \"sizeref\": 4315.4534}, \"name\": \"\", \"showlegend\": false, \"type\": \"scattergeo\"}], \"name\": \"2011-1\"}, {\"data\": [{\"geo\": \"geo\", \"hoverlabel\": {\"namelength\": 0}, \"hovertemplate\": \"<b>%{hovertext}</b><br><br>YearMonth=2010-6<br>Total Profit=%{marker.color}<br>Country=%{location}\", \"hovertext\": [\"Montenegro\", \"Seychelles \", \"Costa Rica\", \"Germany\", \"Palau\", \"Netherlands\", \"Pakistan\", \"Hungary\", \"Bosnia and Herzegovina\", \"Norway\", \"Cote d'Ivoire\", \"Greenland\"], \"legendgroup\": \"\", \"locationmode\": \"country names\", \"locations\": [\"Montenegro\", \"Seychelles \", \"Costa Rica\", \"Germany\", \"Palau\", \"Netherlands\", \"Pakistan\", \"Hungary\", \"Bosnia and Herzegovina\", \"Norway\", \"Cote d'Ivoire\", \"Greenland\"], \"marker\": {\"color\": [353980.8, 74177.75, 1222731.25, 71020.04, 52524.16, 935891.25, 395694.72, 443546.16, 24757.86, 48516.16, 604264.32, 145735.02], \"coloraxis\": \"coloraxis\", \"size\": [353980.8, 74177.75, 1222731.25, 71020.04, 52524.16, 935891.25, 395694.72, 443546.16, 24757.86, 48516.16, 604264.32, 145735.02], \"sizemode\": \"area\", \"sizeref\": 4315.4534}, \"name\": \"\", \"showlegend\": false, \"type\": \"scattergeo\"}], \"name\": \"2010-6\"}, {\"data\": [{\"geo\": \"geo\", \"hoverlabel\": {\"namelength\": 0}, \"hovertemplate\": \"<b>%{hovertext}</b><br><br>YearMonth=2016-4<br>Total Profit=%{marker.color}<br>Country=%{location}\", \"hovertext\": [\"Estonia\", \"Papua New Guinea\", \"Slovakia\", \"Canada\", \"Vatican City\", \"Myanmar\", \"Angola\", \"Gabon\", \"Fiji\"], \"legendgroup\": \"\", \"locationmode\": \"country names\", \"locations\": [\"Estonia\", \"Papua New Guinea\", \"Slovakia\", \"Canada\", \"Vatican City\", \"Myanmar\", \"Angola\", \"Gabon\", \"Fiji\"], \"marker\": {\"color\": [302621.25, 1418483.07, 408135.45, 35266.32, 124434.36, 845008.2, 115315.2, 431415.36, 63610.92], \"coloraxis\": \"coloraxis\", \"size\": [302621.25, 1418483.07, 408135.45, 35266.32, 124434.36, 845008.2, 115315.2, 431415.36, 63610.92], \"sizemode\": \"area\", \"sizeref\": 4315.4534}, \"name\": \"\", \"showlegend\": false, \"type\": \"scattergeo\"}], \"name\": \"2016-4\"}, {\"data\": [{\"geo\": \"geo\", \"hoverlabel\": {\"namelength\": 0}, \"hovertemplate\": \"<b>%{hovertext}</b><br><br>YearMonth=2012-7<br>Total Profit=%{marker.color}<br>Country=%{location}\", \"hovertext\": [\"Greenland\", \"Trinidad and Tobago\", \"Afghanistan\", \"Zimbabwe\", \"Kiribati\", \"Bhutan\", \"Tunisia \", \"Armenia\", \"South Sudan\", \"Georgia\", \"Mali\", \"Monaco\", \"Tajikistan\", \"Republic of the Congo\"], \"legendgroup\": \"\", \"locationmode\": \"country names\", \"locations\": [\"Greenland\", \"Trinidad and Tobago\", \"Afghanistan\", \"Zimbabwe\", \"Kiribati\", \"Bhutan\", \"Tunisia \", \"Armenia\", \"South Sudan\", \"Georgia\", \"Mali\", \"Monaco\", \"Tajikistan\", \"Republic of the Congo\"], \"marker\": {\"color\": [45100.8, 139436.64, 7668.8, 201700.35, 411146.19, 354641.76, 262135.56, 207972.94, 526967.5, 1452623.45, 391476.8, 342156.96, 12240.8, 501301.44], \"coloraxis\": \"coloraxis\", \"size\": [45100.8, 139436.64, 7668.8, 201700.35, 411146.19, 354641.76, 262135.56, 207972.94, 526967.5, 1452623.45, 391476.8, 342156.96, 12240.8, 501301.44], \"sizemode\": \"area\", \"sizeref\": 4315.4534}, \"name\": \"\", \"showlegend\": false, \"type\": \"scattergeo\"}], \"name\": \"2012-7\"}, {\"data\": [{\"geo\": \"geo\", \"hoverlabel\": {\"namelength\": 0}, \"hovertemplate\": \"<b>%{hovertext}</b><br><br>YearMonth=2014-9<br>Total Profit=%{marker.color}<br>Country=%{location}\", \"hovertext\": [\"Cape Verde\", \"Egypt\", \"Eritrea\", \"South Africa\", \"Pakistan\", \"Macedonia\", \"Guinea\", \"Liberia\", \"Lebanon\", \"Tajikistan\"], \"legendgroup\": \"\", \"locationmode\": \"country names\", \"locations\": [\"Cape Verde\", \"Egypt\", \"Eritrea\", \"South Africa\", \"Pakistan\", \"Macedonia\", \"Guinea\", \"Liberia\", \"Lebanon\", \"Tajikistan\"], \"marker\": {\"color\": [82032.48, 140219.64, 101878.5, 1482952.04, 111452.22, 283305.0, 815576.88, 39895.0, 87834.24, 18979.92], \"coloraxis\": \"coloraxis\", \"size\": [82032.48, 140219.64, 101878.5, 1482952.04, 111452.22, 283305.0, 815576.88, 39895.0, 87834.24, 18979.92], \"sizemode\": \"area\", \"sizeref\": 4315.4534}, \"name\": \"\", \"showlegend\": false, \"type\": \"scattergeo\"}], \"name\": \"2014-9\"}, {\"data\": [{\"geo\": \"geo\", \"hoverlabel\": {\"namelength\": 0}, \"hovertemplate\": \"<b>%{hovertext}</b><br><br>YearMonth=2012-8<br>Total Profit=%{marker.color}<br>Country=%{location}\", \"hovertext\": [\"Senegal\", \"Saint Lucia\", \"Lesotho\", \"Tonga\", \"Saudi Arabia\", \"Bulgaria\", \"Namibia\", \"Vanuatu\", \"Morocco\", \"Bulgaria\"], \"legendgroup\": \"\", \"locationmode\": \"country names\", \"locations\": [\"Senegal\", \"Saint Lucia\", \"Lesotho\", \"Tonga\", \"Saudi Arabia\", \"Bulgaria\", \"Namibia\", \"Vanuatu\", \"Morocco\", \"Bulgaria\"], \"marker\": {\"color\": [1489746.97, 90760.14, 778962.5, 551007.6, 468550.86, 219250.49, 50691.42, 1232042.82, 148754.34, 513463.68], \"coloraxis\": \"coloraxis\", \"size\": [1489746.97, 90760.14, 778962.5, 551007.6, 468550.86, 219250.49, 50691.42, 1232042.82, 148754.34, 513463.68], \"sizemode\": \"area\", \"sizeref\": 4315.4534}, \"name\": \"\", \"showlegend\": false, \"type\": \"scattergeo\"}], \"name\": \"2012-8\"}, {\"data\": [{\"geo\": \"geo\", \"hoverlabel\": {\"namelength\": 0}, \"hovertemplate\": \"<b>%{hovertext}</b><br><br>YearMonth=2012-9<br>Total Profit=%{marker.color}<br>Country=%{location}\", \"hovertext\": [\"Federated States of Micronesia\", \"China\", \"Guinea\", \"Equatorial Guinea\", \"Mauritius \", \"Georgia\", \"Belarus\", \"Tuvalu\", \"Latvia\", \"Central African Republic\", \"Albania\", \"Bahrain\", \"Swaziland\"], \"legendgroup\": \"\", \"locationmode\": \"country names\", \"locations\": [\"Federated States of Micronesia\", \"China\", \"Guinea\", \"Equatorial Guinea\", \"Mauritius \", \"Georgia\", \"Belarus\", \"Tuvalu\", \"Latvia\", \"Central African Republic\", \"Albania\", \"Bahrain\", \"Swaziland\"], \"marker\": {\"color\": [22441.98, 97759.06, 536593.2, 633507.09, 272791.58, 8094.38, 437701.32, 139213.2, 141372.0, 535342.4, 124997.4, 20750.1, 65030.7], \"coloraxis\": \"coloraxis\", \"size\": [22441.98, 97759.06, 536593.2, 633507.09, 272791.58, 8094.38, 437701.32, 139213.2, 141372.0, 535342.4, 124997.4, 20750.1, 65030.7], \"sizemode\": \"area\", \"sizeref\": 4315.4534}, \"name\": \"\", \"showlegend\": false, \"type\": \"scattergeo\"}], \"name\": \"2012-9\"}, {\"data\": [{\"geo\": \"geo\", \"hoverlabel\": {\"namelength\": 0}, \"hovertemplate\": \"<b>%{hovertext}</b><br><br>YearMonth=2010-8<br>Total Profit=%{marker.color}<br>Country=%{location}\", \"hovertext\": [\"Bulgaria\", \"Armenia\", \"El Salvador\", \"Ghana\", \"Mozambique\", \"Hungary\", \"Kiribati\", \"Vatican City\", \"South Sudan\", \"Panama\", \"Egypt\", \"Germany\"], \"legendgroup\": \"\", \"locationmode\": \"country names\", \"locations\": [\"Bulgaria\", \"Armenia\", \"El Salvador\", \"Ghana\", \"Mozambique\", \"Hungary\", \"Kiribati\", \"Vatican City\", \"South Sudan\", \"Panama\", \"Egypt\", \"Germany\"], \"marker\": {\"color\": [463626.72, 508851.2, 713910.24, 314612.52, 1312913.06, 219376.75, 848936.16, 222986.16, 131183.82, 1425734.0, 170690.0, 151487.7], \"coloraxis\": \"coloraxis\", \"size\": [463626.72, 508851.2, 713910.24, 314612.52, 1312913.06, 219376.75, 848936.16, 222986.16, 131183.82, 1425734.0, 170690.0, 151487.7], \"sizemode\": \"area\", \"sizeref\": 4315.4534}, \"name\": \"\", \"showlegend\": false, \"type\": \"scattergeo\"}], \"name\": \"2010-8\"}, {\"data\": [{\"geo\": \"geo\", \"hoverlabel\": {\"namelength\": 0}, \"hovertemplate\": \"<b>%{hovertext}</b><br><br>YearMonth=2011-2<br>Total Profit=%{marker.color}<br>Country=%{location}\", \"hovertext\": [\"Algeria\", \"Cuba\", \"Norway\", \"Estonia\", \"Burkina Faso\", \"Switzerland\", \"Benin\", \"Libya\", \"Portugal\", \"Bahrain\", \"Russia\", \"Haiti\"], \"legendgroup\": \"\", \"locationmode\": \"country names\", \"locations\": [\"Algeria\", \"Cuba\", \"Norway\", \"Estonia\", \"Burkina Faso\", \"Switzerland\", \"Benin\", \"Libya\", \"Portugal\", \"Bahrain\", \"Russia\", \"Haiti\"], \"marker\": {\"color\": [242605.86, 430872.48, 56535.36, 792850.0, 253732.63, 7125.3, 95950.0, 71253.0, 700522.23, 38727.44, 3602.95, 68649.3], \"coloraxis\": \"coloraxis\", \"size\": [242605.86, 430872.48, 56535.36, 792850.0, 253732.63, 7125.3, 95950.0, 71253.0, 700522.23, 38727.44, 3602.95, 68649.3], \"sizemode\": \"area\", \"sizeref\": 4315.4534}, \"name\": \"\", \"showlegend\": false, \"type\": \"scattergeo\"}], \"name\": \"2011-2\"}, {\"data\": [{\"geo\": \"geo\", \"hoverlabel\": {\"namelength\": 0}, \"hovertemplate\": \"<b>%{hovertext}</b><br><br>YearMonth=2012-10<br>Total Profit=%{marker.color}<br>Country=%{location}\", \"hovertext\": [\"Grenada\", \"Malaysia\", \"Japan\", \"Central African Republic\", \"Luxembourg\", \"Iceland\", \"Burkina Faso\", \"Luxembourg\", \"Spain\", \"Morocco\"], \"legendgroup\": \"\", \"locationmode\": \"country names\", \"locations\": [\"Grenada\", \"Malaysia\", \"Japan\", \"Central African Republic\", \"Luxembourg\", \"Iceland\", \"Burkina Faso\", \"Luxembourg\", \"Spain\", \"Morocco\"], \"marker\": {\"color\": [75478.68, 277519.62, 65818.98, 562867.08, 62725.18, 91873.44, 570989.08, 336786.19, 342732.77, 25159.56], \"coloraxis\": \"coloraxis\", \"size\": [75478.68, 277519.62, 65818.98, 562867.08, 62725.18, 91873.44, 570989.08, 336786.19, 342732.77, 25159.56], \"sizemode\": \"area\", \"sizeref\": 4315.4534}, \"name\": \"\", \"showlegend\": false, \"type\": \"scattergeo\"}], \"name\": \"2012-10\"}, {\"data\": [{\"geo\": \"geo\", \"hoverlabel\": {\"namelength\": 0}, \"hovertemplate\": \"<b>%{hovertext}</b><br><br>YearMonth=2017-1<br>Total Profit=%{marker.color}<br>Country=%{location}\", \"hovertext\": [\"Grenada\", \"Taiwan\", \"El Salvador\", \"Belgium\", \"Spain\", \"Egypt\", \"Saint Vincent and the Grenadines\", \"Kyrgyzstan\", \"China\", \"Afghanistan\"], \"legendgroup\": \"\", \"locationmode\": \"country names\", \"locations\": [\"Grenada\", \"Taiwan\", \"El Salvador\", \"Belgium\", \"Spain\", \"Egypt\", \"Saint Vincent and the Grenadines\", \"Kyrgyzstan\", \"China\", \"Afghanistan\"], \"marker\": {\"color\": [152825.94, 186777.71, 152941.18, 441927.2, 554995.0, 333321.3, 101946.6, 290650.52, 1413215.36, 171188.64], \"coloraxis\": \"coloraxis\", \"size\": [152825.94, 186777.71, 152941.18, 441927.2, 554995.0, 333321.3, 101946.6, 290650.52, 1413215.36, 171188.64], \"sizemode\": \"area\", \"sizeref\": 4315.4534}, \"name\": \"\", \"showlegend\": false, \"type\": \"scattergeo\"}], \"name\": \"2017-1\"}, {\"data\": [{\"geo\": \"geo\", \"hoverlabel\": {\"namelength\": 0}, \"hovertemplate\": \"<b>%{hovertext}</b><br><br>YearMonth=2012-1<br>Total Profit=%{marker.color}<br>Country=%{location}\", \"hovertext\": [\"Greenland\", \"Greece\", \"Marshall Islands\", \"Costa Rica\", \"Central African Republic\", \"Malawi\", \"Antigua and Barbuda \", \"Thailand\", \"Kyrgyzstan\", \"Saint Lucia\", \"Niger\", \"Vanuatu\", \"Cambodia\", \"Saint Kitts and Nevis \", \"Laos\", \"Guatemala\"], \"legendgroup\": \"\", \"locationmode\": \"country names\", \"locations\": [\"Greenland\", \"Greece\", \"Marshall Islands\", \"Costa Rica\", \"Central African Republic\", \"Malawi\", \"Antigua and Barbuda \", \"Thailand\", \"Kyrgyzstan\", \"Saint Lucia\", \"Niger\", \"Vanuatu\", \"Cambodia\", \"Saint Kitts and Nevis \", \"Laos\", \"Guatemala\"], \"marker\": {\"color\": [11348.69, 272294.39, 89988.48, 502387.6, 725660.2, 65552.76, 197407.51, 366074.46, 3101.67, 1631422.21, 391435.2, 469572.24, 25307.04, 55083.6, 444097.56, 389131.6], \"coloraxis\": \"coloraxis\", \"size\": [11348.69, 272294.39, 89988.48, 502387.6, 725660.2, 65552.76, 197407.51, 366074.46, 3101.67, 1631422.21, 391435.2, 469572.24, 25307.04, 55083.6, 444097.56, 389131.6], \"sizemode\": \"area\", \"sizeref\": 4315.4534}, \"name\": \"\", \"showlegend\": false, \"type\": \"scattergeo\"}], \"name\": \"2012-1\"}, {\"data\": [{\"geo\": \"geo\", \"hoverlabel\": {\"namelength\": 0}, \"hovertemplate\": \"<b>%{hovertext}</b><br><br>YearMonth=2016-1<br>Total Profit=%{marker.color}<br>Country=%{location}\", \"hovertext\": [\"Chad\", \"Mauritius \", \"Niger\", \"Cote d'Ivoire\", \"Sudan\", \"Turkey\", \"Ukraine\", \"South Sudan\", \"Kuwait\", \"Monaco\", \"Tuvalu\", \"Burundi\", \"Japan\", \"Finland\"], \"legendgroup\": \"\", \"locationmode\": \"country names\", \"locations\": [\"Chad\", \"Mauritius \", \"Niger\", \"Cote d'Ivoire\", \"Sudan\", \"Turkey\", \"Ukraine\", \"South Sudan\", \"Kuwait\", \"Monaco\", \"Tuvalu\", \"Burundi\", \"Japan\", \"Finland\"], \"marker\": {\"color\": [517259.6, 213736.74, 552728.76, 180331.76, 16621.77, 535334.8, 180663.75, 6940.8, 352675.44, 879694.84, 661227.61, 162770.28, 50248.43, 1624319.73], \"coloraxis\": \"coloraxis\", \"size\": [517259.6, 213736.74, 552728.76, 180331.76, 16621.77, 535334.8, 180663.75, 6940.8, 352675.44, 879694.84, 661227.61, 162770.28, 50248.43, 1624319.73], \"sizemode\": \"area\", \"sizeref\": 4315.4534}, \"name\": \"\", \"showlegend\": false, \"type\": \"scattergeo\"}], \"name\": \"2016-1\"}, {\"data\": [{\"geo\": \"geo\", \"hoverlabel\": {\"namelength\": 0}, \"hovertemplate\": \"<b>%{hovertext}</b><br><br>YearMonth=2017-6<br>Total Profit=%{marker.color}<br>Country=%{location}\", \"hovertext\": [\"Morocco\", \"United States of America\", \"Antigua and Barbuda \", \"Switzerland\", \"Liechtenstein\", \"Malawi\", \"Saint Kitts and Nevis \", \"Poland\", \"Vietnam\"], \"legendgroup\": \"\", \"locationmode\": \"country names\", \"locations\": [\"Morocco\", \"United States of America\", \"Antigua and Barbuda \", \"Switzerland\", \"Liechtenstein\", \"Malawi\", \"Saint Kitts and Nevis \", \"Poland\", \"Vietnam\"], \"marker\": {\"color\": [37443.06, 1167433.75, 335047.38, 726174.72, 516391.11, 889866.66, 248460.0, 289861.77, 8044.26], \"coloraxis\": \"coloraxis\", \"size\": [37443.06, 1167433.75, 335047.38, 726174.72, 516391.11, 889866.66, 248460.0, 289861.77, 8044.26], \"sizemode\": \"area\", \"sizeref\": 4315.4534}, \"name\": \"\", \"showlegend\": false, \"type\": \"scattergeo\"}], \"name\": \"2017-6\"}, {\"data\": [{\"geo\": \"geo\", \"hoverlabel\": {\"namelength\": 0}, \"hovertemplate\": \"<b>%{hovertext}</b><br><br>YearMonth=2015-6<br>Total Profit=%{marker.color}<br>Country=%{location}\", \"hovertext\": [\"Honduras\", \"Jordan\", \"Poland\", \"Sweden\", \"Denmark\", \"Syria\", \"Somalia\", \"San Marino\", \"Rwanda\", \"Bhutan\", \"Egypt\", \"East Timor\", \"Guinea-Bissau\", \"Bahrain\", \"Mauritius \", \"Syria\"], \"legendgroup\": \"\", \"locationmode\": \"country names\", \"locations\": [\"Honduras\", \"Jordan\", \"Poland\", \"Sweden\", \"Denmark\", \"Syria\", \"Somalia\", \"San Marino\", \"Rwanda\", \"Bhutan\", \"Egypt\", \"East Timor\", \"Guinea-Bissau\", \"Bahrain\", \"Mauritius \", \"Syria\"], \"marker\": {\"color\": [869105.0, 200122.1, 110707.64, 570271.14, 6248.34, 1240489.05, 61481.46, 532.61, 13589.99, 456724.62, 322150.4, 97859.34, 734253.12, 108038.34, 802182.45, 65907.72], \"coloraxis\": \"coloraxis\", \"size\": [869105.0, 200122.1, 110707.64, 570271.14, 6248.34, 1240489.05, 61481.46, 532.61, 13589.99, 456724.62, 322150.4, 97859.34, 734253.12, 108038.34, 802182.45, 65907.72], \"sizemode\": \"area\", \"sizeref\": 4315.4534}, \"name\": \"\", \"showlegend\": false, \"type\": \"scattergeo\"}], \"name\": \"2015-6\"}, {\"data\": [{\"geo\": \"geo\", \"hoverlabel\": {\"namelength\": 0}, \"hovertemplate\": \"<b>%{hovertext}</b><br><br>YearMonth=2014-1<br>Total Profit=%{marker.color}<br>Country=%{location}\", \"hovertext\": [\"Benin\", \"Ireland\", \"Comoros\", \"Finland\", \"Jordan\", \"Somalia\", \"North Korea\", \"Italy\", \"Maldives\"], \"legendgroup\": \"\", \"locationmode\": \"country names\", \"locations\": [\"Benin\", \"Ireland\", \"Comoros\", \"Finland\", \"Jordan\", \"Somalia\", \"North Korea\", \"Italy\", \"Maldives\"], \"marker\": {\"color\": [706.13, 1326834.38, 333927.84, 407314.76, 405209.85, 607560.68, 425282.0, 528208.71, 357315.8], \"coloraxis\": \"coloraxis\", \"size\": [706.13, 1326834.38, 333927.84, 407314.76, 405209.85, 607560.68, 425282.0, 528208.71, 357315.8], \"sizemode\": \"area\", \"sizeref\": 4315.4534}, \"name\": \"\", \"showlegend\": false, \"type\": \"scattergeo\"}], \"name\": \"2014-1\"}, {\"data\": [{\"geo\": \"geo\", \"hoverlabel\": {\"namelength\": 0}, \"hovertemplate\": \"<b>%{hovertext}</b><br><br>YearMonth=2014-4<br>Total Profit=%{marker.color}<br>Country=%{location}\", \"hovertext\": [\"Greece\", \"Central African Republic\", \"Spain\", \"Vatican City\", \"Hungary\", \"Greenland\", \"Finland\", \"Iran\", \"Turkey\", \"Costa Rica\", \"Cuba\", \"Mongolia\", \"Slovenia\", \"Portugal\"], \"legendgroup\": \"\", \"locationmode\": \"country names\", \"locations\": [\"Greece\", \"Central African Republic\", \"Spain\", \"Vatican City\", \"Hungary\", \"Greenland\", \"Finland\", \"Iran\", \"Turkey\", \"Costa Rica\", \"Cuba\", \"Mongolia\", \"Slovenia\", \"Portugal\"], \"marker\": {\"color\": [760840.82, 273078.75, 738327.15, 137181.49, 1103031.28, 1541620.46, 625236.52, 383664.95, 35276.48, 158483.52, 679320.0, 136273.32, 672366.61, 312545.52], \"coloraxis\": \"coloraxis\", \"size\": [760840.82, 273078.75, 738327.15, 137181.49, 1103031.28, 1541620.46, 625236.52, 383664.95, 35276.48, 158483.52, 679320.0, 136273.32, 672366.61, 312545.52], \"sizemode\": \"area\", \"sizeref\": 4315.4534}, \"name\": \"\", \"showlegend\": false, \"type\": \"scattergeo\"}], \"name\": \"2014-4\"}, {\"data\": [{\"geo\": \"geo\", \"hoverlabel\": {\"namelength\": 0}, \"hovertemplate\": \"<b>%{hovertext}</b><br><br>YearMonth=2010-9<br>Total Profit=%{marker.color}<br>Country=%{location}\", \"hovertext\": [\"Jamaica\", \"Democratic Republic of the Congo\", \"Tajikistan\", \"Czech Republic\", \"China\", \"Lesotho\", \"Jordan\", \"Grenada\", \"Norway\", \"Bahrain\"], \"legendgroup\": \"\", \"locationmode\": \"country names\", \"locations\": [\"Jamaica\", \"Democratic Republic of the Congo\", \"Tajikistan\", \"Czech Republic\", \"China\", \"Lesotho\", \"Jordan\", \"Grenada\", \"Norway\", \"Bahrain\"], \"marker\": {\"color\": [112172.58, 200830.84, 369028.75, 484460.04, 321963.0, 4070.49, 385345.52, 112444.22, 496842.38, 132248.7], \"coloraxis\": \"coloraxis\", \"size\": [112172.58, 200830.84, 369028.75, 484460.04, 321963.0, 4070.49, 385345.52, 112444.22, 496842.38, 132248.7], \"sizemode\": \"area\", \"sizeref\": 4315.4534}, \"name\": \"\", \"showlegend\": false, \"type\": \"scattergeo\"}], \"name\": \"2010-9\"}, {\"data\": [{\"geo\": \"geo\", \"hoverlabel\": {\"namelength\": 0}, \"hovertemplate\": \"<b>%{hovertext}</b><br><br>YearMonth=2010-5<br>Total Profit=%{marker.color}<br>Country=%{location}\", \"hovertext\": [\"Equatorial Guinea\", \"Liberia\", \"Bulgaria\", \"Turkey\", \"Indonesia\", \"Estonia\", \"Burundi\", \"Slovenia\", \"Uganda\", \"Georgia\", \"Saudi Arabia\", \"Morocco\"], \"legendgroup\": \"\", \"locationmode\": \"country names\", \"locations\": [\"Equatorial Guinea\", \"Liberia\", \"Bulgaria\", \"Turkey\", \"Indonesia\", \"Estonia\", \"Burundi\", \"Slovenia\", \"Uganda\", \"Georgia\", \"Saudi Arabia\", \"Morocco\"], \"marker\": {\"color\": [296940.0, 660.34, 376241.73, 1682887.73, 215077.19, 152074.26, 308122.32, 735474.18, 4162.07, 61150.26, 355295.64, 1400175.11], \"coloraxis\": \"coloraxis\", \"size\": [296940.0, 660.34, 376241.73, 1682887.73, 215077.19, 152074.26, 308122.32, 735474.18, 4162.07, 61150.26, 355295.64, 1400175.11], \"sizemode\": \"area\", \"sizeref\": 4315.4534}, \"name\": \"\", \"showlegend\": false, \"type\": \"scattergeo\"}], \"name\": \"2010-5\"}, {\"data\": [{\"geo\": \"geo\", \"hoverlabel\": {\"namelength\": 0}, \"hovertemplate\": \"<b>%{hovertext}</b><br><br>YearMonth=2013-10<br>Total Profit=%{marker.color}<br>Country=%{location}\", \"hovertext\": [\"Swaziland\", \"Cape Verde\", \"Ghana\", \"Malaysia\", \"East Timor\", \"Armenia\", \"Niger\", \"Iceland\", \"Marshall Islands\", \"Taiwan\", \"Spain\", \"Jordan\", \"Vanuatu\", \"Saint Vincent and the Grenadines\", \"Maldives\"], \"legendgroup\": \"\", \"locationmode\": \"country names\", \"locations\": [\"Swaziland\", \"Cape Verde\", \"Ghana\", \"Malaysia\", \"East Timor\", \"Armenia\", \"Niger\", \"Iceland\", \"Marshall Islands\", \"Taiwan\", \"Spain\", \"Jordan\", \"Vanuatu\", \"Saint Vincent and the Grenadines\", \"Maldives\"], \"marker\": {\"color\": [1251768.75, 153374.04, 120305.22, 715787.87, 1562048.08, 257393.52, 79756.38, 806485.0, 91751.94, 434838.24, 294627.71, 946496.25, 422330.23, 20412.7, 230050.8], \"coloraxis\": \"coloraxis\", \"size\": [1251768.75, 153374.04, 120305.22, 715787.87, 1562048.08, 257393.52, 79756.38, 806485.0, 91751.94, 434838.24, 294627.71, 946496.25, 422330.23, 20412.7, 230050.8], \"sizemode\": \"area\", \"sizeref\": 4315.4534}, \"name\": \"\", \"showlegend\": false, \"type\": \"scattergeo\"}], \"name\": \"2013-10\"}, {\"data\": [{\"geo\": \"geo\", \"hoverlabel\": {\"namelength\": 0}, \"hovertemplate\": \"<b>%{hovertext}</b><br><br>YearMonth=2011-3<br>Total Profit=%{marker.color}<br>Country=%{location}\", \"hovertext\": [\"Trinidad and Tobago\", \"Tuvalu\", \"United Arab Emirates\", \"Macedonia\", \"Equatorial Guinea\", \"Greenland\", \"Fiji\", \"United States of America\", \"Italy\", \"Andorra\", \"Kyrgyzstan\", \"South Africa\", \"Netherlands\", \"New Zealand\"], \"legendgroup\": \"\", \"locationmode\": \"country names\", \"locations\": [\"Trinidad and Tobago\", \"Tuvalu\", \"United Arab Emirates\", \"Macedonia\", \"Equatorial Guinea\", \"Greenland\", \"Fiji\", \"United States of America\", \"Italy\", \"Andorra\", \"Kyrgyzstan\", \"South Africa\", \"Netherlands\", \"New Zealand\"], \"marker\": {\"color\": [207950.22, 115297.74, 89823.06, 64660.14, 413393.76, 545347.54, 178708.74, 380608.8, 137679.64, 249106.0, 488184.29, 12004.21, 172877.76, 242960.18], \"coloraxis\": \"coloraxis\", \"size\": [207950.22, 115297.74, 89823.06, 64660.14, 413393.76, 545347.54, 178708.74, 380608.8, 137679.64, 249106.0, 488184.29, 12004.21, 172877.76, 242960.18], \"sizemode\": \"area\", \"sizeref\": 4315.4534}, \"name\": \"\", \"showlegend\": false, \"type\": \"scattergeo\"}], \"name\": \"2011-3\"}, {\"data\": [{\"geo\": \"geo\", \"hoverlabel\": {\"namelength\": 0}, \"hovertemplate\": \"<b>%{hovertext}</b><br><br>YearMonth=2016-8<br>Total Profit=%{marker.color}<br>Country=%{location}\", \"hovertext\": [\"Sweden\", \"Vietnam\", \"Togo\", \"Federated States of Micronesia\", \"Liechtenstein\", \"Qatar\", \"Mauritius \", \"Saudi Arabia\", \"Iran\", \"Madagascar\", \"Chad\", \"Norway\", \"Indonesia\"], \"legendgroup\": \"\", \"locationmode\": \"country names\", \"locations\": [\"Sweden\", \"Vietnam\", \"Togo\", \"Federated States of Micronesia\", \"Liechtenstein\", \"Qatar\", \"Mauritius \", \"Saudi Arabia\", \"Iran\", \"Madagascar\", \"Chad\", \"Norway\", \"Indonesia\"], \"marker\": {\"color\": [763333.18, 618246.25, 575808.73, 125425.3, 721919.91, 61776.0, 290132.25, 394815.02, 548376.4, 795803.97, 18596.84, 141489.36, 206895.36], \"coloraxis\": \"coloraxis\", \"size\": [763333.18, 618246.25, 575808.73, 125425.3, 721919.91, 61776.0, 290132.25, 394815.02, 548376.4, 795803.97, 18596.84, 141489.36, 206895.36], \"sizemode\": \"area\", \"sizeref\": 4315.4534}, \"name\": \"\", \"showlegend\": false, \"type\": \"scattergeo\"}], \"name\": \"2016-8\"}, {\"data\": [{\"geo\": \"geo\", \"hoverlabel\": {\"namelength\": 0}, \"hovertemplate\": \"<b>%{hovertext}</b><br><br>YearMonth=2014-5<br>Total Profit=%{marker.color}<br>Country=%{location}\", \"hovertext\": [\"Guinea-Bissau\", \"United Kingdom\", \"Bulgaria\", \"Hungary\", \"Australia\", \"Liberia\", \"Benin\", \"Spain\", \"Sri Lanka\", \"Syria\", \"Bhutan\"], \"legendgroup\": \"\", \"locationmode\": \"country names\", \"locations\": [\"Guinea-Bissau\", \"United Kingdom\", \"Bulgaria\", \"Hungary\", \"Australia\", \"Liberia\", \"Benin\", \"Spain\", \"Sri Lanka\", \"Syria\", \"Bhutan\"], \"marker\": {\"color\": [406651.25, 359812.5, 578515.1, 47221.24, 436543.95, 132969.06, 409494.8, 313749.78, 1114332.83, 33129.32, 119262.0], \"coloraxis\": \"coloraxis\", \"size\": [406651.25, 359812.5, 578515.1, 47221.24, 436543.95, 132969.06, 409494.8, 313749.78, 1114332.83, 33129.32, 119262.0], \"sizemode\": \"area\", \"sizeref\": 4315.4534}, \"name\": \"\", \"showlegend\": false, \"type\": \"scattergeo\"}], \"name\": \"2014-5\"}, {\"data\": [{\"geo\": \"geo\", \"hoverlabel\": {\"namelength\": 0}, \"hovertemplate\": \"<b>%{hovertext}</b><br><br>YearMonth=2013-8<br>Total Profit=%{marker.color}<br>Country=%{location}\", \"hovertext\": [\"Mongolia\", \"Luxembourg\", \"Mauritania\", \"Croatia\", \"Japan\", \"Mali\", \"Czech Republic\", \"Sudan\", \"Rwanda\", \"Djibouti\", \"South Sudan\", \"Tajikistan\", \"Poland\", \"Italy\", \"Antigua and Barbuda \", \"North Korea\", \"Mexico\", \"Yemen\"], \"legendgroup\": \"\", \"locationmode\": \"country names\", \"locations\": [\"Mongolia\", \"Luxembourg\", \"Mauritania\", \"Croatia\", \"Japan\", \"Mali\", \"Czech Republic\", \"Sudan\", \"Rwanda\", \"Djibouti\", \"South Sudan\", \"Tajikistan\", \"Poland\", \"Italy\", \"Antigua and Barbuda \", \"North Korea\", \"Mexico\", \"Yemen\"], \"marker\": {\"color\": [155237.58, 607273.1, 465150.4, 309776.52, 1332018.07, 147579.84, 159807.62, 629254.77, 3489.2, 774953.48, 1276901.28, 16302.0, 671786.88, 112845.96, 238753.44, 40622.04, 399544.48, 744622.5], \"coloraxis\": \"coloraxis\", \"size\": [155237.58, 607273.1, 465150.4, 309776.52, 1332018.07, 147579.84, 159807.62, 629254.77, 3489.2, 774953.48, 1276901.28, 16302.0, 671786.88, 112845.96, 238753.44, 40622.04, 399544.48, 744622.5], \"sizemode\": \"area\", \"sizeref\": 4315.4534}, \"name\": \"\", \"showlegend\": false, \"type\": \"scattergeo\"}], \"name\": \"2013-8\"}, {\"data\": [{\"geo\": \"geo\", \"hoverlabel\": {\"namelength\": 0}, \"hovertemplate\": \"<b>%{hovertext}</b><br><br>YearMonth=2011-10<br>Total Profit=%{marker.color}<br>Country=%{location}\", \"hovertext\": [\"Turkey\", \"Angola\", \"Lithuania\", \"Kuwait\", \"Estonia\", \"San Marino\", \"Maldives\", \"Malaysia\", \"Ireland\", \"Cambodia\", \"Germany\", \"Lesotho\", \"Bhutan\"], \"legendgroup\": \"\", \"locationmode\": \"country names\", \"locations\": [\"Turkey\", \"Angola\", \"Lithuania\", \"Kuwait\", \"Estonia\", \"San Marino\", \"Maldives\", \"Malaysia\", \"Ireland\", \"Cambodia\", \"Germany\", \"Lesotho\", \"Bhutan\"], \"marker\": {\"color\": [5891.6, 375621.6, 18889.58, 377709.0, 33653.34, 560904.62, 1697666.68, 902565.58, 358014.8, 476259.84, 738397.65, 204915.62, 1245456.25], \"coloraxis\": \"coloraxis\", \"size\": [5891.6, 375621.6, 18889.58, 377709.0, 33653.34, 560904.62, 1697666.68, 902565.58, 358014.8, 476259.84, 738397.65, 204915.62, 1245456.25], \"sizemode\": \"area\", \"sizeref\": 4315.4534}, \"name\": \"\", \"showlegend\": false, \"type\": \"scattergeo\"}], \"name\": \"2011-10\"}, {\"data\": [{\"geo\": \"geo\", \"hoverlabel\": {\"namelength\": 0}, \"hovertemplate\": \"<b>%{hovertext}</b><br><br>YearMonth=2015-4<br>Total Profit=%{marker.color}<br>Country=%{location}\", \"hovertext\": [\"Equatorial Guinea\", \"Poland\", \"Cyprus\", \"Tanzania\", \"Serbia\", \"Sao Tome and Principe\", \"Angola\"], \"legendgroup\": \"\", \"locationmode\": \"country names\", \"locations\": [\"Equatorial Guinea\", \"Poland\", \"Cyprus\", \"Tanzania\", \"Serbia\", \"Sao Tome and Principe\", \"Angola\"], \"marker\": {\"color\": [697278.75, 1072620.0, 637581.29, 633917.25, 41405.04, 860651.85, 1513943.55], \"coloraxis\": \"coloraxis\", \"size\": [697278.75, 1072620.0, 637581.29, 633917.25, 41405.04, 860651.85, 1513943.55], \"sizemode\": \"area\", \"sizeref\": 4315.4534}, \"name\": \"\", \"showlegend\": false, \"type\": \"scattergeo\"}], \"name\": \"2015-4\"}, {\"data\": [{\"geo\": \"geo\", \"hoverlabel\": {\"namelength\": 0}, \"hovertemplate\": \"<b>%{hovertext}</b><br><br>YearMonth=2013-3<br>Total Profit=%{marker.color}<br>Country=%{location}\", \"hovertext\": [\"Laos\", \"Georgia\", \"Belize\", \"Bulgaria\", \"Somalia\", \"Cape Verde\", \"Moldova \", \"Tuvalu\"], \"legendgroup\": \"\", \"locationmode\": \"country names\", \"locations\": [\"Laos\", \"Georgia\", \"Belize\", \"Bulgaria\", \"Somalia\", \"Cape Verde\", \"Moldova \", \"Tuvalu\"], \"marker\": {\"color\": [48655.62, 1032725.0, 513928.73, 218263.68, 118734.28, 23618.0, 91544.18, 595236.21], \"coloraxis\": \"coloraxis\", \"size\": [48655.62, 1032725.0, 513928.73, 218263.68, 118734.28, 23618.0, 91544.18, 595236.21], \"sizemode\": \"area\", \"sizeref\": 4315.4534}, \"name\": \"\", \"showlegend\": false, \"type\": \"scattergeo\"}], \"name\": \"2013-3\"}, {\"data\": [{\"geo\": \"geo\", \"hoverlabel\": {\"namelength\": 0}, \"hovertemplate\": \"<b>%{hovertext}</b><br><br>YearMonth=2015-8<br>Total Profit=%{marker.color}<br>Country=%{location}\", \"hovertext\": [\"Israel\", \"Portugal\", \"Brunei\", \"Marshall Islands\", \"Tunisia \", \"Laos\", \"Cuba\", \"Ukraine\", \"Guinea-Bissau\", \"Iran\", \"Greece\", \"Sao Tome and Principe\"], \"legendgroup\": \"\", \"locationmode\": \"country names\", \"locations\": [\"Israel\", \"Portugal\", \"Brunei\", \"Marshall Islands\", \"Tunisia \", \"Laos\", \"Cuba\", \"Ukraine\", \"Guinea-Bissau\", \"Iran\", \"Greece\", \"Sao Tome and Principe\"], \"marker\": {\"color\": [53503.1, 1109485.0, 843855.58, 58396.14, 350922.0, 75497.5, 154770.56, 411264.0, 436322.82, 1064413.75, 78287.44, 435499.2], \"coloraxis\": \"coloraxis\", \"size\": [53503.1, 1109485.0, 843855.58, 58396.14, 350922.0, 75497.5, 154770.56, 411264.0, 436322.82, 1064413.75, 78287.44, 435499.2], \"sizemode\": \"area\", \"sizeref\": 4315.4534}, \"name\": \"\", \"showlegend\": false, \"type\": \"scattergeo\"}], \"name\": \"2015-8\"}, {\"data\": [{\"geo\": \"geo\", \"hoverlabel\": {\"namelength\": 0}, \"hovertemplate\": \"<b>%{hovertext}</b><br><br>YearMonth=2016-12<br>Total Profit=%{marker.color}<br>Country=%{location}\", \"hovertext\": [\"Bhutan\", \"Fiji\", \"Israel\", \"Vietnam\", \"Libya\", \"Slovenia\", \"Benin\", \"Norway\", \"India\", \"Sweden\", \"Ethiopia\", \"Estonia\", \"Afghanistan\", \"Netherlands\", \"Malaysia\", \"Andorra\", \"Maldives\", \"Sudan\"], \"legendgroup\": \"\", \"locationmode\": \"country names\", \"locations\": [\"Bhutan\", \"Fiji\", \"Israel\", \"Vietnam\", \"Libya\", \"Slovenia\", \"Benin\", \"Norway\", \"India\", \"Sweden\", \"Ethiopia\", \"Estonia\", \"Afghanistan\", \"Netherlands\", \"Malaysia\", \"Andorra\", \"Maldives\", \"Sudan\"], \"marker\": {\"color\": [468410.8, 45709.44, 62249.04, 1109986.08, 559534.82, 486583.28, 436571.52, 169210.33, 1725485.88, 195994.26, 376477.5, 111361.32, 252633.6, 1220045.79, 462045.2, 739464.04, 429183.36, 270701.44], \"coloraxis\": \"coloraxis\", \"size\": [468410.8, 45709.44, 62249.04, 1109986.08, 559534.82, 486583.28, 436571.52, 169210.33, 1725485.88, 195994.26, 376477.5, 111361.32, 252633.6, 1220045.79, 462045.2, 739464.04, 429183.36, 270701.44], \"sizemode\": \"area\", \"sizeref\": 4315.4534}, \"name\": \"\", \"showlegend\": false, \"type\": \"scattergeo\"}], \"name\": \"2016-12\"}, {\"data\": [{\"geo\": \"geo\", \"hoverlabel\": {\"namelength\": 0}, \"hovertemplate\": \"<b>%{hovertext}</b><br><br>YearMonth=2010-11<br>Total Profit=%{marker.color}<br>Country=%{location}\", \"hovertext\": [\"Burundi\", \"Kiribati\", \"Moldova \", \"Uzbekistan\", \"Tunisia \", \"Finland\", \"Mongolia\", \"Chad\", \"Oman\", \"Poland\", \"Sweden\", \"Malaysia\", \"Solomon Islands\", \"Guatemala\", \"Egypt\"], \"legendgroup\": \"\", \"locationmode\": \"country names\", \"locations\": [\"Burundi\", \"Kiribati\", \"Moldova \", \"Uzbekistan\", \"Tunisia \", \"Finland\", \"Mongolia\", \"Chad\", \"Oman\", \"Poland\", \"Sweden\", \"Malaysia\", \"Solomon Islands\", \"Guatemala\", \"Egypt\"], \"marker\": {\"color\": [215273.3, 118918.8, 7323.99, 126169.92, 31976.56, 2230.34, 188632.44, 23302.29, 5029.67, 296582.0, 121368.3, 242525.8, 301560.36, 460319.72, 52141.25], \"coloraxis\": \"coloraxis\", \"size\": [215273.3, 118918.8, 7323.99, 126169.92, 31976.56, 2230.34, 188632.44, 23302.29, 5029.67, 296582.0, 121368.3, 242525.8, 301560.36, 460319.72, 52141.25], \"sizemode\": \"area\", \"sizeref\": 4315.4534}, \"name\": \"\", \"showlegend\": false, \"type\": \"scattergeo\"}], \"name\": \"2010-11\"}, {\"data\": [{\"geo\": \"geo\", \"hoverlabel\": {\"namelength\": 0}, \"hovertemplate\": \"<b>%{hovertext}</b><br><br>YearMonth=2016-6<br>Total Profit=%{marker.color}<br>Country=%{location}\", \"hovertext\": [\"Croatia\", \"Estonia\", \"Myanmar\", \"Turkey\", \"Latvia\"], \"legendgroup\": \"\", \"locationmode\": \"country names\", \"locations\": [\"Croatia\", \"Estonia\", \"Myanmar\", \"Turkey\", \"Latvia\"], \"marker\": {\"color\": [7360.2, 474642.72, 127759.38, 550359.36, 117403.02], \"coloraxis\": \"coloraxis\", \"size\": [7360.2, 474642.72, 127759.38, 550359.36, 117403.02], \"sizemode\": \"area\", \"sizeref\": 4315.4534}, \"name\": \"\", \"showlegend\": false, \"type\": \"scattergeo\"}], \"name\": \"2016-6\"}, {\"data\": [{\"geo\": \"geo\", \"hoverlabel\": {\"namelength\": 0}, \"hovertemplate\": \"<b>%{hovertext}</b><br><br>YearMonth=2016-5<br>Total Profit=%{marker.color}<br>Country=%{location}\", \"hovertext\": [\"Madagascar\", \"Burkina Faso\", \"Switzerland\", \"Dominican Republic\", \"Belarus\", \"Senegal\", \"Namibia\", \"France\", \"Panama\", \"Switzerland\"], \"legendgroup\": \"\", \"locationmode\": \"country names\", \"locations\": [\"Madagascar\", \"Burkina Faso\", \"Switzerland\", \"Dominican Republic\", \"Belarus\", \"Senegal\", \"Namibia\", \"France\", \"Panama\", \"Switzerland\"], \"marker\": {\"color\": [18532.9, 115771.25, 553428.21, 158830.28, 575831.02, 212134.4, 455609.21, 4166.25, 71120.28, 264672.0], \"coloraxis\": \"coloraxis\", \"size\": [18532.9, 115771.25, 553428.21, 158830.28, 575831.02, 212134.4, 455609.21, 4166.25, 71120.28, 264672.0], \"sizemode\": \"area\", \"sizeref\": 4315.4534}, \"name\": \"\", \"showlegend\": false, \"type\": \"scattergeo\"}], \"name\": \"2016-5\"}, {\"data\": [{\"geo\": \"geo\", \"hoverlabel\": {\"namelength\": 0}, \"hovertemplate\": \"<b>%{hovertext}</b><br><br>YearMonth=2012-3<br>Total Profit=%{marker.color}<br>Country=%{location}\", \"hovertext\": [\"Uzbekistan\", \"Mali\", \"Cyprus\", \"Ireland\", \"Poland\", \"Switzerland\", \"Chad\", \"Cambodia\", \"Ireland\", \"Brunei\", \"Saint Lucia\", \"Sierra Leone\", \"Iceland\", \"Papua New Guinea\", \"Mali\"], \"legendgroup\": \"\", \"locationmode\": \"country names\", \"locations\": [\"Uzbekistan\", \"Mali\", \"Cyprus\", \"Ireland\", \"Poland\", \"Switzerland\", \"Chad\", \"Cambodia\", \"Ireland\", \"Brunei\", \"Saint Lucia\", \"Sierra Leone\", \"Iceland\", \"Papua New Guinea\", \"Mali\"], \"marker\": {\"color\": [1203793.75, 760988.1, 305696.16, 66412.76, 97828.02, 204310.08, 466180.0, 87176.34, 58678.56, 48185.82, 10605.84, 947001.25, 23042.45, 1631943.31, 13624.2], \"coloraxis\": \"coloraxis\", \"size\": [1203793.75, 760988.1, 305696.16, 66412.76, 97828.02, 204310.08, 466180.0, 87176.34, 58678.56, 48185.82, 10605.84, 947001.25, 23042.45, 1631943.31, 13624.2], \"sizemode\": \"area\", \"sizeref\": 4315.4534}, \"name\": \"\", \"showlegend\": false, \"type\": \"scattergeo\"}], \"name\": \"2012-3\"}, {\"data\": [{\"geo\": \"geo\", \"hoverlabel\": {\"namelength\": 0}, \"hovertemplate\": \"<b>%{hovertext}</b><br><br>YearMonth=2014-6<br>Total Profit=%{marker.color}<br>Country=%{location}\", \"hovertext\": [\"Nepal\", \"Portugal\", \"Jordan\", \"Belgium\", \"Zimbabwe\", \"Lesotho\", \"Chad\"], \"legendgroup\": \"\", \"locationmode\": \"country names\", \"locations\": [\"Nepal\", \"Portugal\", \"Jordan\", \"Belgium\", \"Zimbabwe\", \"Lesotho\", \"Chad\"], \"marker\": {\"color\": [524989.08, 119811.25, 389070.19, 13564.44, 199048.89, 215541.06, 1046865.0], \"coloraxis\": \"coloraxis\", \"size\": [524989.08, 119811.25, 389070.19, 13564.44, 199048.89, 215541.06, 1046865.0], \"sizemode\": \"area\", \"sizeref\": 4315.4534}, \"name\": \"\", \"showlegend\": false, \"type\": \"scattergeo\"}], \"name\": \"2014-6\"}, {\"data\": [{\"geo\": \"geo\", \"hoverlabel\": {\"namelength\": 0}, \"hovertemplate\": \"<b>%{hovertext}</b><br><br>YearMonth=2013-4<br>Total Profit=%{marker.color}<br>Country=%{location}\", \"hovertext\": [\"Belarus\", \"China\", \"Oman\", \"Slovakia\", \"Belgium\", \"Marshall Islands\", \"Democratic Republic of the Congo\", \"The Bahamas\", \"Pakistan\", \"Algeria\", \"Afghanistan\"], \"legendgroup\": \"\", \"locationmode\": \"country names\", \"locations\": [\"Belarus\", \"China\", \"Oman\", \"Slovakia\", \"Belgium\", \"Marshall Islands\", \"Democratic Republic of the Congo\", \"The Bahamas\", \"Pakistan\", \"Algeria\", \"Afghanistan\"], \"marker\": {\"color\": [107208.36, 75340.26, 258000.06, 282229.92, 68105.34, 152139.26, 19896.96, 406547.22, 524610.3, 304355.5, 15503.53], \"coloraxis\": \"coloraxis\", \"size\": [107208.36, 75340.26, 258000.06, 282229.92, 68105.34, 152139.26, 19896.96, 406547.22, 524610.3, 304355.5, 15503.53], \"sizemode\": \"area\", \"sizeref\": 4315.4534}, \"name\": \"\", \"showlegend\": false, \"type\": \"scattergeo\"}], \"name\": \"2013-4\"}, {\"data\": [{\"geo\": \"geo\", \"hoverlabel\": {\"namelength\": 0}, \"hovertemplate\": \"<b>%{hovertext}</b><br><br>YearMonth=2013-6<br>Total Profit=%{marker.color}<br>Country=%{location}\", \"hovertext\": [\"Tanzania\", \"Czech Republic\", \"Sudan\", \"Grenada\", \"Andorra\", \"Ethiopia\", \"Cape Verde\", \"Portugal\", \"Belize\", \"New Zealand\", \"Lesotho\", \"Lebanon\"], \"legendgroup\": \"\", \"locationmode\": \"country names\", \"locations\": [\"Tanzania\", \"Czech Republic\", \"Sudan\", \"Grenada\", \"Andorra\", \"Ethiopia\", \"Cape Verde\", \"Portugal\", \"Belize\", \"New Zealand\", \"Lesotho\", \"Lebanon\"], \"marker\": {\"color\": [198500.26, 18306.48, 825169.67, 48696.88, 9396.0, 382670.57, 769027.01, 347909.43, 352730.58, 570856.0, 768030.32, 106190.46], \"coloraxis\": \"coloraxis\", \"size\": [198500.26, 18306.48, 825169.67, 48696.88, 9396.0, 382670.57, 769027.01, 347909.43, 352730.58, 570856.0, 768030.32, 106190.46], \"sizemode\": \"area\", \"sizeref\": 4315.4534}, \"name\": \"\", \"showlegend\": false, \"type\": \"scattergeo\"}], \"name\": \"2013-6\"}, {\"data\": [{\"geo\": \"geo\", \"hoverlabel\": {\"namelength\": 0}, \"hovertemplate\": \"<b>%{hovertext}</b><br><br>YearMonth=2013-1<br>Total Profit=%{marker.color}<br>Country=%{location}\", \"hovertext\": [\"Romania\", \"Kenya\", \"Tonga\", \"Namibia\", \"The Bahamas\", \"Botswana\", \"Honduras\", \"Kyrgyzstan\", \"Angola\", \"Myanmar\"], \"legendgroup\": \"\", \"locationmode\": \"country names\", \"locations\": [\"Romania\", \"Kenya\", \"Tonga\", \"Namibia\", \"The Bahamas\", \"Botswana\", \"Honduras\", \"Kyrgyzstan\", \"Angola\", \"Myanmar\"], \"marker\": {\"color\": [459045.0, 632391.84, 1431078.55, 47233.05, 633634.6, 250353.75, 80618.02, 54927.78, 802630.39, 432061.72], \"coloraxis\": \"coloraxis\", \"size\": [459045.0, 632391.84, 1431078.55, 47233.05, 633634.6, 250353.75, 80618.02, 54927.78, 802630.39, 432061.72], \"sizemode\": \"area\", \"sizeref\": 4315.4534}, \"name\": \"\", \"showlegend\": false, \"type\": \"scattergeo\"}], \"name\": \"2013-1\"}, {\"data\": [{\"geo\": \"geo\", \"hoverlabel\": {\"namelength\": 0}, \"hovertemplate\": \"<b>%{hovertext}</b><br><br>YearMonth=2011-5<br>Total Profit=%{marker.color}<br>Country=%{location}\", \"hovertext\": [\"Austria\", \"Portugal\", \"Tonga\", \"Democratic Republic of the Congo\", \"Burundi\", \"Zambia\", \"Turkey\", \"United Arab Emirates\"], \"legendgroup\": \"\", \"locationmode\": \"country names\", \"locations\": [\"Austria\", \"Portugal\", \"Tonga\", \"Democratic Republic of the Congo\", \"Burundi\", \"Zambia\", \"Turkey\", \"United Arab Emirates\"], \"marker\": {\"color\": [989926.25, 1203415.0, 17168.84, 20799.8, 1571089.32, 721442.36, 57832.38, 603270.28], \"coloraxis\": \"coloraxis\", \"size\": [989926.25, 1203415.0, 17168.84, 20799.8, 1571089.32, 721442.36, 57832.38, 603270.28], \"sizemode\": \"area\", \"sizeref\": 4315.4534}, \"name\": \"\", \"showlegend\": false, \"type\": \"scattergeo\"}], \"name\": \"2011-5\"}, {\"data\": [{\"geo\": \"geo\", \"hoverlabel\": {\"namelength\": 0}, \"hovertemplate\": \"<b>%{hovertext}</b><br><br>YearMonth=2010-7<br>Total Profit=%{marker.color}<br>Country=%{location}\", \"hovertext\": [\"India\", \"Rwanda\", \"Czech Republic\", \"Solomon Islands\", \"Bangladesh\", \"Saint Kitts and Nevis \", \"United States of America\", \"Namibia\", \"Nigeria\", \"Japan\", \"Panama\", \"Syria\", \"Tajikistan\", \"Thailand\", \"Albania\", \"Zimbabwe\"], \"legendgroup\": \"\", \"locationmode\": \"country names\", \"locations\": [\"India\", \"Rwanda\", \"Czech Republic\", \"Solomon Islands\", \"Bangladesh\", \"Saint Kitts and Nevis \", \"United States of America\", \"Namibia\", \"Nigeria\", \"Japan\", \"Panama\", \"Syria\", \"Tajikistan\", \"Thailand\", \"Albania\", \"Zimbabwe\"], \"marker\": {\"color\": [21357.42, 366823.6, 129698.58, 123019.54, 119360.78, 367091.95, 224612.78, 819449.31, 505355.65, 375746.8, 87559.64, 27018.6, 165721.78, 440331.75, 137416.5, 23875.87], \"coloraxis\": \"coloraxis\", \"size\": [21357.42, 366823.6, 129698.58, 123019.54, 119360.78, 367091.95, 224612.78, 819449.31, 505355.65, 375746.8, 87559.64, 27018.6, 165721.78, 440331.75, 137416.5, 23875.87], \"sizemode\": \"area\", \"sizeref\": 4315.4534}, \"name\": \"\", \"showlegend\": false, \"type\": \"scattergeo\"}], \"name\": \"2010-7\"}, {\"data\": [{\"geo\": \"geo\", \"hoverlabel\": {\"namelength\": 0}, \"hovertemplate\": \"<b>%{hovertext}</b><br><br>YearMonth=2017-2<br>Total Profit=%{marker.color}<br>Country=%{location}\", \"hovertext\": [\"Sweden\", \"Algeria\", \"Fiji\", \"Cape Verde\", \"Belgium\", \"Ghana\", \"Greece\", \"Tajikistan\", \"Guinea-Bissau\", \"Macedonia\", \"Kiribati\", \"North Korea\", \"Kenya\", \"Vanuatu\", \"Bahrain\", \"Switzerland\"], \"legendgroup\": \"\", \"locationmode\": \"country names\", \"locations\": [\"Sweden\", \"Algeria\", \"Fiji\", \"Cape Verde\", \"Belgium\", \"Ghana\", \"Greece\", \"Tajikistan\", \"Guinea-Bissau\", \"Macedonia\", \"Kiribati\", \"North Korea\", \"Kenya\", \"Vanuatu\", \"Bahrain\", \"Switzerland\"], \"marker\": {\"color\": [366659.04, 444182.68, 172143.36, 366846.42, 169806.25, 374774.4, 381683.98, 136101.06, 179857.37, 225489.88, 437922.72, 182041.89, 199513.6, 822912.51, 31210.38, 62436.42], \"coloraxis\": \"coloraxis\", \"size\": [366659.04, 444182.68, 172143.36, 366846.42, 169806.25, 374774.4, 381683.98, 136101.06, 179857.37, 225489.88, 437922.72, 182041.89, 199513.6, 822912.51, 31210.38, 62436.42], \"sizemode\": \"area\", \"sizeref\": 4315.4534}, \"name\": \"\", \"showlegend\": false, \"type\": \"scattergeo\"}], \"name\": \"2017-2\"}, {\"data\": [{\"geo\": \"geo\", \"hoverlabel\": {\"namelength\": 0}, \"hovertemplate\": \"<b>%{hovertext}</b><br><br>YearMonth=2013-9<br>Total Profit=%{marker.color}<br>Country=%{location}\", \"hovertext\": [\"South Sudan\", \"Serbia\", \"Barbados\", \"Mongolia\", \"Seychelles \", \"Swaziland\", \"Andorra\", \"Djibouti\", \"Trinidad and Tobago\", \"The Gambia\", \"Saint Kitts and Nevis \"], \"legendgroup\": \"\", \"locationmode\": \"country names\", \"locations\": [\"South Sudan\", \"Serbia\", \"Barbados\", \"Mongolia\", \"Seychelles \", \"Swaziland\", \"Andorra\", \"Djibouti\", \"Trinidad and Tobago\", \"The Gambia\", \"Saint Kitts and Nevis \"], \"marker\": {\"color\": [304246.8, 548698.14, 32918.58, 927.85, 2154.49, 204565.24, 120262.65, 426289.42, 18723.29, 502262.28, 366832.8], \"coloraxis\": \"coloraxis\", \"size\": [304246.8, 548698.14, 32918.58, 927.85, 2154.49, 204565.24, 120262.65, 426289.42, 18723.29, 502262.28, 366832.8], \"sizemode\": \"area\", \"sizeref\": 4315.4534}, \"name\": \"\", \"showlegend\": false, \"type\": \"scattergeo\"}], \"name\": \"2013-9\"}, {\"data\": [{\"geo\": \"geo\", \"hoverlabel\": {\"namelength\": 0}, \"hovertemplate\": \"<b>%{hovertext}</b><br><br>YearMonth=2015-2<br>Total Profit=%{marker.color}<br>Country=%{location}\", \"hovertext\": [\"Liberia\", \"United States of America\", \"Mauritius \", \"Costa Rica\", \"Maldives\", \"Honduras\", \"Finland\", \"Antigua and Barbuda \", \"Taiwan\", \"Bulgaria\", \"Ghana\", \"Niger\"], \"legendgroup\": \"\", \"locationmode\": \"country names\", \"locations\": [\"Liberia\", \"United States of America\", \"Mauritius \", \"Costa Rica\", \"Maldives\", \"Honduras\", \"Finland\", \"Antigua and Barbuda \", \"Taiwan\", \"Bulgaria\", \"Ghana\", \"Niger\"], \"marker\": {\"color\": [677979.27, 552441.18, 181183.8, 1079058.75, 239199.57, 479183.31, 144120.06, 782371.25, 141112.86, 11770.44, 806939.37, 853729.16], \"coloraxis\": \"coloraxis\", \"size\": [677979.27, 552441.18, 181183.8, 1079058.75, 239199.57, 479183.31, 144120.06, 782371.25, 141112.86, 11770.44, 806939.37, 853729.16], \"sizemode\": \"area\", \"sizeref\": 4315.4534}, \"name\": \"\", \"showlegend\": false, \"type\": \"scattergeo\"}], \"name\": \"2015-2\"}, {\"data\": [{\"geo\": \"geo\", \"hoverlabel\": {\"namelength\": 0}, \"hovertemplate\": \"<b>%{hovertext}</b><br><br>YearMonth=2010-1<br>Total Profit=%{marker.color}<br>Country=%{location}\", \"hovertext\": [\"Eritrea\", \"Tonga\", \"Ethiopia\", \"Nauru\", \"Monaco\", \"Russia\", \"Slovakia\", \"Kuwait\", \"Central African Republic\"], \"legendgroup\": \"\", \"locationmode\": \"country names\", \"locations\": [\"Eritrea\", \"Tonga\", \"Ethiopia\", \"Nauru\", \"Monaco\", \"Russia\", \"Slovakia\", \"Kuwait\", \"Central African Republic\"], \"marker\": {\"color\": [235944.06, 146687.22, 74277.84, 471896.75, 275814.97, 17570.52, 444585.59, 406692.0, 1553221.56], \"coloraxis\": \"coloraxis\", \"size\": [235944.06, 146687.22, 74277.84, 471896.75, 275814.97, 17570.52, 444585.59, 406692.0, 1553221.56], \"sizemode\": \"area\", \"sizeref\": 4315.4534}, \"name\": \"\", \"showlegend\": false, \"type\": \"scattergeo\"}], \"name\": \"2010-1\"}, {\"data\": [{\"geo\": \"geo\", \"hoverlabel\": {\"namelength\": 0}, \"hovertemplate\": \"<b>%{hovertext}</b><br><br>YearMonth=2010-3<br>Total Profit=%{marker.color}<br>Country=%{location}\", \"hovertext\": [\"South Korea\", \"Malaysia\", \"Cyprus\", \"Guinea-Bissau\", \"Mozambique\", \"Lesotho\", \"Guatemala\", \"India\"], \"legendgroup\": \"\", \"locationmode\": \"country names\", \"locations\": [\"South Korea\", \"Malaysia\", \"Cyprus\", \"Guinea-Bissau\", \"Mozambique\", \"Lesotho\", \"Guatemala\", \"India\"], \"marker\": {\"color\": [9572.52, 492345.06, 353171.7, 216788.42, 11611.38, 129696.12, 395288.75, 454643.88], \"coloraxis\": \"coloraxis\", \"size\": [9572.52, 492345.06, 353171.7, 216788.42, 11611.38, 129696.12, 395288.75, 454643.88], \"sizemode\": \"area\", \"sizeref\": 4315.4534}, \"name\": \"\", \"showlegend\": false, \"type\": \"scattergeo\"}], \"name\": \"2010-3\"}, {\"data\": [{\"geo\": \"geo\", \"hoverlabel\": {\"namelength\": 0}, \"hovertemplate\": \"<b>%{hovertext}</b><br><br>YearMonth=2017-3<br>Total Profit=%{marker.color}<br>Country=%{location}\", \"hovertext\": [\"Rwanda\", \"Republic of the Congo\", \"Moldova \", \"Niger\", \"North Korea\", \"Austria\", \"New Zealand\", \"Tunisia \", \"Poland\", \"Senegal\", \"Bahrain\", \"Costa Rica\", \"Fiji\"], \"legendgroup\": \"\", \"locationmode\": \"country names\", \"locations\": [\"Rwanda\", \"Republic of the Congo\", \"Moldova \", \"Niger\", \"North Korea\", \"Austria\", \"New Zealand\", \"Tunisia \", \"Poland\", \"Senegal\", \"Bahrain\", \"Costa Rica\", \"Fiji\"], \"marker\": {\"color\": [116290.26, 449534.8, 201031.32, 690192.0, 9208.38, 383295.0, 1194084.65, 453526.5, 346444.62, 401667.06, 12654.91, 1516841.88, 791285.88], \"coloraxis\": \"coloraxis\", \"size\": [116290.26, 449534.8, 201031.32, 690192.0, 9208.38, 383295.0, 1194084.65, 453526.5, 346444.62, 401667.06, 12654.91, 1516841.88, 791285.88], \"sizemode\": \"area\", \"sizeref\": 4315.4534}, \"name\": \"\", \"showlegend\": false, \"type\": \"scattergeo\"}], \"name\": \"2017-3\"}, {\"data\": [{\"geo\": \"geo\", \"hoverlabel\": {\"namelength\": 0}, \"hovertemplate\": \"<b>%{hovertext}</b><br><br>YearMonth=2014-3<br>Total Profit=%{marker.color}<br>Country=%{location}\", \"hovertext\": [\"Libya\", \"Morocco\", \"Guinea-Bissau\", \"Solomon Islands\", \"Sao Tome and Principe\", \"Czech Republic\", \"Swaziland\", \"Mongolia\", \"Guatemala\", \"Sweden\"], \"legendgroup\": \"\", \"locationmode\": \"country names\", \"locations\": [\"Libya\", \"Morocco\", \"Guinea-Bissau\", \"Solomon Islands\", \"Sao Tome and Principe\", \"Czech Republic\", \"Swaziland\", \"Mongolia\", \"Guatemala\", \"Sweden\"], \"marker\": {\"color\": [131113.2, 1123372.5, 363087.36, 461466.66, 187330.0, 518340.09, 182718.72, 23092.62, 4147.61, 1714010.46], \"coloraxis\": \"coloraxis\", \"size\": [131113.2, 1123372.5, 363087.36, 461466.66, 187330.0, 518340.09, 182718.72, 23092.62, 4147.61, 1714010.46], \"sizemode\": \"area\", \"sizeref\": 4315.4534}, \"name\": \"\", \"showlegend\": false, \"type\": \"scattergeo\"}], \"name\": \"2014-3\"}, {\"data\": [{\"geo\": \"geo\", \"hoverlabel\": {\"namelength\": 0}, \"hovertemplate\": \"<b>%{hovertext}</b><br><br>YearMonth=2011-9<br>Total Profit=%{marker.color}<br>Country=%{location}\", \"hovertext\": [\"Montenegro\", \"China\", \"Albania\", \"Iraq\", \"Chad\", \"Algeria\", \"Liberia\", \"Pakistan\", \"South Sudan\", \"Myanmar\", \"Indonesia\"], \"legendgroup\": \"\", \"locationmode\": \"country names\", \"locations\": [\"Montenegro\", \"China\", \"Albania\", \"Iraq\", \"Chad\", \"Algeria\", \"Liberia\", \"Pakistan\", \"South Sudan\", \"Myanmar\", \"Indonesia\"], \"marker\": {\"color\": [62624.34, 37034.31, 5070.64, 793228.75, 851682.5, 525725.2, 301174.68, 15831.29, 5731.56, 21031.38, 232030.54], \"coloraxis\": \"coloraxis\", \"size\": [62624.34, 37034.31, 5070.64, 793228.75, 851682.5, 525725.2, 301174.68, 15831.29, 5731.56, 21031.38, 232030.54], \"sizemode\": \"area\", \"sizeref\": 4315.4534}, \"name\": \"\", \"showlegend\": false, \"type\": \"scattergeo\"}], \"name\": \"2011-9\"}, {\"data\": [{\"geo\": \"geo\", \"hoverlabel\": {\"namelength\": 0}, \"hovertemplate\": \"<b>%{hovertext}</b><br><br>YearMonth=2016-7<br>Total Profit=%{marker.color}<br>Country=%{location}\", \"hovertext\": [\"Montenegro\", \"Malta\", \"Vietnam\", \"Austria\", \"Equatorial Guinea\", \"Senegal\", \"Iran\", \"Kuwait\", \"Cape Verde\", \"Solomon Islands\", \"Cote d'Ivoire\", \"Germany\", \"Russia\", \"United Kingdom\"], \"legendgroup\": \"\", \"locationmode\": \"country names\", \"locations\": [\"Montenegro\", \"Malta\", \"Vietnam\", \"Austria\", \"Equatorial Guinea\", \"Senegal\", \"Iran\", \"Kuwait\", \"Cape Verde\", \"Solomon Islands\", \"Cote d'Ivoire\", \"Germany\", \"Russia\", \"United Kingdom\"], \"marker\": {\"color\": [113758.56, 1483806.58, 443011.25, 191283.9, 73044.4, 3670.43, 173659.2, 472659.84, 626.5, 423160.39, 541727.85, 1123152.21, 1981.02, 85769.82], \"coloraxis\": \"coloraxis\", \"size\": [113758.56, 1483806.58, 443011.25, 191283.9, 73044.4, 3670.43, 173659.2, 472659.84, 626.5, 423160.39, 541727.85, 1123152.21, 1981.02, 85769.82], \"sizemode\": \"area\", \"sizeref\": 4315.4534}, \"name\": \"\", \"showlegend\": false, \"type\": \"scattergeo\"}], \"name\": \"2016-7\"}, {\"data\": [{\"geo\": \"geo\", \"hoverlabel\": {\"namelength\": 0}, \"hovertemplate\": \"<b>%{hovertext}</b><br><br>YearMonth=2014-2<br>Total Profit=%{marker.color}<br>Country=%{location}\", \"hovertext\": [\"Philippines\", \"Swaziland\", \"Czech Republic\", \"Dominican Republic\", \"Austria\", \"Tanzania\", \"Lithuania\", \"Saint Lucia\", \"Tuvalu\", \"Sudan\", \"Tunisia \", \"Sao Tome and Principe\", \"Italy\", \"Spain\"], \"legendgroup\": \"\", \"locationmode\": \"country names\", \"locations\": [\"Philippines\", \"Swaziland\", \"Czech Republic\", \"Dominican Republic\", \"Austria\", \"Tanzania\", \"Lithuania\", \"Saint Lucia\", \"Tuvalu\", \"Sudan\", \"Tunisia \", \"Sao Tome and Principe\", \"Italy\", \"Spain\"], \"marker\": {\"color\": [391012.94, 668145.78, 174256.53, 1256896.32, 728210.0, 163714.32, 928316.25, 30825.78, 340539.96, 594179.56, 1785.24, 1047566.75, 415535.04, 20732.64], \"coloraxis\": \"coloraxis\", \"size\": [391012.94, 668145.78, 174256.53, 1256896.32, 728210.0, 163714.32, 928316.25, 30825.78, 340539.96, 594179.56, 1785.24, 1047566.75, 415535.04, 20732.64], \"sizemode\": \"area\", \"sizeref\": 4315.4534}, \"name\": \"\", \"showlegend\": false, \"type\": \"scattergeo\"}], \"name\": \"2014-2\"}, {\"data\": [{\"geo\": \"geo\", \"hoverlabel\": {\"namelength\": 0}, \"hovertemplate\": \"<b>%{hovertext}</b><br><br>YearMonth=2012-12<br>Total Profit=%{marker.color}<br>Country=%{location}\", \"hovertext\": [\"Sudan\", \"Belarus\", \"Djibouti\", \"Mali\", \"Yemen\", \"Niger\", \"Switzerland\", \"Mozambique\", \"United Kingdom\", \"Panama\", \"Monaco\"], \"legendgroup\": \"\", \"locationmode\": \"country names\", \"locations\": [\"Sudan\", \"Belarus\", \"Djibouti\", \"Mali\", \"Yemen\", \"Niger\", \"Switzerland\", \"Mozambique\", \"United Kingdom\", \"Panama\", \"Monaco\"], \"marker\": {\"color\": [3207.71, 62048.56, 398496.78, 81745.2, 1032787.8, 344000.8, 205062.0, 1937.64, 552955.67, 534476.8, 58282.98], \"coloraxis\": \"coloraxis\", \"size\": [3207.71, 62048.56, 398496.78, 81745.2, 1032787.8, 344000.8, 205062.0, 1937.64, 552955.67, 534476.8, 58282.98], \"sizemode\": \"area\", \"sizeref\": 4315.4534}, \"name\": \"\", \"showlegend\": false, \"type\": \"scattergeo\"}], \"name\": \"2012-12\"}, {\"data\": [{\"geo\": \"geo\", \"hoverlabel\": {\"namelength\": 0}, \"hovertemplate\": \"<b>%{hovertext}</b><br><br>YearMonth=2015-9<br>Total Profit=%{marker.color}<br>Country=%{location}\", \"hovertext\": [\"Niger\", \"Swaziland\", \"United Kingdom\", \"Israel\", \"Cuba\", \"China\", \"Egypt\", \"Saudi Arabia\", \"Albania\", \"Oman\"], \"legendgroup\": \"\", \"locationmode\": \"country names\", \"locations\": [\"Niger\", \"Swaziland\", \"United Kingdom\", \"Israel\", \"Cuba\", \"China\", \"Egypt\", \"Saudi Arabia\", \"Albania\", \"Oman\"], \"marker\": {\"color\": [8592.48, 513963.75, 616822.56, 154909.76, 924988.4, 1026160.0, 262560.54, 275277.53, 189131.78, 604589.02], \"coloraxis\": \"coloraxis\", \"size\": [8592.48, 513963.75, 616822.56, 154909.76, 924988.4, 1026160.0, 262560.54, 275277.53, 189131.78, 604589.02], \"sizemode\": \"area\", \"sizeref\": 4315.4534}, \"name\": \"\", \"showlegend\": false, \"type\": \"scattergeo\"}], \"name\": \"2015-9\"}, {\"data\": [{\"geo\": \"geo\", \"hoverlabel\": {\"namelength\": 0}, \"hovertemplate\": \"<b>%{hovertext}</b><br><br>YearMonth=2013-11<br>Total Profit=%{marker.color}<br>Country=%{location}\", \"hovertext\": [\"Gabon\", \"South Korea\", \"Taiwan\", \"India\", \"Lebanon\", \"Malaysia\", \"Haiti\", \"Ghana\", \"Sri Lanka\"], \"legendgroup\": \"\", \"locationmode\": \"country names\", \"locations\": [\"Gabon\", \"South Korea\", \"Taiwan\", \"India\", \"Lebanon\", \"Malaysia\", \"Haiti\", \"Ghana\", \"Sri Lanka\"], \"marker\": {\"color\": [960902.54, 166700.54, 104575.38, 206845.24, 1174882.5, 314704.7, 821424.34, 264493.75, 242064.6], \"coloraxis\": \"coloraxis\", \"size\": [960902.54, 166700.54, 104575.38, 206845.24, 1174882.5, 314704.7, 821424.34, 264493.75, 242064.6], \"sizemode\": \"area\", \"sizeref\": 4315.4534}, \"name\": \"\", \"showlegend\": false, \"type\": \"scattergeo\"}], \"name\": \"2013-11\"}, {\"data\": [{\"geo\": \"geo\", \"hoverlabel\": {\"namelength\": 0}, \"hovertemplate\": \"<b>%{hovertext}</b><br><br>YearMonth=2014-8<br>Total Profit=%{marker.color}<br>Country=%{location}\", \"hovertext\": [\"East Timor\", \"Romania\", \"Luxembourg\", \"Swaziland\", \"Ukraine\", \"Slovenia\", \"Zimbabwe\", \"Tajikistan\", \"Moldova \", \"Estonia\", \"Qatar\", \"Nicaragua\", \"Solomon Islands\", \"Namibia\", \"Laos\", \"Mauritania\", \"Turkey\", \"Bahrain\", \"Bhutan\", \"Austria\"], \"legendgroup\": \"\", \"locationmode\": \"country names\", \"locations\": [\"East Timor\", \"Romania\", \"Luxembourg\", \"Swaziland\", \"Ukraine\", \"Slovenia\", \"Zimbabwe\", \"Tajikistan\", \"Moldova \", \"Estonia\", \"Qatar\", \"Nicaragua\", \"Solomon Islands\", \"Namibia\", \"Laos\", \"Mauritania\", \"Turkey\", \"Bahrain\", \"Bhutan\", \"Austria\"], \"marker\": {\"color\": [173923.15, 406878.06, 1513280.63, 52852.8, 212963.05, 127801.26, 325444.7, 498348.22, 824396.0, 83054.4, 625002.45, 19214.93, 210993.12, 168999.01, 152199.54, 405033.2, 35605.32, 90742.26, 143946.72, 127835.37], \"coloraxis\": \"coloraxis\", \"size\": [173923.15, 406878.06, 1513280.63, 52852.8, 212963.05, 127801.26, 325444.7, 498348.22, 824396.0, 83054.4, 625002.45, 19214.93, 210993.12, 168999.01, 152199.54, 405033.2, 35605.32, 90742.26, 143946.72, 127835.37], \"sizemode\": \"area\", \"sizeref\": 4315.4534}, \"name\": \"\", \"showlegend\": false, \"type\": \"scattergeo\"}], \"name\": \"2014-8\"}, {\"data\": [{\"geo\": \"geo\", \"hoverlabel\": {\"namelength\": 0}, \"hovertemplate\": \"<b>%{hovertext}</b><br><br>YearMonth=2010-10<br>Total Profit=%{marker.color}<br>Country=%{location}\", \"hovertext\": [\"United States of America\", \"Gabon\", \"Belgium\", \"Uganda\", \"Philippines\", \"Kazakhstan\", \"Bosnia and Herzegovina\", \"Sri Lanka\", \"Comoros\", \"Comoros\", \"Barbados\", \"Belarus\", \"Palau\", \"Iraq\", \"Lithuania\"], \"legendgroup\": \"\", \"locationmode\": \"country names\", \"locations\": [\"United States of America\", \"Gabon\", \"Belgium\", \"Uganda\", \"Philippines\", \"Kazakhstan\", \"Bosnia and Herzegovina\", \"Sri Lanka\", \"Comoros\", \"Comoros\", \"Barbados\", \"Belarus\", \"Palau\", \"Iraq\", \"Lithuania\"], \"marker\": {\"color\": [543309.12, 475031.1, 23302.29, 528439.35, 319012.59, 151267.08, 160287.07, 413348.32, 460574.4, 103848.64, 856135.88, 679455.68, 278084.01, 430652.16, 437048.99], \"coloraxis\": \"coloraxis\", \"size\": [543309.12, 475031.1, 23302.29, 528439.35, 319012.59, 151267.08, 160287.07, 413348.32, 460574.4, 103848.64, 856135.88, 679455.68, 278084.01, 430652.16, 437048.99], \"sizemode\": \"area\", \"sizeref\": 4315.4534}, \"name\": \"\", \"showlegend\": false, \"type\": \"scattergeo\"}], \"name\": \"2010-10\"}, {\"data\": [{\"geo\": \"geo\", \"hoverlabel\": {\"namelength\": 0}, \"hovertemplate\": \"<b>%{hovertext}</b><br><br>YearMonth=2012-6<br>Total Profit=%{marker.color}<br>Country=%{location}\", \"hovertext\": [\"Malawi\", \"Mozambique\", \"Republic of the Congo\", \"Mali\", \"Benin\", \"United Arab Emirates\", \"Niger\", \"Palau\", \"Czech Republic\", \"Bahrain\", \"Qatar\", \"Vanuatu\"], \"legendgroup\": \"\", \"locationmode\": \"country names\", \"locations\": [\"Malawi\", \"Mozambique\", \"Republic of the Congo\", \"Mali\", \"Benin\", \"United Arab Emirates\", \"Niger\", \"Palau\", \"Czech Republic\", \"Bahrain\", \"Qatar\", \"Vanuatu\"], \"marker\": {\"color\": [443488.25, 617110.0, 34342.38, 486858.56, 439140.63, 279953.28, 700126.77, 300965.68, 583187.97, 992722.7, 126755.0, 359730.8], \"coloraxis\": \"coloraxis\", \"size\": [443488.25, 617110.0, 34342.38, 486858.56, 439140.63, 279953.28, 700126.77, 300965.68, 583187.97, 992722.7, 126755.0, 359730.8], \"sizemode\": \"area\", \"sizeref\": 4315.4534}, \"name\": \"\", \"showlegend\": false, \"type\": \"scattergeo\"}], \"name\": \"2012-6\"}, {\"data\": [{\"geo\": \"geo\", \"hoverlabel\": {\"namelength\": 0}, \"hovertemplate\": \"<b>%{hovertext}</b><br><br>YearMonth=2013-5<br>Total Profit=%{marker.color}<br>Country=%{location}\", \"hovertext\": [\"Iceland\", \"Italy\", \"East Timor\", \"Finland\", \"Pakistan\", \"Philippines\", \"Yemen\"], \"legendgroup\": \"\", \"locationmode\": \"country names\", \"locations\": [\"Iceland\", \"Italy\", \"East Timor\", \"Finland\", \"Pakistan\", \"Philippines\", \"Yemen\"], \"marker\": {\"color\": [53853.94, 596476.47, 86790.36, 23080.26, 85288.63, 4550.08, 455972.73], \"coloraxis\": \"coloraxis\", \"size\": [53853.94, 596476.47, 86790.36, 23080.26, 85288.63, 4550.08, 455972.73], \"sizemode\": \"area\", \"sizeref\": 4315.4534}, \"name\": \"\", \"showlegend\": false, \"type\": \"scattergeo\"}], \"name\": \"2013-5\"}, {\"data\": [{\"geo\": \"geo\", \"hoverlabel\": {\"namelength\": 0}, \"hovertemplate\": \"<b>%{hovertext}</b><br><br>YearMonth=2011-6<br>Total Profit=%{marker.color}<br>Country=%{location}\", \"hovertext\": [\"Vietnam\", \"Luxembourg\", \"Ukraine\", \"Guinea\"], \"legendgroup\": \"\", \"locationmode\": \"country names\", \"locations\": [\"Vietnam\", \"Luxembourg\", \"Ukraine\", \"Guinea\"], \"marker\": {\"color\": [440380.84, 954573.88, 177725.52, 428256.4], \"coloraxis\": \"coloraxis\", \"size\": [440380.84, 954573.88, 177725.52, 428256.4], \"sizemode\": \"area\", \"sizeref\": 4315.4534}, \"name\": \"\", \"showlegend\": false, \"type\": \"scattergeo\"}], \"name\": \"2011-6\"}, {\"data\": [{\"geo\": \"geo\", \"hoverlabel\": {\"namelength\": 0}, \"hovertemplate\": \"<b>%{hovertext}</b><br><br>YearMonth=2011-4<br>Total Profit=%{marker.color}<br>Country=%{location}\", \"hovertext\": [\"Sweden\", \"Mauritania\", \"Papua New Guinea\", \"Czech Republic\", \"Belize\", \"Romania\", \"Armenia\"], \"legendgroup\": \"\", \"locationmode\": \"country names\", \"locations\": [\"Sweden\", \"Mauritania\", \"Papua New Guinea\", \"Czech Republic\", \"Belize\", \"Romania\", \"Armenia\"], \"marker\": {\"color\": [234069.3, 134378.46, 1534402.75, 24711.48, 547518.4, 406637.28, 9331.52], \"coloraxis\": \"coloraxis\", \"size\": [234069.3, 134378.46, 1534402.75, 24711.48, 547518.4, 406637.28, 9331.52], \"sizemode\": \"area\", \"sizeref\": 4315.4534}, \"name\": \"\", \"showlegend\": false, \"type\": \"scattergeo\"}], \"name\": \"2011-4\"}, {\"data\": [{\"geo\": \"geo\", \"hoverlabel\": {\"namelength\": 0}, \"hovertemplate\": \"<b>%{hovertext}</b><br><br>YearMonth=2012-11<br>Total Profit=%{marker.color}<br>Country=%{location}\", \"hovertext\": [\"Ghana\", \"Mexico\", \"Andorra\", \"Yemen\", \"Turkmenistan\", \"The Bahamas\", \"South Sudan\", \"Namibia\", \"Belarus\", \"Angola\", \"Uganda\", \"Fiji\"], \"legendgroup\": \"\", \"locationmode\": \"country names\", \"locations\": [\"Ghana\", \"Mexico\", \"Andorra\", \"Yemen\", \"Turkmenistan\", \"The Bahamas\", \"South Sudan\", \"Namibia\", \"Belarus\", \"Angola\", \"Uganda\", \"Fiji\"], \"marker\": {\"color\": [513431.54, 531485.28, 106398.66, 626597.07, 1386439.38, 742561.38, 598166.4, 579000.96, 106752.83, 363427.74, 169631.14, 62864.64], \"coloraxis\": \"coloraxis\", \"size\": [513431.54, 531485.28, 106398.66, 626597.07, 1386439.38, 742561.38, 598166.4, 579000.96, 106752.83, 363427.74, 169631.14, 62864.64], \"sizemode\": \"area\", \"sizeref\": 4315.4534}, \"name\": \"\", \"showlegend\": false, \"type\": \"scattergeo\"}], \"name\": \"2012-11\"}, {\"data\": [{\"geo\": \"geo\", \"hoverlabel\": {\"namelength\": 0}, \"hovertemplate\": \"<b>%{hovertext}</b><br><br>YearMonth=2015-11<br>Total Profit=%{marker.color}<br>Country=%{location}\", \"hovertext\": [\"Germany\", \"Albania\", \"Russia\", \"Vanuatu\", \"Norway\", \"Bahrain\", \"Tunisia \"], \"legendgroup\": \"\", \"locationmode\": \"country names\", \"locations\": [\"Germany\", \"Albania\", \"Russia\", \"Vanuatu\", \"Norway\", \"Bahrain\", \"Tunisia \"], \"marker\": {\"color\": [889484.94, 505418.78, 98548.38, 10398.24, 1568307.4, 23526.42, 178276.84], \"coloraxis\": \"coloraxis\", \"size\": [889484.94, 505418.78, 98548.38, 10398.24, 1568307.4, 23526.42, 178276.84], \"sizemode\": \"area\", \"sizeref\": 4315.4534}, \"name\": \"\", \"showlegend\": false, \"type\": \"scattergeo\"}], \"name\": \"2015-11\"}, {\"data\": [{\"geo\": \"geo\", \"hoverlabel\": {\"namelength\": 0}, \"hovertemplate\": \"<b>%{hovertext}</b><br><br>YearMonth=2013-2<br>Total Profit=%{marker.color}<br>Country=%{location}\", \"hovertext\": [\"Uzbekistan\", \"The Bahamas\", \"Ethiopia\", \"Cuba\", \"Ghana\", \"Kazakhstan\", \"Democratic Republic of the Congo\", \"Philippines\", \"Mongolia\", \"Burundi\", \"Switzerland\", \"Bosnia and Herzegovina\", \"Uzbekistan\", \"Pakistan\", \"Tanzania\", \"Tuvalu\", \"Democratic Republic of the Congo\"], \"legendgroup\": \"\", \"locationmode\": \"country names\", \"locations\": [\"Uzbekistan\", \"The Bahamas\", \"Ethiopia\", \"Cuba\", \"Ghana\", \"Kazakhstan\", \"Democratic Republic of the Congo\", \"Philippines\", \"Mongolia\", \"Burundi\", \"Switzerland\", \"Bosnia and Herzegovina\", \"Uzbekistan\", \"Pakistan\", \"Tanzania\", \"Tuvalu\", \"Democratic Republic of the Congo\"], \"marker\": {\"color\": [249146.52, 1336190.95, 12872.52, 603588.66, 1227727.84, 103262.04, 771577.14, 218372.84, 1626142.76, 423971.46, 108256.98, 934029.64, 475503.6, 146088.8, 796332.65, 9707.48, 597415.0], \"coloraxis\": \"coloraxis\", \"size\": [249146.52, 1336190.95, 12872.52, 603588.66, 1227727.84, 103262.04, 771577.14, 218372.84, 1626142.76, 423971.46, 108256.98, 934029.64, 475503.6, 146088.8, 796332.65, 9707.48, 597415.0], \"sizemode\": \"area\", \"sizeref\": 4315.4534}, \"name\": \"\", \"showlegend\": false, \"type\": \"scattergeo\"}], \"name\": \"2013-2\"}, {\"data\": [{\"geo\": \"geo\", \"hoverlabel\": {\"namelength\": 0}, \"hovertemplate\": \"<b>%{hovertext}</b><br><br>YearMonth=2017-7<br>Total Profit=%{marker.color}<br>Country=%{location}\", \"hovertext\": [\"Serbia\", \"Hungary\", \"Marshall Islands\", \"Swaziland\", \"Vanuatu\", \"Cuba\", \"Madagascar\", \"Madagascar\"], \"legendgroup\": \"\", \"locationmode\": \"country names\", \"locations\": [\"Serbia\", \"Hungary\", \"Marshall Islands\", \"Swaziland\", \"Vanuatu\", \"Cuba\", \"Madagascar\", \"Madagascar\"], \"marker\": {\"color\": [1438774.25, 898753.79, 189428.54, 235463.76, 534305.2, 884002.5, 4603.1, 13327.3], \"coloraxis\": \"coloraxis\", \"size\": [1438774.25, 898753.79, 189428.54, 235463.76, 534305.2, 884002.5, 4603.1, 13327.3], \"sizemode\": \"area\", \"sizeref\": 4315.4534}, \"name\": \"\", \"showlegend\": false, \"type\": \"scattergeo\"}], \"name\": \"2017-7\"}, {\"data\": [{\"geo\": \"geo\", \"hoverlabel\": {\"namelength\": 0}, \"hovertemplate\": \"<b>%{hovertext}</b><br><br>YearMonth=2017-4<br>Total Profit=%{marker.color}<br>Country=%{location}\", \"hovertext\": [\"Democratic Republic of the Congo\", \"Dominican Republic\", \"Ireland\", \"Saint Kitts and Nevis \", \"Nepal\"], \"legendgroup\": \"\", \"locationmode\": \"country names\", \"locations\": [\"Democratic Republic of the Congo\", \"Dominican Republic\", \"Ireland\", \"Saint Kitts and Nevis \", \"Nepal\"], \"marker\": {\"color\": [16383.18, 1225261.89, 155331.54, 388375.76, 275761.2], \"coloraxis\": \"coloraxis\", \"size\": [16383.18, 1225261.89, 155331.54, 388375.76, 275761.2], \"sizemode\": \"area\", \"sizeref\": 4315.4534}, \"name\": \"\", \"showlegend\": false, \"type\": \"scattergeo\"}], \"name\": \"2017-4\"}, {\"data\": [{\"geo\": \"geo\", \"hoverlabel\": {\"namelength\": 0}, \"hovertemplate\": \"<b>%{hovertext}</b><br><br>YearMonth=2014-7<br>Total Profit=%{marker.color}<br>Country=%{location}\", \"hovertext\": [\"Malawi\", \"Guatemala\", \"Greenland\", \"New Zealand\", \"Tonga\", \"Slovakia\", \"Montenegro\", \"Cote d'Ivoire\", \"Malaysia\", \"Jordan\", \"Azerbaijan\", \"Iran\", \"Liberia\", \"Cyprus\", \"Saint Vincent and the Grenadines\", \"Nepal\"], \"legendgroup\": \"\", \"locationmode\": \"country names\", \"locations\": [\"Malawi\", \"Guatemala\", \"Greenland\", \"New Zealand\", \"Tonga\", \"Slovakia\", \"Montenegro\", \"Cote d'Ivoire\", \"Malaysia\", \"Jordan\", \"Azerbaijan\", \"Iran\", \"Liberia\", \"Cyprus\", \"Saint Vincent and the Grenadines\", \"Nepal\"], \"marker\": {\"color\": [614460.24, 150555.24, 58187.02, 376058.78, 200142.8, 297405.43, 152289.62, 620125.99, 680108.75, 271185.2, 102207.47, 1587954.71, 248791.68, 76275.99, 202906.29, 5714.11], \"coloraxis\": \"coloraxis\", \"size\": [614460.24, 150555.24, 58187.02, 376058.78, 200142.8, 297405.43, 152289.62, 620125.99, 680108.75, 271185.2, 102207.47, 1587954.71, 248791.68, 76275.99, 202906.29, 5714.11], \"sizemode\": \"area\", \"sizeref\": 4315.4534}, \"name\": \"\", \"showlegend\": false, \"type\": \"scattergeo\"}], \"name\": \"2014-7\"}, {\"data\": [{\"geo\": \"geo\", \"hoverlabel\": {\"namelength\": 0}, \"hovertemplate\": \"<b>%{hovertext}</b><br><br>YearMonth=2011-7<br>Total Profit=%{marker.color}<br>Country=%{location}\", \"hovertext\": [\"Nicaragua\", \"Russia\", \"Liechtenstein\", \"Burkina Faso\", \"Singapore\", \"Kosovo\", \"Sierra Leone\", \"Australia\"], \"legendgroup\": \"\", \"locationmode\": \"country names\", \"locations\": [\"Nicaragua\", \"Russia\", \"Liechtenstein\", \"Burkina Faso\", \"Singapore\", \"Kosovo\", \"Sierra Leone\", \"Australia\"], \"marker\": {\"color\": [290043.66, 705216.72, 1068792.77, 296395.35, 739637.91, 359187.42, 728341.43, 408942.24], \"coloraxis\": \"coloraxis\", \"size\": [290043.66, 705216.72, 1068792.77, 296395.35, 739637.91, 359187.42, 728341.43, 408942.24], \"sizemode\": \"area\", \"sizeref\": 4315.4534}, \"name\": \"\", \"showlegend\": false, \"type\": \"scattergeo\"}], \"name\": \"2011-7\"}, {\"data\": [{\"geo\": \"geo\", \"hoverlabel\": {\"namelength\": 0}, \"hovertemplate\": \"<b>%{hovertext}</b><br><br>YearMonth=2013-7<br>Total Profit=%{marker.color}<br>Country=%{location}\", \"hovertext\": [\"Cameroon\", \"United States of America\", \"Saint Lucia\", \"Bangladesh\", \"Mali\", \"Cuba\", \"Poland\", \"Vietnam\"], \"legendgroup\": \"\", \"locationmode\": \"country names\", \"locations\": [\"Cameroon\", \"United States of America\", \"Saint Lucia\", \"Bangladesh\", \"Mali\", \"Cuba\", \"Poland\", \"Vietnam\"], \"marker\": {\"color\": [34407.36, 28422.9, 185614.0, 191060.1, 10093.08, 1575926.57, 434282.64, 422648.1], \"coloraxis\": \"coloraxis\", \"size\": [34407.36, 28422.9, 185614.0, 191060.1, 10093.08, 1575926.57, 434282.64, 422648.1], \"sizemode\": \"area\", \"sizeref\": 4315.4534}, \"name\": \"\", \"showlegend\": false, \"type\": \"scattergeo\"}], \"name\": \"2013-7\"}, {\"data\": [{\"geo\": \"geo\", \"hoverlabel\": {\"namelength\": 0}, \"hovertemplate\": \"<b>%{hovertext}</b><br><br>YearMonth=2014-12<br>Total Profit=%{marker.color}<br>Country=%{location}\", \"hovertext\": [\"Moldova \", \"Iran\", \"Guinea\", \"Iraq\", \"Malaysia\", \"Mozambique\", \"Iran\", \"Cuba\", \"Haiti\", \"Montenegro\", \"East Timor\", \"Romania\", \"Qatar\", \"Comoros\"], \"legendgroup\": \"\", \"locationmode\": \"country names\", \"locations\": [\"Moldova \", \"Iran\", \"Guinea\", \"Iraq\", \"Malaysia\", \"Mozambique\", \"Iran\", \"Cuba\", \"Haiti\", \"Montenegro\", \"East Timor\", \"Romania\", \"Qatar\", \"Comoros\"], \"marker\": {\"color\": [24252.8, 776370.14, 82425.2, 16317.72, 614456.58, 120190.5, 20898.06, 1060626.25, 79953.0, 87476.76, 71346.96, 174016.5, 231259.6, 155021.16], \"coloraxis\": \"coloraxis\", \"size\": [24252.8, 776370.14, 82425.2, 16317.72, 614456.58, 120190.5, 20898.06, 1060626.25, 79953.0, 87476.76, 71346.96, 174016.5, 231259.6, 155021.16], \"sizemode\": \"area\", \"sizeref\": 4315.4534}, \"name\": \"\", \"showlegend\": false, \"type\": \"scattergeo\"}], \"name\": \"2014-12\"}, {\"data\": [{\"geo\": \"geo\", \"hoverlabel\": {\"namelength\": 0}, \"hovertemplate\": \"<b>%{hovertext}</b><br><br>YearMonth=2010-12<br>Total Profit=%{marker.color}<br>Country=%{location}\", \"hovertext\": [\"Romania\", \"Israel\", \"Dominican Republic\", \"Australia\", \"Cambodia\", \"East Timor\", \"Angola\", \"South Sudan\"], \"legendgroup\": \"\", \"locationmode\": \"country names\", \"locations\": [\"Romania\", \"Israel\", \"Dominican Republic\", \"Australia\", \"Cambodia\", \"East Timor\", \"Angola\", \"South Sudan\"], \"marker\": {\"color\": [496821.6, 291319.6, 42742.08, 459649.53, 1283682.21, 301009.26, 164092.88, 665240.22], \"coloraxis\": \"coloraxis\", \"size\": [496821.6, 291319.6, 42742.08, 459649.53, 1283682.21, 301009.26, 164092.88, 665240.22], \"sizemode\": \"area\", \"sizeref\": 4315.4534}, \"name\": \"\", \"showlegend\": false, \"type\": \"scattergeo\"}], \"name\": \"2010-12\"}, {\"data\": [{\"geo\": \"geo\", \"hoverlabel\": {\"namelength\": 0}, \"hovertemplate\": \"<b>%{hovertext}</b><br><br>YearMonth=2011-12<br>Total Profit=%{marker.color}<br>Country=%{location}\", \"hovertext\": [\"Israel\", \"Malawi\", \"Ireland\", \"Albania\", \"Fiji\", \"Burundi\"], \"legendgroup\": \"\", \"locationmode\": \"country names\", \"locations\": [\"Israel\", \"Malawi\", \"Ireland\", \"Albania\", \"Fiji\", \"Burundi\"], \"marker\": {\"color\": [33058.26, 479875.16, 95924.4, 674854.4, 314690.4, 32212.62], \"coloraxis\": \"coloraxis\", \"size\": [33058.26, 479875.16, 95924.4, 674854.4, 314690.4, 32212.62], \"sizemode\": \"area\", \"sizeref\": 4315.4534}, \"name\": \"\", \"showlegend\": false, \"type\": \"scattergeo\"}], \"name\": \"2011-12\"}, {\"data\": [{\"geo\": \"geo\", \"hoverlabel\": {\"namelength\": 0}, \"hovertemplate\": \"<b>%{hovertext}</b><br><br>YearMonth=2016-3<br>Total Profit=%{marker.color}<br>Country=%{location}\", \"hovertext\": [\"Lebanon\", \"Japan\", \"Central African Republic\", \"Sudan\", \"Vanuatu\", \"Kenya\", \"Mali\", \"Lesotho\"], \"legendgroup\": \"\", \"locationmode\": \"country names\", \"locations\": [\"Lebanon\", \"Japan\", \"Central African Republic\", \"Sudan\", \"Vanuatu\", \"Kenya\", \"Mali\", \"Lesotho\"], \"marker\": {\"color\": [1527864.87, 951793.94, 1444685.83, 200863.75, 102515.0, 1121478.75, 927637.22, 544342.08], \"coloraxis\": \"coloraxis\", \"size\": [1527864.87, 951793.94, 1444685.83, 200863.75, 102515.0, 1121478.75, 927637.22, 544342.08], \"sizemode\": \"area\", \"sizeref\": 4315.4534}, \"name\": \"\", \"showlegend\": false, \"type\": \"scattergeo\"}], \"name\": \"2016-3\"}, {\"data\": [{\"geo\": \"geo\", \"hoverlabel\": {\"namelength\": 0}, \"hovertemplate\": \"<b>%{hovertext}</b><br><br>YearMonth=2012-4<br>Total Profit=%{marker.color}<br>Country=%{location}\", \"hovertext\": [\"Palau\", \"Romania\", \"Republic of the Congo\", \"Saint Lucia\", \"Romania\", \"France\", \"Sierra Leone\", \"Comoros\"], \"legendgroup\": \"\", \"locationmode\": \"country names\", \"locations\": [\"Palau\", \"Romania\", \"Republic of the Congo\", \"Saint Lucia\", \"Romania\", \"France\", \"Sierra Leone\", \"Comoros\"], \"marker\": {\"color\": [212454.42, 795981.15, 4699.5, 155998.5, 16159.05, 59784.11, 19882.5, 950958.74], \"coloraxis\": \"coloraxis\", \"size\": [212454.42, 795981.15, 4699.5, 155998.5, 16159.05, 59784.11, 19882.5, 950958.74], \"sizemode\": \"area\", \"sizeref\": 4315.4534}, \"name\": \"\", \"showlegend\": false, \"type\": \"scattergeo\"}], \"name\": \"2012-4\"}, {\"data\": [{\"geo\": \"geo\", \"hoverlabel\": {\"namelength\": 0}, \"hovertemplate\": \"<b>%{hovertext}</b><br><br>YearMonth=2015-7<br>Total Profit=%{marker.color}<br>Country=%{location}\", \"hovertext\": [\"South Korea\", \"Belize\", \"Samoa \", \"Djibouti\", \"North Korea\"], \"legendgroup\": \"\", \"locationmode\": \"country names\", \"locations\": [\"South Korea\", \"Belize\", \"Samoa \", \"Djibouti\", \"North Korea\"], \"marker\": {\"color\": [128775.0, 1094685.52, 51334.56, 717032.8, 1170550.99], \"coloraxis\": \"coloraxis\", \"size\": [128775.0, 1094685.52, 51334.56, 717032.8, 1170550.99], \"sizemode\": \"area\", \"sizeref\": 4315.4534}, \"name\": \"\", \"showlegend\": false, \"type\": \"scattergeo\"}], \"name\": \"2015-7\"}, {\"data\": [{\"geo\": \"geo\", \"hoverlabel\": {\"namelength\": 0}, \"hovertemplate\": \"<b>%{hovertext}</b><br><br>YearMonth=2016-2<br>Total Profit=%{marker.color}<br>Country=%{location}\", \"hovertext\": [\"Seychelles \", \"Moldova \", \"Vietnam\", \"Serbia\", \"Oman\", \"Saint Kitts and Nevis \"], \"legendgroup\": \"\", \"locationmode\": \"country names\", \"locations\": [\"Seychelles \", \"Moldova \", \"Vietnam\", \"Serbia\", \"Oman\", \"Saint Kitts and Nevis \"], \"marker\": {\"color\": [218464.94, 1671760.05, 423854.82, 31335.66, 885938.12, 52445.28], \"coloraxis\": \"coloraxis\", \"size\": [218464.94, 1671760.05, 423854.82, 31335.66, 885938.12, 52445.28], \"sizemode\": \"area\", \"sizeref\": 4315.4534}, \"name\": \"\", \"showlegend\": false, \"type\": \"scattergeo\"}], \"name\": \"2016-2\"}, {\"data\": [{\"geo\": \"geo\", \"hoverlabel\": {\"namelength\": 0}, \"hovertemplate\": \"<b>%{hovertext}</b><br><br>YearMonth=2015-5<br>Total Profit=%{marker.color}<br>Country=%{location}\", \"hovertext\": [\"Solomon Islands\", \"Malaysia\", \"United Arab Emirates\", \"South Korea\", \"Dominica\", \"Zambia\"], \"legendgroup\": \"\", \"locationmode\": \"country names\", \"locations\": [\"Solomon Islands\", \"Malaysia\", \"United Arab Emirates\", \"South Korea\", \"Dominica\", \"Zambia\"], \"marker\": {\"color\": [188852.16, 13279.68, 139158.18, 324168.06, 90264.18, 8492.84], \"coloraxis\": \"coloraxis\", \"size\": [188852.16, 13279.68, 139158.18, 324168.06, 90264.18, 8492.84], \"sizemode\": \"area\", \"sizeref\": 4315.4534}, \"name\": \"\", \"showlegend\": false, \"type\": \"scattergeo\"}], \"name\": \"2015-5\"}, {\"data\": [{\"geo\": \"geo\", \"hoverlabel\": {\"namelength\": 0}, \"hovertemplate\": \"<b>%{hovertext}</b><br><br>YearMonth=2012-2<br>Total Profit=%{marker.color}<br>Country=%{location}\", \"hovertext\": [\"Uganda\", \"Guatemala\", \"Nigeria\", \"Ireland\", \"Gabon\", \"France\"], \"legendgroup\": \"\", \"locationmode\": \"country names\", \"locations\": [\"Uganda\", \"Guatemala\", \"Nigeria\", \"Ireland\", \"Gabon\", \"France\"], \"marker\": {\"color\": [133367.04, 786339.58, 91162.86, 901930.0, 363405.26, 304152.24], \"coloraxis\": \"coloraxis\", \"size\": [133367.04, 786339.58, 91162.86, 901930.0, 363405.26, 304152.24], \"sizemode\": \"area\", \"sizeref\": 4315.4534}, \"name\": \"\", \"showlegend\": false, \"type\": \"scattergeo\"}], \"name\": \"2012-2\"}, {\"data\": [{\"geo\": \"geo\", \"hoverlabel\": {\"namelength\": 0}, \"hovertemplate\": \"<b>%{hovertext}</b><br><br>YearMonth=2016-9<br>Total Profit=%{marker.color}<br>Country=%{location}\", \"hovertext\": [\"Thailand\", \"Taiwan\", \"North Korea\", \"Malawi\", \"Mongolia\"], \"legendgroup\": \"\", \"locationmode\": \"country names\", \"locations\": [\"Thailand\", \"Taiwan\", \"North Korea\", \"Malawi\", \"Mongolia\"], \"marker\": {\"color\": [66126.27, 446420.0, 66962.16, 137275.56, 193367.52], \"coloraxis\": \"coloraxis\", \"size\": [66126.27, 446420.0, 66962.16, 137275.56, 193367.52], \"sizemode\": \"area\", \"sizeref\": 4315.4534}, \"name\": \"\", \"showlegend\": false, \"type\": \"scattergeo\"}], \"name\": \"2016-9\"}, {\"data\": [{\"geo\": \"geo\", \"hoverlabel\": {\"namelength\": 0}, \"hovertemplate\": \"<b>%{hovertext}</b><br><br>YearMonth=2015-10<br>Total Profit=%{marker.color}<br>Country=%{location}\", \"hovertext\": [\"Cuba\", \"Greenland\", \"Cote d'Ivoire\", \"Trinidad and Tobago\", \"Bangladesh\", \"Kenya\", \"Bosnia and Herzegovina\", \"Monaco\", \"Fiji\", \"Haiti\", \"Algeria\"], \"legendgroup\": \"\", \"locationmode\": \"country names\", \"locations\": [\"Cuba\", \"Greenland\", \"Cote d'Ivoire\", \"Trinidad and Tobago\", \"Bangladesh\", \"Kenya\", \"Bosnia and Herzegovina\", \"Monaco\", \"Fiji\", \"Haiti\", \"Algeria\"], \"marker\": {\"color\": [346460.4, 493663.68, 353654.26, 1007727.5, 450712.5, 386961.12, 384659.33, 437482.08, 302707.67, 174301.93, 719120.0], \"coloraxis\": \"coloraxis\", \"size\": [346460.4, 493663.68, 353654.26, 1007727.5, 450712.5, 386961.12, 384659.33, 437482.08, 302707.67, 174301.93, 719120.0], \"sizemode\": \"area\", \"sizeref\": 4315.4534}, \"name\": \"\", \"showlegend\": false, \"type\": \"scattergeo\"}], \"name\": \"2015-10\"}, {\"data\": [{\"geo\": \"geo\", \"hoverlabel\": {\"namelength\": 0}, \"hovertemplate\": \"<b>%{hovertext}</b><br><br>YearMonth=2017-5<br>Total Profit=%{marker.color}<br>Country=%{location}\", \"hovertext\": [\"Jordan\", \"Andorra\", \"Madagascar\", \"Marshall Islands\", \"Romania\", \"Botswana\", \"Honduras\", \"Netherlands\"], \"legendgroup\": \"\", \"locationmode\": \"country names\", \"locations\": [\"Jordan\", \"Andorra\", \"Madagascar\", \"Marshall Islands\", \"Romania\", \"Botswana\", \"Honduras\", \"Netherlands\"], \"marker\": {\"color\": [17653.25, 249347.0, 720446.4, 285879.93, 1362966.93, 203934.18, 572901.65, 300678.42], \"coloraxis\": \"coloraxis\", \"size\": [17653.25, 249347.0, 720446.4, 285879.93, 1362966.93, 203934.18, 572901.65, 300678.42], \"sizemode\": \"area\", \"sizeref\": 4315.4534}, \"name\": \"\", \"showlegend\": false, \"type\": \"scattergeo\"}], \"name\": \"2017-5\"}]);\n",
       "                        }).then(function(){\n",
       "                            \n",
       "var gd = document.getElementById('57db8048-6663-4213-b301-a7bfbece5e70');\n",
       "var x = new MutationObserver(function (mutations, observer) {{\n",
       "        var display = window.getComputedStyle(gd).display;\n",
       "        if (!display || display === 'none') {{\n",
       "            console.log([gd, 'removed!']);\n",
       "            Plotly.purge(gd);\n",
       "            observer.disconnect();\n",
       "        }}\n",
       "}});\n",
       "\n",
       "// Listen for the removal of the full notebook cells\n",
       "var notebookContainer = gd.closest('#notebook-container');\n",
       "if (notebookContainer) {{\n",
       "    x.observe(notebookContainer, {childList: true});\n",
       "}}\n",
       "\n",
       "// Listen for the clearing of the current output cell\n",
       "var outputEl = gd.closest('.output');\n",
       "if (outputEl) {{\n",
       "    x.observe(outputEl, {childList: true});\n",
       "}}\n",
       "\n",
       "                        })\n",
       "                };\n",
       "                });\n",
       "            </script>\n",
       "        </div>"
      ]
     },
     "metadata": {},
     "output_type": "display_data"
    }
   ],
   "source": [
    "df_profit_country = df.loc[:,[\"Order Date\", \"Country\", \"Total Profit\"]]\n",
    "df_profit_country['Order Date'] = pd.to_datetime(df_profit_country['Order Date'])\n",
    "df_profit_country['YearMonth'] = df_profit_country['Order Date'].apply(lambda x: '{year}-{month}'.format(year=x.year, month=x.month))\n",
    "\n",
    "fig = px.scatter_geo(df_profit_country, locations=\"Country\", locationmode='country names', \n",
    "                    color=\"Total Profit\", size='Total Profit', hover_name=\"Country\", range_color= [0, max(df_profit_country['Total Profit'])+2], \n",
    "                    projection=\"natural earth\", animation_frame=\"YearMonth\", title='Spread outside China over time')\n",
    "fig.update(layout_coloraxis_showscale=False)\n",
    "fig.show()"
   ]
  },
  {
   "cell_type": "code",
   "execution_count": 32,
   "metadata": {
    "scrolled": false
   },
   "outputs": [
    {
     "data": {
      "application/vnd.plotly.v1+json": {
       "config": {
        "plotlyServerURL": "https://plot.ly"
       },
       "data": [
        {
         "alignmentgroup": "True",
         "hoverlabel": {
          "namelength": 0
         },
         "hovertemplate": "delay=%{marker.color}<br>order_day=%{y}",
         "legendgroup": "",
         "marker": {
          "color": "rgb(158,202,225)",
          "coloraxis": "coloraxis",
          "line": {
           "color": "rgb(8,48,107)",
           "width": 1.5
          }
         },
         "name": "",
         "offsetgroup": "",
         "opacity": 0.6,
         "orientation": "h",
         "showlegend": false,
         "textposition": "auto",
         "type": "bar",
         "x": [
          25.25531914893617,
          23.673076923076923,
          27.416666666666668,
          26.475524475524477,
          26.15267175572519,
          25.436241610738254,
          21.12162162162162
         ],
         "xaxis": "x",
         "y": [
          "Monday",
          "Tuesday",
          "Wednesday",
          "Thursday",
          "Friday",
          "Saturday",
          "Sunday"
         ],
         "yaxis": "y"
        }
       ],
       "layout": {
        "barmode": "relative",
        "coloraxis": {
         "colorbar": {
          "title": {
           "text": "delay"
          }
         },
         "colorscale": [
          [
           0,
           "#0d0887"
          ],
          [
           0.1111111111111111,
           "#46039f"
          ],
          [
           0.2222222222222222,
           "#7201a8"
          ],
          [
           0.3333333333333333,
           "#9c179e"
          ],
          [
           0.4444444444444444,
           "#bd3786"
          ],
          [
           0.5555555555555556,
           "#d8576b"
          ],
          [
           0.6666666666666666,
           "#ed7953"
          ],
          [
           0.7777777777777778,
           "#fb9f3a"
          ],
          [
           0.8888888888888888,
           "#fdca26"
          ],
          [
           1,
           "#f0f921"
          ]
         ]
        },
        "height": 800,
        "legend": {
         "tracegroupgap": 0
        },
        "template": {
         "data": {
          "bar": [
           {
            "error_x": {
             "color": "#2a3f5f"
            },
            "error_y": {
             "color": "#2a3f5f"
            },
            "marker": {
             "line": {
              "color": "#E5ECF6",
              "width": 0.5
             }
            },
            "type": "bar"
           }
          ],
          "barpolar": [
           {
            "marker": {
             "line": {
              "color": "#E5ECF6",
              "width": 0.5
             }
            },
            "type": "barpolar"
           }
          ],
          "carpet": [
           {
            "aaxis": {
             "endlinecolor": "#2a3f5f",
             "gridcolor": "white",
             "linecolor": "white",
             "minorgridcolor": "white",
             "startlinecolor": "#2a3f5f"
            },
            "baxis": {
             "endlinecolor": "#2a3f5f",
             "gridcolor": "white",
             "linecolor": "white",
             "minorgridcolor": "white",
             "startlinecolor": "#2a3f5f"
            },
            "type": "carpet"
           }
          ],
          "choropleth": [
           {
            "colorbar": {
             "outlinewidth": 0,
             "ticks": ""
            },
            "type": "choropleth"
           }
          ],
          "contour": [
           {
            "colorbar": {
             "outlinewidth": 0,
             "ticks": ""
            },
            "colorscale": [
             [
              0,
              "#0d0887"
             ],
             [
              0.1111111111111111,
              "#46039f"
             ],
             [
              0.2222222222222222,
              "#7201a8"
             ],
             [
              0.3333333333333333,
              "#9c179e"
             ],
             [
              0.4444444444444444,
              "#bd3786"
             ],
             [
              0.5555555555555556,
              "#d8576b"
             ],
             [
              0.6666666666666666,
              "#ed7953"
             ],
             [
              0.7777777777777778,
              "#fb9f3a"
             ],
             [
              0.8888888888888888,
              "#fdca26"
             ],
             [
              1,
              "#f0f921"
             ]
            ],
            "type": "contour"
           }
          ],
          "contourcarpet": [
           {
            "colorbar": {
             "outlinewidth": 0,
             "ticks": ""
            },
            "type": "contourcarpet"
           }
          ],
          "heatmap": [
           {
            "colorbar": {
             "outlinewidth": 0,
             "ticks": ""
            },
            "colorscale": [
             [
              0,
              "#0d0887"
             ],
             [
              0.1111111111111111,
              "#46039f"
             ],
             [
              0.2222222222222222,
              "#7201a8"
             ],
             [
              0.3333333333333333,
              "#9c179e"
             ],
             [
              0.4444444444444444,
              "#bd3786"
             ],
             [
              0.5555555555555556,
              "#d8576b"
             ],
             [
              0.6666666666666666,
              "#ed7953"
             ],
             [
              0.7777777777777778,
              "#fb9f3a"
             ],
             [
              0.8888888888888888,
              "#fdca26"
             ],
             [
              1,
              "#f0f921"
             ]
            ],
            "type": "heatmap"
           }
          ],
          "heatmapgl": [
           {
            "colorbar": {
             "outlinewidth": 0,
             "ticks": ""
            },
            "colorscale": [
             [
              0,
              "#0d0887"
             ],
             [
              0.1111111111111111,
              "#46039f"
             ],
             [
              0.2222222222222222,
              "#7201a8"
             ],
             [
              0.3333333333333333,
              "#9c179e"
             ],
             [
              0.4444444444444444,
              "#bd3786"
             ],
             [
              0.5555555555555556,
              "#d8576b"
             ],
             [
              0.6666666666666666,
              "#ed7953"
             ],
             [
              0.7777777777777778,
              "#fb9f3a"
             ],
             [
              0.8888888888888888,
              "#fdca26"
             ],
             [
              1,
              "#f0f921"
             ]
            ],
            "type": "heatmapgl"
           }
          ],
          "histogram": [
           {
            "marker": {
             "colorbar": {
              "outlinewidth": 0,
              "ticks": ""
             }
            },
            "type": "histogram"
           }
          ],
          "histogram2d": [
           {
            "colorbar": {
             "outlinewidth": 0,
             "ticks": ""
            },
            "colorscale": [
             [
              0,
              "#0d0887"
             ],
             [
              0.1111111111111111,
              "#46039f"
             ],
             [
              0.2222222222222222,
              "#7201a8"
             ],
             [
              0.3333333333333333,
              "#9c179e"
             ],
             [
              0.4444444444444444,
              "#bd3786"
             ],
             [
              0.5555555555555556,
              "#d8576b"
             ],
             [
              0.6666666666666666,
              "#ed7953"
             ],
             [
              0.7777777777777778,
              "#fb9f3a"
             ],
             [
              0.8888888888888888,
              "#fdca26"
             ],
             [
              1,
              "#f0f921"
             ]
            ],
            "type": "histogram2d"
           }
          ],
          "histogram2dcontour": [
           {
            "colorbar": {
             "outlinewidth": 0,
             "ticks": ""
            },
            "colorscale": [
             [
              0,
              "#0d0887"
             ],
             [
              0.1111111111111111,
              "#46039f"
             ],
             [
              0.2222222222222222,
              "#7201a8"
             ],
             [
              0.3333333333333333,
              "#9c179e"
             ],
             [
              0.4444444444444444,
              "#bd3786"
             ],
             [
              0.5555555555555556,
              "#d8576b"
             ],
             [
              0.6666666666666666,
              "#ed7953"
             ],
             [
              0.7777777777777778,
              "#fb9f3a"
             ],
             [
              0.8888888888888888,
              "#fdca26"
             ],
             [
              1,
              "#f0f921"
             ]
            ],
            "type": "histogram2dcontour"
           }
          ],
          "mesh3d": [
           {
            "colorbar": {
             "outlinewidth": 0,
             "ticks": ""
            },
            "type": "mesh3d"
           }
          ],
          "parcoords": [
           {
            "line": {
             "colorbar": {
              "outlinewidth": 0,
              "ticks": ""
             }
            },
            "type": "parcoords"
           }
          ],
          "pie": [
           {
            "automargin": true,
            "type": "pie"
           }
          ],
          "scatter": [
           {
            "marker": {
             "colorbar": {
              "outlinewidth": 0,
              "ticks": ""
             }
            },
            "type": "scatter"
           }
          ],
          "scatter3d": [
           {
            "line": {
             "colorbar": {
              "outlinewidth": 0,
              "ticks": ""
             }
            },
            "marker": {
             "colorbar": {
              "outlinewidth": 0,
              "ticks": ""
             }
            },
            "type": "scatter3d"
           }
          ],
          "scattercarpet": [
           {
            "marker": {
             "colorbar": {
              "outlinewidth": 0,
              "ticks": ""
             }
            },
            "type": "scattercarpet"
           }
          ],
          "scattergeo": [
           {
            "marker": {
             "colorbar": {
              "outlinewidth": 0,
              "ticks": ""
             }
            },
            "type": "scattergeo"
           }
          ],
          "scattergl": [
           {
            "marker": {
             "colorbar": {
              "outlinewidth": 0,
              "ticks": ""
             }
            },
            "type": "scattergl"
           }
          ],
          "scattermapbox": [
           {
            "marker": {
             "colorbar": {
              "outlinewidth": 0,
              "ticks": ""
             }
            },
            "type": "scattermapbox"
           }
          ],
          "scatterpolar": [
           {
            "marker": {
             "colorbar": {
              "outlinewidth": 0,
              "ticks": ""
             }
            },
            "type": "scatterpolar"
           }
          ],
          "scatterpolargl": [
           {
            "marker": {
             "colorbar": {
              "outlinewidth": 0,
              "ticks": ""
             }
            },
            "type": "scatterpolargl"
           }
          ],
          "scatterternary": [
           {
            "marker": {
             "colorbar": {
              "outlinewidth": 0,
              "ticks": ""
             }
            },
            "type": "scatterternary"
           }
          ],
          "surface": [
           {
            "colorbar": {
             "outlinewidth": 0,
             "ticks": ""
            },
            "colorscale": [
             [
              0,
              "#0d0887"
             ],
             [
              0.1111111111111111,
              "#46039f"
             ],
             [
              0.2222222222222222,
              "#7201a8"
             ],
             [
              0.3333333333333333,
              "#9c179e"
             ],
             [
              0.4444444444444444,
              "#bd3786"
             ],
             [
              0.5555555555555556,
              "#d8576b"
             ],
             [
              0.6666666666666666,
              "#ed7953"
             ],
             [
              0.7777777777777778,
              "#fb9f3a"
             ],
             [
              0.8888888888888888,
              "#fdca26"
             ],
             [
              1,
              "#f0f921"
             ]
            ],
            "type": "surface"
           }
          ],
          "table": [
           {
            "cells": {
             "fill": {
              "color": "#EBF0F8"
             },
             "line": {
              "color": "white"
             }
            },
            "header": {
             "fill": {
              "color": "#C8D4E3"
             },
             "line": {
              "color": "white"
             }
            },
            "type": "table"
           }
          ]
         },
         "layout": {
          "annotationdefaults": {
           "arrowcolor": "#2a3f5f",
           "arrowhead": 0,
           "arrowwidth": 1
          },
          "coloraxis": {
           "colorbar": {
            "outlinewidth": 0,
            "ticks": ""
           }
          },
          "colorscale": {
           "diverging": [
            [
             0,
             "#8e0152"
            ],
            [
             0.1,
             "#c51b7d"
            ],
            [
             0.2,
             "#de77ae"
            ],
            [
             0.3,
             "#f1b6da"
            ],
            [
             0.4,
             "#fde0ef"
            ],
            [
             0.5,
             "#f7f7f7"
            ],
            [
             0.6,
             "#e6f5d0"
            ],
            [
             0.7,
             "#b8e186"
            ],
            [
             0.8,
             "#7fbc41"
            ],
            [
             0.9,
             "#4d9221"
            ],
            [
             1,
             "#276419"
            ]
           ],
           "sequential": [
            [
             0,
             "#0d0887"
            ],
            [
             0.1111111111111111,
             "#46039f"
            ],
            [
             0.2222222222222222,
             "#7201a8"
            ],
            [
             0.3333333333333333,
             "#9c179e"
            ],
            [
             0.4444444444444444,
             "#bd3786"
            ],
            [
             0.5555555555555556,
             "#d8576b"
            ],
            [
             0.6666666666666666,
             "#ed7953"
            ],
            [
             0.7777777777777778,
             "#fb9f3a"
            ],
            [
             0.8888888888888888,
             "#fdca26"
            ],
            [
             1,
             "#f0f921"
            ]
           ],
           "sequentialminus": [
            [
             0,
             "#0d0887"
            ],
            [
             0.1111111111111111,
             "#46039f"
            ],
            [
             0.2222222222222222,
             "#7201a8"
            ],
            [
             0.3333333333333333,
             "#9c179e"
            ],
            [
             0.4444444444444444,
             "#bd3786"
            ],
            [
             0.5555555555555556,
             "#d8576b"
            ],
            [
             0.6666666666666666,
             "#ed7953"
            ],
            [
             0.7777777777777778,
             "#fb9f3a"
            ],
            [
             0.8888888888888888,
             "#fdca26"
            ],
            [
             1,
             "#f0f921"
            ]
           ]
          },
          "colorway": [
           "#636efa",
           "#EF553B",
           "#00cc96",
           "#ab63fa",
           "#FFA15A",
           "#19d3f3",
           "#FF6692",
           "#B6E880",
           "#FF97FF",
           "#FECB52"
          ],
          "font": {
           "color": "#2a3f5f"
          },
          "geo": {
           "bgcolor": "white",
           "lakecolor": "white",
           "landcolor": "#E5ECF6",
           "showlakes": true,
           "showland": true,
           "subunitcolor": "white"
          },
          "hoverlabel": {
           "align": "left"
          },
          "hovermode": "closest",
          "mapbox": {
           "style": "light"
          },
          "paper_bgcolor": "white",
          "plot_bgcolor": "#E5ECF6",
          "polar": {
           "angularaxis": {
            "gridcolor": "white",
            "linecolor": "white",
            "ticks": ""
           },
           "bgcolor": "#E5ECF6",
           "radialaxis": {
            "gridcolor": "white",
            "linecolor": "white",
            "ticks": ""
           }
          },
          "scene": {
           "xaxis": {
            "backgroundcolor": "#E5ECF6",
            "gridcolor": "white",
            "gridwidth": 2,
            "linecolor": "white",
            "showbackground": true,
            "ticks": "",
            "zerolinecolor": "white"
           },
           "yaxis": {
            "backgroundcolor": "#E5ECF6",
            "gridcolor": "white",
            "gridwidth": 2,
            "linecolor": "white",
            "showbackground": true,
            "ticks": "",
            "zerolinecolor": "white"
           },
           "zaxis": {
            "backgroundcolor": "#E5ECF6",
            "gridcolor": "white",
            "gridwidth": 2,
            "linecolor": "white",
            "showbackground": true,
            "ticks": "",
            "zerolinecolor": "white"
           }
          },
          "shapedefaults": {
           "line": {
            "color": "#2a3f5f"
           }
          },
          "ternary": {
           "aaxis": {
            "gridcolor": "white",
            "linecolor": "white",
            "ticks": ""
           },
           "baxis": {
            "gridcolor": "white",
            "linecolor": "white",
            "ticks": ""
           },
           "bgcolor": "#E5ECF6",
           "caxis": {
            "gridcolor": "white",
            "linecolor": "white",
            "ticks": ""
           }
          },
          "title": {
           "x": 0.05
          },
          "xaxis": {
           "automargin": true,
           "gridcolor": "white",
           "linecolor": "white",
           "ticks": "",
           "title": {
            "standoff": 15
           },
           "zerolinecolor": "white",
           "zerolinewidth": 2
          },
          "yaxis": {
           "automargin": true,
           "gridcolor": "white",
           "linecolor": "white",
           "ticks": "",
           "title": {
            "standoff": 15
           },
           "zerolinecolor": "white",
           "zerolinewidth": 2
          }
         }
        },
        "title": {
         "text": "Number of Cases outside China"
        },
        "xaxis": {
         "anchor": "y",
         "domain": [
          0,
          1
         ],
         "title": {
          "text": "delay"
         }
        },
        "yaxis": {
         "anchor": "x",
         "domain": [
          0,
          1
         ],
         "title": {
          "text": "order_day"
         }
        }
       }
      },
      "text/html": [
       "<div>\n",
       "        \n",
       "        \n",
       "            <div id=\"b4b2248b-7332-44ea-9fa8-bde2632a0042\" class=\"plotly-graph-div\" style=\"height:800px; width:100%;\"></div>\n",
       "            <script type=\"text/javascript\">\n",
       "                require([\"plotly\"], function(Plotly) {\n",
       "                    window.PLOTLYENV=window.PLOTLYENV || {};\n",
       "                    \n",
       "                if (document.getElementById(\"b4b2248b-7332-44ea-9fa8-bde2632a0042\")) {\n",
       "                    Plotly.newPlot(\n",
       "                        'b4b2248b-7332-44ea-9fa8-bde2632a0042',\n",
       "                        [{\"alignmentgroup\": \"True\", \"hoverlabel\": {\"namelength\": 0}, \"hovertemplate\": \"delay=%{marker.color}<br>order_day=%{y}\", \"legendgroup\": \"\", \"marker\": {\"color\": \"rgb(158,202,225)\", \"coloraxis\": \"coloraxis\", \"line\": {\"color\": \"rgb(8,48,107)\", \"width\": 1.5}}, \"name\": \"\", \"offsetgroup\": \"\", \"opacity\": 0.6, \"orientation\": \"h\", \"showlegend\": false, \"textposition\": \"auto\", \"type\": \"bar\", \"x\": [25.25531914893617, 23.673076923076923, 27.416666666666668, 26.475524475524477, 26.15267175572519, 25.436241610738254, 21.12162162162162], \"xaxis\": \"x\", \"y\": [\"Monday\", \"Tuesday\", \"Wednesday\", \"Thursday\", \"Friday\", \"Saturday\", \"Sunday\"], \"yaxis\": \"y\"}],\n",
       "                        {\"barmode\": \"relative\", \"coloraxis\": {\"colorbar\": {\"title\": {\"text\": \"delay\"}}, \"colorscale\": [[0.0, \"#0d0887\"], [0.1111111111111111, \"#46039f\"], [0.2222222222222222, \"#7201a8\"], [0.3333333333333333, \"#9c179e\"], [0.4444444444444444, \"#bd3786\"], [0.5555555555555556, \"#d8576b\"], [0.6666666666666666, \"#ed7953\"], [0.7777777777777778, \"#fb9f3a\"], [0.8888888888888888, \"#fdca26\"], [1.0, \"#f0f921\"]]}, \"height\": 800, \"legend\": {\"tracegroupgap\": 0}, \"template\": {\"data\": {\"bar\": [{\"error_x\": {\"color\": \"#2a3f5f\"}, \"error_y\": {\"color\": \"#2a3f5f\"}, \"marker\": {\"line\": {\"color\": \"#E5ECF6\", \"width\": 0.5}}, \"type\": \"bar\"}], \"barpolar\": [{\"marker\": {\"line\": {\"color\": \"#E5ECF6\", \"width\": 0.5}}, \"type\": \"barpolar\"}], \"carpet\": [{\"aaxis\": {\"endlinecolor\": \"#2a3f5f\", \"gridcolor\": \"white\", \"linecolor\": \"white\", \"minorgridcolor\": \"white\", \"startlinecolor\": \"#2a3f5f\"}, \"baxis\": {\"endlinecolor\": \"#2a3f5f\", \"gridcolor\": \"white\", \"linecolor\": \"white\", \"minorgridcolor\": \"white\", \"startlinecolor\": \"#2a3f5f\"}, \"type\": \"carpet\"}], \"choropleth\": [{\"colorbar\": {\"outlinewidth\": 0, \"ticks\": \"\"}, \"type\": \"choropleth\"}], \"contour\": [{\"colorbar\": {\"outlinewidth\": 0, \"ticks\": \"\"}, \"colorscale\": [[0.0, \"#0d0887\"], [0.1111111111111111, \"#46039f\"], [0.2222222222222222, \"#7201a8\"], [0.3333333333333333, \"#9c179e\"], [0.4444444444444444, \"#bd3786\"], [0.5555555555555556, \"#d8576b\"], [0.6666666666666666, \"#ed7953\"], [0.7777777777777778, \"#fb9f3a\"], [0.8888888888888888, \"#fdca26\"], [1.0, \"#f0f921\"]], \"type\": \"contour\"}], \"contourcarpet\": [{\"colorbar\": {\"outlinewidth\": 0, \"ticks\": \"\"}, \"type\": \"contourcarpet\"}], \"heatmap\": [{\"colorbar\": {\"outlinewidth\": 0, \"ticks\": \"\"}, \"colorscale\": [[0.0, \"#0d0887\"], [0.1111111111111111, \"#46039f\"], [0.2222222222222222, \"#7201a8\"], [0.3333333333333333, \"#9c179e\"], [0.4444444444444444, \"#bd3786\"], [0.5555555555555556, \"#d8576b\"], [0.6666666666666666, \"#ed7953\"], [0.7777777777777778, \"#fb9f3a\"], [0.8888888888888888, \"#fdca26\"], [1.0, \"#f0f921\"]], \"type\": \"heatmap\"}], \"heatmapgl\": [{\"colorbar\": {\"outlinewidth\": 0, \"ticks\": \"\"}, \"colorscale\": [[0.0, \"#0d0887\"], [0.1111111111111111, \"#46039f\"], [0.2222222222222222, \"#7201a8\"], [0.3333333333333333, \"#9c179e\"], [0.4444444444444444, \"#bd3786\"], [0.5555555555555556, \"#d8576b\"], [0.6666666666666666, \"#ed7953\"], [0.7777777777777778, \"#fb9f3a\"], [0.8888888888888888, \"#fdca26\"], [1.0, \"#f0f921\"]], \"type\": \"heatmapgl\"}], \"histogram\": [{\"marker\": {\"colorbar\": {\"outlinewidth\": 0, \"ticks\": \"\"}}, \"type\": \"histogram\"}], \"histogram2d\": [{\"colorbar\": {\"outlinewidth\": 0, \"ticks\": \"\"}, \"colorscale\": [[0.0, \"#0d0887\"], [0.1111111111111111, \"#46039f\"], [0.2222222222222222, \"#7201a8\"], [0.3333333333333333, \"#9c179e\"], [0.4444444444444444, \"#bd3786\"], [0.5555555555555556, \"#d8576b\"], [0.6666666666666666, \"#ed7953\"], [0.7777777777777778, \"#fb9f3a\"], [0.8888888888888888, \"#fdca26\"], [1.0, \"#f0f921\"]], \"type\": \"histogram2d\"}], \"histogram2dcontour\": [{\"colorbar\": {\"outlinewidth\": 0, \"ticks\": \"\"}, \"colorscale\": [[0.0, \"#0d0887\"], [0.1111111111111111, \"#46039f\"], [0.2222222222222222, \"#7201a8\"], [0.3333333333333333, \"#9c179e\"], [0.4444444444444444, \"#bd3786\"], [0.5555555555555556, \"#d8576b\"], [0.6666666666666666, \"#ed7953\"], [0.7777777777777778, \"#fb9f3a\"], [0.8888888888888888, \"#fdca26\"], [1.0, \"#f0f921\"]], \"type\": \"histogram2dcontour\"}], \"mesh3d\": [{\"colorbar\": {\"outlinewidth\": 0, \"ticks\": \"\"}, \"type\": \"mesh3d\"}], \"parcoords\": [{\"line\": {\"colorbar\": {\"outlinewidth\": 0, \"ticks\": \"\"}}, \"type\": \"parcoords\"}], \"pie\": [{\"automargin\": true, \"type\": \"pie\"}], \"scatter\": [{\"marker\": {\"colorbar\": {\"outlinewidth\": 0, \"ticks\": \"\"}}, \"type\": \"scatter\"}], \"scatter3d\": [{\"line\": {\"colorbar\": {\"outlinewidth\": 0, \"ticks\": \"\"}}, \"marker\": {\"colorbar\": {\"outlinewidth\": 0, \"ticks\": \"\"}}, \"type\": \"scatter3d\"}], \"scattercarpet\": [{\"marker\": {\"colorbar\": {\"outlinewidth\": 0, \"ticks\": \"\"}}, \"type\": \"scattercarpet\"}], \"scattergeo\": [{\"marker\": {\"colorbar\": {\"outlinewidth\": 0, \"ticks\": \"\"}}, \"type\": \"scattergeo\"}], \"scattergl\": [{\"marker\": {\"colorbar\": {\"outlinewidth\": 0, \"ticks\": \"\"}}, \"type\": \"scattergl\"}], \"scattermapbox\": [{\"marker\": {\"colorbar\": {\"outlinewidth\": 0, \"ticks\": \"\"}}, \"type\": \"scattermapbox\"}], \"scatterpolar\": [{\"marker\": {\"colorbar\": {\"outlinewidth\": 0, \"ticks\": \"\"}}, \"type\": \"scatterpolar\"}], \"scatterpolargl\": [{\"marker\": {\"colorbar\": {\"outlinewidth\": 0, \"ticks\": \"\"}}, \"type\": \"scatterpolargl\"}], \"scatterternary\": [{\"marker\": {\"colorbar\": {\"outlinewidth\": 0, \"ticks\": \"\"}}, \"type\": \"scatterternary\"}], \"surface\": [{\"colorbar\": {\"outlinewidth\": 0, \"ticks\": \"\"}, \"colorscale\": [[0.0, \"#0d0887\"], [0.1111111111111111, \"#46039f\"], [0.2222222222222222, \"#7201a8\"], [0.3333333333333333, \"#9c179e\"], [0.4444444444444444, \"#bd3786\"], [0.5555555555555556, \"#d8576b\"], [0.6666666666666666, \"#ed7953\"], [0.7777777777777778, \"#fb9f3a\"], [0.8888888888888888, \"#fdca26\"], [1.0, \"#f0f921\"]], \"type\": \"surface\"}], \"table\": [{\"cells\": {\"fill\": {\"color\": \"#EBF0F8\"}, \"line\": {\"color\": \"white\"}}, \"header\": {\"fill\": {\"color\": \"#C8D4E3\"}, \"line\": {\"color\": \"white\"}}, \"type\": \"table\"}]}, \"layout\": {\"annotationdefaults\": {\"arrowcolor\": \"#2a3f5f\", \"arrowhead\": 0, \"arrowwidth\": 1}, \"coloraxis\": {\"colorbar\": {\"outlinewidth\": 0, \"ticks\": \"\"}}, \"colorscale\": {\"diverging\": [[0, \"#8e0152\"], [0.1, \"#c51b7d\"], [0.2, \"#de77ae\"], [0.3, \"#f1b6da\"], [0.4, \"#fde0ef\"], [0.5, \"#f7f7f7\"], [0.6, \"#e6f5d0\"], [0.7, \"#b8e186\"], [0.8, \"#7fbc41\"], [0.9, \"#4d9221\"], [1, \"#276419\"]], \"sequential\": [[0.0, \"#0d0887\"], [0.1111111111111111, \"#46039f\"], [0.2222222222222222, \"#7201a8\"], [0.3333333333333333, \"#9c179e\"], [0.4444444444444444, \"#bd3786\"], [0.5555555555555556, \"#d8576b\"], [0.6666666666666666, \"#ed7953\"], [0.7777777777777778, \"#fb9f3a\"], [0.8888888888888888, \"#fdca26\"], [1.0, \"#f0f921\"]], \"sequentialminus\": [[0.0, \"#0d0887\"], [0.1111111111111111, \"#46039f\"], [0.2222222222222222, \"#7201a8\"], [0.3333333333333333, \"#9c179e\"], [0.4444444444444444, \"#bd3786\"], [0.5555555555555556, \"#d8576b\"], [0.6666666666666666, \"#ed7953\"], [0.7777777777777778, \"#fb9f3a\"], [0.8888888888888888, \"#fdca26\"], [1.0, \"#f0f921\"]]}, \"colorway\": [\"#636efa\", \"#EF553B\", \"#00cc96\", \"#ab63fa\", \"#FFA15A\", \"#19d3f3\", \"#FF6692\", \"#B6E880\", \"#FF97FF\", \"#FECB52\"], \"font\": {\"color\": \"#2a3f5f\"}, \"geo\": {\"bgcolor\": \"white\", \"lakecolor\": \"white\", \"landcolor\": \"#E5ECF6\", \"showlakes\": true, \"showland\": true, \"subunitcolor\": \"white\"}, \"hoverlabel\": {\"align\": \"left\"}, \"hovermode\": \"closest\", \"mapbox\": {\"style\": \"light\"}, \"paper_bgcolor\": \"white\", \"plot_bgcolor\": \"#E5ECF6\", \"polar\": {\"angularaxis\": {\"gridcolor\": \"white\", \"linecolor\": \"white\", \"ticks\": \"\"}, \"bgcolor\": \"#E5ECF6\", \"radialaxis\": {\"gridcolor\": \"white\", \"linecolor\": \"white\", \"ticks\": \"\"}}, \"scene\": {\"xaxis\": {\"backgroundcolor\": \"#E5ECF6\", \"gridcolor\": \"white\", \"gridwidth\": 2, \"linecolor\": \"white\", \"showbackground\": true, \"ticks\": \"\", \"zerolinecolor\": \"white\"}, \"yaxis\": {\"backgroundcolor\": \"#E5ECF6\", \"gridcolor\": \"white\", \"gridwidth\": 2, \"linecolor\": \"white\", \"showbackground\": true, \"ticks\": \"\", \"zerolinecolor\": \"white\"}, \"zaxis\": {\"backgroundcolor\": \"#E5ECF6\", \"gridcolor\": \"white\", \"gridwidth\": 2, \"linecolor\": \"white\", \"showbackground\": true, \"ticks\": \"\", \"zerolinecolor\": \"white\"}}, \"shapedefaults\": {\"line\": {\"color\": \"#2a3f5f\"}}, \"ternary\": {\"aaxis\": {\"gridcolor\": \"white\", \"linecolor\": \"white\", \"ticks\": \"\"}, \"baxis\": {\"gridcolor\": \"white\", \"linecolor\": \"white\", \"ticks\": \"\"}, \"bgcolor\": \"#E5ECF6\", \"caxis\": {\"gridcolor\": \"white\", \"linecolor\": \"white\", \"ticks\": \"\"}}, \"title\": {\"x\": 0.05}, \"xaxis\": {\"automargin\": true, \"gridcolor\": \"white\", \"linecolor\": \"white\", \"ticks\": \"\", \"title\": {\"standoff\": 15}, \"zerolinecolor\": \"white\", \"zerolinewidth\": 2}, \"yaxis\": {\"automargin\": true, \"gridcolor\": \"white\", \"linecolor\": \"white\", \"ticks\": \"\", \"title\": {\"standoff\": 15}, \"zerolinecolor\": \"white\", \"zerolinewidth\": 2}}}, \"title\": {\"text\": \"Number of Cases outside China\"}, \"xaxis\": {\"anchor\": \"y\", \"domain\": [0.0, 1.0], \"title\": {\"text\": \"delay\"}}, \"yaxis\": {\"anchor\": \"x\", \"domain\": [0.0, 1.0], \"title\": {\"text\": \"order_day\"}}},\n",
       "                        {\"responsive\": true}\n",
       "                    ).then(function(){\n",
       "                            \n",
       "var gd = document.getElementById('b4b2248b-7332-44ea-9fa8-bde2632a0042');\n",
       "var x = new MutationObserver(function (mutations, observer) {{\n",
       "        var display = window.getComputedStyle(gd).display;\n",
       "        if (!display || display === 'none') {{\n",
       "            console.log([gd, 'removed!']);\n",
       "            Plotly.purge(gd);\n",
       "            observer.disconnect();\n",
       "        }}\n",
       "}});\n",
       "\n",
       "// Listen for the removal of the full notebook cells\n",
       "var notebookContainer = gd.closest('#notebook-container');\n",
       "if (notebookContainer) {{\n",
       "    x.observe(notebookContainer, {childList: true});\n",
       "}}\n",
       "\n",
       "// Listen for the clearing of the current output cell\n",
       "var outputEl = gd.closest('.output');\n",
       "if (outputEl) {{\n",
       "    x.observe(outputEl, {childList: true});\n",
       "}}\n",
       "\n",
       "                        })\n",
       "                };\n",
       "                });\n",
       "            </script>\n",
       "        </div>"
      ]
     },
     "metadata": {},
     "output_type": "display_data"
    }
   ],
   "source": [
    "df_dates = df.loc[:,[\"Order Date\", \"Ship Date\", \"Country\"]]\n",
    "df_dates[\"Order Date\"] = pd.to_datetime(df_dates[\"Order Date\"])\n",
    "df_dates[\"Ship Date\"] = pd.to_datetime(df_dates[\"Ship Date\"])\n",
    "df_dates[\"delay\"] = df_dates['Ship Date'] - df_dates['Order Date']\n",
    "df_dates[\"delay\"] = df_dates[\"delay\"].dt.days\n",
    "df_dates[\"order_day\"] = df_dates[\"Order Date\"].dt.day_name()\n",
    "\n",
    "df_dates_delay = df_dates.groupby(\"order_day\")[\"order_day\", \"delay\"].mean().reset_index()\n",
    "cats = ['Monday', 'Tuesday', 'Wednesday', 'Thursday', 'Friday', 'Saturday', 'Sunday']\n",
    "df_dates_delay['order_day'] = pd.Categorical(df_dates_delay['order_day'], categories=cats, ordered=True)\n",
    "df_dates_delay = df_dates_delay.sort_values('order_day')\n",
    "df_dates_delay\n",
    "fig = px.bar(df_dates_delay, \n",
    "             x=\"delay\", y=\"order_day\", height=800,\n",
    "             title='Number of Cases outside China', color='delay', orientation=\"h\")\n",
    "fig.update_traces(marker_color='rgb(158,202,225)', marker_line_color='rgb(8,48,107)',\n",
    "                  marker_line_width=1.5, opacity=0.6)\n",
    "fig.show()\n"
   ]
  },
  {
   "cell_type": "code",
   "execution_count": 125,
   "metadata": {},
   "outputs": [
    {
     "data": {
      "application/vnd.plotly.v1+json": {
       "config": {
        "plotlyServerURL": "https://plot.ly"
       },
       "data": [
        {
         "domain": {
          "x": [
           0,
           1
          ],
          "y": [
           0,
           1
          ]
         },
         "hoverlabel": {
          "namelength": 0
         },
         "hovertemplate": "priority=%{label}<br>cuenta=%{value}",
         "labels": [
          "L",
          "C",
          "M",
          "H"
         ],
         "legendgroup": "",
         "name": "",
         "showlegend": true,
         "type": "pie",
         "values": [
          268,
          262,
          242,
          228
         ]
        }
       ],
       "layout": {
        "legend": {
         "tracegroupgap": 0
        },
        "template": {
         "data": {
          "bar": [
           {
            "error_x": {
             "color": "#2a3f5f"
            },
            "error_y": {
             "color": "#2a3f5f"
            },
            "marker": {
             "line": {
              "color": "#E5ECF6",
              "width": 0.5
             }
            },
            "type": "bar"
           }
          ],
          "barpolar": [
           {
            "marker": {
             "line": {
              "color": "#E5ECF6",
              "width": 0.5
             }
            },
            "type": "barpolar"
           }
          ],
          "carpet": [
           {
            "aaxis": {
             "endlinecolor": "#2a3f5f",
             "gridcolor": "white",
             "linecolor": "white",
             "minorgridcolor": "white",
             "startlinecolor": "#2a3f5f"
            },
            "baxis": {
             "endlinecolor": "#2a3f5f",
             "gridcolor": "white",
             "linecolor": "white",
             "minorgridcolor": "white",
             "startlinecolor": "#2a3f5f"
            },
            "type": "carpet"
           }
          ],
          "choropleth": [
           {
            "colorbar": {
             "outlinewidth": 0,
             "ticks": ""
            },
            "type": "choropleth"
           }
          ],
          "contour": [
           {
            "colorbar": {
             "outlinewidth": 0,
             "ticks": ""
            },
            "colorscale": [
             [
              0,
              "#0d0887"
             ],
             [
              0.1111111111111111,
              "#46039f"
             ],
             [
              0.2222222222222222,
              "#7201a8"
             ],
             [
              0.3333333333333333,
              "#9c179e"
             ],
             [
              0.4444444444444444,
              "#bd3786"
             ],
             [
              0.5555555555555556,
              "#d8576b"
             ],
             [
              0.6666666666666666,
              "#ed7953"
             ],
             [
              0.7777777777777778,
              "#fb9f3a"
             ],
             [
              0.8888888888888888,
              "#fdca26"
             ],
             [
              1,
              "#f0f921"
             ]
            ],
            "type": "contour"
           }
          ],
          "contourcarpet": [
           {
            "colorbar": {
             "outlinewidth": 0,
             "ticks": ""
            },
            "type": "contourcarpet"
           }
          ],
          "heatmap": [
           {
            "colorbar": {
             "outlinewidth": 0,
             "ticks": ""
            },
            "colorscale": [
             [
              0,
              "#0d0887"
             ],
             [
              0.1111111111111111,
              "#46039f"
             ],
             [
              0.2222222222222222,
              "#7201a8"
             ],
             [
              0.3333333333333333,
              "#9c179e"
             ],
             [
              0.4444444444444444,
              "#bd3786"
             ],
             [
              0.5555555555555556,
              "#d8576b"
             ],
             [
              0.6666666666666666,
              "#ed7953"
             ],
             [
              0.7777777777777778,
              "#fb9f3a"
             ],
             [
              0.8888888888888888,
              "#fdca26"
             ],
             [
              1,
              "#f0f921"
             ]
            ],
            "type": "heatmap"
           }
          ],
          "heatmapgl": [
           {
            "colorbar": {
             "outlinewidth": 0,
             "ticks": ""
            },
            "colorscale": [
             [
              0,
              "#0d0887"
             ],
             [
              0.1111111111111111,
              "#46039f"
             ],
             [
              0.2222222222222222,
              "#7201a8"
             ],
             [
              0.3333333333333333,
              "#9c179e"
             ],
             [
              0.4444444444444444,
              "#bd3786"
             ],
             [
              0.5555555555555556,
              "#d8576b"
             ],
             [
              0.6666666666666666,
              "#ed7953"
             ],
             [
              0.7777777777777778,
              "#fb9f3a"
             ],
             [
              0.8888888888888888,
              "#fdca26"
             ],
             [
              1,
              "#f0f921"
             ]
            ],
            "type": "heatmapgl"
           }
          ],
          "histogram": [
           {
            "marker": {
             "colorbar": {
              "outlinewidth": 0,
              "ticks": ""
             }
            },
            "type": "histogram"
           }
          ],
          "histogram2d": [
           {
            "colorbar": {
             "outlinewidth": 0,
             "ticks": ""
            },
            "colorscale": [
             [
              0,
              "#0d0887"
             ],
             [
              0.1111111111111111,
              "#46039f"
             ],
             [
              0.2222222222222222,
              "#7201a8"
             ],
             [
              0.3333333333333333,
              "#9c179e"
             ],
             [
              0.4444444444444444,
              "#bd3786"
             ],
             [
              0.5555555555555556,
              "#d8576b"
             ],
             [
              0.6666666666666666,
              "#ed7953"
             ],
             [
              0.7777777777777778,
              "#fb9f3a"
             ],
             [
              0.8888888888888888,
              "#fdca26"
             ],
             [
              1,
              "#f0f921"
             ]
            ],
            "type": "histogram2d"
           }
          ],
          "histogram2dcontour": [
           {
            "colorbar": {
             "outlinewidth": 0,
             "ticks": ""
            },
            "colorscale": [
             [
              0,
              "#0d0887"
             ],
             [
              0.1111111111111111,
              "#46039f"
             ],
             [
              0.2222222222222222,
              "#7201a8"
             ],
             [
              0.3333333333333333,
              "#9c179e"
             ],
             [
              0.4444444444444444,
              "#bd3786"
             ],
             [
              0.5555555555555556,
              "#d8576b"
             ],
             [
              0.6666666666666666,
              "#ed7953"
             ],
             [
              0.7777777777777778,
              "#fb9f3a"
             ],
             [
              0.8888888888888888,
              "#fdca26"
             ],
             [
              1,
              "#f0f921"
             ]
            ],
            "type": "histogram2dcontour"
           }
          ],
          "mesh3d": [
           {
            "colorbar": {
             "outlinewidth": 0,
             "ticks": ""
            },
            "type": "mesh3d"
           }
          ],
          "parcoords": [
           {
            "line": {
             "colorbar": {
              "outlinewidth": 0,
              "ticks": ""
             }
            },
            "type": "parcoords"
           }
          ],
          "pie": [
           {
            "automargin": true,
            "type": "pie"
           }
          ],
          "scatter": [
           {
            "marker": {
             "colorbar": {
              "outlinewidth": 0,
              "ticks": ""
             }
            },
            "type": "scatter"
           }
          ],
          "scatter3d": [
           {
            "line": {
             "colorbar": {
              "outlinewidth": 0,
              "ticks": ""
             }
            },
            "marker": {
             "colorbar": {
              "outlinewidth": 0,
              "ticks": ""
             }
            },
            "type": "scatter3d"
           }
          ],
          "scattercarpet": [
           {
            "marker": {
             "colorbar": {
              "outlinewidth": 0,
              "ticks": ""
             }
            },
            "type": "scattercarpet"
           }
          ],
          "scattergeo": [
           {
            "marker": {
             "colorbar": {
              "outlinewidth": 0,
              "ticks": ""
             }
            },
            "type": "scattergeo"
           }
          ],
          "scattergl": [
           {
            "marker": {
             "colorbar": {
              "outlinewidth": 0,
              "ticks": ""
             }
            },
            "type": "scattergl"
           }
          ],
          "scattermapbox": [
           {
            "marker": {
             "colorbar": {
              "outlinewidth": 0,
              "ticks": ""
             }
            },
            "type": "scattermapbox"
           }
          ],
          "scatterpolar": [
           {
            "marker": {
             "colorbar": {
              "outlinewidth": 0,
              "ticks": ""
             }
            },
            "type": "scatterpolar"
           }
          ],
          "scatterpolargl": [
           {
            "marker": {
             "colorbar": {
              "outlinewidth": 0,
              "ticks": ""
             }
            },
            "type": "scatterpolargl"
           }
          ],
          "scatterternary": [
           {
            "marker": {
             "colorbar": {
              "outlinewidth": 0,
              "ticks": ""
             }
            },
            "type": "scatterternary"
           }
          ],
          "surface": [
           {
            "colorbar": {
             "outlinewidth": 0,
             "ticks": ""
            },
            "colorscale": [
             [
              0,
              "#0d0887"
             ],
             [
              0.1111111111111111,
              "#46039f"
             ],
             [
              0.2222222222222222,
              "#7201a8"
             ],
             [
              0.3333333333333333,
              "#9c179e"
             ],
             [
              0.4444444444444444,
              "#bd3786"
             ],
             [
              0.5555555555555556,
              "#d8576b"
             ],
             [
              0.6666666666666666,
              "#ed7953"
             ],
             [
              0.7777777777777778,
              "#fb9f3a"
             ],
             [
              0.8888888888888888,
              "#fdca26"
             ],
             [
              1,
              "#f0f921"
             ]
            ],
            "type": "surface"
           }
          ],
          "table": [
           {
            "cells": {
             "fill": {
              "color": "#EBF0F8"
             },
             "line": {
              "color": "white"
             }
            },
            "header": {
             "fill": {
              "color": "#C8D4E3"
             },
             "line": {
              "color": "white"
             }
            },
            "type": "table"
           }
          ]
         },
         "layout": {
          "annotationdefaults": {
           "arrowcolor": "#2a3f5f",
           "arrowhead": 0,
           "arrowwidth": 1
          },
          "coloraxis": {
           "colorbar": {
            "outlinewidth": 0,
            "ticks": ""
           }
          },
          "colorscale": {
           "diverging": [
            [
             0,
             "#8e0152"
            ],
            [
             0.1,
             "#c51b7d"
            ],
            [
             0.2,
             "#de77ae"
            ],
            [
             0.3,
             "#f1b6da"
            ],
            [
             0.4,
             "#fde0ef"
            ],
            [
             0.5,
             "#f7f7f7"
            ],
            [
             0.6,
             "#e6f5d0"
            ],
            [
             0.7,
             "#b8e186"
            ],
            [
             0.8,
             "#7fbc41"
            ],
            [
             0.9,
             "#4d9221"
            ],
            [
             1,
             "#276419"
            ]
           ],
           "sequential": [
            [
             0,
             "#0d0887"
            ],
            [
             0.1111111111111111,
             "#46039f"
            ],
            [
             0.2222222222222222,
             "#7201a8"
            ],
            [
             0.3333333333333333,
             "#9c179e"
            ],
            [
             0.4444444444444444,
             "#bd3786"
            ],
            [
             0.5555555555555556,
             "#d8576b"
            ],
            [
             0.6666666666666666,
             "#ed7953"
            ],
            [
             0.7777777777777778,
             "#fb9f3a"
            ],
            [
             0.8888888888888888,
             "#fdca26"
            ],
            [
             1,
             "#f0f921"
            ]
           ],
           "sequentialminus": [
            [
             0,
             "#0d0887"
            ],
            [
             0.1111111111111111,
             "#46039f"
            ],
            [
             0.2222222222222222,
             "#7201a8"
            ],
            [
             0.3333333333333333,
             "#9c179e"
            ],
            [
             0.4444444444444444,
             "#bd3786"
            ],
            [
             0.5555555555555556,
             "#d8576b"
            ],
            [
             0.6666666666666666,
             "#ed7953"
            ],
            [
             0.7777777777777778,
             "#fb9f3a"
            ],
            [
             0.8888888888888888,
             "#fdca26"
            ],
            [
             1,
             "#f0f921"
            ]
           ]
          },
          "colorway": [
           "#636efa",
           "#EF553B",
           "#00cc96",
           "#ab63fa",
           "#FFA15A",
           "#19d3f3",
           "#FF6692",
           "#B6E880",
           "#FF97FF",
           "#FECB52"
          ],
          "font": {
           "color": "#2a3f5f"
          },
          "geo": {
           "bgcolor": "white",
           "lakecolor": "white",
           "landcolor": "#E5ECF6",
           "showlakes": true,
           "showland": true,
           "subunitcolor": "white"
          },
          "hoverlabel": {
           "align": "left"
          },
          "hovermode": "closest",
          "mapbox": {
           "style": "light"
          },
          "paper_bgcolor": "white",
          "plot_bgcolor": "#E5ECF6",
          "polar": {
           "angularaxis": {
            "gridcolor": "white",
            "linecolor": "white",
            "ticks": ""
           },
           "bgcolor": "#E5ECF6",
           "radialaxis": {
            "gridcolor": "white",
            "linecolor": "white",
            "ticks": ""
           }
          },
          "scene": {
           "xaxis": {
            "backgroundcolor": "#E5ECF6",
            "gridcolor": "white",
            "gridwidth": 2,
            "linecolor": "white",
            "showbackground": true,
            "ticks": "",
            "zerolinecolor": "white"
           },
           "yaxis": {
            "backgroundcolor": "#E5ECF6",
            "gridcolor": "white",
            "gridwidth": 2,
            "linecolor": "white",
            "showbackground": true,
            "ticks": "",
            "zerolinecolor": "white"
           },
           "zaxis": {
            "backgroundcolor": "#E5ECF6",
            "gridcolor": "white",
            "gridwidth": 2,
            "linecolor": "white",
            "showbackground": true,
            "ticks": "",
            "zerolinecolor": "white"
           }
          },
          "shapedefaults": {
           "line": {
            "color": "#2a3f5f"
           }
          },
          "ternary": {
           "aaxis": {
            "gridcolor": "white",
            "linecolor": "white",
            "ticks": ""
           },
           "baxis": {
            "gridcolor": "white",
            "linecolor": "white",
            "ticks": ""
           },
           "bgcolor": "#E5ECF6",
           "caxis": {
            "gridcolor": "white",
            "linecolor": "white",
            "ticks": ""
           }
          },
          "title": {
           "x": 0.05
          },
          "xaxis": {
           "automargin": true,
           "gridcolor": "white",
           "linecolor": "white",
           "ticks": "",
           "title": {
            "standoff": 15
           },
           "zerolinecolor": "white",
           "zerolinewidth": 2
          },
          "yaxis": {
           "automargin": true,
           "gridcolor": "white",
           "linecolor": "white",
           "ticks": "",
           "title": {
            "standoff": 15
           },
           "zerolinecolor": "white",
           "zerolinewidth": 2
          }
         }
        },
        "title": {
         "text": "Population of European continent"
        }
       }
      },
      "text/html": [
       "<div>\n",
       "        \n",
       "        \n",
       "            <div id=\"1f121298-6093-44d7-8605-568c3dae6c18\" class=\"plotly-graph-div\" style=\"height:525px; width:100%;\"></div>\n",
       "            <script type=\"text/javascript\">\n",
       "                require([\"plotly\"], function(Plotly) {\n",
       "                    window.PLOTLYENV=window.PLOTLYENV || {};\n",
       "                    \n",
       "                if (document.getElementById(\"1f121298-6093-44d7-8605-568c3dae6c18\")) {\n",
       "                    Plotly.newPlot(\n",
       "                        '1f121298-6093-44d7-8605-568c3dae6c18',\n",
       "                        [{\"domain\": {\"x\": [0.0, 1.0], \"y\": [0.0, 1.0]}, \"hoverlabel\": {\"namelength\": 0}, \"hovertemplate\": \"priority=%{label}<br>cuenta=%{value}\", \"labels\": [\"L\", \"C\", \"M\", \"H\"], \"legendgroup\": \"\", \"name\": \"\", \"showlegend\": true, \"type\": \"pie\", \"values\": [268, 262, 242, 228]}],\n",
       "                        {\"legend\": {\"tracegroupgap\": 0}, \"template\": {\"data\": {\"bar\": [{\"error_x\": {\"color\": \"#2a3f5f\"}, \"error_y\": {\"color\": \"#2a3f5f\"}, \"marker\": {\"line\": {\"color\": \"#E5ECF6\", \"width\": 0.5}}, \"type\": \"bar\"}], \"barpolar\": [{\"marker\": {\"line\": {\"color\": \"#E5ECF6\", \"width\": 0.5}}, \"type\": \"barpolar\"}], \"carpet\": [{\"aaxis\": {\"endlinecolor\": \"#2a3f5f\", \"gridcolor\": \"white\", \"linecolor\": \"white\", \"minorgridcolor\": \"white\", \"startlinecolor\": \"#2a3f5f\"}, \"baxis\": {\"endlinecolor\": \"#2a3f5f\", \"gridcolor\": \"white\", \"linecolor\": \"white\", \"minorgridcolor\": \"white\", \"startlinecolor\": \"#2a3f5f\"}, \"type\": \"carpet\"}], \"choropleth\": [{\"colorbar\": {\"outlinewidth\": 0, \"ticks\": \"\"}, \"type\": \"choropleth\"}], \"contour\": [{\"colorbar\": {\"outlinewidth\": 0, \"ticks\": \"\"}, \"colorscale\": [[0.0, \"#0d0887\"], [0.1111111111111111, \"#46039f\"], [0.2222222222222222, \"#7201a8\"], [0.3333333333333333, \"#9c179e\"], [0.4444444444444444, \"#bd3786\"], [0.5555555555555556, \"#d8576b\"], [0.6666666666666666, \"#ed7953\"], [0.7777777777777778, \"#fb9f3a\"], [0.8888888888888888, \"#fdca26\"], [1.0, \"#f0f921\"]], \"type\": \"contour\"}], \"contourcarpet\": [{\"colorbar\": {\"outlinewidth\": 0, \"ticks\": \"\"}, \"type\": \"contourcarpet\"}], \"heatmap\": [{\"colorbar\": {\"outlinewidth\": 0, \"ticks\": \"\"}, \"colorscale\": [[0.0, \"#0d0887\"], [0.1111111111111111, \"#46039f\"], [0.2222222222222222, \"#7201a8\"], [0.3333333333333333, \"#9c179e\"], [0.4444444444444444, \"#bd3786\"], [0.5555555555555556, \"#d8576b\"], [0.6666666666666666, \"#ed7953\"], [0.7777777777777778, \"#fb9f3a\"], [0.8888888888888888, \"#fdca26\"], [1.0, \"#f0f921\"]], \"type\": \"heatmap\"}], \"heatmapgl\": [{\"colorbar\": {\"outlinewidth\": 0, \"ticks\": \"\"}, \"colorscale\": [[0.0, \"#0d0887\"], [0.1111111111111111, \"#46039f\"], [0.2222222222222222, \"#7201a8\"], [0.3333333333333333, \"#9c179e\"], [0.4444444444444444, \"#bd3786\"], [0.5555555555555556, \"#d8576b\"], [0.6666666666666666, \"#ed7953\"], [0.7777777777777778, \"#fb9f3a\"], [0.8888888888888888, \"#fdca26\"], [1.0, \"#f0f921\"]], \"type\": \"heatmapgl\"}], \"histogram\": [{\"marker\": {\"colorbar\": {\"outlinewidth\": 0, \"ticks\": \"\"}}, \"type\": \"histogram\"}], \"histogram2d\": [{\"colorbar\": {\"outlinewidth\": 0, \"ticks\": \"\"}, \"colorscale\": [[0.0, \"#0d0887\"], [0.1111111111111111, \"#46039f\"], [0.2222222222222222, \"#7201a8\"], [0.3333333333333333, \"#9c179e\"], [0.4444444444444444, \"#bd3786\"], [0.5555555555555556, \"#d8576b\"], [0.6666666666666666, \"#ed7953\"], [0.7777777777777778, \"#fb9f3a\"], [0.8888888888888888, \"#fdca26\"], [1.0, \"#f0f921\"]], \"type\": \"histogram2d\"}], \"histogram2dcontour\": [{\"colorbar\": {\"outlinewidth\": 0, \"ticks\": \"\"}, \"colorscale\": [[0.0, \"#0d0887\"], [0.1111111111111111, \"#46039f\"], [0.2222222222222222, \"#7201a8\"], [0.3333333333333333, \"#9c179e\"], [0.4444444444444444, \"#bd3786\"], [0.5555555555555556, \"#d8576b\"], [0.6666666666666666, \"#ed7953\"], [0.7777777777777778, \"#fb9f3a\"], [0.8888888888888888, \"#fdca26\"], [1.0, \"#f0f921\"]], \"type\": \"histogram2dcontour\"}], \"mesh3d\": [{\"colorbar\": {\"outlinewidth\": 0, \"ticks\": \"\"}, \"type\": \"mesh3d\"}], \"parcoords\": [{\"line\": {\"colorbar\": {\"outlinewidth\": 0, \"ticks\": \"\"}}, \"type\": \"parcoords\"}], \"pie\": [{\"automargin\": true, \"type\": \"pie\"}], \"scatter\": [{\"marker\": {\"colorbar\": {\"outlinewidth\": 0, \"ticks\": \"\"}}, \"type\": \"scatter\"}], \"scatter3d\": [{\"line\": {\"colorbar\": {\"outlinewidth\": 0, \"ticks\": \"\"}}, \"marker\": {\"colorbar\": {\"outlinewidth\": 0, \"ticks\": \"\"}}, \"type\": \"scatter3d\"}], \"scattercarpet\": [{\"marker\": {\"colorbar\": {\"outlinewidth\": 0, \"ticks\": \"\"}}, \"type\": \"scattercarpet\"}], \"scattergeo\": [{\"marker\": {\"colorbar\": {\"outlinewidth\": 0, \"ticks\": \"\"}}, \"type\": \"scattergeo\"}], \"scattergl\": [{\"marker\": {\"colorbar\": {\"outlinewidth\": 0, \"ticks\": \"\"}}, \"type\": \"scattergl\"}], \"scattermapbox\": [{\"marker\": {\"colorbar\": {\"outlinewidth\": 0, \"ticks\": \"\"}}, \"type\": \"scattermapbox\"}], \"scatterpolar\": [{\"marker\": {\"colorbar\": {\"outlinewidth\": 0, \"ticks\": \"\"}}, \"type\": \"scatterpolar\"}], \"scatterpolargl\": [{\"marker\": {\"colorbar\": {\"outlinewidth\": 0, \"ticks\": \"\"}}, \"type\": \"scatterpolargl\"}], \"scatterternary\": [{\"marker\": {\"colorbar\": {\"outlinewidth\": 0, \"ticks\": \"\"}}, \"type\": \"scatterternary\"}], \"surface\": [{\"colorbar\": {\"outlinewidth\": 0, \"ticks\": \"\"}, \"colorscale\": [[0.0, \"#0d0887\"], [0.1111111111111111, \"#46039f\"], [0.2222222222222222, \"#7201a8\"], [0.3333333333333333, \"#9c179e\"], [0.4444444444444444, \"#bd3786\"], [0.5555555555555556, \"#d8576b\"], [0.6666666666666666, \"#ed7953\"], [0.7777777777777778, \"#fb9f3a\"], [0.8888888888888888, \"#fdca26\"], [1.0, \"#f0f921\"]], \"type\": \"surface\"}], \"table\": [{\"cells\": {\"fill\": {\"color\": \"#EBF0F8\"}, \"line\": {\"color\": \"white\"}}, \"header\": {\"fill\": {\"color\": \"#C8D4E3\"}, \"line\": {\"color\": \"white\"}}, \"type\": \"table\"}]}, \"layout\": {\"annotationdefaults\": {\"arrowcolor\": \"#2a3f5f\", \"arrowhead\": 0, \"arrowwidth\": 1}, \"coloraxis\": {\"colorbar\": {\"outlinewidth\": 0, \"ticks\": \"\"}}, \"colorscale\": {\"diverging\": [[0, \"#8e0152\"], [0.1, \"#c51b7d\"], [0.2, \"#de77ae\"], [0.3, \"#f1b6da\"], [0.4, \"#fde0ef\"], [0.5, \"#f7f7f7\"], [0.6, \"#e6f5d0\"], [0.7, \"#b8e186\"], [0.8, \"#7fbc41\"], [0.9, \"#4d9221\"], [1, \"#276419\"]], \"sequential\": [[0.0, \"#0d0887\"], [0.1111111111111111, \"#46039f\"], [0.2222222222222222, \"#7201a8\"], [0.3333333333333333, \"#9c179e\"], [0.4444444444444444, \"#bd3786\"], [0.5555555555555556, \"#d8576b\"], [0.6666666666666666, \"#ed7953\"], [0.7777777777777778, \"#fb9f3a\"], [0.8888888888888888, \"#fdca26\"], [1.0, \"#f0f921\"]], \"sequentialminus\": [[0.0, \"#0d0887\"], [0.1111111111111111, \"#46039f\"], [0.2222222222222222, \"#7201a8\"], [0.3333333333333333, \"#9c179e\"], [0.4444444444444444, \"#bd3786\"], [0.5555555555555556, \"#d8576b\"], [0.6666666666666666, \"#ed7953\"], [0.7777777777777778, \"#fb9f3a\"], [0.8888888888888888, \"#fdca26\"], [1.0, \"#f0f921\"]]}, \"colorway\": [\"#636efa\", \"#EF553B\", \"#00cc96\", \"#ab63fa\", \"#FFA15A\", \"#19d3f3\", \"#FF6692\", \"#B6E880\", \"#FF97FF\", \"#FECB52\"], \"font\": {\"color\": \"#2a3f5f\"}, \"geo\": {\"bgcolor\": \"white\", \"lakecolor\": \"white\", \"landcolor\": \"#E5ECF6\", \"showlakes\": true, \"showland\": true, \"subunitcolor\": \"white\"}, \"hoverlabel\": {\"align\": \"left\"}, \"hovermode\": \"closest\", \"mapbox\": {\"style\": \"light\"}, \"paper_bgcolor\": \"white\", \"plot_bgcolor\": \"#E5ECF6\", \"polar\": {\"angularaxis\": {\"gridcolor\": \"white\", \"linecolor\": \"white\", \"ticks\": \"\"}, \"bgcolor\": \"#E5ECF6\", \"radialaxis\": {\"gridcolor\": \"white\", \"linecolor\": \"white\", \"ticks\": \"\"}}, \"scene\": {\"xaxis\": {\"backgroundcolor\": \"#E5ECF6\", \"gridcolor\": \"white\", \"gridwidth\": 2, \"linecolor\": \"white\", \"showbackground\": true, \"ticks\": \"\", \"zerolinecolor\": \"white\"}, \"yaxis\": {\"backgroundcolor\": \"#E5ECF6\", \"gridcolor\": \"white\", \"gridwidth\": 2, \"linecolor\": \"white\", \"showbackground\": true, \"ticks\": \"\", \"zerolinecolor\": \"white\"}, \"zaxis\": {\"backgroundcolor\": \"#E5ECF6\", \"gridcolor\": \"white\", \"gridwidth\": 2, \"linecolor\": \"white\", \"showbackground\": true, \"ticks\": \"\", \"zerolinecolor\": \"white\"}}, \"shapedefaults\": {\"line\": {\"color\": \"#2a3f5f\"}}, \"ternary\": {\"aaxis\": {\"gridcolor\": \"white\", \"linecolor\": \"white\", \"ticks\": \"\"}, \"baxis\": {\"gridcolor\": \"white\", \"linecolor\": \"white\", \"ticks\": \"\"}, \"bgcolor\": \"#E5ECF6\", \"caxis\": {\"gridcolor\": \"white\", \"linecolor\": \"white\", \"ticks\": \"\"}}, \"title\": {\"x\": 0.05}, \"xaxis\": {\"automargin\": true, \"gridcolor\": \"white\", \"linecolor\": \"white\", \"ticks\": \"\", \"title\": {\"standoff\": 15}, \"zerolinecolor\": \"white\", \"zerolinewidth\": 2}, \"yaxis\": {\"automargin\": true, \"gridcolor\": \"white\", \"linecolor\": \"white\", \"ticks\": \"\", \"title\": {\"standoff\": 15}, \"zerolinecolor\": \"white\", \"zerolinewidth\": 2}}}, \"title\": {\"text\": \"Population of European continent\"}},\n",
       "                        {\"responsive\": true}\n",
       "                    ).then(function(){\n",
       "                            \n",
       "var gd = document.getElementById('1f121298-6093-44d7-8605-568c3dae6c18');\n",
       "var x = new MutationObserver(function (mutations, observer) {{\n",
       "        var display = window.getComputedStyle(gd).display;\n",
       "        if (!display || display === 'none') {{\n",
       "            console.log([gd, 'removed!']);\n",
       "            Plotly.purge(gd);\n",
       "            observer.disconnect();\n",
       "        }}\n",
       "}});\n",
       "\n",
       "// Listen for the removal of the full notebook cells\n",
       "var notebookContainer = gd.closest('#notebook-container');\n",
       "if (notebookContainer) {{\n",
       "    x.observe(notebookContainer, {childList: true});\n",
       "}}\n",
       "\n",
       "// Listen for the clearing of the current output cell\n",
       "var outputEl = gd.closest('.output');\n",
       "if (outputEl) {{\n",
       "    x.observe(outputEl, {childList: true});\n",
       "}}\n",
       "\n",
       "                        })\n",
       "                };\n",
       "                });\n",
       "            </script>\n",
       "        </div>"
      ]
     },
     "metadata": {},
     "output_type": "display_data"
    }
   ],
   "source": [
    "df_priority = df[\"Order Priority\"]\n",
    "df_prioridad = pd.DataFrame(df_priority.value_counts()).reset_index().rename(columns={\"index\":\"priority\", \"Order Priority\":\"cuenta\"})\n",
    "\n",
    "fig = px.pie(df_prioridad, values='cuenta', names='priority', title='Population of European continent')\n",
    "fig.show()"
   ]
  },
  {
   "cell_type": "code",
   "execution_count": 31,
   "metadata": {},
   "outputs": [
    {
     "data": {
      "application/vnd.plotly.v1+json": {
       "config": {
        "plotlyServerURL": "https://plot.ly"
       },
       "data": [
        {
         "hoverlabel": {
          "namelength": 0
         },
         "hovertemplate": "<b>%{hovertext}</b><br><br>Order Date=%{x}<br>Total Profit=%{y}",
         "hovertext": [
          "2010-01-31T00:00:00",
          "2010-02-28T00:00:00",
          "2010-03-31T00:00:00",
          "2010-04-30T00:00:00",
          "2010-05-31T00:00:00",
          "2010-06-30T00:00:00",
          "2010-07-31T00:00:00",
          "2010-08-31T00:00:00",
          "2010-09-30T00:00:00",
          "2010-10-31T00:00:00",
          "2010-11-30T00:00:00",
          "2010-12-31T00:00:00",
          "2011-01-31T00:00:00",
          "2011-02-28T00:00:00",
          "2011-03-31T00:00:00",
          "2011-04-30T00:00:00",
          "2011-05-31T00:00:00",
          "2011-06-30T00:00:00",
          "2011-07-31T00:00:00",
          "2011-08-31T00:00:00",
          "2011-09-30T00:00:00",
          "2011-10-31T00:00:00",
          "2011-11-30T00:00:00",
          "2011-12-31T00:00:00",
          "2012-01-31T00:00:00",
          "2012-02-29T00:00:00",
          "2012-03-31T00:00:00",
          "2012-04-30T00:00:00",
          "2012-05-31T00:00:00",
          "2012-06-30T00:00:00",
          "2012-07-31T00:00:00",
          "2012-08-31T00:00:00",
          "2012-09-30T00:00:00",
          "2012-10-31T00:00:00",
          "2012-11-30T00:00:00",
          "2012-12-31T00:00:00",
          "2013-01-31T00:00:00",
          "2013-02-28T00:00:00",
          "2013-03-31T00:00:00",
          "2013-04-30T00:00:00",
          "2013-05-31T00:00:00",
          "2013-06-30T00:00:00",
          "2013-07-31T00:00:00",
          "2013-08-31T00:00:00",
          "2013-09-30T00:00:00",
          "2013-10-31T00:00:00",
          "2013-11-30T00:00:00",
          "2013-12-31T00:00:00",
          "2014-01-31T00:00:00",
          "2014-02-28T00:00:00",
          "2014-03-31T00:00:00",
          "2014-04-30T00:00:00",
          "2014-05-31T00:00:00",
          "2014-06-30T00:00:00",
          "2014-07-31T00:00:00",
          "2014-08-31T00:00:00",
          "2014-09-30T00:00:00",
          "2014-10-31T00:00:00",
          "2014-11-30T00:00:00",
          "2014-12-31T00:00:00",
          "2015-01-31T00:00:00",
          "2015-02-28T00:00:00",
          "2015-03-31T00:00:00",
          "2015-04-30T00:00:00",
          "2015-05-31T00:00:00",
          "2015-06-30T00:00:00",
          "2015-07-31T00:00:00",
          "2015-08-31T00:00:00",
          "2015-09-30T00:00:00",
          "2015-10-31T00:00:00",
          "2015-11-30T00:00:00",
          "2015-12-31T00:00:00",
          "2016-01-31T00:00:00",
          "2016-02-29T00:00:00",
          "2016-03-31T00:00:00",
          "2016-04-30T00:00:00",
          "2016-05-31T00:00:00",
          "2016-06-30T00:00:00",
          "2016-07-31T00:00:00",
          "2016-08-31T00:00:00",
          "2016-09-30T00:00:00",
          "2016-10-31T00:00:00",
          "2016-11-30T00:00:00",
          "2016-12-31T00:00:00",
          "2017-01-31T00:00:00",
          "2017-02-28T00:00:00",
          "2017-03-31T00:00:00",
          "2017-04-30T00:00:00",
          "2017-05-31T00:00:00",
          "2017-06-30T00:00:00",
          "2017-07-31T00:00:00"
         ],
         "legendgroup": "",
         "line": {
          "color": "#636efa",
          "dash": "solid"
         },
         "mode": "lines",
         "name": "",
         "showlegend": false,
         "type": "scatter",
         "x": [
          "2010-01-31T00:00:00",
          "2010-02-28T00:00:00",
          "2010-03-31T00:00:00",
          "2010-04-30T00:00:00",
          "2010-05-31T00:00:00",
          "2010-06-30T00:00:00",
          "2010-07-31T00:00:00",
          "2010-08-31T00:00:00",
          "2010-09-30T00:00:00",
          "2010-10-31T00:00:00",
          "2010-11-30T00:00:00",
          "2010-12-31T00:00:00",
          "2011-01-31T00:00:00",
          "2011-02-28T00:00:00",
          "2011-03-31T00:00:00",
          "2011-04-30T00:00:00",
          "2011-05-31T00:00:00",
          "2011-06-30T00:00:00",
          "2011-07-31T00:00:00",
          "2011-08-31T00:00:00",
          "2011-09-30T00:00:00",
          "2011-10-31T00:00:00",
          "2011-11-30T00:00:00",
          "2011-12-31T00:00:00",
          "2012-01-31T00:00:00",
          "2012-02-29T00:00:00",
          "2012-03-31T00:00:00",
          "2012-04-30T00:00:00",
          "2012-05-31T00:00:00",
          "2012-06-30T00:00:00",
          "2012-07-31T00:00:00",
          "2012-08-31T00:00:00",
          "2012-09-30T00:00:00",
          "2012-10-31T00:00:00",
          "2012-11-30T00:00:00",
          "2012-12-31T00:00:00",
          "2013-01-31T00:00:00",
          "2013-02-28T00:00:00",
          "2013-03-31T00:00:00",
          "2013-04-30T00:00:00",
          "2013-05-31T00:00:00",
          "2013-06-30T00:00:00",
          "2013-07-31T00:00:00",
          "2013-08-31T00:00:00",
          "2013-09-30T00:00:00",
          "2013-10-31T00:00:00",
          "2013-11-30T00:00:00",
          "2013-12-31T00:00:00",
          "2014-01-31T00:00:00",
          "2014-02-28T00:00:00",
          "2014-03-31T00:00:00",
          "2014-04-30T00:00:00",
          "2014-05-31T00:00:00",
          "2014-06-30T00:00:00",
          "2014-07-31T00:00:00",
          "2014-08-31T00:00:00",
          "2014-09-30T00:00:00",
          "2014-10-31T00:00:00",
          "2014-11-30T00:00:00",
          "2014-12-31T00:00:00",
          "2015-01-31T00:00:00",
          "2015-02-28T00:00:00",
          "2015-03-31T00:00:00",
          "2015-04-30T00:00:00",
          "2015-05-31T00:00:00",
          "2015-06-30T00:00:00",
          "2015-07-31T00:00:00",
          "2015-08-31T00:00:00",
          "2015-09-30T00:00:00",
          "2015-10-31T00:00:00",
          "2015-11-30T00:00:00",
          "2015-12-31T00:00:00",
          "2016-01-31T00:00:00",
          "2016-02-29T00:00:00",
          "2016-03-31T00:00:00",
          "2016-04-30T00:00:00",
          "2016-05-31T00:00:00",
          "2016-06-30T00:00:00",
          "2016-07-31T00:00:00",
          "2016-08-31T00:00:00",
          "2016-09-30T00:00:00",
          "2016-10-31T00:00:00",
          "2016-11-30T00:00:00",
          "2016-12-31T00:00:00",
          "2017-01-31T00:00:00",
          "2017-02-28T00:00:00",
          "2017-03-31T00:00:00",
          "2017-04-30T00:00:00",
          "2017-05-31T00:00:00",
          "2017-06-30T00:00:00",
          "2017-07-31T00:00:00"
         ],
         "xaxis": "x",
         "y": [
          3626690.5100000002,
          7469500.3100000005,
          2063117.83,
          5013297.13,
          5588260.83,
          4372839.49,
          3934440.5500000003,
          6484308.33,
          2619406.52,
          5859796.68,
          2193354.74,
          3704557.3799999994,
          4344317.960000001,
          2762426.55,
          3298602.0800000005,
          2891049.19,
          5184944.2299999995,
          2000936.6400000001,
          4596557.5,
          5754095.2,
          2851165.19,
          6995946.16,
          1323622.49,
          1630615.24,
          5639865.21,
          2580356.98,
          5925466.640000001,
          2215917.9699999997,
          3865020.27,
          5364382.02,
          4856569.99,
          5543230.819999999,
          3035594.4099999997,
          2411950.58,
          5786757.02,
          3275001.9400000004,
          4823974.699999999,
          9640186.879999999,
          2642705.7,
          2213936.71,
          1306012.4700000002,
          4397483.66,
          2882454.7500000005,
          8085919.160000001,
          2527881.54,
          7387426.7299999995,
          4256593.590000001,
          3611219.9400000004,
          4392360.149999999,
          6761717.11,
          4708679.220000002,
          7557246.87,
          3951681.8300000005,
          2508889.91,
          5644369.32,
          6198514.1899999995,
          3164125.92,
          5914686.04,
          3736617.4099999997,
          3514611.2300000004,
          3628502.42,
          5949089.02,
          6216552.370000001,
          5457397.7299999995,
          764215.1,
          5659663.32,
          3162378.87,
          5072217.089999999,
          4576995.82,
          5057450.47,
          3273961,
          4106410.35,
          5934554.3100000005,
          3283798.87,
          6821181.4399999995,
          3744290.13,
          2430095.8,
          1277524.68,
          5131311.950000001,
          5262618.569999999,
          910151.51,
          2168505.79,
          4187108.49,
          9121647.700000001,
          3799789.45,
          4553581.96,
          6566057.26,
          2061113.5699999998,
          3713807.76,
          4218722.709999999,
          4198658.44
         ],
         "yaxis": "y"
        }
       ],
       "layout": {
        "legend": {
         "tracegroupgap": 0
        },
        "margin": {
         "t": 60
        },
        "template": {
         "data": {
          "bar": [
           {
            "error_x": {
             "color": "#2a3f5f"
            },
            "error_y": {
             "color": "#2a3f5f"
            },
            "marker": {
             "line": {
              "color": "#E5ECF6",
              "width": 0.5
             }
            },
            "type": "bar"
           }
          ],
          "barpolar": [
           {
            "marker": {
             "line": {
              "color": "#E5ECF6",
              "width": 0.5
             }
            },
            "type": "barpolar"
           }
          ],
          "carpet": [
           {
            "aaxis": {
             "endlinecolor": "#2a3f5f",
             "gridcolor": "white",
             "linecolor": "white",
             "minorgridcolor": "white",
             "startlinecolor": "#2a3f5f"
            },
            "baxis": {
             "endlinecolor": "#2a3f5f",
             "gridcolor": "white",
             "linecolor": "white",
             "minorgridcolor": "white",
             "startlinecolor": "#2a3f5f"
            },
            "type": "carpet"
           }
          ],
          "choropleth": [
           {
            "colorbar": {
             "outlinewidth": 0,
             "ticks": ""
            },
            "type": "choropleth"
           }
          ],
          "contour": [
           {
            "colorbar": {
             "outlinewidth": 0,
             "ticks": ""
            },
            "colorscale": [
             [
              0,
              "#0d0887"
             ],
             [
              0.1111111111111111,
              "#46039f"
             ],
             [
              0.2222222222222222,
              "#7201a8"
             ],
             [
              0.3333333333333333,
              "#9c179e"
             ],
             [
              0.4444444444444444,
              "#bd3786"
             ],
             [
              0.5555555555555556,
              "#d8576b"
             ],
             [
              0.6666666666666666,
              "#ed7953"
             ],
             [
              0.7777777777777778,
              "#fb9f3a"
             ],
             [
              0.8888888888888888,
              "#fdca26"
             ],
             [
              1,
              "#f0f921"
             ]
            ],
            "type": "contour"
           }
          ],
          "contourcarpet": [
           {
            "colorbar": {
             "outlinewidth": 0,
             "ticks": ""
            },
            "type": "contourcarpet"
           }
          ],
          "heatmap": [
           {
            "colorbar": {
             "outlinewidth": 0,
             "ticks": ""
            },
            "colorscale": [
             [
              0,
              "#0d0887"
             ],
             [
              0.1111111111111111,
              "#46039f"
             ],
             [
              0.2222222222222222,
              "#7201a8"
             ],
             [
              0.3333333333333333,
              "#9c179e"
             ],
             [
              0.4444444444444444,
              "#bd3786"
             ],
             [
              0.5555555555555556,
              "#d8576b"
             ],
             [
              0.6666666666666666,
              "#ed7953"
             ],
             [
              0.7777777777777778,
              "#fb9f3a"
             ],
             [
              0.8888888888888888,
              "#fdca26"
             ],
             [
              1,
              "#f0f921"
             ]
            ],
            "type": "heatmap"
           }
          ],
          "heatmapgl": [
           {
            "colorbar": {
             "outlinewidth": 0,
             "ticks": ""
            },
            "colorscale": [
             [
              0,
              "#0d0887"
             ],
             [
              0.1111111111111111,
              "#46039f"
             ],
             [
              0.2222222222222222,
              "#7201a8"
             ],
             [
              0.3333333333333333,
              "#9c179e"
             ],
             [
              0.4444444444444444,
              "#bd3786"
             ],
             [
              0.5555555555555556,
              "#d8576b"
             ],
             [
              0.6666666666666666,
              "#ed7953"
             ],
             [
              0.7777777777777778,
              "#fb9f3a"
             ],
             [
              0.8888888888888888,
              "#fdca26"
             ],
             [
              1,
              "#f0f921"
             ]
            ],
            "type": "heatmapgl"
           }
          ],
          "histogram": [
           {
            "marker": {
             "colorbar": {
              "outlinewidth": 0,
              "ticks": ""
             }
            },
            "type": "histogram"
           }
          ],
          "histogram2d": [
           {
            "colorbar": {
             "outlinewidth": 0,
             "ticks": ""
            },
            "colorscale": [
             [
              0,
              "#0d0887"
             ],
             [
              0.1111111111111111,
              "#46039f"
             ],
             [
              0.2222222222222222,
              "#7201a8"
             ],
             [
              0.3333333333333333,
              "#9c179e"
             ],
             [
              0.4444444444444444,
              "#bd3786"
             ],
             [
              0.5555555555555556,
              "#d8576b"
             ],
             [
              0.6666666666666666,
              "#ed7953"
             ],
             [
              0.7777777777777778,
              "#fb9f3a"
             ],
             [
              0.8888888888888888,
              "#fdca26"
             ],
             [
              1,
              "#f0f921"
             ]
            ],
            "type": "histogram2d"
           }
          ],
          "histogram2dcontour": [
           {
            "colorbar": {
             "outlinewidth": 0,
             "ticks": ""
            },
            "colorscale": [
             [
              0,
              "#0d0887"
             ],
             [
              0.1111111111111111,
              "#46039f"
             ],
             [
              0.2222222222222222,
              "#7201a8"
             ],
             [
              0.3333333333333333,
              "#9c179e"
             ],
             [
              0.4444444444444444,
              "#bd3786"
             ],
             [
              0.5555555555555556,
              "#d8576b"
             ],
             [
              0.6666666666666666,
              "#ed7953"
             ],
             [
              0.7777777777777778,
              "#fb9f3a"
             ],
             [
              0.8888888888888888,
              "#fdca26"
             ],
             [
              1,
              "#f0f921"
             ]
            ],
            "type": "histogram2dcontour"
           }
          ],
          "mesh3d": [
           {
            "colorbar": {
             "outlinewidth": 0,
             "ticks": ""
            },
            "type": "mesh3d"
           }
          ],
          "parcoords": [
           {
            "line": {
             "colorbar": {
              "outlinewidth": 0,
              "ticks": ""
             }
            },
            "type": "parcoords"
           }
          ],
          "pie": [
           {
            "automargin": true,
            "type": "pie"
           }
          ],
          "scatter": [
           {
            "marker": {
             "colorbar": {
              "outlinewidth": 0,
              "ticks": ""
             }
            },
            "type": "scatter"
           }
          ],
          "scatter3d": [
           {
            "line": {
             "colorbar": {
              "outlinewidth": 0,
              "ticks": ""
             }
            },
            "marker": {
             "colorbar": {
              "outlinewidth": 0,
              "ticks": ""
             }
            },
            "type": "scatter3d"
           }
          ],
          "scattercarpet": [
           {
            "marker": {
             "colorbar": {
              "outlinewidth": 0,
              "ticks": ""
             }
            },
            "type": "scattercarpet"
           }
          ],
          "scattergeo": [
           {
            "marker": {
             "colorbar": {
              "outlinewidth": 0,
              "ticks": ""
             }
            },
            "type": "scattergeo"
           }
          ],
          "scattergl": [
           {
            "marker": {
             "colorbar": {
              "outlinewidth": 0,
              "ticks": ""
             }
            },
            "type": "scattergl"
           }
          ],
          "scattermapbox": [
           {
            "marker": {
             "colorbar": {
              "outlinewidth": 0,
              "ticks": ""
             }
            },
            "type": "scattermapbox"
           }
          ],
          "scatterpolar": [
           {
            "marker": {
             "colorbar": {
              "outlinewidth": 0,
              "ticks": ""
             }
            },
            "type": "scatterpolar"
           }
          ],
          "scatterpolargl": [
           {
            "marker": {
             "colorbar": {
              "outlinewidth": 0,
              "ticks": ""
             }
            },
            "type": "scatterpolargl"
           }
          ],
          "scatterternary": [
           {
            "marker": {
             "colorbar": {
              "outlinewidth": 0,
              "ticks": ""
             }
            },
            "type": "scatterternary"
           }
          ],
          "surface": [
           {
            "colorbar": {
             "outlinewidth": 0,
             "ticks": ""
            },
            "colorscale": [
             [
              0,
              "#0d0887"
             ],
             [
              0.1111111111111111,
              "#46039f"
             ],
             [
              0.2222222222222222,
              "#7201a8"
             ],
             [
              0.3333333333333333,
              "#9c179e"
             ],
             [
              0.4444444444444444,
              "#bd3786"
             ],
             [
              0.5555555555555556,
              "#d8576b"
             ],
             [
              0.6666666666666666,
              "#ed7953"
             ],
             [
              0.7777777777777778,
              "#fb9f3a"
             ],
             [
              0.8888888888888888,
              "#fdca26"
             ],
             [
              1,
              "#f0f921"
             ]
            ],
            "type": "surface"
           }
          ],
          "table": [
           {
            "cells": {
             "fill": {
              "color": "#EBF0F8"
             },
             "line": {
              "color": "white"
             }
            },
            "header": {
             "fill": {
              "color": "#C8D4E3"
             },
             "line": {
              "color": "white"
             }
            },
            "type": "table"
           }
          ]
         },
         "layout": {
          "annotationdefaults": {
           "arrowcolor": "#2a3f5f",
           "arrowhead": 0,
           "arrowwidth": 1
          },
          "coloraxis": {
           "colorbar": {
            "outlinewidth": 0,
            "ticks": ""
           }
          },
          "colorscale": {
           "diverging": [
            [
             0,
             "#8e0152"
            ],
            [
             0.1,
             "#c51b7d"
            ],
            [
             0.2,
             "#de77ae"
            ],
            [
             0.3,
             "#f1b6da"
            ],
            [
             0.4,
             "#fde0ef"
            ],
            [
             0.5,
             "#f7f7f7"
            ],
            [
             0.6,
             "#e6f5d0"
            ],
            [
             0.7,
             "#b8e186"
            ],
            [
             0.8,
             "#7fbc41"
            ],
            [
             0.9,
             "#4d9221"
            ],
            [
             1,
             "#276419"
            ]
           ],
           "sequential": [
            [
             0,
             "#0d0887"
            ],
            [
             0.1111111111111111,
             "#46039f"
            ],
            [
             0.2222222222222222,
             "#7201a8"
            ],
            [
             0.3333333333333333,
             "#9c179e"
            ],
            [
             0.4444444444444444,
             "#bd3786"
            ],
            [
             0.5555555555555556,
             "#d8576b"
            ],
            [
             0.6666666666666666,
             "#ed7953"
            ],
            [
             0.7777777777777778,
             "#fb9f3a"
            ],
            [
             0.8888888888888888,
             "#fdca26"
            ],
            [
             1,
             "#f0f921"
            ]
           ],
           "sequentialminus": [
            [
             0,
             "#0d0887"
            ],
            [
             0.1111111111111111,
             "#46039f"
            ],
            [
             0.2222222222222222,
             "#7201a8"
            ],
            [
             0.3333333333333333,
             "#9c179e"
            ],
            [
             0.4444444444444444,
             "#bd3786"
            ],
            [
             0.5555555555555556,
             "#d8576b"
            ],
            [
             0.6666666666666666,
             "#ed7953"
            ],
            [
             0.7777777777777778,
             "#fb9f3a"
            ],
            [
             0.8888888888888888,
             "#fdca26"
            ],
            [
             1,
             "#f0f921"
            ]
           ]
          },
          "colorway": [
           "#636efa",
           "#EF553B",
           "#00cc96",
           "#ab63fa",
           "#FFA15A",
           "#19d3f3",
           "#FF6692",
           "#B6E880",
           "#FF97FF",
           "#FECB52"
          ],
          "font": {
           "color": "#2a3f5f"
          },
          "geo": {
           "bgcolor": "white",
           "lakecolor": "white",
           "landcolor": "#E5ECF6",
           "showlakes": true,
           "showland": true,
           "subunitcolor": "white"
          },
          "hoverlabel": {
           "align": "left"
          },
          "hovermode": "closest",
          "mapbox": {
           "style": "light"
          },
          "paper_bgcolor": "white",
          "plot_bgcolor": "#E5ECF6",
          "polar": {
           "angularaxis": {
            "gridcolor": "white",
            "linecolor": "white",
            "ticks": ""
           },
           "bgcolor": "#E5ECF6",
           "radialaxis": {
            "gridcolor": "white",
            "linecolor": "white",
            "ticks": ""
           }
          },
          "scene": {
           "xaxis": {
            "backgroundcolor": "#E5ECF6",
            "gridcolor": "white",
            "gridwidth": 2,
            "linecolor": "white",
            "showbackground": true,
            "ticks": "",
            "zerolinecolor": "white"
           },
           "yaxis": {
            "backgroundcolor": "#E5ECF6",
            "gridcolor": "white",
            "gridwidth": 2,
            "linecolor": "white",
            "showbackground": true,
            "ticks": "",
            "zerolinecolor": "white"
           },
           "zaxis": {
            "backgroundcolor": "#E5ECF6",
            "gridcolor": "white",
            "gridwidth": 2,
            "linecolor": "white",
            "showbackground": true,
            "ticks": "",
            "zerolinecolor": "white"
           }
          },
          "shapedefaults": {
           "line": {
            "color": "#2a3f5f"
           }
          },
          "ternary": {
           "aaxis": {
            "gridcolor": "white",
            "linecolor": "white",
            "ticks": ""
           },
           "baxis": {
            "gridcolor": "white",
            "linecolor": "white",
            "ticks": ""
           },
           "bgcolor": "#E5ECF6",
           "caxis": {
            "gridcolor": "white",
            "linecolor": "white",
            "ticks": ""
           }
          },
          "title": {
           "x": 0.05
          },
          "xaxis": {
           "automargin": true,
           "gridcolor": "white",
           "linecolor": "white",
           "ticks": "",
           "title": {
            "standoff": 15
           },
           "zerolinecolor": "white",
           "zerolinewidth": 2
          },
          "yaxis": {
           "automargin": true,
           "gridcolor": "white",
           "linecolor": "white",
           "ticks": "",
           "title": {
            "standoff": 15
           },
           "zerolinecolor": "white",
           "zerolinewidth": 2
          }
         }
        },
        "xaxis": {
         "anchor": "y",
         "domain": [
          0,
          1
         ],
         "title": {
          "text": "Order Date"
         }
        },
        "yaxis": {
         "anchor": "x",
         "domain": [
          0,
          1
         ],
         "title": {
          "text": "Total Profit"
         }
        }
       }
      },
      "text/html": [
       "<div>\n",
       "        \n",
       "        \n",
       "            <div id=\"44c85995-4e75-4356-b990-55071c4bb92f\" class=\"plotly-graph-div\" style=\"height:525px; width:100%;\"></div>\n",
       "            <script type=\"text/javascript\">\n",
       "                require([\"plotly\"], function(Plotly) {\n",
       "                    window.PLOTLYENV=window.PLOTLYENV || {};\n",
       "                    \n",
       "                if (document.getElementById(\"44c85995-4e75-4356-b990-55071c4bb92f\")) {\n",
       "                    Plotly.newPlot(\n",
       "                        '44c85995-4e75-4356-b990-55071c4bb92f',\n",
       "                        [{\"hoverlabel\": {\"namelength\": 0}, \"hovertemplate\": \"<b>%{hovertext}</b><br><br>Order Date=%{x}<br>Total Profit=%{y}\", \"hovertext\": [\"2010-01-31T00:00:00\", \"2010-02-28T00:00:00\", \"2010-03-31T00:00:00\", \"2010-04-30T00:00:00\", \"2010-05-31T00:00:00\", \"2010-06-30T00:00:00\", \"2010-07-31T00:00:00\", \"2010-08-31T00:00:00\", \"2010-09-30T00:00:00\", \"2010-10-31T00:00:00\", \"2010-11-30T00:00:00\", \"2010-12-31T00:00:00\", \"2011-01-31T00:00:00\", \"2011-02-28T00:00:00\", \"2011-03-31T00:00:00\", \"2011-04-30T00:00:00\", \"2011-05-31T00:00:00\", \"2011-06-30T00:00:00\", \"2011-07-31T00:00:00\", \"2011-08-31T00:00:00\", \"2011-09-30T00:00:00\", \"2011-10-31T00:00:00\", \"2011-11-30T00:00:00\", \"2011-12-31T00:00:00\", \"2012-01-31T00:00:00\", \"2012-02-29T00:00:00\", \"2012-03-31T00:00:00\", \"2012-04-30T00:00:00\", \"2012-05-31T00:00:00\", \"2012-06-30T00:00:00\", \"2012-07-31T00:00:00\", \"2012-08-31T00:00:00\", \"2012-09-30T00:00:00\", \"2012-10-31T00:00:00\", \"2012-11-30T00:00:00\", \"2012-12-31T00:00:00\", \"2013-01-31T00:00:00\", \"2013-02-28T00:00:00\", \"2013-03-31T00:00:00\", \"2013-04-30T00:00:00\", \"2013-05-31T00:00:00\", \"2013-06-30T00:00:00\", \"2013-07-31T00:00:00\", \"2013-08-31T00:00:00\", \"2013-09-30T00:00:00\", \"2013-10-31T00:00:00\", \"2013-11-30T00:00:00\", \"2013-12-31T00:00:00\", \"2014-01-31T00:00:00\", \"2014-02-28T00:00:00\", \"2014-03-31T00:00:00\", \"2014-04-30T00:00:00\", \"2014-05-31T00:00:00\", \"2014-06-30T00:00:00\", \"2014-07-31T00:00:00\", \"2014-08-31T00:00:00\", \"2014-09-30T00:00:00\", \"2014-10-31T00:00:00\", \"2014-11-30T00:00:00\", \"2014-12-31T00:00:00\", \"2015-01-31T00:00:00\", \"2015-02-28T00:00:00\", \"2015-03-31T00:00:00\", \"2015-04-30T00:00:00\", \"2015-05-31T00:00:00\", \"2015-06-30T00:00:00\", \"2015-07-31T00:00:00\", \"2015-08-31T00:00:00\", \"2015-09-30T00:00:00\", \"2015-10-31T00:00:00\", \"2015-11-30T00:00:00\", \"2015-12-31T00:00:00\", \"2016-01-31T00:00:00\", \"2016-02-29T00:00:00\", \"2016-03-31T00:00:00\", \"2016-04-30T00:00:00\", \"2016-05-31T00:00:00\", \"2016-06-30T00:00:00\", \"2016-07-31T00:00:00\", \"2016-08-31T00:00:00\", \"2016-09-30T00:00:00\", \"2016-10-31T00:00:00\", \"2016-11-30T00:00:00\", \"2016-12-31T00:00:00\", \"2017-01-31T00:00:00\", \"2017-02-28T00:00:00\", \"2017-03-31T00:00:00\", \"2017-04-30T00:00:00\", \"2017-05-31T00:00:00\", \"2017-06-30T00:00:00\", \"2017-07-31T00:00:00\"], \"legendgroup\": \"\", \"line\": {\"color\": \"#636efa\", \"dash\": \"solid\"}, \"mode\": \"lines\", \"name\": \"\", \"showlegend\": false, \"type\": \"scatter\", \"x\": [\"2010-01-31T00:00:00\", \"2010-02-28T00:00:00\", \"2010-03-31T00:00:00\", \"2010-04-30T00:00:00\", \"2010-05-31T00:00:00\", \"2010-06-30T00:00:00\", \"2010-07-31T00:00:00\", \"2010-08-31T00:00:00\", \"2010-09-30T00:00:00\", \"2010-10-31T00:00:00\", \"2010-11-30T00:00:00\", \"2010-12-31T00:00:00\", \"2011-01-31T00:00:00\", \"2011-02-28T00:00:00\", \"2011-03-31T00:00:00\", \"2011-04-30T00:00:00\", \"2011-05-31T00:00:00\", \"2011-06-30T00:00:00\", \"2011-07-31T00:00:00\", \"2011-08-31T00:00:00\", \"2011-09-30T00:00:00\", \"2011-10-31T00:00:00\", \"2011-11-30T00:00:00\", \"2011-12-31T00:00:00\", \"2012-01-31T00:00:00\", \"2012-02-29T00:00:00\", \"2012-03-31T00:00:00\", \"2012-04-30T00:00:00\", \"2012-05-31T00:00:00\", \"2012-06-30T00:00:00\", \"2012-07-31T00:00:00\", \"2012-08-31T00:00:00\", \"2012-09-30T00:00:00\", \"2012-10-31T00:00:00\", \"2012-11-30T00:00:00\", \"2012-12-31T00:00:00\", \"2013-01-31T00:00:00\", \"2013-02-28T00:00:00\", \"2013-03-31T00:00:00\", \"2013-04-30T00:00:00\", \"2013-05-31T00:00:00\", \"2013-06-30T00:00:00\", \"2013-07-31T00:00:00\", \"2013-08-31T00:00:00\", \"2013-09-30T00:00:00\", \"2013-10-31T00:00:00\", \"2013-11-30T00:00:00\", \"2013-12-31T00:00:00\", \"2014-01-31T00:00:00\", \"2014-02-28T00:00:00\", \"2014-03-31T00:00:00\", \"2014-04-30T00:00:00\", \"2014-05-31T00:00:00\", \"2014-06-30T00:00:00\", \"2014-07-31T00:00:00\", \"2014-08-31T00:00:00\", \"2014-09-30T00:00:00\", \"2014-10-31T00:00:00\", \"2014-11-30T00:00:00\", \"2014-12-31T00:00:00\", \"2015-01-31T00:00:00\", \"2015-02-28T00:00:00\", \"2015-03-31T00:00:00\", \"2015-04-30T00:00:00\", \"2015-05-31T00:00:00\", \"2015-06-30T00:00:00\", \"2015-07-31T00:00:00\", \"2015-08-31T00:00:00\", \"2015-09-30T00:00:00\", \"2015-10-31T00:00:00\", \"2015-11-30T00:00:00\", \"2015-12-31T00:00:00\", \"2016-01-31T00:00:00\", \"2016-02-29T00:00:00\", \"2016-03-31T00:00:00\", \"2016-04-30T00:00:00\", \"2016-05-31T00:00:00\", \"2016-06-30T00:00:00\", \"2016-07-31T00:00:00\", \"2016-08-31T00:00:00\", \"2016-09-30T00:00:00\", \"2016-10-31T00:00:00\", \"2016-11-30T00:00:00\", \"2016-12-31T00:00:00\", \"2017-01-31T00:00:00\", \"2017-02-28T00:00:00\", \"2017-03-31T00:00:00\", \"2017-04-30T00:00:00\", \"2017-05-31T00:00:00\", \"2017-06-30T00:00:00\", \"2017-07-31T00:00:00\"], \"xaxis\": \"x\", \"y\": [3626690.5100000002, 7469500.3100000005, 2063117.83, 5013297.13, 5588260.83, 4372839.49, 3934440.5500000003, 6484308.33, 2619406.52, 5859796.68, 2193354.74, 3704557.3799999994, 4344317.960000001, 2762426.55, 3298602.0800000005, 2891049.19, 5184944.2299999995, 2000936.6400000001, 4596557.5, 5754095.2, 2851165.19, 6995946.16, 1323622.49, 1630615.24, 5639865.21, 2580356.98, 5925466.640000001, 2215917.9699999997, 3865020.27, 5364382.02, 4856569.99, 5543230.819999999, 3035594.4099999997, 2411950.58, 5786757.02, 3275001.9400000004, 4823974.699999999, 9640186.879999999, 2642705.7, 2213936.71, 1306012.4700000002, 4397483.66, 2882454.7500000005, 8085919.160000001, 2527881.54, 7387426.7299999995, 4256593.590000001, 3611219.9400000004, 4392360.149999999, 6761717.11, 4708679.220000002, 7557246.87, 3951681.8300000005, 2508889.91, 5644369.32, 6198514.1899999995, 3164125.92, 5914686.04, 3736617.4099999997, 3514611.2300000004, 3628502.42, 5949089.02, 6216552.370000001, 5457397.7299999995, 764215.1, 5659663.32, 3162378.87, 5072217.089999999, 4576995.82, 5057450.47, 3273961.0, 4106410.35, 5934554.3100000005, 3283798.87, 6821181.4399999995, 3744290.13, 2430095.8, 1277524.68, 5131311.950000001, 5262618.569999999, 910151.51, 2168505.79, 4187108.49, 9121647.700000001, 3799789.45, 4553581.96, 6566057.26, 2061113.5699999998, 3713807.76, 4218722.709999999, 4198658.44], \"yaxis\": \"y\"}],\n",
       "                        {\"legend\": {\"tracegroupgap\": 0}, \"margin\": {\"t\": 60}, \"template\": {\"data\": {\"bar\": [{\"error_x\": {\"color\": \"#2a3f5f\"}, \"error_y\": {\"color\": \"#2a3f5f\"}, \"marker\": {\"line\": {\"color\": \"#E5ECF6\", \"width\": 0.5}}, \"type\": \"bar\"}], \"barpolar\": [{\"marker\": {\"line\": {\"color\": \"#E5ECF6\", \"width\": 0.5}}, \"type\": \"barpolar\"}], \"carpet\": [{\"aaxis\": {\"endlinecolor\": \"#2a3f5f\", \"gridcolor\": \"white\", \"linecolor\": \"white\", \"minorgridcolor\": \"white\", \"startlinecolor\": \"#2a3f5f\"}, \"baxis\": {\"endlinecolor\": \"#2a3f5f\", \"gridcolor\": \"white\", \"linecolor\": \"white\", \"minorgridcolor\": \"white\", \"startlinecolor\": \"#2a3f5f\"}, \"type\": \"carpet\"}], \"choropleth\": [{\"colorbar\": {\"outlinewidth\": 0, \"ticks\": \"\"}, \"type\": \"choropleth\"}], \"contour\": [{\"colorbar\": {\"outlinewidth\": 0, \"ticks\": \"\"}, \"colorscale\": [[0.0, \"#0d0887\"], [0.1111111111111111, \"#46039f\"], [0.2222222222222222, \"#7201a8\"], [0.3333333333333333, \"#9c179e\"], [0.4444444444444444, \"#bd3786\"], [0.5555555555555556, \"#d8576b\"], [0.6666666666666666, \"#ed7953\"], [0.7777777777777778, \"#fb9f3a\"], [0.8888888888888888, \"#fdca26\"], [1.0, \"#f0f921\"]], \"type\": \"contour\"}], \"contourcarpet\": [{\"colorbar\": {\"outlinewidth\": 0, \"ticks\": \"\"}, \"type\": \"contourcarpet\"}], \"heatmap\": [{\"colorbar\": {\"outlinewidth\": 0, \"ticks\": \"\"}, \"colorscale\": [[0.0, \"#0d0887\"], [0.1111111111111111, \"#46039f\"], [0.2222222222222222, \"#7201a8\"], [0.3333333333333333, \"#9c179e\"], [0.4444444444444444, \"#bd3786\"], [0.5555555555555556, \"#d8576b\"], [0.6666666666666666, \"#ed7953\"], [0.7777777777777778, \"#fb9f3a\"], [0.8888888888888888, \"#fdca26\"], [1.0, \"#f0f921\"]], \"type\": \"heatmap\"}], \"heatmapgl\": [{\"colorbar\": {\"outlinewidth\": 0, \"ticks\": \"\"}, \"colorscale\": [[0.0, \"#0d0887\"], [0.1111111111111111, \"#46039f\"], [0.2222222222222222, \"#7201a8\"], [0.3333333333333333, \"#9c179e\"], [0.4444444444444444, \"#bd3786\"], [0.5555555555555556, \"#d8576b\"], [0.6666666666666666, \"#ed7953\"], [0.7777777777777778, \"#fb9f3a\"], [0.8888888888888888, \"#fdca26\"], [1.0, \"#f0f921\"]], \"type\": \"heatmapgl\"}], \"histogram\": [{\"marker\": {\"colorbar\": {\"outlinewidth\": 0, \"ticks\": \"\"}}, \"type\": \"histogram\"}], \"histogram2d\": [{\"colorbar\": {\"outlinewidth\": 0, \"ticks\": \"\"}, \"colorscale\": [[0.0, \"#0d0887\"], [0.1111111111111111, \"#46039f\"], [0.2222222222222222, \"#7201a8\"], [0.3333333333333333, \"#9c179e\"], [0.4444444444444444, \"#bd3786\"], [0.5555555555555556, \"#d8576b\"], [0.6666666666666666, \"#ed7953\"], [0.7777777777777778, \"#fb9f3a\"], [0.8888888888888888, \"#fdca26\"], [1.0, \"#f0f921\"]], \"type\": \"histogram2d\"}], \"histogram2dcontour\": [{\"colorbar\": {\"outlinewidth\": 0, \"ticks\": \"\"}, \"colorscale\": [[0.0, \"#0d0887\"], [0.1111111111111111, \"#46039f\"], [0.2222222222222222, \"#7201a8\"], [0.3333333333333333, \"#9c179e\"], [0.4444444444444444, \"#bd3786\"], [0.5555555555555556, \"#d8576b\"], [0.6666666666666666, \"#ed7953\"], [0.7777777777777778, \"#fb9f3a\"], [0.8888888888888888, \"#fdca26\"], [1.0, \"#f0f921\"]], \"type\": \"histogram2dcontour\"}], \"mesh3d\": [{\"colorbar\": {\"outlinewidth\": 0, \"ticks\": \"\"}, \"type\": \"mesh3d\"}], \"parcoords\": [{\"line\": {\"colorbar\": {\"outlinewidth\": 0, \"ticks\": \"\"}}, \"type\": \"parcoords\"}], \"pie\": [{\"automargin\": true, \"type\": \"pie\"}], \"scatter\": [{\"marker\": {\"colorbar\": {\"outlinewidth\": 0, \"ticks\": \"\"}}, \"type\": \"scatter\"}], \"scatter3d\": [{\"line\": {\"colorbar\": {\"outlinewidth\": 0, \"ticks\": \"\"}}, \"marker\": {\"colorbar\": {\"outlinewidth\": 0, \"ticks\": \"\"}}, \"type\": \"scatter3d\"}], \"scattercarpet\": [{\"marker\": {\"colorbar\": {\"outlinewidth\": 0, \"ticks\": \"\"}}, \"type\": \"scattercarpet\"}], \"scattergeo\": [{\"marker\": {\"colorbar\": {\"outlinewidth\": 0, \"ticks\": \"\"}}, \"type\": \"scattergeo\"}], \"scattergl\": [{\"marker\": {\"colorbar\": {\"outlinewidth\": 0, \"ticks\": \"\"}}, \"type\": \"scattergl\"}], \"scattermapbox\": [{\"marker\": {\"colorbar\": {\"outlinewidth\": 0, \"ticks\": \"\"}}, \"type\": \"scattermapbox\"}], \"scatterpolar\": [{\"marker\": {\"colorbar\": {\"outlinewidth\": 0, \"ticks\": \"\"}}, \"type\": \"scatterpolar\"}], \"scatterpolargl\": [{\"marker\": {\"colorbar\": {\"outlinewidth\": 0, \"ticks\": \"\"}}, \"type\": \"scatterpolargl\"}], \"scatterternary\": [{\"marker\": {\"colorbar\": {\"outlinewidth\": 0, \"ticks\": \"\"}}, \"type\": \"scatterternary\"}], \"surface\": [{\"colorbar\": {\"outlinewidth\": 0, \"ticks\": \"\"}, \"colorscale\": [[0.0, \"#0d0887\"], [0.1111111111111111, \"#46039f\"], [0.2222222222222222, \"#7201a8\"], [0.3333333333333333, \"#9c179e\"], [0.4444444444444444, \"#bd3786\"], [0.5555555555555556, \"#d8576b\"], [0.6666666666666666, \"#ed7953\"], [0.7777777777777778, \"#fb9f3a\"], [0.8888888888888888, \"#fdca26\"], [1.0, \"#f0f921\"]], \"type\": \"surface\"}], \"table\": [{\"cells\": {\"fill\": {\"color\": \"#EBF0F8\"}, \"line\": {\"color\": \"white\"}}, \"header\": {\"fill\": {\"color\": \"#C8D4E3\"}, \"line\": {\"color\": \"white\"}}, \"type\": \"table\"}]}, \"layout\": {\"annotationdefaults\": {\"arrowcolor\": \"#2a3f5f\", \"arrowhead\": 0, \"arrowwidth\": 1}, \"coloraxis\": {\"colorbar\": {\"outlinewidth\": 0, \"ticks\": \"\"}}, \"colorscale\": {\"diverging\": [[0, \"#8e0152\"], [0.1, \"#c51b7d\"], [0.2, \"#de77ae\"], [0.3, \"#f1b6da\"], [0.4, \"#fde0ef\"], [0.5, \"#f7f7f7\"], [0.6, \"#e6f5d0\"], [0.7, \"#b8e186\"], [0.8, \"#7fbc41\"], [0.9, \"#4d9221\"], [1, \"#276419\"]], \"sequential\": [[0.0, \"#0d0887\"], [0.1111111111111111, \"#46039f\"], [0.2222222222222222, \"#7201a8\"], [0.3333333333333333, \"#9c179e\"], [0.4444444444444444, \"#bd3786\"], [0.5555555555555556, \"#d8576b\"], [0.6666666666666666, \"#ed7953\"], [0.7777777777777778, \"#fb9f3a\"], [0.8888888888888888, \"#fdca26\"], [1.0, \"#f0f921\"]], \"sequentialminus\": [[0.0, \"#0d0887\"], [0.1111111111111111, \"#46039f\"], [0.2222222222222222, \"#7201a8\"], [0.3333333333333333, \"#9c179e\"], [0.4444444444444444, \"#bd3786\"], [0.5555555555555556, \"#d8576b\"], [0.6666666666666666, \"#ed7953\"], [0.7777777777777778, \"#fb9f3a\"], [0.8888888888888888, \"#fdca26\"], [1.0, \"#f0f921\"]]}, \"colorway\": [\"#636efa\", \"#EF553B\", \"#00cc96\", \"#ab63fa\", \"#FFA15A\", \"#19d3f3\", \"#FF6692\", \"#B6E880\", \"#FF97FF\", \"#FECB52\"], \"font\": {\"color\": \"#2a3f5f\"}, \"geo\": {\"bgcolor\": \"white\", \"lakecolor\": \"white\", \"landcolor\": \"#E5ECF6\", \"showlakes\": true, \"showland\": true, \"subunitcolor\": \"white\"}, \"hoverlabel\": {\"align\": \"left\"}, \"hovermode\": \"closest\", \"mapbox\": {\"style\": \"light\"}, \"paper_bgcolor\": \"white\", \"plot_bgcolor\": \"#E5ECF6\", \"polar\": {\"angularaxis\": {\"gridcolor\": \"white\", \"linecolor\": \"white\", \"ticks\": \"\"}, \"bgcolor\": \"#E5ECF6\", \"radialaxis\": {\"gridcolor\": \"white\", \"linecolor\": \"white\", \"ticks\": \"\"}}, \"scene\": {\"xaxis\": {\"backgroundcolor\": \"#E5ECF6\", \"gridcolor\": \"white\", \"gridwidth\": 2, \"linecolor\": \"white\", \"showbackground\": true, \"ticks\": \"\", \"zerolinecolor\": \"white\"}, \"yaxis\": {\"backgroundcolor\": \"#E5ECF6\", \"gridcolor\": \"white\", \"gridwidth\": 2, \"linecolor\": \"white\", \"showbackground\": true, \"ticks\": \"\", \"zerolinecolor\": \"white\"}, \"zaxis\": {\"backgroundcolor\": \"#E5ECF6\", \"gridcolor\": \"white\", \"gridwidth\": 2, \"linecolor\": \"white\", \"showbackground\": true, \"ticks\": \"\", \"zerolinecolor\": \"white\"}}, \"shapedefaults\": {\"line\": {\"color\": \"#2a3f5f\"}}, \"ternary\": {\"aaxis\": {\"gridcolor\": \"white\", \"linecolor\": \"white\", \"ticks\": \"\"}, \"baxis\": {\"gridcolor\": \"white\", \"linecolor\": \"white\", \"ticks\": \"\"}, \"bgcolor\": \"#E5ECF6\", \"caxis\": {\"gridcolor\": \"white\", \"linecolor\": \"white\", \"ticks\": \"\"}}, \"title\": {\"x\": 0.05}, \"xaxis\": {\"automargin\": true, \"gridcolor\": \"white\", \"linecolor\": \"white\", \"ticks\": \"\", \"title\": {\"standoff\": 15}, \"zerolinecolor\": \"white\", \"zerolinewidth\": 2}, \"yaxis\": {\"automargin\": true, \"gridcolor\": \"white\", \"linecolor\": \"white\", \"ticks\": \"\", \"title\": {\"standoff\": 15}, \"zerolinecolor\": \"white\", \"zerolinewidth\": 2}}}, \"xaxis\": {\"anchor\": \"y\", \"domain\": [0.0, 1.0], \"title\": {\"text\": \"Order Date\"}}, \"yaxis\": {\"anchor\": \"x\", \"domain\": [0.0, 1.0], \"title\": {\"text\": \"Total Profit\"}}},\n",
       "                        {\"responsive\": true}\n",
       "                    ).then(function(){\n",
       "                            \n",
       "var gd = document.getElementById('44c85995-4e75-4356-b990-55071c4bb92f');\n",
       "var x = new MutationObserver(function (mutations, observer) {{\n",
       "        var display = window.getComputedStyle(gd).display;\n",
       "        if (!display || display === 'none') {{\n",
       "            console.log([gd, 'removed!']);\n",
       "            Plotly.purge(gd);\n",
       "            observer.disconnect();\n",
       "        }}\n",
       "}});\n",
       "\n",
       "// Listen for the removal of the full notebook cells\n",
       "var notebookContainer = gd.closest('#notebook-container');\n",
       "if (notebookContainer) {{\n",
       "    x.observe(notebookContainer, {childList: true});\n",
       "}}\n",
       "\n",
       "// Listen for the clearing of the current output cell\n",
       "var outputEl = gd.closest('.output');\n",
       "if (outputEl) {{\n",
       "    x.observe(outputEl, {childList: true});\n",
       "}}\n",
       "\n",
       "                        })\n",
       "                };\n",
       "                });\n",
       "            </script>\n",
       "        </div>"
      ]
     },
     "metadata": {},
     "output_type": "display_data"
    }
   ],
   "source": [
    "df_profit_series = df.loc[:,[\"Order Date\", \"Total Profit\"]]\n",
    "df_profit_series[\"Order Date\"] = pd.to_datetime(df_profit_series[\"Order Date\"])\n",
    "df_profit_series = df_profit_series.set_index(\"Order Date\")\n",
    "df_profit_sum_day = df_profit_series.groupby(pd.Grouper(freq='m')).sum().reset_index()\n",
    "\n",
    "fig = px.line(df_profit_sum_day, x=\"Order Date\", y=\"Total Profit\", hover_name=\"Order Date\", render_mode=\"svg\")\n",
    "fig.show()"
   ]
  },
  {
   "cell_type": "code",
   "execution_count": null,
   "metadata": {},
   "outputs": [],
   "source": []
  },
  {
   "cell_type": "code",
   "execution_count": null,
   "metadata": {},
   "outputs": [],
   "source": []
  },
  {
   "cell_type": "code",
   "execution_count": null,
   "metadata": {},
   "outputs": [],
   "source": []
  },
  {
   "cell_type": "code",
   "execution_count": null,
   "metadata": {},
   "outputs": [],
   "source": []
  },
  {
   "cell_type": "code",
   "execution_count": null,
   "metadata": {},
   "outputs": [],
   "source": []
  },
  {
   "cell_type": "code",
   "execution_count": null,
   "metadata": {},
   "outputs": [],
   "source": []
  },
  {
   "cell_type": "code",
   "execution_count": null,
   "metadata": {},
   "outputs": [],
   "source": []
  },
  {
   "cell_type": "code",
   "execution_count": null,
   "metadata": {},
   "outputs": [],
   "source": []
  }
 ],
 "metadata": {
  "kernelspec": {
   "display_name": "Python 3",
   "language": "python",
   "name": "python3"
  },
  "language_info": {
   "codemirror_mode": {
    "name": "ipython",
    "version": 3
   },
   "file_extension": ".py",
   "mimetype": "text/x-python",
   "name": "python",
   "nbconvert_exporter": "python",
   "pygments_lexer": "ipython3",
   "version": "3.7.5"
  }
 },
 "nbformat": 4,
 "nbformat_minor": 4
}
