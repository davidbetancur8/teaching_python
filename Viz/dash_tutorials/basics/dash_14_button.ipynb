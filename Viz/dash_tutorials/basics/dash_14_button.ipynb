{
 "cells": [
  {
   "cell_type": "markdown",
   "metadata": {},
   "source": [
    "# Core components\n",
    "\n",
    "* Boton"
   ]
  },
  {
   "cell_type": "code",
   "execution_count": 1,
   "metadata": {},
   "outputs": [],
   "source": [
    "import dash\n",
    "import dash_core_components as dcc\n",
    "import dash_html_components as html\n",
    "import plotly.graph_objs as go\n",
    "import numpy as np\n",
    "import pandas as pd"
   ]
  },
  {
   "cell_type": "code",
   "execution_count": 2,
   "metadata": {},
   "outputs": [],
   "source": [
    "app = dash.Dash()"
   ]
  },
  {
   "cell_type": "code",
   "execution_count": 8,
   "metadata": {},
   "outputs": [],
   "source": [
    "app.layout = html.Div([\n",
    "    html.Label(\"Escoge una ciudad de Colombia\"),\n",
    "    dcc.Dropdown(\n",
    "        id = \"primer_dropdown\",\n",
    "        options = [\n",
    "            {'label': 'Medellín', 'value': \"md\"},\n",
    "            {'label': 'Bogotá', 'value': \"bg\"},\n",
    "            {'label': 'Cali', 'value': \"cl\"}\n",
    "        ],\n",
    "        placeholder = \"Selecciona una ciudad\"\n",
    "    ),\n",
    "    html.Label(\"Este es un slider\"),\n",
    "    dcc.Slider(\n",
    "        min = 1,\n",
    "        max = 10,\n",
    "        value = 5,\n",
    "        step = 0.5, # por cuanto se deja mover el cursor en el slider\n",
    "        marks = {i: i for i in range(10)}\n",
    "    ),\n",
    "    html.Label(\"Este es un range slider\"),\n",
    "    dcc.RangeSlider(\n",
    "        min = 1,\n",
    "        max = 10,\n",
    "        value = [3,7],\n",
    "        step = 0.5, # por cuanto se deja mover el cursor en el slider\n",
    "        marks = {i: i for i in range(10)}\n",
    "    ),\n",
    "    html.Label(\"Esto es un text input\"),\n",
    "    html.Br(),\n",
    "    dcc.Input(\n",
    "        placeholder = \"Ingresa tu nombre\",\n",
    "        type=\"text\",\n",
    "        value = \"\"\n",
    "    ),\n",
    "    html.Br(),\n",
    "    html.Br(),\n",
    "    html.Label(\"Esto es un textArea\"),\n",
    "    html.Br(),\n",
    "    dcc.Textarea(\n",
    "        placeholder = \"Ingresa tu nombre\",\n",
    "        value = \"placeholder para el texto\",\n",
    "        style = {\"width\" : \"50%\"}\n",
    "    ),\n",
    "    html.Br(),\n",
    "    \n",
    "    # Boton acá \n",
    "    #================================\n",
    "    #================================\n",
    "    html.Button(\"Submit\", id=\"boton\"),\n",
    "    #================================\n",
    "    #================================\n",
    "    html.Br(),\n",
    "    html.Br(),\n",
    "    html.Label(\"Esto es un checklist\"),\n",
    "    dcc.Checklist(\n",
    "        options = [\n",
    "            {'label': 'Medellín', 'value': \"md\"},\n",
    "            {'label': 'Bogotá', 'value': \"bg\"},\n",
    "            {'label': 'Cali', 'value': \"cl\"}\n",
    "        ],\n",
    "        value = [\"bg\", \"cl\"]\n",
    "    ),\n",
    "    html.Br(),\n",
    "    html.Br(),\n",
    "    html.Label(\"Esto es un radiobuttons\"),\n",
    "    dcc.RadioItems( \n",
    "        options = [\n",
    "            {'label': 'Medellín', 'value': \"md\"},\n",
    "            {'label': 'Bogotá', 'value': \"bg\"},\n",
    "            {'label': 'Cali', 'value': \"cl\"}\n",
    "        ],\n",
    "        value = \"md\"\n",
    "    )\n",
    "    \n",
    "])"
   ]
  },
  {
   "cell_type": "code",
   "execution_count": 9,
   "metadata": {},
   "outputs": [
    {
     "name": "stdout",
     "output_type": "stream",
     "text": [
      " * Serving Flask app \"__main__\" (lazy loading)\n",
      " * Environment: production\n",
      "   WARNING: This is a development server. Do not use it in a production deployment.\n",
      "   Use a production WSGI server instead.\n",
      " * Debug mode: off\n"
     ]
    },
    {
     "name": "stderr",
     "output_type": "stream",
     "text": [
      " * Running on http://127.0.0.1:4050/ (Press CTRL+C to quit)\n",
      "127.0.0.1 - - [13/Feb/2020 23:09:33] \"\u001b[37mGET / HTTP/1.1\u001b[0m\" 200 -\n",
      "127.0.0.1 - - [13/Feb/2020 23:09:33] \"\u001b[37mGET /_dash-layout HTTP/1.1\u001b[0m\" 200 -\n",
      "127.0.0.1 - - [13/Feb/2020 23:09:33] \"\u001b[37mGET /_dash-dependencies HTTP/1.1\u001b[0m\" 200 -\n",
      "127.0.0.1 - - [13/Feb/2020 23:09:33] \"\u001b[37mGET /_favicon.ico?v=1.8.0 HTTP/1.1\u001b[0m\" 200 -\n"
     ]
    }
   ],
   "source": [
    "if __name__ == \"__main__\":\n",
    "    app.run_server(port=4050)"
   ]
  },
  {
   "cell_type": "code",
   "execution_count": null,
   "metadata": {},
   "outputs": [],
   "source": []
  }
 ],
 "metadata": {
  "kernelspec": {
   "display_name": "Python 3",
   "language": "python",
   "name": "python3"
  },
  "language_info": {
   "codemirror_mode": {
    "name": "ipython",
    "version": 3
   },
   "file_extension": ".py",
   "mimetype": "text/x-python",
   "name": "python",
   "nbconvert_exporter": "python",
   "pygments_lexer": "ipython3",
   "version": "3.7.5"
  }
 },
 "nbformat": 4,
 "nbformat_minor": 4
}
