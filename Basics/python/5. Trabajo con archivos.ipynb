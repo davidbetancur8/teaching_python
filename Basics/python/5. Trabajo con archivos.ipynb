{
 "cells": [
  {
   "cell_type": "markdown",
   "metadata": {},
   "source": [
    "# Archivos"
   ]
  },
  {
   "cell_type": "markdown",
   "metadata": {},
   "source": [
    "**w**: borra y escribe encima\n",
    "<br>\n",
    "**a**: añade al final del archivo\n",
    "<br>\n",
    "**r**: leer"
   ]
  },
  {
   "cell_type": "markdown",
   "metadata": {},
   "source": [
    "### Escritura de archivos de texto plano"
   ]
  },
  {
   "cell_type": "code",
   "execution_count": null,
   "metadata": {},
   "outputs": [],
   "source": [
    "with open(\"prueba.txt\", \"w\") as prueba:\n",
    "    prueba.write(\"Esto\\n\")\n",
    "    prueba.write(\"es\\n\")\n",
    "    prueba.write(\"una\\n\")\n",
    "    prueba.write(\"prueba\\n\")"
   ]
  },
  {
   "cell_type": "code",
   "execution_count": null,
   "metadata": {},
   "outputs": [],
   "source": [
    "with open(\"prueba.txt\", \"w\") as prueba:\n",
    "    prueba.write(\"Esto\\n\")\n",
    "    prueba.write(\"es\\n\")\n",
    "    prueba.write(\"otra\\n\")\n",
    "    prueba.write(\"prueba\\n\")"
   ]
  },
  {
   "cell_type": "code",
   "execution_count": null,
   "metadata": {},
   "outputs": [],
   "source": [
    "with open(\"prueba.txt\", \"a\") as prueba:\n",
    "    prueba.write(\"más\\n\")\n"
   ]
  },
  {
   "cell_type": "markdown",
   "metadata": {},
   "source": [
    "### Lectura de archivos de texto plano"
   ]
  },
  {
   "cell_type": "code",
   "execution_count": null,
   "metadata": {},
   "outputs": [],
   "source": [
    "with open(\"prueba.txt\", \"r\") as prueba:\n",
    "    contenido = prueba.read()\n",
    "contenido"
   ]
  },
  {
   "cell_type": "code",
   "execution_count": null,
   "metadata": {},
   "outputs": [],
   "source": [
    "with open(\"prueba.txt\", \"r\") as prueba:\n",
    "    for linea in prueba:\n",
    "        print(linea)"
   ]
  },
  {
   "cell_type": "code",
   "execution_count": null,
   "metadata": {},
   "outputs": [],
   "source": []
  }
 ],
 "metadata": {
  "kernelspec": {
   "display_name": "Python 3",
   "language": "python",
   "name": "python3"
  },
  "language_info": {
   "codemirror_mode": {
    "name": "ipython",
    "version": 3
   },
   "file_extension": ".py",
   "mimetype": "text/x-python",
   "name": "python",
   "nbconvert_exporter": "python",
   "pygments_lexer": "ipython3",
   "version": "3.7.3"
  }
 },
 "nbformat": 4,
 "nbformat_minor": 1
}
