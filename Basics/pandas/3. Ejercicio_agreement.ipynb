{
 "cells": [
  {
   "cell_type": "markdown",
   "metadata": {},
   "source": [
    "# Visualizacion de acuerdos de paz en el mundo\n",
    "dataset en https://www.kaggle.com/university-of-edinburgh/peace-agreements-dataset"
   ]
  },
  {
   "cell_type": "markdown",
   "metadata": {},
   "source": [
    "**Con**: País o entidad<br>\n",
    "**Contp**: Tipo de conflicto<br>\n",
    "**Reg**: Region<br>\n",
    "**Agt**: Nombre del acuerdo<br>\n",
    "**Dat**: Fecha de firma<br>\n",
    "**Status**: Estado del acuerdo<br>\n",
    "**Lgt**: tamaño del acuerdo<br>\n",
    "**Agtp**: Tipo del acuerdo<br>\n",
    "**Stage**: Etápa del acuerdo<br>\n",
    "**Cor**: 1, 2 o 3 si se menciona algo de corrupcion en los acuerdos<br>\n",
    "**Terr**: 1 si se menciona algo relacionado con el terrorismo en los acuerdos<br>\n",
    "**SsrCrOcr**: 1, 2 o 3 si se menciona algo de crimenes<br>\n",
    "**SsrDrugs**: 1, 2 o 3 si se menciona alfo de drogas\n"
   ]
  },
  {
   "cell_type": "markdown",
   "metadata": {},
   "source": [
    "### 1. Cargar las siguientes librerias:\n",
    "* pandas\n",
    "* pycountry"
   ]
  },
  {
   "cell_type": "code",
   "execution_count": null,
   "metadata": {},
   "outputs": [],
   "source": []
  },
  {
   "cell_type": "code",
   "execution_count": null,
   "metadata": {},
   "outputs": [],
   "source": [
    "from plotly.offline import download_plotlyjs, init_notebook_mode, plot, iplot\n",
    "import plotly.graph_objs as go"
   ]
  },
  {
   "cell_type": "markdown",
   "metadata": {},
   "source": [
    "### 2. Leer el archivo agreements.csv que esta dentro de la carpeta datos en un df llamado \"agree\""
   ]
  },
  {
   "cell_type": "code",
   "execution_count": null,
   "metadata": {},
   "outputs": [],
   "source": []
  },
  {
   "cell_type": "markdown",
   "metadata": {},
   "source": [
    "### 3. Quedarse solo con las siguientes columnas:\n",
    "\"Con\", \"Contp\", \"Reg\", \"Agt\", \"Dat\", \"Status\", \"Lgt\", \"Agtp\", \"Stage\", \"Cor\", \"Terr\", \"SsrCrOcr\", \"SsrDrugs\""
   ]
  },
  {
   "cell_type": "code",
   "execution_count": null,
   "metadata": {},
   "outputs": [],
   "source": []
  },
  {
   "cell_type": "markdown",
   "metadata": {},
   "source": [
    "### 4. Ver las primeras 5 filas del dataset"
   ]
  },
  {
   "cell_type": "code",
   "execution_count": null,
   "metadata": {
    "scrolled": true
   },
   "outputs": [],
   "source": []
  },
  {
   "cell_type": "markdown",
   "metadata": {},
   "source": [
    "### 5. la columna \"Con\" a veces tiene mas de un país separado por \"/\", separar de modo que en cada campo este una lista con los paises involucrados. \n",
    "Nota: borrar después la columna \"Con\""
   ]
  },
  {
   "cell_type": "code",
   "execution_count": null,
   "metadata": {},
   "outputs": [],
   "source": []
  },
  {
   "cell_type": "markdown",
   "metadata": {},
   "source": [
    "### 6. crear una nueva columna \"date\" convirtiendo la columna \"Dat\" en un objeto tipo datetime\n",
    "Nota: borrar después la columna Dat"
   ]
  },
  {
   "cell_type": "code",
   "execution_count": null,
   "metadata": {},
   "outputs": [],
   "source": [
    "                    "
   ]
  },
  {
   "cell_type": "markdown",
   "metadata": {},
   "source": [
    "### 7. Para las columnas Cor, Terr, SsrCrOcr y SsrDrugs crear unas nuevas hayCorr, hayTerr, hayCrim y hayDrog con booleanos si cada una de las otras es mayor o igual a 1. Luego crear otra hayDelincuencia con un booleano si alguna de las anteriores es verdadera.\n"
   ]
  },
  {
   "cell_type": "code",
   "execution_count": null,
   "metadata": {},
   "outputs": [],
   "source": []
  },
  {
   "cell_type": "markdown",
   "metadata": {},
   "source": [
    "### 8. Crear un diccionario en el que estén plasmados los nombres, codigos de cada pais y numero de apariciones en el dataset.\n",
    "Ejemplo:\n",
    "\n",
    "```json\n",
    "{\n",
    "    Afghanistan: {\n",
    "        \"codigo\": AFG,\n",
    "        \"cuenta\":19\n",
    "    },\n",
    "    \n",
    "    Pakistan: {\n",
    "        \"codigo\": PAK,\n",
    "        \"cuenta\":14\n",
    "    },\n",
    "    \n",
    "}\n",
    "```"
   ]
  },
  {
   "cell_type": "code",
   "execution_count": null,
   "metadata": {},
   "outputs": [],
   "source": []
  },
  {
   "cell_type": "markdown",
   "metadata": {},
   "source": [
    "### 9. Crear un dataframe con el diccionario creado de modo que hayan 3 columnas: nombre, cuenta y codigo por cada pais"
   ]
  },
  {
   "cell_type": "code",
   "execution_count": null,
   "metadata": {},
   "outputs": [],
   "source": []
  },
  {
   "cell_type": "markdown",
   "metadata": {},
   "source": [
    "### 10. Correr este codigo para visualizar"
   ]
  },
  {
   "cell_type": "code",
   "execution_count": null,
   "metadata": {},
   "outputs": [],
   "source": [
    "data=dict(\n",
    "    type = 'choropleth',\n",
    "    locations = paises_df['codigo'],\n",
    "    z = paises_df['cuenta'],\n",
    "    text = paises_df['nombre'],\n",
    "    colorscale = 'YlOrRd',\n",
    "    marker_line_color='darkgray',\n",
    "    marker_line_width=0.5,\n",
    "    colorbar_title = 'Tratados de paz firmados',\n",
    ")\n",
    "\n",
    "layout = dict(title_text='Tratados de paz desde 1990',\n",
    "    geo=dict(\n",
    "        showframe=False,\n",
    "        showcoastlines=True,\n",
    "        projection_type='equirectangular'\n",
    "    ))\n",
    "\n",
    "fig = go.Figure(data = [data], layout = layout)\n",
    "plot(fig,filename='tratados_paz.html')\n",
    "iplot(fig)"
   ]
  }
 ],
 "metadata": {
  "kernelspec": {
   "display_name": "Python 3",
   "language": "python",
   "name": "python3"
  },
  "language_info": {
   "codemirror_mode": {
    "name": "ipython",
    "version": 3
   },
   "file_extension": ".py",
   "mimetype": "text/x-python",
   "name": "python",
   "nbconvert_exporter": "python",
   "pygments_lexer": "ipython3",
   "version": "3.7.5"
  }
 },
 "nbformat": 4,
 "nbformat_minor": 2
}
